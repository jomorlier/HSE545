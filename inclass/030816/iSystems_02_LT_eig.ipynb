{
 "cells": [
  {
   "cell_type": "markdown",
   "metadata": {
    "slideshow": {
     "slide_type": "slide"
    }
   },
   "source": [
    "<font size=\"6\"><b>Linear Transformation and Eigen Analysis</b></font>\n",
    "\n",
    "- 03/08/16, made by Seungchul Lee at UNIST\n",
    "\n",
    "Table of Contents\n",
    "<div id=\"toc\"></div>"
   ]
  },
  {
   "cell_type": "markdown",
   "metadata": {
    "slideshow": {
     "slide_type": "slide"
    }
   },
   "source": [
    "# 1. Matrix and Transformation"
   ]
  },
  {
   "cell_type": "markdown",
   "metadata": {
    "slideshow": {
     "slide_type": "slide"
    }
   },
   "source": [
    "## Vector\n",
    "$$\\vec x\n",
    "=\n",
    "\\begin{bmatrix}\n",
    "x_{1}\\\\\n",
    "x_{2}\\\\\n",
    "x_{3}\n",
    "\\end{bmatrix}\n",
    "$$\n",
    "\n",
    "<br>\n",
    "<img src = \"./image_files/linear_transform01.png\" width = 300>\n",
    "<br>\n"
   ]
  },
  {
   "cell_type": "markdown",
   "metadata": {
    "slideshow": {
     "slide_type": "slide"
    }
   },
   "source": [
    "## Matrix and Transformation\n",
    "\n",
    "$$\n",
    "M=\n",
    "\\begin{bmatrix}\n",
    "m_{11} & m_{12} & m_{13}\\\\\n",
    "m_{21} & m_{22} & m_{23}\\\\\n",
    "m_{31} & m_{32} & m_{33}\\\\\n",
    "\\end{bmatrix}\n",
    "$$\n",
    "<br>\n",
    "\n",
    "$$\\begin{array}\\\n",
    "\\vec y& = &M \\vec x\\\\\n",
    "\\begin{bmatrix}\\space \\\\ \\space \\\\ \\space \\end{bmatrix} & = &\\begin{bmatrix} &  & \\\\ &  & \\\\ &  &\\end{bmatrix}\\begin{bmatrix} \\space \\\\ \\space \\\\ \\space \\end{bmatrix}\n",
    "\\end{array}\n",
    "$$\n",
    "\n",
    "<br>\n",
    "$$\\begin{array}\\\n",
    "\\text{Given} & & \\text{Interpret}\\\\\n",
    "\\text{Transformation} & \\longrightarrow & \\text{matrix}\\\\\n",
    "\\text{matrix} & \\longrightarrow & \\text{Transformation}\\\\\n",
    "\\end{array}\n",
    "$$\n",
    "\n",
    "<br>\n",
    "$$\\begin{array}{c}\\\n",
    "\\vec x\\\\\n",
    "\\text{input}\n",
    "\\end{array}\n",
    "\\begin{array}{c}\\\n",
    "\\quad\n",
    "\\text{transformation}\\\\\n",
    "\\implies\n",
    "\\end{array}\n",
    "\\quad\n",
    "\\begin{array}{l}\n",
    "\\vec y\\\\\n",
    "\\text{output}\n",
    "\\end{array}$$\n",
    "\n",
    "<br>\n",
    "$$\\text{transformation} =\\text{rotate + stretch/compress}$$"
   ]
  },
  {
   "cell_type": "markdown",
   "metadata": {
    "slideshow": {
     "slide_type": "slide"
    }
   },
   "source": [
    "## Rotation\n",
    "\n",
    "Rotation : $R(\\theta)$\n",
    "\n",
    "<br>\n",
    "<img src = \"./image_files/linear_transform02.png\" width = 300>\n",
    "<br>\n",
    "\n",
    "$$ \\vec y = R(\\theta) \\vec x$$"
   ]
  },
  {
   "cell_type": "markdown",
   "metadata": {
    "slideshow": {
     "slide_type": "subslide"
    }
   },
   "source": [
    "Find matrix $R(\\theta)$\n",
    "\n",
    "<table style=\"border-style: hidden; border-collapse: collapse;\" width = \"80%\"> \n",
    "    <tr style=\"border-style: hidden; border-collapse: collapse;\">\n",
    "        <td width = 350 style=\"border-style: hidden; border-collapse: collapse;\">\n",
    "            <img src = \"./image_files/linear_transform03.png\" width = 300>\n",
    "        </td>\n",
    "        <td width = 300>\n",
    "            $$\n",
    "            \\begin{bmatrix}\n",
    "            \\cos(\\theta)\\\\\n",
    "            \\sin(\\theta)\n",
    "            \\end{bmatrix}=\n",
    "            R(\\theta)\n",
    "            \\begin{bmatrix}\n",
    "            1\\\\\n",
    "            0\n",
    "            \\end{bmatrix}\\\\\n",
    "            $$\n",
    "        </td>\n",
    "    </tr>\n",
    "    <tr>\n",
    "        <td width = 350 style=\"border-style: hidden; border-collapse: collapse;\">\n",
    "            <img src = \"./image_files/linear_transform04.png\" width = 300>\n",
    "        </td>\n",
    "        <td width = 300>\n",
    "            $$\n",
    "            \\begin{bmatrix}\n",
    "            -\\sin(\\theta)\\\\\n",
    "            \\cos(\\theta)\n",
    "            \\end{bmatrix}=\n",
    "            R(\\theta)\n",
    "            \\begin{bmatrix}\n",
    "            0\\\\\n",
    "            1\n",
    "            \\end{bmatrix}\n",
    "            $$\n",
    "        </td>\n",
    "    </tr>\n",
    "</table>\n",
    "\n",
    "\n",
    "\n",
    "<br>\n",
    "\n",
    "$$\\begin{array}\\\\\n",
    "\\Longrightarrow\n",
    "&\\begin{bmatrix}\n",
    "\\cos(\\theta)& -\\sin(\\theta)\\\\\n",
    "\\sin(\\theta)& \\cos(\\theta)\n",
    "\\end{bmatrix}&\n",
    "=&\n",
    "R(\\theta)\n",
    "\\begin{bmatrix}\n",
    "1& 0\\\\\n",
    "0& 1\n",
    "\\end{bmatrix}&\n",
    "=&\n",
    "R(\\theta)\\\\\n",
    "\\\\ \\\\\n",
    "&\\begin{array}\\\\\n",
    "M\\vec{x}_1 = \\vec{y}_1\\\\\n",
    "M\\vec{x}_2 = \\vec{y}_2\\\\\n",
    "\\end{array}&\n",
    "=&\n",
    "M\n",
    "\\begin{bmatrix}\n",
    "\\vec{x}_1 & \\vec{x}_2\n",
    "\\end{bmatrix}&\n",
    "=&\n",
    "\\begin{bmatrix}\n",
    "\\vec{y}_1 & \\vec{y}_2\n",
    "\\end{bmatrix}\n",
    "\\end{array}$$"
   ]
  },
  {
   "cell_type": "markdown",
   "metadata": {
    "slideshow": {
     "slide_type": "slide"
    }
   },
   "source": [
    "## Stretch/Compress\n",
    "\n",
    "Stretch/Compress (keep the direction)\n",
    "\n",
    "<br>\n",
    "<img src = \"./image_files/linear_transform05.png\" width = 300>\n",
    "<br>\n",
    "\n",
    "$$\\begin{array}\\\\\n",
    "\\vec y = &k\\vec x\\\\\n",
    "& \\uparrow\\\\ \n",
    "& \\text{scalar (not matrix)}\\\\ \\\\\n",
    "\\vec y = &k I \\vec x  & \\text{where } I = \\text{ Identity martix}\\\\ \\\\\n",
    "\\vec y = &\\begin{bmatrix}k&0\\\\0&k\\end{bmatrix}\\vec x\n",
    "\\end{array}$$"
   ]
  },
  {
   "cell_type": "markdown",
   "metadata": {
    "slideshow": {
     "slide_type": "subslide"
    }
   },
   "source": [
    "### Example\n",
    "\n",
    "T: stretch $a$ along $\\hat x$-direction & stretch $b$ along $\\hat y$-direction\n",
    "\n",
    "compute the corresponding matrix $A$"
   ]
  },
  {
   "cell_type": "markdown",
   "metadata": {
    "slideshow": {
     "slide_type": "fragment"
    }
   },
   "source": [
    "$$\\hat y = A \\hat x$$\n",
    "\n",
    "$$\\begin{array}\\\\\n",
    "\\begin{bmatrix}ax_1\\\\ bx_2\\end{bmatrix}& = A\\begin{bmatrix}x_1\\\\ x_2\\end{bmatrix} \\Longrightarrow A = \\,?\\\\\n",
    "& = \\begin{bmatrix}a & 0\\\\ 0 & b\\end{bmatrix}\\begin{bmatrix}x_1\\\\ x_2\\end{bmatrix}\n",
    "\\end{array}$$\n",
    "\n",
    "<br>\n",
    "\n",
    "$$\\begin{array}\\\\\n",
    "A\\begin{bmatrix}1\\\\0\\end{bmatrix} & = \\begin{bmatrix}a\\\\0\\end{bmatrix} \\\\\n",
    "A\\begin{bmatrix}0\\\\1\\end{bmatrix} & = \\begin{bmatrix}0\\\\b\\end{bmatrix} \\\\\n",
    "A\\begin{bmatrix}1 & 0\\\\ 0 &1\\end{bmatrix} & = A = \\begin{bmatrix}a & 0\\\\0 & b\\end{bmatrix} \\\\\n",
    "\\end{array}$$\n",
    "\n",
    "More importantly, by looking at $A = \\begin{bmatrix}a & 0\\\\0 & b\\end{bmatrix}$, can you think of a transformation T?"
   ]
  },
  {
   "cell_type": "markdown",
   "metadata": {
    "slideshow": {
     "slide_type": "slide"
    }
   },
   "source": [
    "## Decomposition\n",
    "\n",
    "T = rotate + stretch\n",
    "\n",
    "1. rotate $\\theta$, then\n",
    "2. stretch\n",
    "\n",
    "<br>\n",
    "<img src = \"./image_files/linear_transform06.png\" width = 300>\n",
    "<br>"
   ]
  },
  {
   "cell_type": "markdown",
   "metadata": {
    "slideshow": {
     "slide_type": "subslide"
    }
   },
   "source": [
    "## Projection\n",
    "\n",
    "P: Projection onto $\\hat x$ - axis\n",
    "\n",
    "$$\\begin{array}{c}\\\\\n",
    "& P & \\\\\n",
    "\\begin{bmatrix}x_1\\\\x_2\\end{bmatrix} & \\implies & \\begin{bmatrix}x_1\\\\ 0\\end{bmatrix}\\\\\n",
    "\\vec x & & \\vec y\n",
    "\\end{array}$$"
   ]
  },
  {
   "cell_type": "markdown",
   "metadata": {
    "slideshow": {
     "slide_type": "fragment"
    }
   },
   "source": [
    "<br>\n",
    "<img src = \"./image_files/linear_transform08.png\" width = 500>\n",
    "<br>\n",
    "\n",
    "$$\\vec y = P\\vec x = \\begin{bmatrix} 1 & 0 \\\\ 0 & 0 \\end{bmatrix}\\begin{bmatrix} x_1 \\\\ x_2 \\end{bmatrix} = \\begin{bmatrix} x_1 \\\\ 0 \\end{bmatrix}$$\n",
    "\n",
    "$$\n",
    "\\begin{array}\\\\\n",
    "P \\begin{bmatrix} 1 \\\\ 0 \\end{bmatrix} & = \\begin{bmatrix} 1 \\\\ 0 \\end{bmatrix}\\\\\n",
    "P \\begin{bmatrix} 0 \\\\ 1 \\end{bmatrix} & = \\begin{bmatrix} 0 \\\\ 0 \\end{bmatrix}\\\\\n",
    "P \\begin{bmatrix} 1 & 0 \\\\ 0 & 1 \\end{bmatrix} & = \\begin{bmatrix} 1 & 0 \\\\ 0 & 0 \\end{bmatrix}\n",
    "\\end{array}\n",
    "$$"
   ]
  },
  {
   "cell_type": "markdown",
   "metadata": {
    "slideshow": {
     "slide_type": "skip"
    }
   },
   "source": [
    "## Multiple Transformations\n",
    "\n",
    "$T_1$ : transformation 1 : $M_1$\n",
    "\n",
    "$T_2$ : transformation 2 : $M_2$\n",
    "\n",
    "$T$ : Do transforamtion 1, followed by transformation 2\n",
    "\n",
    "$$\\therefore \\; M = M_2 M_1$$\n",
    "\n",
    "$$\n",
    "\\begin{array}{c}\\\\\n",
    "&T_1&&T_2\\\\\n",
    "\\vec x & \\longrightarrow & \\vec y & \\longrightarrow & \\vec z\\\\\n",
    "\\end{array}\n",
    "$$\n",
    "\n",
    "<br>\n",
    "\n",
    "$$\n",
    "\\begin{array}\\\\\n",
    "\\vec y & = M_1\\vec x\\\\\n",
    "\\vec z & = M_2\\vec y & = M_2M_1\\vec x\\\\\n",
    "& & = M \\vec x\n",
    "\\end{array}\n",
    "$$"
   ]
  },
  {
   "cell_type": "markdown",
   "metadata": {
    "slideshow": {
     "slide_type": "skip"
    }
   },
   "source": [
    "### Example\n",
    "\n",
    "P: Projection onto vector = $\\begin{bmatrix} \\cos \\theta\\\\ \\sin \\theta \\end{bmatrix}$\n",
    "\n",
    "<br>\n",
    "<img src = \"./image_files/linear_transform09.png\" width = 300>\n",
    "<br>\n",
    "\n",
    "$$\\begin{array}\\\\\n",
    "P\\begin{bmatrix} 1\\\\ 0\\end{bmatrix} & = \\begin{bmatrix}\\cos^2 \\theta \\\\ \\cos \\theta \\sin \\theta\\end{bmatrix}\\\\\n",
    "P\\begin{bmatrix} 0\\\\ 1\\end{bmatrix} & = \\begin{bmatrix} \\sin \\theta \\cos \\theta \\\\ \\sin^2 \\theta\\end{bmatrix}\\\\\n",
    "P\\begin{bmatrix}1 & 0 \\\\ 0 & 1\\end{bmatrix} & = \\begin{bmatrix}\\cos^2 \\theta & \\sin \\theta \\cos \\theta\\\\ \\cos \\theta \\sin \\theta & \\sin^2 \\theta\\end{bmatrix}\n",
    "\\end{array}$$\n",
    "\n",
    "<br>\n",
    "Another way to find this projection matrix\n",
    "\n",
    "$$\\begin{array}\\\\\n",
    "&R(-\\theta)& &\\begin{bmatrix} 1 & 0 \\\\ 0 & 0\\end{bmatrix} & & R(\\theta)\\\\\n",
    "\\vec x & \\implies & \\vec x' & \\implies & \\vec x'' & \\implies & \\vec y\\\\\n",
    "\\end{array}$$\n",
    "\n",
    "$$\\begin{array}\\\\\n",
    "\\vec y & = R(\\theta) \\begin{bmatrix} 1 & 0 \\\\ 0 & 0\\end{bmatrix} R(-\\theta) \\vec x\\\\\n",
    "& = \\begin{bmatrix} \\cos\\theta & -\\sin\\theta \\\\ \\sin\\theta & \\cos \\theta \\end{bmatrix} \\begin{bmatrix} 1 & 0 \\\\ 0 & 0\\end{bmatrix} \\begin{bmatrix} \\cos\\theta & \\sin\\theta \\\\ -\\sin\\theta & \\cos \\theta \\end{bmatrix} \\\\\n",
    "& =\\begin{bmatrix} \\cos\\theta & -\\sin\\theta \\\\ \\sin\\theta & \\cos \\theta \\end{bmatrix} \\begin{bmatrix} \\cos\\theta & \\sin\\theta \\\\ 0 & 0 \\end{bmatrix} \\\\\n",
    "& = \\begin{bmatrix} \\cos^2 \\theta & \\cos \\theta \\sin \\theta \\\\ \\sin\\theta \\cos \\theta & \\sin^2 \\theta \\end{bmatrix}\\\\\n",
    "\\end{array}$$"
   ]
  },
  {
   "cell_type": "markdown",
   "metadata": {
    "slideshow": {
     "slide_type": "slide"
    }
   },
   "source": [
    "## Linear Transformation\n",
    "\n",
    "- Superposition\n",
    "\n",
    "<img src = \"./image_files/linear_transform10.png\" width = 300>\n",
    "<br>\n",
    "\n",
    "$$T(x_1+x_2) = T(x_1)+T(x_2)$$\n",
    "\n",
    "- Homogeniety\n",
    "\n",
    "<br>\n",
    "<img src = \"./image_files/linear_transform11.png\" width = 300>\n",
    "<br>\n",
    "\n",
    "$$T(kx) = kT(x)$$"
   ]
  },
  {
   "cell_type": "markdown",
   "metadata": {
    "slideshow": {
     "slide_type": "skip"
    }
   },
   "source": [
    "### Linear vs. Non-linear\n",
    "\n",
    "$$\\begin{array}{c}\\\\\n",
    "\\text{linear}& & \\text{non-linear}\\\\\n",
    "f(x) = 0 & & f(x) = x + c\\\\\n",
    "f(x) = kx & & f(x) = x^2\\\\\n",
    "f(x(t)) = \\frac{dx(t)}{dt} & & f(x) = \\sin x\\\\\n",
    "f(x(t)) = \\int_{a}^{b} x(t)dt & & \n",
    "\\end{array}$$"
   ]
  },
  {
   "cell_type": "markdown",
   "metadata": {
    "slideshow": {
     "slide_type": "skip"
    }
   },
   "source": [
    "### Linear transformation\n",
    "\n",
    "If $\\vec {v}_1$ and $\\vec {v}_2$ are basis, and we know $T(\\vec {v}_1) = \\vec {w}_1$ and $T(\\vec {v}_2) = \\vec {w}_2$\n",
    "\n",
    "Then, for any $\\vec x$\n",
    "\n",
    "$$\\begin{array}{l}\n",
    "\\vec x & = a_1\\vec v_1 + a_2\\vec v_2 & (a_1 \\;\\text{and } a_2 \\;\\text{unique})\\\\ \\\\\n",
    "T(\\vec x) & = T(a_1\\vec v_1 + a_2\\vec v_2)  \\\\\n",
    "& = a_1T(\\vec v_1) + a_2T(\\vec v_2)\\\\ \\\\\n",
    "\\implies &\\text{T: linear}\n",
    "\\end{array}$$"
   ]
  },
  {
   "cell_type": "markdown",
   "metadata": {
    "slideshow": {
     "slide_type": "slide"
    }
   },
   "source": [
    "# 2. Eigenvalue and Eigenvector"
   ]
  },
  {
   "cell_type": "markdown",
   "metadata": {
    "slideshow": {
     "slide_type": "slide"
    }
   },
   "source": [
    "## Eigenvalue and Eigenvector\n",
    "\n",
    "$$A \\vec v = \\lambda \\vec v$$\n",
    "\n",
    "$$\\begin{array}\\\\\n",
    "\\lambda & = &\\begin{cases}\n",
    "\\text{positive}\\\\\n",
    "0\\\\\n",
    "\\text{negative}\n",
    "\\end{cases}\\\\ \n",
    "\\lambda & : & \\text{stretched vector}\\\\\n",
    "&&\\text{(same direction with } \\vec x)\\\\\n",
    "A & : &\\text{transformed vector}\\\\\n",
    "&&(\\text{generally rotate + stretch})\n",
    "\\end{array}$$\n",
    "\n",
    "$$A \\vec x \\text{ parallel to } \\vec x$$"
   ]
  },
  {
   "cell_type": "markdown",
   "metadata": {
    "slideshow": {
     "slide_type": "subslide"
    }
   },
   "source": [
    "### Example 1\n",
    "\n",
    "$A = \\begin{bmatrix} 1 & 0 \\\\ 0 & 0 \\end{bmatrix}$ : projection onto $\\hat x$- axis\n",
    "\n",
    "Find eigenvalues and eigenvectors."
   ]
  },
  {
   "cell_type": "markdown",
   "metadata": {},
   "source": [
    "<br>\n",
    "<img src = \"./image_files/linear_transform12.png\" width = 200>\n",
    "<br>"
   ]
  },
  {
   "cell_type": "markdown",
   "metadata": {},
   "source": [
    "<table style=\"border-style: hidden; border-collapse: collapse;\" width = \"80%\"> \n",
    "    <tr>\n",
    "        <td width = 350 style=\"border-style: hidden; border-collapse: collapse;\">\n",
    "            <img src = \"./image_files/linear_transform13.png\" width = 250>\n",
    "        </td>\n",
    "        <td width = 300>\n",
    "            $$ \\vec y = \\begin{bmatrix} 0 \\\\ 0 \\end{bmatrix} = A \\vec x = 0 \\cdot \\vec x$$\n",
    "\n",
    "            $$\\lambda_1 = 0 \\space \\;\\text{and}\\; \\space \\vec {v}_1 = \\begin{bmatrix} 0 \\\\ 1 \\end{bmatrix}$$\n",
    "\n",
    "        </td>\n",
    "    </tr>\n",
    "</table>\n",
    "\n",
    "\n",
    "<br>\n",
    "\n",
    "\n",
    "<table style=\"border-style: hidden; border-collapse: collapse;\" width = \"80%\"> \n",
    "    <tr>\n",
    "        <td width = 350 style=\"border-style: hidden; border-collapse: collapse;\">\n",
    "            <img src = \"./image_files/linear_transform14.png\" width = 250>\n",
    "        </td>\n",
    "        <td width = 300>\n",
    "            $$ \\vec y = \\begin{bmatrix} 1 \\\\ 0 \\end{bmatrix} = A \\vec x = 1 \\cdot \\vec x$$\n",
    "\n",
    "            $$\\lambda_2 = 1 \\space \\;\\text{and}\\; \\space \\vec {v}_2 = \\begin{bmatrix} 1 \\\\ 0 \\end{bmatrix}$$\n",
    "\n",
    "        </td>\n",
    "    </tr>\n",
    "</table>"
   ]
  },
  {
   "cell_type": "code",
   "execution_count": 3,
   "metadata": {
    "collapsed": false,
    "slideshow": {
     "slide_type": "subslide"
    }
   },
   "outputs": [
    {
     "data": {
      "text/plain": [
       "V =\r\n",
       "\r\n",
       "     0     1\r\n",
       "     1     0\r\n",
       "\r\n",
       "\r\n",
       "D =\r\n",
       "\r\n",
       "     0     0\r\n",
       "     0     1"
      ]
     },
     "execution_count": 3,
     "metadata": {},
     "output_type": "execute_result"
    }
   ],
   "source": [
    "A = [1 0;0 0];\n",
    "[V D] = eig(A)"
   ]
  },
  {
   "cell_type": "markdown",
   "metadata": {
    "slideshow": {
     "slide_type": "subslide"
    }
   },
   "source": [
    "### Example 2\n",
    "\n",
    "$\\begin{array}\\\\\n",
    "A = \\begin{bmatrix} 2 & 0 \\\\ 0 & 1 \\end{bmatrix} : & \\text{stretch by 2 along } \\vec x \\text{- axis}\\\\\n",
    "&\\text{stretch by 1 along } \\vec y \\text{- axis}\n",
    "\\end{array}$\n",
    "\n",
    "Find eigenvalues and eigenvectors."
   ]
  },
  {
   "cell_type": "markdown",
   "metadata": {
    "slideshow": {
     "slide_type": "fragment"
    }
   },
   "source": [
    "<br>\n",
    "<img src = \"./image_files/linear_transform15.png\" width = 300>\n",
    "<br>\n",
    "\n",
    "<table style=\"border-style: hidden; border-collapse: collapse;\" width = \"80%\"> \n",
    "    <tr>\n",
    "        <td width = 350 style=\"border-style: hidden; border-collapse: collapse;\">\n",
    "            <img src = \"./image_files/linear_transform16.png\" width = 250>\n",
    "        </td>\n",
    "        <td width = 200>\n",
    "            $$\\lambda_1 = 2 \\;\\text{and}\\; \\vec {v}_1 = \\begin{bmatrix} 1 \\\\ 0 \\end{bmatrix} $$\n",
    "        </td>\n",
    "    </tr>\n",
    "</table>\n",
    "\n",
    "<br>\n",
    "\n",
    "<table style=\"border-style: hidden; border-collapse: collapse;\" width = \"80%\"> \n",
    "    <tr>\n",
    "        <td width = 350 style=\"border-style: hidden; border-collapse: collapse;\">\n",
    "            <img src = \"./image_files/linear_transform17.png\" width = 300>\n",
    "        </td>\n",
    "        <td width = 200>\n",
    "            $$\\lambda_2 = 1\\; \\text{and} \\;\\vec {v}_2 = \\begin{bmatrix} 0 \\\\ 1 \\end{bmatrix} $$\n",
    "        </td>\n",
    "    </tr>\n",
    "</table>\n",
    "\n",
    "\n"
   ]
  },
  {
   "cell_type": "code",
   "execution_count": 1,
   "metadata": {
    "collapsed": false,
    "slideshow": {
     "slide_type": "subslide"
    }
   },
   "outputs": [
    {
     "data": {
      "text/plain": [
       "lambda =\r\n",
       "\r\n",
       "     2\r\n",
       "     1\r\n",
       "\r\n",
       "\r\n",
       "V =\r\n",
       "\r\n",
       "     1     0\r\n",
       "     0     1"
      ]
     },
     "execution_count": 1,
     "metadata": {},
     "output_type": "execute_result"
    }
   ],
   "source": [
    "A = [2 0;0 1];\n",
    "[V D] = eig(A);\n",
    "\n",
    "\n",
    "\n",
    "\n",
    "lambda = diag(D); % diag func with arg as matrix\n",
    "[dummy, index] = sort(-1*lambda); % sort in decreasing order\n",
    "lambda = lambda(index)\n",
    "V = V(:,index)"
   ]
  },
  {
   "cell_type": "markdown",
   "metadata": {
    "slideshow": {
     "slide_type": "subslide"
    }
   },
   "source": [
    "### Example 3\n",
    "\n",
    "Projection onto the plane. Find eigenvalues and eigenvectors."
   ]
  },
  {
   "cell_type": "markdown",
   "metadata": {
    "slideshow": {
     "slide_type": "fragment"
    }
   },
   "source": [
    "<br>\n",
    "<img src = \"./image_files/linear_transform18.png\" width = 300>\n",
    "<br>\n",
    "\n",
    "For any $\\vec x$ in the plane, $P\\vec x = \\vec x \\Rightarrow \\lambda = 1$\n",
    "\n",
    "For any $\\vec x$ perpendicular to the plane, $P\\vec x = \\vec 0 \\Rightarrow \\lambda = 0$"
   ]
  },
  {
   "cell_type": "markdown",
   "metadata": {
    "slideshow": {
     "slide_type": "subslide"
    }
   },
   "source": [
    "### Example 4\n",
    "\n",
    "- What kind of a linear transformation?\n",
    "\n",
    "$$\\begin{bmatrix} x_2\\\\ x_1 \\end{bmatrix} = \\begin{bmatrix} 0 & 1\\\\ 1 & 0 \\end{bmatrix} \\begin{bmatrix} x_2\\\\ x_1 \\end{bmatrix}$$"
   ]
  },
  {
   "cell_type": "markdown",
   "metadata": {
    "slideshow": {
     "slide_type": "fragment"
    }
   },
   "source": [
    "<br>\n",
    "<img src = \"./image_files/linear_transform19.png\" width = 300>\n",
    "<br>\n",
    "\n",
    "- Eigenvalues and eigenvectors?\n",
    "\n",
    "    - can $\\vec x$ be an eigenvector?\n",
    "\n",
    "<br>\n",
    "<img src = \"./image_files/linear_transform21.png\" width = 300>\n",
    "<br>"
   ]
  },
  {
   "cell_type": "markdown",
   "metadata": {
    "slideshow": {
     "slide_type": "fragment"
    }
   },
   "source": [
    "<table style=\"border-style: hidden; border-collapse: collapse;\" width = \"80%\"> \n",
    "    <tr>\n",
    "        <td width = 350 style=\"border-style: hidden; border-collapse: collapse;\">\n",
    "            <img src = \"./image_files/linear_transform20.png\" width = 250>\n",
    "        </td>\n",
    "        <td width = 300>\n",
    "            $$A\\vec x = \\vec x, \\quad \\lambda = 1$$\n",
    "        </td>\n",
    "    </tr>\n",
    "</table>\n",
    "<br>\n",
    "<table style=\"border-style: hidden; border-collapse: collapse;\" width = \"80%\"> \n",
    "    <tr>\n",
    "        <td width = 350 style=\"border-style: hidden; border-collapse: collapse;\">\n",
    "            <img src = \"./image_files/linear_transform22.png\" width = 250>\n",
    "        </td>\n",
    "        <td width = 300>\n",
    "           $$A\\vec x = -\\vec x, \\quad \\lambda = -1$$\n",
    "        </td>\n",
    "    </tr>\n",
    "</table>\n",
    "\n",
    "\n",
    "\n",
    "\n",
    "- Side note : Matrix $A$ can be seen as a multiple transformations\n",
    "\n",
    "$$A = R(45) M R(-45)$$\n",
    "\n",
    "$$\\begin{array}\\\\\n",
    "R(45) & = \\begin{bmatrix} \\cos \\frac{\\pi}{4} & -\\sin \\frac{\\pi}{4} \\\\ \\sin\\frac{\\pi}{4} & \\cos \\frac{\\pi}{4}  \\end{bmatrix} = \\frac{1}{\\sqrt{2}}\\begin{bmatrix} 1 & -1 \\\\ 1 & 1 \\end{bmatrix}\\\\\n",
    "M & :  \\text{ mirror along } \\hat x \\text{- axis},  \\begin{bmatrix} 1 & 1 \\\\ 0 & -1 \\end{bmatrix}\\\\\n",
    "A & = \\left(\\frac{1}{\\sqrt 2}\\right)^2\\begin{bmatrix} 1 & -1 \\\\ 1 & 1 \\end{bmatrix}\\begin{bmatrix} 1 & 1 \\\\ 0 & -1 \\end{bmatrix}\\begin{bmatrix} 1 & 1 \\\\ -1 & 1 \\end{bmatrix}\n",
    "\\end{array}$$"
   ]
  },
  {
   "cell_type": "markdown",
   "metadata": {
    "slideshow": {
     "slide_type": "skip"
    }
   },
   "source": [
    "### Example 5\n",
    "\n",
    "$$\n",
    "\\begin{array}\\\\\n",
    "A = & \\begin{bmatrix} 0 & -1 \\\\ 1 & 0 \\end{bmatrix}\\\\\n",
    "A = & R\\left(\\frac{\\pi}{2}\\right) = R(90^{\\circ}) = \\begin{bmatrix}\\cos \\frac{\\pi}{2} & -\\sin \\frac{\\pi}{2}\\\\ \\sin \\frac{\\pi}{2} & \\cos \\frac{\\pi}{2}\\end{bmatrix}\n",
    "\\end{array}\n",
    "$$\n",
    "\n",
    "<br>\n",
    "<img src = \"./image_files/linear_transform23.png\" width = 300>\n",
    "<br>\n",
    "\n",
    "- Side note: Multiple transformations\n",
    "\n",
    "$$A = \\begin{bmatrix} -1 & 0 \\\\ 0 & 1 \\end{bmatrix}\\begin{bmatrix} 0 & 1 \\\\ 1 & 0 \\end{bmatrix} = \\begin{bmatrix} 0 & -1 \\\\ 1 & 0 \\end{bmatrix}$$\n",
    "\n",
    "- Eigenvalues: complex number\n",
    "$$\\begin{array}\\\\\n",
    "\\Rightarrow & \\text{det}(A - \\lambda I) & = 0\\\\\n",
    "& \\left | \\begin{array}\\\\ -\\lambda & -1\\\\ 1 & -\\lambda \\end{array} \\right | & = \\lambda ^2 + 1 = 0\\\\\n",
    "& & \\therefore \\space \\lambda = \\pm i\n",
    "\\end{array}$$\n",
    " What is the physical meaning?"
   ]
  },
  {
   "cell_type": "markdown",
   "metadata": {
    "slideshow": {
     "slide_type": "slide"
    }
   },
   "source": [
    "## How to Compute Eigenvalue & Eigenvector\n",
    "\n",
    "$$A \\vec{v} = \\lambda \\vec v = \\lambda I \\vec v$$\n",
    "\n",
    "$$\n",
    "\\begin{array}\n",
    "\\implies & A\\vec v - \\lambda I \\vec v =  (A - \\lambda I)\\vec v = 0\\\\ \\\\ \n",
    "\\implies & A - \\lambda I = 0 \\text{ or }\\\\\n",
    "&\\vec v = 0 \\text{ or } \\\\\n",
    "& (A - \\lambda I)^{-1} \\text{ does not exist }\\\\ \\\\\n",
    "\\implies & \\text{det}(A - \\lambda I) = 0\n",
    "\\end{array}\n",
    "$$"
   ]
  },
  {
   "cell_type": "code",
   "execution_count": 5,
   "metadata": {
    "collapsed": false,
    "slideshow": {
     "slide_type": "skip"
    }
   },
   "outputs": [
    {
     "data": {
      "application/javascript": [
       "$.getScript('https://kmahelona.github.io/ipython_notebook_goodies/ipython_notebook_toc.js')"
      ],
      "text/plain": [
       "<IPython.core.display.Javascript object>"
      ]
     },
     "metadata": {},
     "output_type": "display_data"
    }
   ],
   "source": [
    "%%javascript\n",
    "$.getScript('https://kmahelona.github.io/ipython_notebook_goodies/ipython_notebook_toc.js')"
   ]
  }
 ],
 "metadata": {
  "kernelspec": {
   "display_name": "Matlab",
   "language": "matlab",
   "name": "matlab"
  },
  "language_info": {
   "codemirror_mode": "octave",
   "file_extension": ".m",
   "help_links": [
    {
     "text": "MetaKernel Magics",
     "url": "https://github.com/calysto/metakernel/blob/master/metakernel/magics/README.md"
    }
   ],
   "mimetype": "text/x-matlab",
   "name": "matlab",
   "version": "0.8.0"
  }
 },
 "nbformat": 4,
 "nbformat_minor": 0
}
