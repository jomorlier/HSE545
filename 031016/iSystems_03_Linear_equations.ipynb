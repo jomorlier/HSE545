{
 "cells": [
  {
   "cell_type": "markdown",
   "metadata": {
    "slideshow": {
     "slide_type": "slide"
    }
   },
   "source": [
    "<font size=\"6\"><b>System of Linear Equations</b></font>\n",
    "\n",
    "Table of Contents\n",
    "<div id=\"toc\"></div>"
   ]
  },
  {
   "cell_type": "markdown",
   "metadata": {
    "slideshow": {
     "slide_type": "slide"
    }
   },
   "source": [
    "# 1. System of Linear Equations\n",
    "1. well-determined linear systems\n",
    "2. under-determined linear systems\n",
    "3. over-determined linear systems"
   ]
  },
  {
   "cell_type": "markdown",
   "metadata": {
    "slideshow": {
     "slide_type": "subslide"
    }
   },
   "source": [
    "##  1.1. Well-Determined Linear Systems\n",
    "\n",
    "- System of linear equations\n",
    "\n",
    "$$\\begin{array}{c}\\\n",
    "2x_1 + 3x_2 & = 7\\\\\n",
    "x_1 + 4x_2 & = 6\n",
    "\\end{array}\n",
    "\\; \\implies \\;\n",
    "\\begin{array}{l}\\begin{align}\n",
    "x_1^{*} & = 2\\\\\n",
    "x_2^{*} & = 1\n",
    "\\end{align}\\end{array}$$\n",
    "\n",
    "- Geometric analysis\n",
    "\n",
    "\n",
    "<img src = \"image_files\\projection_pt01.png\" width = 250>\n",
    "\n",
    "- Generalize\n",
    "\n",
    "$$\\begin{array}{c}\\\n",
    "a_{11}x_1 + a_{12}x_2 = b_1\\\\\n",
    "a_{21}x_1 + a_{22}x_2 = b_2\n",
    "\\end{array}\n",
    "\\begin{array}{c}\\\n",
    "\\quad\n",
    "\\text{Matrix form}\\\\\n",
    "\\implies\n",
    "\\end{array}\n",
    "\\quad\n",
    "\\begin{array}{l}\n",
    "\\begin{bmatrix}\n",
    "a_{11} & a_{12}\\\\\n",
    "a_{21} & a_{22}\n",
    "\\end{bmatrix}\n",
    "\\begin{bmatrix}\n",
    "x_{1}\\\\\n",
    "x_{2}\n",
    "\\end{bmatrix}\n",
    "=\n",
    "\\begin{bmatrix}\n",
    "b_{1}\\\\\n",
    "b_{2}\n",
    "\\end{bmatrix}\n",
    "\\end{array}$$\n",
    "\n",
    "<br>\n",
    "\n",
    "\\begin{array}{l}\n",
    "\\quad & \\quad & \\quad & \\quad & \\quad & \\quad & \\quad & \\quad & \\quad & \\huge AX = B\n",
    "\\end{array}\n",
    "\n",
    "\\begin{array}{l}\n",
    "\\quad & \\quad & \\quad & \\quad & \\quad & \\quad & \\quad & \\quad & \\quad & \\therefore & X^{*} = A^{-1} B \\quad\\text{ if } A^{-1} \\text{ exists}\n",
    "\\end{array}"
   ]
  },
  {
   "cell_type": "markdown",
   "metadata": {
    "slideshow": {
     "slide_type": "subslide"
    }
   },
   "source": [
    "## 1.2. Under-Determined Linear Systems\n",
    "\n",
    "- System of linear equations\n",
    "\n",
    "<br>\n",
    "$$\\begin{array}{c}\\\n",
    "2x_1 + 3x_2 = 7\n",
    "\\end{array}\n",
    "\\; \\implies \\;\n",
    "\\begin{array}{l}\\begin{align}\n",
    "\\text{Many solutions}\n",
    "\\end{align}\\end{array}$$\n",
    "\n",
    "\n",
    "- Geometric analysis\n",
    "\n",
    "\n",
    "<img src = \"image_files\\projection_pt02.png\" width = 250>\n",
    "<br>\n",
    "\n",
    "- Generalize\n",
    "\n",
    "$$\\begin{array}{c}\\\n",
    "a_{11}x_1 + a_{12}x_2 = b_1\n",
    "\\end{array}\n",
    "\\begin{array}{c}\\\n",
    "\\quad\n",
    "\\text{Matrix form}\\\\\n",
    "\\implies\n",
    "\\end{array}\n",
    "\\quad\n",
    "\\begin{array}{l}\n",
    "\\begin{bmatrix}\n",
    "a_{11} & a_{12}\n",
    "\\end{bmatrix}\n",
    "\\begin{bmatrix}\n",
    "x_{1}\\\\\n",
    "x_{2}\n",
    "\\end{bmatrix}\n",
    "=\n",
    "b_{1}\\\\\n",
    "\\end{array}$$\n",
    "\n",
    "<br>\n",
    "\\begin{array}{l}\n",
    "\\quad & \\quad & \\quad & \\quad & \\quad & \\quad & \\quad & \\quad & \\quad & \\huge AX = B\n",
    "\\end{array}\n",
    "\n",
    "\\begin{array}{l}\n",
    "\\quad & \\quad & \\quad & \\quad & \\quad & \\quad & \\quad & \\quad & \\quad & \\therefore \\; \\text{ Many Solutions when $A$ is fat}\n",
    "\\end{array}"
   ]
  },
  {
   "cell_type": "markdown",
   "metadata": {
    "slideshow": {
     "slide_type": "subslide"
    }
   },
   "source": [
    "## 1.3. Over-Determined Linear Systems\n",
    "\n",
    "- System of linear equations\n",
    "\n",
    "\n",
    "$$\\begin{array}{c}\\\n",
    "2x_1 + 3x_2 & = 7\\\\\n",
    "x_1 + 4x_2 & = 6\\\\\n",
    "x_1 + x_2 & = 4\n",
    "\\end{array}\n",
    "\\; \\implies \\;\n",
    "\\begin{array}{l}\\begin{align}\n",
    "\\text{No solutions}\n",
    "\\end{align}\\end{array}$$\n",
    "\n",
    "\n",
    "- Geometric analysis\n",
    "\n",
    "\n",
    "<img src = \"image_files\\projection_pt03.png\" width = 250>\n",
    "<br>\n",
    "\n",
    "- Generalize\n",
    "\n",
    "\n",
    "$$\\begin{array}{c}\\\n",
    "a_{11}x_1 + a_{12}x_2 = b_1\\\\\n",
    "a_{21}x_1 + a_{22}x_2 = b_2\\\\\n",
    "a_{31}x_1 + a_{32}x_2 = b_3\\\\\n",
    "\\end{array}\n",
    "\\begin{array}{c}\\\n",
    "\\quad\n",
    "\\text{Matrix form}\\\\\n",
    "\\implies\n",
    "\\end{array}\n",
    "\\quad\n",
    "\\begin{array}{l}\n",
    "\\begin{bmatrix}\n",
    "a_{11} & a_{12}\\\\\n",
    "a_{21} & a_{22}\\\\\n",
    "a_{31} & a_{32}\\\\\n",
    "\\end{bmatrix}\n",
    "\\begin{bmatrix}\n",
    "x_{1}\\\\\n",
    "x_{2}\n",
    "\\end{bmatrix}\n",
    "=\n",
    "\\begin{bmatrix}\n",
    "b_{1}\\\\\n",
    "b_{2}\\\\\n",
    "b_{3}\n",
    "\\end{bmatrix}\n",
    "\\end{array}$$\n",
    "\n",
    "<br>\n",
    "\\begin{array}{l}\n",
    "\\quad & \\quad & \\quad & \\quad & \\quad & \\quad & \\quad & \\quad & \\quad & \\huge AX = B\n",
    "\\end{array}\n",
    "\n",
    "\\begin{array}{l}\n",
    "\\quad & \\quad & \\quad & \\quad & \\quad & \\quad & \\quad & \\quad & \\quad & \\therefore \\; \\text{ No  Solutions when $A$ is skinny}\n",
    "\\end{array}"
   ]
  },
  {
   "cell_type": "markdown",
   "metadata": {
    "slideshow": {
     "slide_type": "subslide"
    }
   },
   "source": [
    "## Summary of Linear Systems\n",
    "\n",
    "$$\\huge AX = B$$\n",
    "\n",
    "<br>\n",
    "\n",
    "- Square: Well-determined Linear Systems\n",
    "\n",
    "$$\n",
    "\\begin{bmatrix}\n",
    "a_{11} & a_{12}\\\\\n",
    "a_{21} & a_{22}\\\\\n",
    "\\end{bmatrix} \n",
    "\\begin{bmatrix}\n",
    "x_{1}\\\\\n",
    "x_{2}\n",
    "\\end{bmatrix} = \n",
    "\\begin{bmatrix}\n",
    "b_{1}\\\\\n",
    "b_{2}\\\\\n",
    "\\end{bmatrix}\n",
    "$$\n",
    "\n",
    "\n",
    "- fat: Under-determined Linear Systems\n",
    "\n",
    "$$\n",
    "\\begin{bmatrix}\n",
    "a_{11} & a_{12}\\\\\n",
    "\\end{bmatrix} \n",
    "\\begin{bmatrix}\n",
    "x_{1}\\\\\n",
    "x_{2}\n",
    "\\end{bmatrix}\n",
    "$$\n",
    "\n",
    "- skinny: Over-determined Linear Systems\n",
    "\n",
    "$$\n",
    "\\begin{bmatrix}\n",
    "a_{11} & a_{12}\\\\\n",
    "a_{21} & a_{22}\\\\\n",
    "a_{31} & a_{32}\\\\\n",
    "\\end{bmatrix} \n",
    "\\begin{bmatrix}\n",
    "x_{1}\\\\\n",
    "x_{2}\n",
    "\\end{bmatrix} =\n",
    "\\begin{bmatrix}\n",
    "b_{1}\\\\\n",
    "b_{2}\\\\\n",
    "b_{3}\\\\\n",
    "\\end{bmatrix}\n",
    "$$"
   ]
  },
  {
   "cell_type": "markdown",
   "metadata": {
    "slideshow": {
     "slide_type": "slide"
    }
   },
   "source": [
    "# 2. Optimization Point of View"
   ]
  },
  {
   "cell_type": "markdown",
   "metadata": {
    "slideshow": {
     "slide_type": "subslide"
    }
   },
   "source": [
    "## 2.1. Least-Norm Solution\n",
    "\n",
    "- For Under-Determined Linear System\n",
    "<br><br>\n",
    "$$\n",
    "\\begin{bmatrix}\n",
    "a_{11}&a_{12}\\\\\n",
    "\\end{bmatrix}\n",
    "\\begin{bmatrix}\n",
    "x_{1}\\\\\n",
    "x_{2}\n",
    "\\end{bmatrix} = \n",
    "b_1\n",
    "\\quad\\text{ or }\\quad\n",
    "AX = B$$\n",
    " <br>\n",
    " <font color = \"red\">Find the solution of $AX = B$ that minimize $\\lVert X \\rVert$ or $\\lVert X \\rVert^2$</font>\n",
    "\n",
    " _i.e._, optimization problem\n",
    "\n",
    "$$\\begin{align*}\n",
    "\\min \\; & \\; \\lVert X \\rVert ^2\\\\\n",
    "\\text{s. t.} \\;\n",
    "&  AX = B\n",
    "\\end{align*}$$\n",
    "\n",
    "- Geometric analysis\n",
    "\n",
    "<img src = \"image_files\\projection_pt04.png\" width = 300>\n",
    "<br>\n",
    "\n",
    "- Select one solution among many solutions\n",
    "\n",
    "$$X^{*} = A^T\\left( AA^T \\right)^{-1}B \\quad \\text{Least norm solution}$$\n",
    "\n",
    "- Often control problem"
   ]
  },
  {
   "cell_type": "markdown",
   "metadata": {
    "slideshow": {
     "slide_type": "subslide"
    }
   },
   "source": [
    "## 2.2. Least-Square Solution\n",
    "\n",
    "- For Over-Determined Linear System\n",
    "<br><br>\n",
    "$$\n",
    "\\begin{bmatrix}\n",
    "a_{11} & a_{12}\\\\\n",
    "a_{21} & a_{22}\\\\\n",
    "a_{31} & a_{32}\n",
    "\\end{bmatrix} \n",
    "\\begin{bmatrix}\n",
    "x_{1}\\\\\n",
    "x_{2}\n",
    "\\end{bmatrix} \\neq\n",
    "\\begin{bmatrix}\n",
    "b_{1}\\\\\n",
    "b_{2}\\\\\n",
    "b_{3}\n",
    "\\end{bmatrix} \\quad\\text{ or }\\quad AX \\neq B \\quad x_1\n",
    "\\begin{bmatrix}\n",
    "a_{11} \\\\\n",
    "a_{21} \\\\\n",
    "a_{31}\n",
    "\\end{bmatrix} + x_2\n",
    "\\begin{bmatrix}\n",
    "a_{12} \\\\\n",
    "a_{22} \\\\\n",
    "a_{32}\n",
    "\\end{bmatrix} \\neq\n",
    "\\begin{bmatrix}\n",
    "b_{1}\\\\\n",
    "b_{2}\\\\\n",
    "b_{3}\n",
    "\\end{bmatrix}\n",
    "$$\n",
    " <br>\n",
    " <font color = \"red\">Find $X$ that minimizes $\\lVert E \\rVert$ or $\\lVert E \\rVert^2$</font>\n",
    "\n",
    " _i.e._ optimization problem\n",
    " \n",
    "$$\n",
    "\\begin{align*}\n",
    "\\min\\limits_{X}{\\lVert E\\rVert}^2 & = \\min\\limits_{X}{\\lVert AX - B\\rVert}^2\\\\\n",
    "X^{*} & = \\left( A^TA \\right)^{-1}A^TB\\\\\n",
    "B^{*} = AX^{*} & = A\\left( A^TA \\right)^{-1}A^TB\n",
    "\\end{align*}\n",
    "$$\n",
    "\n",
    "- Geometric analysis\n",
    "<br>\n",
    "<img src = \"image_files\\projection_pt05.png\" width = 500>\n",
    "<br>\n",
    "\n",
    "- Often estimation problem"
   ]
  },
  {
   "cell_type": "markdown",
   "metadata": {
    "slideshow": {
     "slide_type": "slide"
    }
   },
   "source": [
    "# 3. Geometic Point of View: Projection"
   ]
  },
  {
   "cell_type": "markdown",
   "metadata": {
    "slideshow": {
     "slide_type": "subslide"
    }
   },
   "source": [
    "## 3.1. Vector Projection\n",
    "\n",
    "- The vector projection of a vector $X$ on (or onto) a nonzero vector $Y$ is the orthogonal projection of $X$ onto a straight line parallel to $Y$\n",
    "\n",
    "$$\n",
    "\\begin{align*}\n",
    "W & = \\omega\\hat{Y}= \\omega \\frac{Y}{\\lvert Y \\rvert}, \\;\\text{where } \\omega = \\lvert W \\rvert\\\\\n",
    "\\omega & = \\lvert X \\rvert \\cos \\theta = \\lvert X \\rvert \\frac{X \\cdot Y}{\\lvert X \\rvert \\lvert Y \\rvert} = \\frac{X \\cdot Y}{\\lvert Y \\rvert}\\\\\n",
    "W & = \\omega \\hat{Y} = \\frac{X \\cdot Y}{\\lvert Y \\rvert}\\frac{Y}{\\lvert Y \\rvert} = \\frac{X \\cdot Y}{\\lvert Y \\rvert \\lvert Y \\rvert}Y = \\frac{X \\cdot Y}{Y \\cdot Y}Y = \\frac{\\langle X, Y \\rangle}{\\langle Y, Y \\rangle}Y\n",
    "\\end{align*}\n",
    "$$\n",
    "\n",
    "\n",
    "<br>\n",
    "<img src = \"image_files\\code_projection01.png\" width = 250>\n",
    "<br>\n",
    "\n",
    "- Another way of computin $\\omega$ and $W$\n",
    "\n",
    "$$\n",
    "\\begin{align*}\n",
    "Y & \\perp \\left( X - W \\right)\\\\\n",
    "\\implies & Y^T \\left( X - W \\right) = Y^T \\left( X - \\omega \\frac{Y}{\\lvert Y \\rvert} \\right) = 0\\\\\n",
    "\\implies & \\omega = \\frac{Y^T X}{Y^T Y}\\lvert Y \\rvert\\\\\n",
    "\\implies & \\omega = \\frac{Y^T X}{Y^T Y}\\lvert Y \\rvert\\\\\n",
    " & W = \\omega \\frac{Y}{\\lvert Y \\rvert} = \\frac{Y^TX}{Y^TY}Y = \\frac{\\langle X, Y \\rangle}{\\langle Y, Y \\rangle}Y\n",
    "\\end{align*}\n",
    "$$\n"
   ]
  },
  {
   "cell_type": "markdown",
   "metadata": {
    "slideshow": {
     "slide_type": "subslide"
    }
   },
   "source": [
    "## 3.2. Orthogonal Projection onto a Subspace\n",
    "\n",
    "- Projection of $B$ onto a subspace $U$ of span of $A_1$ and $A_2$\n",
    "\n",
    "- Orthogonality\n",
    "\n",
    "$$A \\perp \\left( AX^{*}-B\\right)$$\n",
    "\n",
    "$$\n",
    "\\begin{align*}\n",
    "A^T \\left(AX^{*} - B \\right) & = 0\\\\\n",
    "A^TAX^{*} & = A^TB\\\\\n",
    "X^{*} & = \\left( A^TA \\right)^{-1}A^TB\\\\\n",
    "B^{*} = AX^{*} & = A\\left( A^TA \\right)^{-1}A^TB\n",
    "\\end{align*}\n",
    "$$\n",
    "\n",
    "<br>\n",
    "<img src = \"image_files\\code_projection03.png\" width = 500>\n",
    "<br>"
   ]
  },
  {
   "cell_type": "markdown",
   "metadata": {
    "slideshow": {
     "slide_type": "subslide"
    }
   },
   "source": [
    "## 3.3. Towards Minimization Problems\n",
    "\n",
    "- Suppose $U$ is a subspace of $W$ and $\\omega \\in W$. Then\n",
    "\n",
    "$$\\lVert \\omega - P_U\\omega \\rVert^2 \\leq \\lVert \\omega - u \\rVert$$\n",
    "\n",
    "$\\quad$ for every $u \\in U$. Furthermore, if $u \\in U$ and the inequality above is an equality, then $u = P_u\\omega$\n",
    "\n",
    "<br>\n",
    "<img src = \"image_files\\code_projection04.png\" width = 500>\n",
    "<br>"
   ]
  },
  {
   "cell_type": "markdown",
   "metadata": {
    "slideshow": {
     "slide_type": "subslide"
    }
   },
   "source": [
    "## 3.4. Orthogonal Projection\n",
    "\n",
    "- Is $P$ a linear transformation?\n",
    "- Any projection matrix P satisfies the two properties:\n",
    "    - $P^2 = P$\n",
    "    - $P$ is symmetric\n",
    "- It is also true that any matrix that satisfies these two properties is the projection matrix for some subspace $\\mathbb{R}^n$"
   ]
  },
  {
   "cell_type": "code",
   "execution_count": 1,
   "metadata": {
    "collapsed": false,
    "slideshow": {
     "slide_type": "skip"
    }
   },
   "outputs": [
    {
     "data": {
      "application/javascript": [
       "$.getScript('https://kmahelona.github.io/ipython_notebook_goodies/ipython_notebook_toc.js')"
      ],
      "text/plain": [
       "<IPython.core.display.Javascript object>"
      ]
     },
     "metadata": {},
     "output_type": "display_data"
    }
   ],
   "source": [
    "%%javascript\n",
    "$.getScript('https://kmahelona.github.io/ipython_notebook_goodies/ipython_notebook_toc.js')"
   ]
  }
 ],
 "metadata": {
  "celltoolbar": "Slideshow",
  "kernelspec": {
   "display_name": "Python 3",
   "language": "python",
   "name": "python3"
  },
  "language_info": {
   "codemirror_mode": {
    "name": "ipython",
    "version": 3
   },
   "file_extension": ".py",
   "mimetype": "text/x-python",
   "name": "python",
   "nbconvert_exporter": "python",
   "pygments_lexer": "ipython3",
   "version": "3.3.5"
  }
 },
 "nbformat": 4,
 "nbformat_minor": 0
}
