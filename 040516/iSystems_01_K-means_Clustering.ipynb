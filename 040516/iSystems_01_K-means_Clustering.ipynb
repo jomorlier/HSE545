{
 "cells": [
  {
   "cell_type": "markdown",
   "metadata": {},
   "source": [
    "<font size=\"6\"><b>Unsupervised Learning : K-means Clustering</b></font>\n",
    "\n",
    "Table of Contents\n",
    "<div id=\"toc\"></div>"
   ]
  },
  {
   "cell_type": "markdown",
   "metadata": {},
   "source": [
    "# 1. Supervised vs. Unsupervised Learning\n",
    "- Supervised: building a model from labeled data\n",
    "- Unsupervised: clustering from unlabeled data"
   ]
  },
  {
   "cell_type": "markdown",
   "metadata": {},
   "source": [
    "<font size='4'>Supervised Learning</font>\n",
    "\n",
    "<br>\n",
    "<img src=\"./image_files/01.bmp\", width=400>\n",
    "<br>\n",
    "\n",
    "$$ \\begin{array}{Icr}\n",
    "\\{x^{(1)},x^{(2)},\\cdots,x^{(m)}\\}\\\\\n",
    "\\{y^{(1)},y^{(2)},\\cdots,y^{(m)}\\}\n",
    "\\end{array} \\quad \\Rightarrow \\quad \\text{Classification}$$"
   ]
  },
  {
   "cell_type": "markdown",
   "metadata": {},
   "source": [
    "<font size='4'>Unsupervised Learning</font>\n",
    "\n",
    "- Data clustering is an unsupervised learning problem\n",
    "\n",
    "- Given: \n",
    " - $N$ unlabeled examples $\\{x_1,\\cdots, x_m\\}$\n",
    " - the number of partitions $k$\n",
    "\n",
    "\n",
    "- Goal: group the examples into $k$ partitions\n",
    "\n",
    "\n",
    "<br>\n",
    "<img src=\"./image_files/02.bmp\", width = 400>\n",
    "<br>\n",
    "\n",
    "$$\\{x^{(1)},x^{(2)},\\cdots,x^{(m)}\\} \\;\\; \\Rightarrow \\text{Clustering}$$\n",
    "\n",
    "- the only information clustering uses is the similarity between examples\n",
    "\n",
    "- clustering groups examples based of their mutual similarities\n",
    "\n",
    "- A good clustering is one that achieves:\n",
    "    - high within-cluster similarity\n",
    "    - low inter-cluster similarity\n"
   ]
  },
  {
   "cell_type": "markdown",
   "metadata": {},
   "source": [
    "# 2. K-means"
   ]
  },
  {
   "cell_type": "markdown",
   "metadata": {},
   "source": [
    "## 2.1. Algorithm\n",
    "<br>\n",
    "<font size='4'><b>1) K-means Clustering Step - Initialization</b></font>\n",
    "\n",
    "Input:\n",
    "- $K$: the number of clusters\n",
    "- Training set $\\{x^{(1)},x^{(2)},\\cdots,x^{(m)}\\}$\n",
    "\n",
    "Randomly initialized anywhere in $\\mathbb{R}^n$\n",
    "<br>\n",
    "<img src=\"./image_files/003.png\", width = 600>\n",
    "<br>"
   ]
  },
  {
   "cell_type": "markdown",
   "metadata": {},
   "source": [
    "<font size='4'><b>2) K-means Clustering Step - Iteration</b></font>\n",
    "<br>\n",
    "<img src=\"./image_files/004.png\", width = 600>\n",
    "\n",
    "Repeat until convergence (a possible convergence criteria: cluster centers do not change anymore)"
   ]
  },
  {
   "cell_type": "markdown",
   "metadata": {},
   "source": [
    "<font size='4'><b>3) K-means Clustering Step - Output</b></font>\n",
    "\n",
    "Output: model\n",
    "- $c$ (label): index (1 to $k$) of cluster centroid $\\{c^{(1)},c^{(2)},\\cdots,c^{(m)}\\}$\n",
    "- $\\mu$ : averages (mean) of points assigned to cluster $\\{\\mu_1,\\mu_2,\\cdots,\\mu_k\\}$\n",
    "\n",
    "<br>\n",
    "<img src=\"./image_files/005.png\", width=400>\n",
    "<br>"
   ]
  },
  {
   "cell_type": "markdown",
   "metadata": {},
   "source": [
    "## 2.2. Animated illustration\n",
    "<img src=\"./image_files/kmeans01.gif\", width=\"450\">"
   ]
  },
  {
   "cell_type": "markdown",
   "metadata": {},
   "source": [
    "## 2.3. Summary: K-means Algorithm\n",
    "\n",
    "\n",
    "$\n",
    "\\,\\text{Randomly initialize } K \\,\\text{cluster centroids } \\mu_1,\\mu_2,\\cdots,\\mu_K \\in \\mathbb{R}^n$\n",
    "\n",
    "$\n",
    "\\begin{align*}\n",
    "\\text{Repeat}&\\{ \\\\\n",
    "&\\text{for $i=1$ to $m$} \\\\    \n",
    "&\\quad \\text{$c^{(i)}$ := index (from 1 to $K$) of cluster centroid closet to $x^{(i)}$} \\\\     \n",
    "&\\text{for $k=1$ to $K$} \\\\\n",
    "&\\quad \\text{$\\mu_k$ := average (mean) of points assigned to cluster $k$} \\\\\n",
    "&\\}\n",
    "\\end{align*}\n",
    "$"
   ]
  },
  {
   "cell_type": "markdown",
   "metadata": {},
   "source": [
    "## 2.4. K-means Optimization Point of View\n",
    "\n",
    "- $c^{(i)}$= index of cluster (1,2,...,$K$) to which example $x^{(i)}$ is currently assigned\n",
    "- $\\mu_k$= cluster centroid $k$ ($\\mu_k \\in \\mathbb{R}^n$)\n",
    "- $\\mu_{c^{(i)}}$= cluster centroid of cluster to which example $x^{(i)}$ has been assigned\n",
    "\n",
    "\n",
    "\n",
    "- Optimization objective:\n",
    "\n",
    "$$ J(c^{(1)},\\cdots,c^{(m)},\\mu_1,\\cdots,\\mu_K) = \\frac{1}{m}\\sum\\limits_{i=1}^m \\lVert x^{(i)}-\\mu_{c^{(i)}}\\rVert^2$$\n",
    "\n",
    "$$ \\min\\limits_{c^{(1)},\\cdots,c^{(m)}, \\; \\mu_1,\\cdots,\\mu_K} J(c^{(1)},\\cdots,c^{(m)},\\mu_1,\\cdots,\\mu_K)$$"
   ]
  },
  {
   "cell_type": "markdown",
   "metadata": {},
   "source": [
    "## K-means: Initialization issues\n",
    "\n",
    "\n",
    "- k-means is extremely senstitive to cluster center initialization\n",
    "\n",
    "\n",
    "- Bad initialization can lead to\n",
    "    - Poor convergence speed\n",
    "    - Bad overall clustering\n",
    "\n",
    "\n",
    "- Safeguarding measures:\n",
    "    - Choose first center as one of the examples, second which is the farthest from the first, third which is the farthest from both, and so on.\n",
    "    - Try multiple initialization and choose the best result\n",
    "    \n",
    "## K-means: Limitations\n",
    "\n",
    "- Make <font color='red'>hard assignments</font> of points to clusters\n",
    "    - A point either completely belongs to a cluster or not belongs at all\n",
    "    - No notion of a <font color='green'>soft assignment</font> (_i.e._, probability of being assigned to each cluster)\n",
    "    - Gaussian mixture model (we will study later) and Fuzzy K-means allow soft assignments\n",
    "\n",
    "\n",
    "- Sensitive to outlier examples (such example can affect the mean by a lot)\n",
    "    - <font color='green'>K-medians</font> algorithm is a more robust alternative for data with outliers\n",
    "\n",
    "\n",
    "- Works well only for round shaped, and of roughly equal sizes/density cluster\n",
    "\n",
    "\n",
    "- Does badly if the cluster have non-convex shapes\n",
    "    - Spectral clustering (we will study later) and Kernelized K-means can be an alternative\n",
    "\n",
    "\n",
    "- Non-convex/non-round-shaped cluster: standard K-means fails !\n",
    "<img src=\"./image_files/non-convex.png\", width = 600>\n",
    "\n",
    "\n",
    "- Clusters with different densities\n",
    "<img src=\"./image_files/different_densities.png\", width = 600>\n"
   ]
  },
  {
   "cell_type": "markdown",
   "metadata": {},
   "source": [
    "# 3. Matlab code"
   ]
  },
  {
   "cell_type": "code",
   "execution_count": 2,
   "metadata": {
    "collapsed": false
   },
   "outputs": [
    {
     "data": {
      "image/png": "[encoded data removed]",
      "text/plain": [
       "<IPython.core.display.Image object>"
      ]
     },
     "metadata": {},
     "output_type": "display_data"
    }
   ],
   "source": [
    "% data generation\n",
    "\n",
    "group1 = mvnrnd([1 1],eye(2),100);\n",
    "group2 = mvnrnd([3 5],eye(2),100);\n",
    "group3 = mvnrnd([9 9],eye(2),100);\n",
    "data = [group1; group2; group3]';\n",
    "\n",
    "plot(data(1,:),data(2,:),'b.')"
   ]
  },
  {
   "cell_type": "markdown",
   "metadata": {},
   "source": [
    "## 3.1. K-means clustering"
   ]
  },
  {
   "cell_type": "code",
   "execution_count": 3,
   "metadata": {
    "collapsed": false
   },
   "outputs": [
    {
     "data": {
      "image/png": "[encoded data removed]",
      "text/plain": [
       "<IPython.core.display.Image object>"
      ]
     },
     "metadata": {},
     "output_type": "display_data"
    }
   ],
   "source": [
    "% Number of cluster and data\n",
    "ncluster = 3;\n",
    "ndata = 300;\n",
    "\n",
    "\n",
    "r = randi([1 ndata],ncluster,1);\n",
    "mu = data(:,r);\n",
    "pre_mu = mu;\n",
    "% Run K-means\n",
    "for j = 1:500     \n",
    "    % Cluster assignment\n",
    "    distance = [];\n",
    "    for k = 1:ncluster\n",
    "        distance = [distance; sum((data - repmat(mu(:,k),1,ndata)).^2) ];            \n",
    "    end\n",
    "    [~,c] = min(distance,[],1);\n",
    "\n",
    "    % Move centroid\n",
    "    for k = 1:ncluster\n",
    "        mu(:,k) = mean(data(:,c == k),2);\n",
    "    end\n",
    "\n",
    "    if sum(sum(abs(pre_mu-mu))) < 10^(-5)\n",
    "        break;\n",
    "    else\n",
    "        pre_mu = mu;\n",
    "    end\n",
    "end\n",
    "\n",
    "\n",
    "\n",
    "\n",
    "% Plot the result\n",
    "figure(1); hold on\n",
    "plot(data(1,c == 1),data(2,c == 1),'r.'); hold on\n",
    "plot(mu(1,1),mu(2,1),'rx','LineWidth',4,'MarkerSize',10)\n",
    "plot(data(1,c == 2),data(2,c == 2),'b.');\n",
    "plot(mu(1,2),mu(2,2),'bx','LineWidth',4,'MarkerSize',10)\n",
    "plot(data(1,c == 3),data(2,c == 3),'k.');\n",
    "plot(mu(1,3),mu(2,3),'kx','LineWidth',4,'MarkerSize',10)\n",
    "box on"
   ]
  },
  {
   "cell_type": "markdown",
   "metadata": {},
   "source": [
    "## 3.2. Choosing the Number of Clusters"
   ]
  },
  {
   "cell_type": "markdown",
   "metadata": {},
   "source": [
    "- Idea: when adding another cluster does not give much better modeling of the data\n",
    "\n",
    "- One way to select $K$ for the K-means algorithm is to try different values of $K$, plot the K-means objective versus $K$, and look at the '<font color='green'>elbow-point</font>' in the plot"
   ]
  },
  {
   "cell_type": "code",
   "execution_count": 6,
   "metadata": {
    "collapsed": false
   },
   "outputs": [
    {
     "data": {
      "image/png": "[encoded data removed]",
      "text/plain": [
       "<IPython.core.display.Image object>"
      ]
     },
     "metadata": {},
     "output_type": "display_data"
    }
   ],
   "source": [
    "Q = [];\n",
    "for K = 1:10\n",
    "   \n",
    "    % Number of cluster and data\n",
    "    ncluster = K;\n",
    "    ndata = 300;\n",
    "\n",
    "    % Store c,mu and cost for every initialization \n",
    "    C = [];\n",
    "    J = [];\n",
    "    MU = [];\n",
    "\n",
    "    % Randomly initialize 100 times\n",
    "    for i = 1:100\n",
    "        r = randi([1 ndata],ncluster,1);\n",
    "        mu = data(:,r);\n",
    "        \n",
    "        pre_mu = mu;\n",
    "        \n",
    "        % Run K-means\n",
    "        for j = 1:50    \n",
    "            % Cluster assignment\n",
    "            distance = [];\n",
    "            for k = 1:ncluster\n",
    "                distance = [distance; sum((data - repmat(mu(:,k),1,ndata)).^2) ];            \n",
    "            end\n",
    "            [~,c] = min(distance,[],1);\n",
    "\n",
    "            % Move centroid\n",
    "            for k = 1:ncluster\n",
    "                mu(:,k) = mean(data(:,c == k),2);\n",
    "            end\n",
    "            \n",
    "            if sum(sum(abs(pre_mu-mu))) < 10^(-5)\n",
    "                break;\n",
    "            else\n",
    "                pre_mu = mu;\n",
    "            end\n",
    "        end\n",
    "\n",
    "        % Compute cost\n",
    "        cost = 0;\n",
    "        for j = 1:ncluster\n",
    "            cost = cost + sum(sum( (data(:,c == j) - repmat(mu(:,j),1,sum(c == j)) ).^2));\n",
    "        end\n",
    "        cost = cost/ndata;\n",
    "\n",
    "        % Find minimum cost and corresponding mu and c\n",
    "        if i == 1\n",
    "            C = c;\n",
    "            J = cost;\n",
    "            MU = mu;\n",
    "        elseif cost < J\n",
    "            J = cost;\n",
    "            C = c;\n",
    "            MU = mu;\n",
    "        end\n",
    "\n",
    "    end\n",
    "\n",
    "    % Find minimum cost and corresponding mu and c\n",
    "    Q = [Q J];\n",
    "\n",
    "\n",
    "end\n",
    "\n",
    "% Plot the cost\n",
    "figure(3); clf;\n",
    "stem(Q,'b'); hold on\n",
    "xlim([0 11])\n",
    "xlabel('Number of Cluster','FontSize',15)\n",
    "ylabel('Cost','FontSize',15)\n"
   ]
  },
  {
   "cell_type": "markdown",
   "metadata": {},
   "source": [
    "# Homework Assignment"
   ]
  },
  {
   "cell_type": "markdown",
   "metadata": {},
   "source": [
    "Image compression\n",
    "- Use only 16 colors"
   ]
  },
  {
   "cell_type": "markdown",
   "metadata": {},
   "source": [
    "<table>\n",
    "<tr>\n",
    "<td>\n",
    "<img src=\"image_files/06.bmp\",width=\"300\">\n",
    "</td>\n",
    "<td>\n",
    "<img src=\"image_files/07.bmp\",width=\"300\">\n",
    "</td>\n",
    "</tr>\n",
    "</table>"
   ]
  },
  {
   "cell_type": "code",
   "execution_count": 6,
   "metadata": {
    "collapsed": false
   },
   "outputs": [
    {
     "data": {
      "application/javascript": [
       "$.getScript('https://kmahelona.github.io/ipython_notebook_goodies/ipython_notebook_toc.js')"
      ],
      "text/plain": [
       "<IPython.core.display.Javascript object>"
      ]
     },
     "metadata": {},
     "output_type": "display_data"
    }
   ],
   "source": [
    "%%javascript\n",
    "$.getScript('https://kmahelona.github.io/ipython_notebook_goodies/ipython_notebook_toc.js')"
   ]
  }
 ],
 "metadata": {
  "kernelspec": {
   "display_name": "Matlab",
   "language": "matlab",
   "name": "matlab"
  },
  "language_info": {
   "codemirror_mode": "octave",
   "file_extension": ".m",
   "help_links": [
    {
     "text": "MetaKernel Magics",
     "url": "https://github.com/calysto/metakernel/blob/master/metakernel/magics/README.md"
    }
   ],
   "mimetype": "text/x-matlab",
   "name": "matlab",
   "version": "0.8.0"
  }
 },
 "nbformat": 4,
 "nbformat_minor": 0
}
