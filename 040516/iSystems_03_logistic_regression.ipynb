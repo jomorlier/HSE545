{
 "cells": [
  {
   "cell_type": "markdown",
   "metadata": {},
   "source": [
    "<font size=\"6\"><b>Logistic Regression</b></font>\n",
    "\n",
    "Table of Contents\n",
    "<div id=\"toc\"></div>"
   ]
  },
  {
   "cell_type": "markdown",
   "metadata": {},
   "source": [
    "# 1. Linear Classification: Logistic Regression\n",
    "\n",
    "## 1.1. Using all Distances\n",
    "- Logistic regression is a classification algorithm - don't be confused\n",
    "\n",
    "\n",
    "- Perceptron: make use of sign of data\n",
    "- SVM: make use of margin (minimum distance)\n",
    "\n",
    "- We want to use _distance information of all data points_ $\\rightarrow$ logistic regression\n",
    "\n",
    "<img src=\"./image_files/logistic_regression_distance.png\", width=600>\n",
    "\n",
    "- basic idea: find the decision boundary (hyperplane) of $g(x)=\\omega^T x =0$ such that maximizes $\\prod_i \\lvert h_i \\rvert$\n",
    "    - Inequality of arithmetic and geometric means\n",
    "$$ \\frac{h_1+h_2}{2} \\geq \\sqrt{h_1 h_2} $$ \n",
    " and that equality holds if and only if $h_1 = h_2$\n",
    "\n",
    "\n",
    "- Roughly speaking, this optimization of $\\max \\prod_i \\lvert h_i \\rvert$ tends to position a hyperplane in the middle of two classes\n",
    "\n",
    "$$h = \\frac{g(x)}{\\lVert \\omega \\rVert} = \\frac{\\omega^T x}{\\lVert \\omega \\rVert} \\approx \\omega^T x$$\n",
    "\n",
    "\n",
    "- We link or squeeze $(-\\infty, +\\infty)$ to $(0,1)$ for several reasons:\n",
    "\n",
    "<img src=\"./image_files/link_function.png\", width=500>\n",
    "\n",
    "- If $\\sigma(z)$ is the sigmoid function, or the logistic function\n",
    "$$ \\sigma(z) = \\frac{1}{1+e^{-z}} \\implies \\sigma(\\omega^T x) = \\frac{1}{1+e^{-\\omega^T x}}$$\n",
    " - logistic function generates a value where is always either 0 or 1\n",
    " - Crosses 0.5 at the origin, then flattens out\n",
    " "
   ]
  },
  {
   "cell_type": "code",
   "execution_count": 8,
   "metadata": {
    "collapsed": false
   },
   "outputs": [
    {
     "data": {
      "image/png": "[encoded data removed]",
      "text/plain": [
       "<IPython.core.display.Image object>"
      ]
     },
     "metadata": {},
     "output_type": "display_data"
    }
   ],
   "source": [
    "% What does the sigmoid function look like\n",
    "\n",
    "z = -10:0.1:10;\n",
    "s = 1./(1+exp(-z));\n",
    "plot(z,s)\n",
    "xlim([-11,11]), ylim([-0.1 1.1])"
   ]
  },
  {
   "cell_type": "markdown",
   "metadata": {},
   "source": [
    "- Benefit of mapping via the logistic function\n",
    "\n",
    " - monotonic: same or similar optimziation solution\n",
    " - continuous and differentiable: good for gradient descent optimization\n",
    " - probability or confidence: can be considered as probability\n",
    " \n",
    " $$P\\left(y = +1 \\mid x,\\omega\\right) = \\frac{1}{1+e^{-\\omega^T x}} \\in [0,1]$$\n",
    " <br>\n",
    " - Often we do note care about predicting the label $y$ for an example\n",
    "\n",
    " - Rather, we want to predict the label probabilities $P\\left(y \\mid x,\\omega\\right)$\n",
    "    - $P\\left(y = +1 \\mid x,\\omega\\right)$: the probability that the label is $+1$\n",
    "    - $P\\left(y = 0 \\mid x,\\omega\\right) =  1 - P\\left(y = +1 \\mid x,\\omega\\right)$: the probability that the label is $0$\n",
    "    - In a sense, it is our confidence in the predicted label\n",
    "\n",
    "\n",
    "- Goal: we need to fit $\\omega$ to our data"
   ]
  },
  {
   "cell_type": "markdown",
   "metadata": {
    "collapsed": true
   },
   "source": [
    "## 1.2. Probabilistic  Approach (or MLE)\n",
    "\n",
    "Consider a random variable $ y \\in \\{0, 1\\} $ \n",
    "\n",
    "$$P(y=+1) = p, \\quad P(y=0) = 1-p$$\n",
    "\n",
    "where $ p \\in [0, 1]$, and is assumed to depend on a vector of explanatory variables $x \\in \\mathbb{R}^n$\n",
    "\n",
    "the logistic model has the form\n",
    "\n",
    "\n",
    "$$\n",
    "\\begin{align*}\n",
    "p &= \\frac{1}{1+e^{-\\omega^T x}} = \\frac{e^{\\omega^T x}}{e^{\\omega^T x} + 1}\\\\\n",
    "1-p &= \\frac{1}{e^{\\omega^T x} + 1}\n",
    "\\end{align*}\n",
    "$$\n",
    "\n",
    "\n",
    "We can re-order the data so far $x_1, \\cdots, x_q$, the outcome is $y = +1$, and for $x_{q+1}, \\cdots, x_m$, the outcome is $y=0$\n",
    "\n",
    "The likelihood function\n",
    "\n",
    "$$\\mathscr{L} = \\prod\\limits_{i=1}^{q}{p_i}\\prod\\limits_{i=q+1}^{m}{(1-p_i)} \\qquad \\left(\\sim \\prod_i \\lvert h_i \\rvert \\right)$$\n",
    "\n",
    "the log likelihood function\n",
    "\n",
    "$$\n",
    "\\begin{align*}\n",
    "\\mathscr{l}(\\omega) &= \\log \\mathscr{L} = \\sum\\limits_{i=1}^{q}{\\log p_i} + \\sum\\limits_{i=q+1}^{m}{\\log(1 - p_i)}  \\\\\n",
    "& = \\sum\\limits_{i=1}^{q}{\\log \\frac{\\exp\\left(\\omega^T x_i\\right)}{1 + \\exp \\left(\\omega^T x_i \\right)}} + \\sum\\limits_{i=q+1}^{m}{\\log \\frac{1}{1+\\exp \\left(\\omega^T x_i \\right)}} \\\\\n",
    " &= \\sum\\limits_{i=1}^{q}{\\left(\\omega^T x_i\\right)} - \\sum\\limits_{i=1}^{m}{\\log \\left(1+\\exp \\left(\\omega^T x_i \\right) \\right)}\n",
    "\\end{align*} $$\n",
    "\n",
    "Since $\\mathscr{l}$ is a concave function of $\\omega$, the logistic regression problem can be solved as a convex optimization problem\n",
    "\n",
    "\n",
    "$$\\hat{\\omega} = \\arg\\max_{\\omega} \\mathscr{l}(\\omega)$$"
   ]
  },
  {
   "cell_type": "markdown",
   "metadata": {},
   "source": [
    "## 1.3. Example with CVX\n",
    "\n",
    "\n",
    "$$ \n",
    "\\begin{align*}\n",
    "\\omega &= \\begin{bmatrix} \\omega_1 \\\\ \\omega_2 \\\\ \\omega_3\\end{bmatrix}, \\quad x = \\begin{bmatrix} x_1 \\\\ x_2 \\\\ 1\\end{bmatrix}\\\\\n",
    "X &= \\begin{bmatrix} \\left(x^{(1)}\\right)^T \\\\ \\left(x^{(2)}\\right)^T \\\\ \\left(x^{(3)}\\right)^T \\\\ \\vdots\\end{bmatrix} = \\begin{bmatrix} x_1^{(1)} & x_2^{(1)} & 1 \\\\x_1^{(2)} & x_2^{(2)} & 1 \\\\x_1^{(3)} & x_2^{(3)} & 1 \\\\ \\vdots & \\vdots & \\vdots \\\\\\end{bmatrix}\n",
    "\\end{align*}\n",
    "$$\n",
    "\n",
    "\n",
    "Source: Section 7.1.1 from http://cvxr.com/cvx/examples/cvxbook/Ch07_statistical_estim/html/logistics.html"
   ]
  },
  {
   "cell_type": "code",
   "execution_count": 10,
   "metadata": {
    "collapsed": false,
    "scrolled": true
   },
   "outputs": [
    {
     "data": {
      "image/png": "[encoded data removed]",
      "text/plain": [
       "<IPython.core.display.Image object>"
      ]
     },
     "metadata": {},
     "output_type": "display_data"
    }
   ],
   "source": [
    "%plot -s 560,420\n",
    "\n",
    "% Boyd & Vandenberghe, \"Convex Optimization\"\n",
    "% Original by Lieven Vandenberghe\n",
    "% Adapted for CVX by Argyris Zymnis - 01/31/06\n",
    "\n",
    "% Generate data\n",
    "\n",
    "rand('state',0);\n",
    "\n",
    "m = 100;\n",
    "w = [2;1;-4];\n",
    "\n",
    "X = [2*rand(m,1) 4*rand(m,1) ones(m,1)];\n",
    "\n",
    "y = 0.5 < exp(X*w)./(1+exp(X*w));\n",
    "\n",
    "c1 = find(y == 1);\n",
    "c2 = find(y == 0);\n",
    "\n",
    "plot(X(c1,1),X(c1,2),'go',X(c2,1),X(c2,2),'bo');"
   ]
  },
  {
   "cell_type": "markdown",
   "metadata": {},
   "source": [
    "$$\n",
    "\\begin{align*}\n",
    "\\mathscr{l}(\\omega) &= \\log \\mathscr{L} = \\sum\\limits_{i=1}^{q}{\\log p_i} + \\sum\\limits_{i=q+1}^{m}{\\log(1 - p_i)}  \\\\\n",
    "& = \\sum\\limits_{i=1}^{q}{\\log \\frac{\\exp\\left(\\omega^T x_i\\right)}{1 + \\exp \\left(\\omega^T x_i \\right)}} + \\sum\\limits_{i=q+1}^{m}{\\log \\frac{1}{1+\\exp \\left(\\omega^T x_i \\right)}} \\\\\n",
    " &= \\sum\\limits_{i=1}^{q}{\\left(\\omega^T x_i\\right)} - \\sum\\limits_{i=1}^{m}{\\log \\left(1+\\exp \\left(\\omega^T x_i \\right) \\right)}\n",
    "\\end{align*} $$"
   ]
  },
  {
   "cell_type": "code",
   "execution_count": 12,
   "metadata": {
    "collapsed": false
   },
   "outputs": [
    {
     "data": {
      "image/png": "[encoded data removed]",
      "text/plain": [
       "<IPython.core.display.Image object>"
      ]
     },
     "metadata": {},
     "output_type": "display_data"
    }
   ],
   "source": [
    "clear w\n",
    "\n",
    "cvx_begin quiet\n",
    "    variable w(3,1)\n",
    "    maximize(y'*X*w - sum(log_sum_exp([zeros(1,m); w'*X'])))\n",
    "cvx_end\n",
    "\n",
    "xp = 0:0.1:2;\n",
    "yp = (-w(3) - w(1)*xp)./w(2);\n",
    "\n",
    "plot(X(c1,1),X(c1,2),'go',X(c2,1),X(c2,2),'bo'),    hold on\n",
    "plot(xp,yp,'r'),    hold off"
   ]
  },
  {
   "cell_type": "code",
   "execution_count": 14,
   "metadata": {
    "collapsed": false
   },
   "outputs": [
    {
     "data": {
      "image/png": "[encoded data removed]",
      "text/plain": [
       "<IPython.core.display.Image object>"
      ]
     },
     "metadata": {},
     "output_type": "display_data"
    }
   ],
   "source": [
    "[X1,X2] = meshgrid(0:0.1:2,0:0.1:4);\n",
    "\n",
    "w = w/norm(w,2)*10; % coefficients adjustment\n",
    "Z = exp(X1*w(1) + X2*w(2) + w(3))./(1 + exp(X1*w(1) + X2*w(2) + w(3)))-1/2; % plane shifted down to 1/2\n",
    "\n",
    "plot3(X(c1,1),X(c1,2),zeros(length(c1),1),'go',X(c2,1),X(c2,2),zeros(length(c2),1),'bo'), hold on\n",
    "mesh(X1,X2,Z), hold off\n",
    "grid on, view(43,16)"
   ]
  },
  {
   "cell_type": "code",
   "execution_count": null,
   "metadata": {
    "collapsed": false
   },
   "outputs": [],
   "source": [
    "help log_sum_exp"
   ]
  },
  {
   "cell_type": "markdown",
   "metadata": {},
   "source": [
    "<font size='4'><b>In a more compact form</b></font>\n",
    "\n",
    "Change $y \\in \\{0,+1\\} \\rightarrow y \\in \\{-1,+1\\}$ for compuational convenience\n",
    "\n",
    "- Consider the following function\n",
    "\n",
    "$$P\\left(y \\mid x,\\omega\\right) = \\sigma\\left(y\\omega^Tx\\right) = \\frac{1}{1+\\exp\\left(-y\\omega^T x\\right)} \\in [0,1]$$\n",
    "\n",
    "- Log-likelihood\n",
    "\n",
    "$$\n",
    "\\begin{align*}\n",
    "\\mathscr{l}(\\omega) = \\log \\mathscr{L} = \\log P\\left(y \\mid x,\\omega\\right)& = \\log \\prod_{n=1}^{m} P\\left(y_n \\mid x_n,\\omega\\right)\\\\\n",
    "&= \\sum_{n=1}^{m} \\log P\\left(y_n \\mid x_n,\\omega\\right)\\\\\n",
    "&= \\sum_{n=1}^{m} \\log \\frac{1}{1+\\exp\\left(-y_n\\omega^T x_n\\right)}\\\\\n",
    " &=  \\sum\\limits_{n=1}^{m}{-\\log \\left(1+\\exp \\left(-y_n\\omega^T x_n \\right) \\right)}\n",
    "\\end{align*} $$\n",
    "\n",
    "- MLE solution\n",
    "\n",
    "$$\n",
    "\\begin{align*}\n",
    "\\hat{\\omega} &= \\arg \\max_{\\omega} \\sum\\limits_{n=1}^{m}{-\\log \\left(1+\\exp \\left(-y_n\\omega^T x_n \\right) \\right)}\\\\\n",
    "             &= \\arg \\min_{\\omega} \\sum\\limits_{n=1}^{m}{\\log \\left(1+\\exp \\left(-y_n\\omega^T x_n \\right) \\right)}\n",
    "\\end{align*} $$\n"
   ]
  },
  {
   "cell_type": "code",
   "execution_count": null,
   "metadata": {
    "collapsed": false
   },
   "outputs": [],
   "source": [
    "%%\n",
    "y = double(y);\n",
    "y(y == 0) = -1;\n",
    "\n",
    "clear w\n",
    "\n",
    "cvx_begin quiet\n",
    "    variable w(3,1)\n",
    "    minimize (sum(log_sum_exp([zeros(1,m); (y.*(X*w))'])))\n",
    "cvx_end\n",
    "\n",
    "xp = 0:0.1:2;\n",
    "yp = (-w(3) - w(1)*xp)./w(2);\n",
    "\n",
    "plot(X(c1,1),X(c1,2),'go',X(c2,1),X(c2,2),'bo'),    hold on\n",
    "plot(xp,yp,'r'),    hold off"
   ]
  },
  {
   "cell_type": "markdown",
   "metadata": {},
   "source": [
    "## 1.4. Logistic Regression with Gradient Descent (Optional)\n",
    "\n",
    "\n",
    "- Logistic regression\n",
    "$$\n",
    "\\begin{align*}\n",
    "J(\\omega) = \\sum\\limits_{n=1}^{m}{\\log \\left(1+\\exp \\left(-y_n\\omega^T x_n \\right) \\right)}\n",
    "\\end{align*} $$\n",
    "- Gradient and Hessian given by:\n",
    "$$\n",
    "\\begin{align*}\n",
    "\\nabla_{\\omega}J(\\omega) &= -X^T Z y\\\\\n",
    "\\nabla_{\\omega}^2J(\\omega) &= X^T Z(I-Z) X\\\\\n",
    "\\end{align*}\n",
    "$$\n",
    " where\n",
    "$$Z \\in \\mathbb{R}^{m\\times m}, \\qquad Z_{nn} = \\frac{1}{1+\\exp \\left(-y_n\\omega^T x_n \\right) }$$\n",
    "\n",
    "\n",
    "- See how fast it is in terms of computional time"
   ]
  },
  {
   "cell_type": "code",
   "execution_count": null,
   "metadata": {
    "collapsed": false
   },
   "outputs": [],
   "source": [
    "%% logistic regression using gradient descent\n",
    "\n",
    "y = double(y);\n",
    "y(y == 0) = -1;\n",
    "\n",
    "k = size(X,2);\n",
    "theta = zeros(k,1);\n",
    "\n",
    "g = 1;\n",
    "\n",
    "while (norm(g) > 1e-10)\n",
    "    z = 1./(1 + exp(y.*(X*theta)));\n",
    "    g = -X'*(z.*y);\n",
    "    H = X'*diag(z.*(1-z))*X;\n",
    "    theta = theta - H\\g;    \n",
    "end\n",
    "\n",
    "%% plot\n",
    "xp = 0:0.1:2;\n",
    "yp = (-w(3) - w(1)*xp)./w(2);\n",
    "\n",
    "plot(X(c1,1),X(c1,2),'go',X(c2,1),X(c2,2),'bo'),    hold on\n",
    "plot(xp,yp,'r'),    hold off\n"
   ]
  },
  {
   "cell_type": "markdown",
   "metadata": {},
   "source": [
    "# 2. Regularized Logistic Regression\n",
    "\n",
    "- $l_2$ regularized logistic regression\n",
    "    - make $\\omega$ small\n",
    "$$\n",
    "\\begin{align*}\n",
    "\\min_{\\omega} &\\; \\lambda \\rVert \\omega \\lVert_2^2 + \\sum\\limits_{n=1}^{m}{\\log \\left(1+\\exp \\left(-y_n\\omega^T x_n \\right) \\right)}\n",
    "\\end{align*}\n",
    "$$\n",
    "\n",
    "- $l_1$ regularized logistic regression\n",
    "    - make $\\omega$ small and <font color='red'>sparse</font> $\\rightarrow$ feature selection for classification\n",
    "\n",
    "$$\n",
    "\\begin{align*}\n",
    "\\min_{\\omega} &\\; \\lambda \\rVert \\omega \\lVert_1 + \\sum\\limits_{n=1}^{m}{\\log \\left(1+\\exp \\left(-y_n\\omega^T x_n \\right) \\right)}\n",
    "\\end{align*}\n",
    "$$\n",
    "\n",
    "\n",
    "- The effect of regularization will be more clearly illustrated with a non-linear data set"
   ]
  },
  {
   "cell_type": "code",
   "execution_count": null,
   "metadata": {
    "collapsed": false
   },
   "outputs": [],
   "source": [
    "%plot -s 560,420\n",
    "\n",
    "% Generate data\n",
    "rand('state',0);\n",
    "\n",
    "m = 100;\n",
    "w = [2;1;-4];\n",
    "\n",
    "X = [2*rand(m,1) 4*rand(m,1) ones(m,1)];\n",
    "\n",
    "y = 0.5 < exp(X*w)./(1+exp(X*w));\n",
    "\n",
    "c1 = find(y == 1);\n",
    "c2 = find(y == 0);\n",
    "\n",
    "y = double(y);\n",
    "y(y == 0) = -1;"
   ]
  },
  {
   "cell_type": "code",
   "execution_count": null,
   "metadata": {
    "collapsed": false
   },
   "outputs": [],
   "source": [
    "%%\n",
    "clear w\n",
    "g = 1;\n",
    "\n",
    "cvx_begin quiet\n",
    "    variable w(3,1)\n",
    "    minimize (g*norm(w,2) + sum(log_sum_exp([zeros(1,m); (y.*(X*w))'])))\n",
    "cvx_end\n",
    "\n",
    "[X1,X2] = meshgrid(0:0.1:2,0:0.1:4);\n",
    "\n",
    "Z = exp(X1*w(1) + X2*w(2) + w(3))./(1 + exp(X1*w(1) + X2*w(2) + w(3)))-1/2; % plane shifted down to 1/2\n",
    "\n",
    "plot3(X(c1,1),X(c1,2),zeros(length(c1),1),'go',X(c2,1),X(c2,2),zeros(length(c2),1),'bo'), hold on\n",
    "mesh(X1,X2,Z), hold off\n",
    "grid on, view(43,16)"
   ]
  },
  {
   "cell_type": "code",
   "execution_count": null,
   "metadata": {
    "collapsed": false
   },
   "outputs": [],
   "source": [
    "%plot -s 560,900\n",
    "\n",
    "clear w\n",
    "g = [0.1 1 3];\n",
    "\n",
    "for i = 1:3\n",
    "    cvx_begin quiet\n",
    "        variable w(3,1)\n",
    "        minimize (g(i)*norm(w,2) + sum(log_sum_exp([zeros(1,m); (y.*(X*w))'])))\n",
    "    cvx_end\n",
    "\n",
    "    [X1,X2] = meshgrid(0:0.1:2,0:0.1:4);\n",
    "\n",
    "    Z = exp(X1*w(1) + X2*w(2) + w(3))./(1 + exp(X1*w(1) + X2*w(2) + w(3)))-1/2; % plane shifted down to 1/2\n",
    "\n",
    "    subplot(3,1,i),  plot3(X(c1,1),X(c1,2),zeros(length(c1),1),'go',X(c2,1),X(c2,2),zeros(length(c2),1),'bo'), hold on\n",
    "    mesh(X1,X2,Z), hold off\n",
    "    grid on, view(43,16)\n",
    "end"
   ]
  },
  {
   "cell_type": "markdown",
   "metadata": {},
   "source": [
    "- $l_1$ regularized logistic regression\n",
    "    - make $\\omega$ small and <font color='red'>sparse</font> $\\rightarrow$ feature selection for classification\n",
    "\n",
    "$$\n",
    "\\begin{align*}\n",
    "\\min_{\\omega} &\\; \\lambda \\rVert \\omega \\lVert_1 + \\sum\\limits_{n=1}^{m}{\\log \\left(1+\\exp \\left(-y_n\\omega^T x_n \\right) \\right)}\n",
    "\\end{align*}\n",
    "$$"
   ]
  },
  {
   "cell_type": "code",
   "execution_count": null,
   "metadata": {
    "collapsed": false
   },
   "outputs": [],
   "source": [
    "%plot -s 560,420\n",
    "\n",
    "clear w\n",
    "g = 1;\n",
    "\n",
    "cvx_begin quiet\n",
    "    variable w(3,1)\n",
    "    minimize (g*norm(w,1) + sum(log_sum_exp([zeros(1,m); (y.*(X*w))'])))\n",
    "cvx_end\n",
    "\n",
    "[X1,X2] = meshgrid(0:0.1:2,0:0.1:4);\n",
    "\n",
    "Z = exp(X1*w(1) + X2*w(2) + w(3))./(1 + exp(X1*w(1) + X2*w(2) + w(3)))-1/2; % plane shifted down to 1/2\n",
    "\n",
    "plot3(X(c1,1),X(c1,2),zeros(length(c1),1),'go',X(c2,1),X(c2,2),zeros(length(c2),1),'bo'), hold on\n",
    "mesh(X1,X2,Z), hold off\n",
    "grid on, view(43,16)"
   ]
  },
  {
   "cell_type": "markdown",
   "metadata": {},
   "source": [
    "# 3. Multiclass Classification (optional)\n",
    "\n",
    "- Generalization to more than 2 classes is straightforward\n",
    "- Using the soft-max function instead of the logistic function\n",
    "\n",
    "$$P\\left(y = k \\mid x,\\omega\\right) = \\frac{\\exp{\\left( \\omega_k^T x \\right) }}{\\sum_k \\exp{\\left(\\omega_k^T x \\right)}} \\in [0,1]$$\n",
    "\n",
    "- We maintain a separator weight vector $\\omega_k$ for each class $k$"
   ]
  },
  {
   "cell_type": "markdown",
   "metadata": {},
   "source": [
    "# 4. Non-linear Classification (optional)\n",
    "\n",
    "- Same idea as for linear regression: non-linear features, either explicit or implicit Kernels\n",
    "\n",
    "\n",
    "__Explicit Feature Vector__"
   ]
  },
  {
   "cell_type": "code",
   "execution_count": null,
   "metadata": {
    "collapsed": false
   },
   "outputs": [],
   "source": [
    "x_c1 = [-1.1  0;\n",
    "        -0.3  0.1;\n",
    "        -0.9  1;\n",
    "         0.8  0.4;\n",
    "         0.4  0.9;\n",
    "         0.3 -0.6;\n",
    "        -0.5  0.3;\n",
    "        -0.8  0.6\n",
    "        -0.5 -0.5];\n",
    "     \n",
    "x_c2 = [-1   -1.3;\n",
    "        -1.6  2.2;\n",
    "         0.9 -0.7;\n",
    "         1.6  0.5;\n",
    "         1.8 -1.1;\n",
    "         1.6  1.6;\n",
    "        -1.6 -1.7;\n",
    "        -1.4  1.8;\n",
    "         1.6 -0.9;\n",
    "         0   -1.6;\n",
    "         0.3  1.7;\n",
    "        -1.6  0;\n",
    "        -2.1  0.2;];\n",
    "\n",
    "plot(x_c1(:,1),x_c1(:,2),'ro',x_c2(:,1),x_c2(:,2),'bo')\n",
    "axis([-3 3 -3 3]), axis equal"
   ]
  },
  {
   "cell_type": "markdown",
   "metadata": {},
   "source": [
    "$$\n",
    "x = \\begin{bmatrix} x_1 \\\\ x_2 \\end{bmatrix} \\quad \\Longrightarrow \\quad\n",
    "z = \\phi(x) = \\begin{bmatrix} 1\\\\ \\sqrt{2}x_1\\\\ \\sqrt{2}x_2 \\\\x_1^2 \\\\ \\sqrt{2}x_1 x_2 \\\\x_2^2 \\end{bmatrix}$$"
   ]
  },
  {
   "cell_type": "code",
   "execution_count": null,
   "metadata": {
    "collapsed": false
   },
   "outputs": [],
   "source": [
    "%% estimate w from logistic regression\n",
    "X = [x_c1; x_c2];\n",
    "y = [ones(length(x_c1),1); -ones(length(x_c2),1)];\n",
    "\n",
    "m = length(y);\n",
    "\n",
    "% nonlinear feature mapping\n",
    "Z = [ones(m,1), sqrt(2)*X(:,1), sqrt(2)*X(:,2), ...\n",
    "    X(:,1).^2, sqrt(2)*X(:,1).*X(:,2), X(:,2).^2];\n",
    "\n",
    "clear w\n",
    "cvx_begin quiet\n",
    "    variable w(6,1)\n",
    "    minimize (sum(log_sum_exp([zeros(1,m); (y.*(Z*w))'])))\n",
    "cvx_end\n",
    "\n",
    "w = w/norm(w)*10; % normalize\n",
    "\n",
    "%% evaluate grid data for finding decision boundary \n",
    "[X1g, X2g] = meshgrid(-3:0.1:3,-3:0.1:3);\n",
    "X_test = [X1g(:) X2g(:)];\n",
    "\n",
    "m = length(X_test);\n",
    "\n",
    "Z_test = [ones(m,1), sqrt(2)*X_test(:,1), sqrt(2)*X_test(:,2), ...\n",
    "          X_test(:,1).^2, sqrt(2)*X_test(:,1).*X_test(:,2), X_test(:,2).^2];\n",
    "\n",
    "y_hat = 1./(1 + exp(-Z_test*w));\n",
    "\n",
    "% plotting a decision boundary\n",
    "B = [];\n",
    "for i = 1:length(y_hat)\n",
    "    if abs(y_hat(i)-0.5) < 0.2\n",
    "        B = [B; X_test(i,:)];         \n",
    "    end    \n",
    "end\n",
    "\n",
    "plot(x_c1(:,1),x_c1(:,2),'ro',x_c2(:,1),x_c2(:,2),'bo'), hold on\n",
    "plot(B(:,1),B(:,2),'k.'),   hold off\n",
    "axis([-3 3 -3 3])"
   ]
  },
  {
   "cell_type": "markdown",
   "metadata": {},
   "source": [
    "- $l_2$ regularized logistic regression\n",
    "    - non-linear and overfitting\n",
    "    - make $\\omega$ small\n",
    "$$\n",
    "\\begin{align*}\n",
    "\\min_{\\omega} &\\; \\lambda \\rVert \\omega \\lVert_2^2 + \\sum\\limits_{n=1}^{m}{\\log \\left(1+\\exp \\left(-y_n\\omega^T x_n \\right) \\right)}\n",
    "\\end{align*}\n",
    "$$"
   ]
  },
  {
   "cell_type": "markdown",
   "metadata": {},
   "source": [
    "<a href = \"https://www.dropbox.com/s/bsxxcahjm31gv9s/nonlinear_x.dat?dl=0\"> download nonlinear_x </a>\n",
    "\n",
    "<a href = \"https://www.dropbox.com/s/6939y9e8jm9xp55/nonlinear_y.dat?dl=0\"> download nonlinear_y </a>\n",
    "\n",
    "download the data files "
   ]
  },
  {
   "cell_type": "code",
   "execution_count": null,
   "metadata": {
    "collapsed": false
   },
   "outputs": [],
   "source": [
    "%plot -s 900,700\n",
    "% source: By Andrew Ng at Stanford Univ.\n",
    "% http://openclassroom.stanford.edu/MainFolder/DocumentPage.php?course=MachineLearning&doc=exercises/ex5/ex5.html\n",
    "\n",
    "X = load([pwd,'\\image_files\\nonlinear_x.dat']);\n",
    "y = load([pwd,'\\image_files\\nonlinear_y.dat']); \n",
    "\n",
    "y(y == 0) = -1;  \n",
    "\n",
    "pos = find(y+1);\n",
    "neg = find(y-1);\n",
    "plot(X(pos,1),X(pos,2),'r+',X(neg,1),X(neg,2),'bo')\n",
    "axis equal\n",
    "\n",
    "%% estimate w from regularized logistic regression for non-linear data\n",
    "m = length(y);\n",
    "d = 6;\n",
    "\n",
    "% polynomial functions\n",
    "Z = ones(m,1);\n",
    "for i = 1:d\n",
    "    for j = 0:i\n",
    "        Z = [Z (X(:,1).^(i-j)).*(X(:,2).^j)];\n",
    "    end\n",
    "end\n",
    "\n",
    "n = size(Z,2);\n",
    "\n",
    "[X1g, X2g] = meshgrid(-3:0.01:3,-3:0.01:3);\n",
    "X_test = [X1g(:) X2g(:)];\n",
    "\n",
    "Z_test = ones(length(X_test),1);\n",
    "\n",
    "for i = 1:d\n",
    "    for j = 0:i\n",
    "        Z_test = [Z_test (X_test(:,1).^(i-j)).*(X_test(:,2).^j)];\n",
    "    end\n",
    "end\n",
    "\n",
    "g = [0 1];\n",
    "\n",
    "for k = 1:length(g)\n",
    "    clear w\n",
    "    cvx_begin quiet\n",
    "        variable w(n,1)\n",
    "        minimize (g(k)*norm(w,2) + sum(log_sum_exp([zeros(1,m); (y.*(Z*w))'])))\n",
    "    cvx_end\n",
    "    \n",
    "    y_hat = 1./(1 + exp(-Z_test*w));\n",
    "    \n",
    "    % plotting a decision boundary\n",
    "    B = [];\n",
    "    for i = 1:length(y_hat)\n",
    "        if abs(y_hat(i)-0.5) < 0.1\n",
    "            B = [B; X_test(i,:)];         \n",
    "        end    \n",
    "    end\n",
    "\n",
    "    subplot(length(g),2,2*k-1), plot(X(pos,1),X(pos,2),'r+',X(neg,1),X(neg,2),'bo'), hold on\n",
    "    plot(B(:,1),B(:,2),'k.'),   hold off, axis equal\n",
    "    subplot(length(g),2,2*k), stem(w,'marker','none')  \n",
    "end"
   ]
  },
  {
   "cell_type": "markdown",
   "metadata": {},
   "source": [
    "- $l_1$ regularized logistic regression\n",
    "    - nonlinear, overfitting, and too many features\n",
    "    - make $\\omega$ small and <font color='red'>sparse</font> $\\rightarrow$ feature selection for classification\n",
    "\n",
    "$$\n",
    "\\begin{align*}\n",
    "\\min_{\\omega} &\\; \\lambda \\rVert \\omega \\lVert_1 + \\sum\\limits_{n=1}^{m}{\\log \\left(1+\\exp \\left(-y_n\\omega^T x_n \\right) \\right)}\n",
    "\\end{align*}\n",
    "$$"
   ]
  },
  {
   "cell_type": "code",
   "execution_count": null,
   "metadata": {
    "collapsed": false
   },
   "outputs": [],
   "source": [
    "%plot -s 900,700\n",
    "X = load([pwd,'\\image_files\\nonlinear_x.dat']);\n",
    "y = load([pwd,'\\image_files\\nonlinear_y.dat']);\n",
    "\n",
    "y(y == 0) = -1;  \n",
    "\n",
    "pos = find(y+1);\n",
    "neg = find(y-1);\n",
    "plot(X(pos,1),X(pos,2),'r+',X(neg,1),X(neg,2),'bo')\n",
    "axis equal\n",
    "\n",
    "%% estimate w from regularized logistic regression for non-linear data\n",
    "m = length(y);\n",
    "d = 6;\n",
    "\n",
    "% polynomial functions\n",
    "Z = ones(m,1);\n",
    "for i = 1:d\n",
    "    for j = 0:i\n",
    "        Z = [Z (X(:,1).^(i-j)).*(X(:,2).^j)];\n",
    "    end\n",
    "end\n",
    "\n",
    "n = size(Z,2);\n",
    "\n",
    "[X1g, X2g] = meshgrid(-3:0.01:3,-3:0.01:3);\n",
    "X_test = [X1g(:) X2g(:)];\n",
    "\n",
    "Z_test = ones(length(X_test),1);\n",
    "\n",
    "for i = 1:d\n",
    "    for j = 0:i\n",
    "        Z_test = [Z_test (X_test(:,1).^(i-j)).*(X_test(:,2).^j)];\n",
    "    end\n",
    "end\n",
    "\n",
    "g = [0 1];\n",
    "\n",
    "for k = 1:length(g)\n",
    "    clear w\n",
    "    cvx_begin quiet\n",
    "        variable w(n,1)\n",
    "        minimize (g(k)*norm(w,1) + sum(log_sum_exp([zeros(1,m); (y.*(Z*w))'])))\n",
    "    cvx_end\n",
    "    \n",
    "    y_hat = 1./(1 + exp(-Z_test*w));\n",
    "    \n",
    "    % plotting a decision boundary\n",
    "    B = [];\n",
    "    for i = 1:length(y_hat)\n",
    "        if abs(y_hat(i)-0.5) < 0.1\n",
    "            B = [B; X_test(i,:)];         \n",
    "        end    \n",
    "    end\n",
    "\n",
    "    subplot(length(g),2,2*k-1), plot(X(pos,1),X(pos,2),'r+',X(neg,1),X(neg,2),'bo'), hold on\n",
    "    plot(B(:,1),B(:,2),'k.'),   hold off, axis equal\n",
    "    subplot(length(g),2,2*k), stem(w,'marker','none')  \n",
    "end"
   ]
  },
  {
   "cell_type": "markdown",
   "metadata": {},
   "source": [
    "__Implicit Feature Vector (Kernel)__"
   ]
  },
  {
   "cell_type": "code",
   "execution_count": null,
   "metadata": {
    "collapsed": true
   },
   "outputs": [],
   "source": []
  },
  {
   "cell_type": "code",
   "execution_count": null,
   "metadata": {
    "collapsed": false
   },
   "outputs": [],
   "source": [
    "%%javascript\n",
    "$.getScript('https://kmahelona.github.io/ipython_notebook_goodies/ipython_notebook_toc.js')"
   ]
  }
 ],
 "metadata": {
  "kernelspec": {
   "display_name": "Matlab",
   "language": "matlab",
   "name": "matlab"
  },
  "language_info": {
   "codemirror_mode": "octave",
   "file_extension": ".m",
   "help_links": [
    {
     "text": "MetaKernel Magics",
     "url": "https://github.com/calysto/metakernel/blob/master/metakernel/magics/README.md"
    }
   ],
   "mimetype": "text/x-matlab",
   "name": "matlab",
   "version": "0.8.0"
  }
 },
 "nbformat": 4,
 "nbformat_minor": 0
}
