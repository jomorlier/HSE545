{
 "cells": [
  {
   "cell_type": "markdown",
   "metadata": {},
   "source": [
    "<br><br>\n",
    "<center><font size='5'><b>HandsOn Machine Learning Part I</b></font><br><br><font size='5'>Chap1. 한눈에 보는 머신러닝<b></b></font>"
   ]
  },
  {
   "cell_type": "markdown",
   "metadata": {},
   "source": [
    "## 왜 Machine Learning?\n",
    "<img src=\"./images/ml_autoapproach.png\" width = 500>\n",
    "- 머신러닝 기반의 스팸 필터는 사용자가 스팸으로 지정한 메일에서 자동으로 인식\n",
    "\n",
    "<img src=\"./images/help_ppl.png\" width = 500>\n",
    "\n",
    "- 머신러닝을 적용해 대용량의 데이터 분석하면 패턴을 발견할 수 있다. / 머신러닝을 통해 배운다\n",
    "  - Data Mining"
   ]
  },
  {
   "cell_type": "markdown",
   "metadata": {},
   "source": [
    "## ML의 종류 \n",
    "- 사람의 감독 하에 훈련하는 것인지? : __supervised / unsupervised / semi- / reinforcement learning__\n",
    "- 실시간으로 gradually 학습하는건지? : __Online / Batch learning__\n",
    "- 단순하게 알고 있는 데이터와 새로운 데이터 비교하는건지? 아니면 데이터셋에서 패턴 발견하여 예측모델 만드는건지? : __Instance-based / Model-based__"
   ]
  },
  {
   "cell_type": "markdown",
   "metadata": {},
   "source": [
    "### Supervised / Unsupervised\n",
    "#### Supervised Learning\n",
    "- 훈련 데이터에 label의 답이 있음 (ex. 스팸필터)\n",
    "- Predictor Variable이라는 feature를 사용해(주행거리, 연식) 중고차 가격 같은 target value 예측 __(Regression)__\n",
    "  - feature(특성)은 attribute(속성)과 비슷하게 사용\n",
    "\n",
    "__대표적 Supervised 알고리즘__\n",
    "- K-Nearest Neighbors\n",
    "- Linear Regression\n",
    "- Logistic Regression : Class에 속할 확률을 출력하는 Classification\n",
    "- SVM\n",
    "- Decision Tress & Random Forests\n",
    "- Neural networks 중 일부 "
   ]
  },
  {
   "cell_type": "markdown",
   "metadata": {},
   "source": [
    "#### Unsupervised Learning\n",
    "\n",
    "__대표적 Unsupervised 알고리즘__\n",
    "- Clustering : K-Means, HCA(Hierarchical Cluster Analysis) , Expectation Maximization\n",
    "  - 계층 군집 사용하면 그룹을 더 작은 그룹으로 세분화 가능.\n",
    "- 시각화 및 차원 축소 : PCA, Kernel PCA, LLE(Locally-Linear Embedding), t-SNE(t-distributed Stochastic Neighbor Embedding)\n",
    "- 연관 규칙 학습(Association rule learning) : Apriori, Eclat\n",
    "  - 데이터 특성 간 흥미로운 관계 찾는 것 (ex. 바비큐 소스, 감자 구매자가 스테이크도 구매하는 경향?)\n",
    "- 이상치 탐지(Anomaly Detection) \n",
    "  - 정상 샘플로 훈련되고, 새로운 샘플이 정상? 이상치? 인지 판단"
   ]
  },
  {
   "cell_type": "markdown",
   "metadata": {},
   "source": [
    "#### Semi-supervised Learning\n",
    "Label이 일부만 있는 경우. 지도학습과 비지도학습의 조합\n",
    "\n",
    "- ex) Deep Belief Net은 Restricted Boltzmann Machine이라 불리는 비지도 학습 방식으로 순차적 훈련된 다음 \n",
    "  전체 시스템이 지도 학습으로 조정됨.\n",
    "  \n",
    "#### Reinforcement Learning\n",
    "학습하는 시스템을 agent라고 부르며, 환경을 관찰하여 action 실행하고 그 결과로 reward/penalty를 받음.\n",
    "\n",
    "- 가장 큰 보상을 받기 위해 Policy라고 부르는 최상의 전략을 스스로 학습\n",
    "  - Policy : 주어진 상황에서 agent가 어떤 action을 선택해야 할지 정의"
   ]
  },
  {
   "cell_type": "markdown",
   "metadata": {},
   "source": [
    "### Online / Batch Learning\n",
    "#### Batch Learning\n",
    "\n",
    "- 배치 학습은 점진적으로 학습 불가. 가용한 데이터를 모두 사용해 훈련.\n",
    "  - 새로운 데이터에 학습하려면 새로운 버전으로 다시 훈련해야함.\n",
    "- 시간, 자원 많이 소모하여 보통 오프라인에서 수행된다.\n",
    "  - 시스템 훈련시키고 그다음 시스템에 적용하면 더이상 학습 없이 실행됨(학습한 것을 적용만 함)\n",
    "  - ```offline learing```\n",
    "  \n",
    "#### Online Learning\n",
    "\n",
    "<img src=\"./images/ol1.png\" width = 500>\n",
    "\n",
    "- 데이터를 순차적으로 __mini-batch__ 묶음 단위로 주입하여 훈련 시킨다.\n",
    "- 메인 메모리에 들어갈 수 없는 아주 큰 데이터 학습시 사용 가능(외부메모리 학습 : out-of-core learning)\n",
    "  - 데이터 일부 읽어 들이고 훈련. 전체 데이터가 모두 적용될 때까지 반복\n",
    "\n",
    "- 온라인 학습시 중요 파라미터는 __learning rate(변화 데이터에 얼마나 빠르게 적응할 것인지)__\n",
    "  - 학습률 높으면 -> 데이터 빨리 적응, 예전 데이터는 금방 잊음\n",
    "  - 학습률 낮으면 -> 느리게 학습되지만, noise 등에 덜 민감해짐\n",
    " "
   ]
  },
  {
   "cell_type": "markdown",
   "metadata": {},
   "source": [
    "### Instance-based / Model-based\n",
    "\n",
    "모델 __일반화__의 관점.\n",
    "ML의 목표는 새로운 데이터에 대한 예측을 만드는 것. 훈련 데이터에서 높은 성능을 내는 것은 의미가 없음.\n",
    "\n",
    "#### Instance-based Learning\n",
    "\n",
    "- 단순히 기억. Similarity를 측정 \n",
    "  - 거리가 될수도, 갯수가 될수도.\n",
    "\n",
    "#### Model-based Learning\n",
    "\n",
    "- 샘플들의 모델을 만들어 예측에 사용. \n",
    "- ex) 데이터 플랏 해보고, 선형 모델로 가정 $\\theta_0$, $\\theta_1$ 구할 수 있음\n",
    "  - 모델이 얼마나 __좋은지__ 측정 -> __Utility function__ / __fitness function__\n",
    "  - 모델이 얼마나 __나쁜지__ 측정 -> __Cost function__ ```비용함수 최소화 목표```"
   ]
  },
  {
   "cell_type": "markdown",
   "metadata": {},
   "source": [
    "## ML의 주요 도전 과제\n",
    "\n",
    "- 충분치 못한 데이터 \n",
    "- 대표성 없는 데이터 \n",
    "  - sampling noise : 샘플 작을때, 우연에 의한 대표성 없는 데이터\n",
    "  - sampling bias : 큰 샘플이지만, 추출 방법이 잘못되면\n",
    "- 낮은 품질의 데이터\n",
    "  - train data가 outlier, noise, error 등으로 가득하다면,, \n",
    "  - 데이터 __refine__에 많은 노력이 필요하다\n",
    "- 연관 없는 특성 \n",
    "  - feature selection과 feature extraction 중요\n",
    "- 훈련 데이터의 overfitting (일반화의 오류)\n",
    "  - 특성 수를 줄이거나, 데이터를 더 많이 모으거나, 노이즈를 줄여서 해결\n",
    "  - 모델 단순하게 하고, overfitting 감소하기 위해 모델에 제약 : __Regularization__\n",
    "  - 적용할 규제의 양은 __Hyperparameter__가 결정 // 적절한 하이퍼파라미터 튜닝이 필요하다.\n",
    "- 훈련 데이터의 underfitting(너무 단순해서 학습이 어려울때)\n",
    "  - 파라미터가 더 많은 강력한 모델을 선택\n",
    "  - 모델의 제약을 줄임(규제 하이퍼파라미터를 감소)"
   ]
  },
  {
   "cell_type": "markdown",
   "metadata": {},
   "source": [
    "## 테스트와 검증\n",
    "\n",
    "- Training datasets -> train set과 Test set으로 나누기\n",
    "  - 새로운 샘플에 대해 얼마나 잘 작동하는지.\n",
    "  - 새로운 샘플에 대한 error -> __Generalization error__\n",
    "  - Train할때 오차가 낮지만, Generalization error가 높으면, 훈련 데이터에 overfitted 되었다는 뜻이다.\n",
    "  - ```generally, 80% train / 20% test```\n",
    "------------------------------------------------------------------------------------------------  \n",
    "__모델 평가?__ 선형모델가 다항모델 중 고민..\n",
    "\n",
    "-두 모델 모두 train하고 test set으로 얼마나 잘 일반화 되는지 보기. let 선형이 좋음\n",
    "\n",
    "-과대적합 피하기 위해 regularize하려고 함.. 하이퍼파라미터 값 어떻게 선택할까? 100개의 하이퍼파라미터로 다른 모델을 훈련시키는 방법\n",
    "\n",
    "-일반화 오차가 가장 낮은 모델(5%?)을 만드는 optimized hyperparameter를 찾았다고 하자 --> 실제 서비스에 투입\n",
    "- 성능이 예상만큼 좋지 않고, 오차가 15%?? __WHY??__\n",
    "\n",
    "__Generalization error를 Test set에서 여러번 측정해서, 모델이 테스트 세트에 최적화된 모델을 만들었기 때문__\n",
    "\n",
    "------------------------------------------------------------------------\n",
    "- 해결방법 : ```Validation set```라 부르는 두번째 hold out set를 만들자\n",
    "  - trainset을 사용, 다양한 hyperparameter로 여러 모델 훈련시키고, 검증세트에서 최상 성능의 모델과 하이퍼파라미터 선택하기.\n",
    "  - 만족스러운 모델 찾으면 Generalization error의 추정값을 얻기 위해 test set로 __단 한번의 최종 테스트 하기__\n",
    "- ```Cross-validation``` 기법 : Trainset를 여러 subset으로 나누고 서브셋의 조합으로 훈련시키고 나머지로 검증\n",
    "------------------------------\n",
    "\n",
    "__No Free Lunch 이론__\n",
    "\n",
    ": 데이터에 관해 완벽하게 어떤 가정도 하지 않으면, 한 모델을 다른 모델보다 선호할 근거가 없다.\n",
    "\n",
    ": __경험하기 전에 더 잘 맞을 것이라고 보장할 수 있는 모델은 없다__ : 최선인지 알려면 평가해보는 방법뿐.\n",
    "\n",
    ": 이것이 불가능하기 때문에 실전에서는 데이터에 관해 타당한 가정을 하고 적절한 모델 몇가지만 평가함"
   ]
  },
  {
   "cell_type": "markdown",
   "metadata": {},
   "source": [
    "## Exercise\n",
    "### Settings"
   ]
  },
  {
   "cell_type": "code",
   "execution_count": 1,
   "metadata": {},
   "outputs": [],
   "source": [
    "# 파이썬 2와 파이썬 3 지원\n",
    "from __future__ import division, print_function, unicode_literals\n",
    "\n",
    "# 공통\n",
    "import numpy as np\n",
    "import os\n",
    "\n",
    "# 일관된 출력을 위해 유사난수 초기화\n",
    "np.random.seed(42)\n",
    "\n",
    "# 맷플롯립 설정\n",
    "%matplotlib inline\n",
    "import matplotlib\n",
    "import matplotlib.pyplot as plt\n",
    "plt.rcParams['axes.labelsize'] = 14\n",
    "plt.rcParams['xtick.labelsize'] = 12\n",
    "plt.rcParams['ytick.labelsize'] = 12\n",
    "\n",
    "# 한글출력\n",
    "matplotlib.rc('font', family='NanumBarunGothic')\n",
    "plt.rcParams['axes.unicode_minus'] = False\n",
    "\n",
    "# 그림을 저장할 폴드\n",
    "PROJECT_ROOT_DIR = \".\"\n",
    "CHAPTER_ID = \"fundamentals\"\n",
    "\n",
    "def save_fig(fig_id, tight_layout=True):\n",
    "    path = os.path.join(PROJECT_ROOT_DIR, \"images\", CHAPTER_ID, fig_id + \".png\")\n",
    "    if tight_layout:\n",
    "        plt.tight_layout()\n",
    "    plt.savefig(path, format='png', dpi=300)\n",
    "\n",
    "# SciPy 이슈 #5998에 해당하는 경고를 무시합니다(https://github.com/scipy/scipy/issues/5998).\n",
    "import warnings\n",
    "warnings.filterwarnings(action=\"ignore\", module=\"scipy\", message=\"^internal gelsd\")"
   ]
  },
  {
   "cell_type": "markdown",
   "metadata": {},
   "source": [
    "### scikit-learn 이용한 linear model 훈련, 실행"
   ]
  },
  {
   "cell_type": "code",
   "execution_count": 2,
   "metadata": {},
   "outputs": [],
   "source": [
    "# 데이터파일이 아래 디렉토리에 있다고 가정. \n",
    "import os\n",
    "datapath = os.path.join(\"datasets\", \"lifesat\", \"\")"
   ]
  },
  {
   "cell_type": "code",
   "execution_count": 3,
   "metadata": {},
   "outputs": [],
   "source": [
    "import matplotlib\n",
    "import matplotlib.pyplot as plt\n",
    "import numpy as np\n",
    "import pandas as pd\n",
    "import sklearn.linear_model\n",
    "\n",
    "# 데이터 적재하기 (datapath 위에서 정의 후 파일 이름만~~)\n",
    "oecd_bli = pd.read_csv(datapath + \"oecd_bli_2015.csv\", thousands=',')\n",
    "gdp_per_capita = pd.read_csv(datapath + \"gdp_per_capita.csv\",thousands=',',delimiter='\\t',\n",
    "                             encoding='latin1', na_values=\"n/a\")"
   ]
  },
  {
   "cell_type": "markdown",
   "metadata": {},
   "source": [
    "이 함수는 OECD 삶의 만족도 / 1인당 GDP 데이터를 합쳐서 사용. 아래 함수 먼저 정의"
   ]
  },
  {
   "cell_type": "code",
   "execution_count": 4,
   "metadata": {},
   "outputs": [],
   "source": [
    "def prepare_country_stats(oecd_bli, gdp_per_capita):\n",
    "    oecd_bli = oecd_bli[oecd_bli[\"INEQUALITY\"]==\"TOT\"]\n",
    "    oecd_bli = oecd_bli.pivot(index=\"Country\", columns=\"Indicator\", values=\"Value\")\n",
    "    gdp_per_capita.rename(columns={\"2015\": \"GDP per capita\"}, inplace=True)\n",
    "    gdp_per_capita.set_index(\"Country\", inplace=True)\n",
    "    full_country_stats = pd.merge(left=oecd_bli, right=gdp_per_capita,\n",
    "                                  left_index=True, right_index=True)\n",
    "    full_country_stats.sort_values(by=\"GDP per capita\", inplace=True)\n",
    "    remove_indices = [0, 1, 6, 8, 33, 34, 35]\n",
    "    keep_indices = list(set(range(36)) - set(remove_indices))\n",
    "    return full_country_stats[[\"GDP per capita\", 'Life satisfaction']].iloc[keep_indices]\n",
    "\n",
    "# 데이터 준비하기 \n",
    "country_stats = prepare_country_stats(oecd_bli, gdp_per_capita)\n",
    "X = np.c_[country_stats[\"GDP per capita\"]]\n",
    "y = np.c_[country_stats[\"Life satisfaction\"]]\n",
    "\n",
    "## np.c_는 np.concatenate의 줄임말"
   ]
  },
  {
   "cell_type": "code",
   "execution_count": 5,
   "metadata": {},
   "outputs": [
    {
     "name": "stderr",
     "output_type": "stream",
     "text": [
      "c:\\users\\user\\appdata\\local\\programs\\python\\python37\\lib\\site-packages\\matplotlib\\font_manager.py:1241: UserWarning: findfont: Font family ['NanumBarunGothic'] not found. Falling back to DejaVu Sans.\n",
      "  (prop.get_family(), self.defaultFamily[fontext]))\n"
     ]
    },
    {
     "data": {
      "image/png": "[encoded data removed]",
      "text/plain": [
       "<Figure size 432x288 with 1 Axes>"
      ]
     },
     "metadata": {
      "needs_background": "light"
     },
     "output_type": "display_data"
    }
   ],
   "source": [
    "# 데이터 시각화하기 \n",
    "ax = country_stats.plot(kind='scatter', x=\"GDP per capita\", y='Life satisfaction')\n",
    "ax.set(xlabel=\"삶의 만족도\", ylabel=\"1인당 GDP\")\n",
    "plt.show()"
   ]
  },
  {
   "cell_type": "code",
   "execution_count": 7,
   "metadata": {},
   "outputs": [
    {
     "name": "stdout",
     "output_type": "stream",
     "text": [
      "[[5.95815033]]\n",
      "[[5.76666667]]\n"
     ]
    }
   ],
   "source": [
    "# 선형 모델을 Linear model로 선택\n",
    "model = sklearn.linear_model.LinearRegression()\n",
    "\n",
    "#모델 훈련하기 \n",
    "model.fit(X,y)\n",
    "\n",
    "# 새로운 포인트(키프로스)에 대한 예측 \n",
    "X_new = [[22500]]\n",
    "print(model.predict(X_new))\n",
    "\n",
    "# 선형 회귀 모델을 k-최근접 이웃 회귀 모델로 교체할 경우\n",
    "knn = sklearn.neighbors.KNeighborsRegressor(n_neighbors=3)\n",
    "knn.fit(X, y)\n",
    "print(knn.predict(X_new)) # 결과 [[ 5.76666667]]"
   ]
  },
  {
   "cell_type": "markdown",
   "metadata": {},
   "source": [
    "__Instance-based 학습 알고리즘 사용__\n",
    "\n",
    "- 키프로스와 가장 가까운 슬로베니아를 찾아 / 슬로베니아의 만족도가 5.7이므로 키프로스도 5.7로 예측\n",
    "- 그다음으로 가까운 스페인, 포르투갈의 만족도는 5.1과 6.5.\n",
    "  - 이 3개의 값을 평균하면 5.77나온다.\n",
    "  - k=3\n",
    "  - K-Nearest Neighbors 회귀"
   ]
  }
 ],
 "metadata": {
  "kernelspec": {
   "display_name": "Python 3",
   "language": "python",
   "name": "python3"
  },
  "language_info": {
   "codemirror_mode": {
    "name": "ipython",
    "version": 3
   },
   "file_extension": ".py",
   "mimetype": "text/x-python",
   "name": "python",
   "nbconvert_exporter": "python",
   "pygments_lexer": "ipython3",
   "version": "3.7.2"
  },
  "toc": {
   "base_numbering": 1,
   "nav_menu": {},
   "number_sections": true,
   "sideBar": true,
   "skip_h1_title": false,
   "title_cell": "Table of Contents",
   "title_sidebar": "Contents",
   "toc_cell": false,
   "toc_position": {
    "height": "calc(100% - 180px)",
    "left": "10px",
    "top": "150px",
    "width": "376.797px"
   },
   "toc_section_display": true,
   "toc_window_display": true
  },
  "varInspector": {
   "cols": {
    "lenName": 16,
    "lenType": 16,
    "lenVar": 40
   },
   "kernels_config": {
    "python": {
     "delete_cmd_postfix": "",
     "delete_cmd_prefix": "del ",
     "library": "var_list.py",
     "varRefreshCmd": "print(var_dic_list())"
    },
    "r": {
     "delete_cmd_postfix": ") ",
     "delete_cmd_prefix": "rm(",
     "library": "var_list.r",
     "varRefreshCmd": "cat(var_dic_list()) "
    }
   },
   "types_to_exclude": [
    "module",
    "function",
    "builtin_function_or_method",
    "instance",
    "_Feature"
   ],
   "window_display": false
  }
 },
 "nbformat": 4,
 "nbformat_minor": 2
}
