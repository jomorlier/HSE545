{
 "cells": [
  {
   "cell_type": "code",
   "execution_count": 1,
   "metadata": {
    "collapsed": true
   },
   "outputs": [],
   "source": [
    "import numpy as np\n",
    "import matplotlib.pyplot as plt\n",
    "from numpy import linalg as LA\n",
    "import cvxpy as cvx\n",
    "from scipy import stats, misc\n",
    "import numpy.matlib\n",
    "\n",
    "%matplotlib inline\n",
    "import warnings\n",
    "warnings.filterwarnings('ignore')"
   ]
  },
  {
   "cell_type": "code",
   "execution_count": 18,
   "metadata": {
    "collapsed": false
   },
   "outputs": [
    {
     "data": {
      "text/plain": [
       "0"
      ]
     },
     "execution_count": 18,
     "metadata": {},
     "output_type": "execute_result"
    }
   ],
   "source": []
  },
  {
   "cell_type": "code",
   "execution_count": 72,
   "metadata": {
    "collapsed": false
   },
   "outputs": [
    {
     "data": {
      "text/plain": [
       "0.49"
      ]
     },
     "execution_count": 72,
     "metadata": {},
     "output_type": "execute_result"
    }
   ],
   "source": [
    "numTrials = 100\n",
    "numH = 0.\n",
    "for i in range(0,numTrials):\n",
    "    flip = np.random.randint(2)\n",
    "    if flip == 1.:\n",
    "        numH = numH + 1.\n",
    "\n",
    "numH/numTrials"
   ]
  },
  {
   "cell_type": "code",
   "execution_count": 79,
   "metadata": {
    "collapsed": false
   },
   "outputs": [
    {
     "data": {
      "text/plain": [
       "1.999959945678711"
      ]
     },
     "execution_count": 79,
     "metadata": {},
     "output_type": "execute_result"
    }
   ],
   "source": [
    "val = 0.\n",
    "for n in range(20):\n",
    "    val = val + n*(0.5)**n\n",
    "    \n",
    "val"
   ]
  },
  {
   "cell_type": "code",
   "execution_count": 142,
   "metadata": {
    "collapsed": false
   },
   "outputs": [
    {
     "data": {
      "text/plain": [
       "1.9650000000000001"
      ]
     },
     "execution_count": 142,
     "metadata": {},
     "output_type": "execute_result"
    }
   ],
   "source": [
    "numTrials = 1000\n",
    "\n",
    "NUM = np.zeros((1, numTrials))\n",
    "for i in range(0,numTrials):\n",
    "    num = 1.\n",
    "    while np.random.randint(2) != 0:\n",
    "        num = num + 1.\n",
    "    NUM[:, i] = num\n",
    "\n",
    "    \n",
    "np.mean(NUM)"
   ]
  },
  {
   "cell_type": "code",
   "execution_count": 152,
   "metadata": {
    "collapsed": false
   },
   "outputs": [
    {
     "data": {
      "text/plain": [
       "0.33383350000000028"
      ]
     },
     "execution_count": 152,
     "metadata": {},
     "output_type": "execute_result"
    }
   ],
   "source": [
    "# by summing up\n",
    "dx = 0.001\n",
    "x = [x/1000. for x in range(1001)]\n",
    "x = np.array(x)\n",
    "area = 0\n",
    "for i in range(len(x)):\n",
    "    area = area + (x[i]**2)*dx\n",
    "\n",
    "area"
   ]
  },
  {
   "cell_type": "code",
   "execution_count": 153,
   "metadata": {
    "collapsed": false
   },
   "outputs": [
    {
     "data": {
      "text/plain": [
       "0.33383349999999995"
      ]
     },
     "execution_count": 153,
     "metadata": {},
     "output_type": "execute_result"
    }
   ],
   "source": [
    "# shortened version\n",
    "\n",
    "np.sum(x**2)*dx"
   ]
  },
  {
   "cell_type": "code",
   "execution_count": 155,
   "metadata": {
    "collapsed": false
   },
   "outputs": [
    {
     "data": {
      "text/plain": [
       "0.33383349999999995"
      ]
     },
     "execution_count": 155,
     "metadata": {},
     "output_type": "execute_result"
    }
   ],
   "source": [
    "# shortened version\n",
    "\n",
    "x.dot(x)*dx"
   ]
  },
  {
   "cell_type": "code",
   "execution_count": 182,
   "metadata": {
    "collapsed": false
   },
   "outputs": [
    {
     "data": {
      "text/plain": [
       "0.3317"
      ]
     },
     "execution_count": 182,
     "metadata": {},
     "output_type": "execute_result"
    }
   ],
   "source": [
    "# the number of points below curve out of the totla number is a fraction of area\n",
    "\n",
    "n = 10000\n",
    "\n",
    "y = np.random.rand(n, 1)\n",
    "x = np.random.rand(n, 1)\n",
    "\n",
    "count = 0. \n",
    "\n",
    "for i in range(n):\n",
    "    if y[i] < x[i]*x[i]:\n",
    "        count = count + 1\n",
    "    \n",
    "    \n",
    "# result\n",
    "\n",
    "area = count/n\n",
    "area"
   ]
  },
  {
   "cell_type": "code",
   "execution_count": 183,
   "metadata": {
    "collapsed": false
   },
   "outputs": [
    {
     "data": {
      "text/plain": [
       "0.33169999999999999"
      ]
     },
     "execution_count": 183,
     "metadata": {},
     "output_type": "execute_result"
    }
   ],
   "source": [
    "# shortened version\n",
    "\n",
    "area = np.sum(y < x**2)/float(n)\n",
    "area"
   ]
  },
  {
   "cell_type": "code",
   "execution_count": 186,
   "metadata": {
    "collapsed": false
   },
   "outputs": [
    {
     "data": {
      "text/plain": [
       "3.112"
      ]
     },
     "execution_count": 186,
     "metadata": {},
     "output_type": "execute_result"
    }
   ],
   "source": [
    "n = 5000\n",
    "\n",
    "y = np.random.rand(n, 1)\n",
    "x = np.random.rand(n, 1)\n",
    "\n",
    "idx = np.zeros((n, 1))\n",
    "count = 0.\n",
    "\n",
    "for i in range(n):\n",
    "    if np.sqrt(x[i]**2 + y[i]**2) < 1:\n",
    "        count = count + 1\n",
    "        idx[i] = -1\n",
    "    else:\n",
    "        idx[i] = 1\n",
    "(count/n)*4"
   ]
  },
  {
   "cell_type": "code",
   "execution_count": 196,
   "metadata": {
    "collapsed": false
   },
   "outputs": [
    {
     "data": {
      "image/png": "[encoded data removed]",
      "text/plain": [
       "<matplotlib.figure.Figure at 0x58759e48>"
      ]
     },
     "metadata": {},
     "output_type": "display_data"
    }
   ],
   "source": [
    "plt.plot(x[idx == 1], y[idx == 1], 'b.')\n",
    "plt.plot(x[idx == -1], y[idx == -1], 'r.')\n",
    "plt.axis('equal')\n",
    "plt.show()"
   ]
  }
 ],
 "metadata": {
  "kernelspec": {
   "display_name": "Python 2",
   "language": "python",
   "name": "python2"
  },
  "language_info": {
   "codemirror_mode": {
    "name": "ipython",
    "version": 2
   },
   "file_extension": ".py",
   "mimetype": "text/x-python",
   "name": "python",
   "nbconvert_exporter": "python",
   "pygments_lexer": "ipython2",
   "version": "2.7.11"
  }
 },
 "nbformat": 4,
 "nbformat_minor": 0
}
