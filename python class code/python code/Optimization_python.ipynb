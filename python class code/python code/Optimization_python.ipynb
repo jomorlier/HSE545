{
 "cells": [
  {
   "cell_type": "code",
   "execution_count": 1,
   "metadata": {
    "collapsed": true
   },
   "outputs": [],
   "source": [
    "import numpy as np\n",
    "import matplotlib.pyplot as plt\n",
    "from numpy import linalg as LA\n",
    "import cvxpy as cvx\n",
    "import warnings"
   ]
  },
  {
   "cell_type": "code",
   "execution_count": 91,
   "metadata": {
    "collapsed": false
   },
   "outputs": [
    {
     "name": "stdout",
     "output_type": "stream",
     "text": [
      "     pcost       dcost       gap    pres   dres   k/t\n",
      " 0: -1.6900e+01 -1.6900e+01  6e+00  4e-01  8e-17  1e+00\n",
      " 1: -1.1396e+01 -1.0772e+01  1e+01  4e-01  5e-16  2e+00\n",
      " 2: -7.5435e+00 -7.1838e+00  2e+00  6e-02  5e-16  5e-01\n",
      " 3: -7.0058e+00 -7.0019e+00  2e-02  6e-04  2e-16  5e-03\n",
      " 4: -7.0001e+00 -7.0000e+00  2e-04  6e-06  1e-16  5e-05\n",
      " 5: -7.0000e+00 -7.0000e+00  2e-06  6e-08  9e-17  5e-07\n",
      "Optimal solution found.\n",
      "[ 2.00e+00]\n",
      "[ 5.00e+00]\n",
      "\n"
     ]
    }
   ],
   "source": [
    "# LP example1\n",
    "\n",
    "from cvxopt import matrix, solvers\n",
    "\n",
    "A = matrix([ [2.0, 1.0, -1.0, 0.0], [1.0, 2.0, 0.0 ,-1.0] ] )\n",
    "b = matrix([ 29.0, 25.0, -2.0, -5.0 ])\n",
    "f = matrix([ -1.0, -1.0 ])\n",
    "\n",
    "sol = solvers.lp(f,A,b)\n",
    "\n",
    "print(sol['x'])"
   ]
  },
  {
   "cell_type": "code",
   "execution_count": 124,
   "metadata": {
    "collapsed": false
   },
   "outputs": [
    {
     "name": "stdout",
     "output_type": "stream",
     "text": [
      "[[ 11.]\n",
      " [  7.]]\n",
      "17.9999999986\n"
     ]
    }
   ],
   "source": [
    "# LP example2\n",
    "\n",
    "f = np.array([[1, 1]])\n",
    "A = np.array([[2, 1], [1, 2]])\n",
    "b = np.array([[29], [25]])\n",
    "lb = np.array([[2], [5]])\n",
    "\n",
    "\n",
    "\n",
    "x = cvx.Variable(2,1)\n",
    "\n",
    "objective = cvx.Maximize(f*x)\n",
    "constraints = [A*x <= b, lb <= x]\n",
    "prob = cvx.Problem(objective, constraints)\n",
    "result = prob.solve()\n",
    "\n",
    "print (x.value)\n",
    "print (result)"
   ]
  },
  {
   "cell_type": "code",
   "execution_count": 137,
   "metadata": {
    "collapsed": false,
    "scrolled": true
   },
   "outputs": [
    {
     "name": "stdout",
     "output_type": "stream",
     "text": [
      "[[  1.33066240e-08]\n",
      " [  5.00000000e+00]]\n",
      "20.0000000257\n"
     ]
    }
   ],
   "source": [
    "f = np.array([[3], [4]])\n",
    "H = np.array([[1, 0], [0, 0]])\n",
    "A = np.array([[-1, -3], [2, 5], [3, 4]])\n",
    "b = np.array([[-15], [100], [80]])\n",
    "LB = np.array([[0], [0]])\n",
    "\n",
    "x = cvx.Variable(2, 1)\n",
    "objective = cvx.Minimize((1/2)*x.T*H*x + f.T*x)\n",
    "constraints = [A*x <= b, x >= LB]\n",
    "prob = cvx.Problem(objective, constraints)\n",
    "prob.solve()\n",
    "\n",
    "\n",
    "print(x.value)\n",
    "print(prob.solve())"
   ]
  },
  {
   "cell_type": "code",
   "execution_count": 141,
   "metadata": {
    "collapsed": false,
    "scrolled": true
   },
   "outputs": [
    {
     "name": "stdout",
     "output_type": "stream",
     "text": [
      "[[  2.18959599e-09]\n",
      " [  5.00000000e+00]]\n",
      "20.0000000046\n"
     ]
    }
   ],
   "source": [
    "\n",
    "f = np.array([[3], [4]])\n",
    "H = np.array([[1, 0], [0, 0]])\n",
    "A = np.array([[-1, -3], [2, 5], [3, 4]])\n",
    "b = np.array([[-15], [100], [80]])\n",
    "LB = np.array([[0], [0]])\n",
    "\n",
    "x = cvx.Variable(2)\n",
    "objective = cvx.Minimize(cvx.quad_form(x, H) + f.T*x)\n",
    "constraints = [A*x <= b, x >= LB]\n",
    "prob = cvx.Problem(objective, constraints)\n",
    "result = prob.solve()\n",
    "\n",
    "print(x.value)\n",
    "print(result)"
   ]
  },
  {
   "cell_type": "markdown",
   "metadata": {},
   "source": [
    "Another example"
   ]
  },
  {
   "cell_type": "code",
   "execution_count": 150,
   "metadata": {
    "collapsed": false
   },
   "outputs": [
    {
     "name": "stdout",
     "output_type": "stream",
     "text": [
      "[[ 1.99999999]\n",
      " [ 2.99999999]]\n",
      "-10.4999999664\n"
     ]
    }
   ],
   "source": [
    "x = cvx.Variable(2,1)\n",
    "\n",
    "objective = cvx.Minimize(-3*x[0] - (1.5)*x[1])\n",
    "constraints = [-1 <= x[0], 0 <= x[1], x[0] <= 2, x[1] <= 3]\n",
    "prob = cvx.Problem(objective, constraints)\n",
    "result = prob.solve()\n",
    "\n",
    "print(x.value)\n",
    "print(prob.solve())"
   ]
  },
  {
   "cell_type": "code",
   "execution_count": 163,
   "metadata": {
    "collapsed": false,
    "scrolled": true
   },
   "outputs": [
    {
     "data": {
      "image/png": "[encoded data removed]",
      "text/plain": [
       "<matplotlib.figure.Figure at 0x7d93da0>"
      ]
     },
     "metadata": {},
     "output_type": "display_data"
    }
   ],
   "source": [
    "%matplotlib inline\n",
    "x = np.array([[0.1, 0.4, 0.7, 1.2, 1.3, 1.7, 2.2, 2.8, 3.0, 4.0, 4.3, 4.4, 4.9]]).transpose()\n",
    "y = np.array([[0.5, 0.9, 1.1, 1.5, 1.5, 2.0, 2.2, 2.8, 2.7, 3.0, 3.5, 3.7, 3.9]]).transpose()\n",
    "\n",
    "\n",
    "m = y.shape[0]\n",
    "A = np.concatenate((x,np.ones((m,1))),1)\n",
    "\n",
    "\n",
    "theta = cvx.Variable(A.shape[1])\n",
    "objective = cvx.Minimize(cvx.norm2(A*theta - y))\n",
    "constraints = []\n",
    "prob = cvx.Problem(objective, constraints)\n",
    "result = prob.solve()\n",
    "\n",
    "\n",
    "\n",
    "\n",
    "xp = np.linspace(0, 5, 500)\n",
    "yp = theta[0].value*xp + theta[1].value\n",
    "\n",
    "plt.plot(x, y, 'ko')\n",
    "plt.plot(xp, yp, 'r-', linewidth = 2)\n",
    "plt.axis('equal')\n",
    "plt.show()"
   ]
  },
  {
   "cell_type": "markdown",
   "metadata": {},
   "source": [
    "Best location at a concert"
   ]
  },
  {
   "cell_type": "code",
   "execution_count": 5,
   "metadata": {
    "collapsed": false
   },
   "outputs": [
    {
     "name": "stdout",
     "output_type": "stream",
     "text": [
      "[[ 1.5]\n",
      " [ 1.5]]\n",
      "4.49999997512\n"
     ]
    }
   ],
   "source": [
    "H = np.array([[2, 0], [0, 2]])\n",
    "f = -np.array([[6], [6]])\n",
    "A = np.array([[1, 1]])\n",
    "b = 3\n",
    "LB = np.array([[0], [0]])\n",
    "\n",
    "x = cvx.Variable(2)\n",
    "objective = cvx.Minimize(0.5*cvx.quad_form(x,H) + f.T*x + 18)\n",
    "constraints = [A*x <= b, x >= LB]\n",
    "prob = cvx.Problem(objective, constraints)\n",
    "result = prob.solve()\n",
    "\n",
    "print(x.value)\n",
    "print(result)"
   ]
  },
  {
   "cell_type": "code",
   "execution_count": 173,
   "metadata": {
    "collapsed": false
   },
   "outputs": [
    {
     "name": "stdout",
     "output_type": "stream",
     "text": [
      "(4.9999999941297375, matrix([[  2.66674886e+00],\n",
      "        [  5.87099733e-12]]))\n"
     ]
    }
   ],
   "source": [
    "pt1 = np.array([[0], [2]])\n",
    "pt2 = np.array([[4], [1]])\n",
    "mu = 1\n",
    "\n",
    "x = cvx.Variable(2)\n",
    "\n",
    "\n",
    "objective = cvx.Minimize(cvx.norm2(x - pt1) + mu*cvx.norm2(x - pt2))\n",
    "constraints = [x[1] == 0]\n",
    "prob = cvx.Problem(objective, constraints)\n",
    "result = prob.solve()\n",
    "x.value\n",
    "print(result , x.value)"
   ]
  },
  {
   "cell_type": "code",
   "execution_count": 175,
   "metadata": {
    "collapsed": false
   },
   "outputs": [
    {
     "name": "stdout",
     "output_type": "stream",
     "text": [
      "(matrix([[ -1.58674964e-16],\n",
      "        [  1.00000001e+00]]), 5.99999996302301)\n"
     ]
    }
   ],
   "source": [
    "A = np.array([[np.sqrt(3)], [0]])\n",
    "B = np.array([[-np.sqrt(3)], [0]])\n",
    "C = np.array([[0], [3]])\n",
    "\n",
    "x = cvx.Variable(2)\n",
    "objective = cvx.Minimize(cvx.norm(x-A, 2) + cvx.norm(x-B, 2) + cvx.norm(x-C, 2))\n",
    "constraints = []\n",
    "prob = cvx.Problem(objective, constraints)\n",
    "result = prob.solve()\n",
    "\n",
    "print(x.value, result)\n"
   ]
  },
  {
   "cell_type": "code",
   "execution_count": null,
   "metadata": {
    "collapsed": true
   },
   "outputs": [],
   "source": []
  }
 ],
 "metadata": {
  "kernelspec": {
   "display_name": "Python 3",
   "language": "python3",
   "name": "python3"
  },
  "language_info": {
   "codemirror_mode": {
    "name": "ipython",
    "version": 3
   },
   "file_extension": ".py",
   "mimetype": "text/x-python",
   "name": "python",
   "nbconvert_exporter": "python",
   "pygments_lexer": "ipython3",
   "version": "3.4.4"
  }
 },
 "nbformat": 4,
 "nbformat_minor": 0
}
