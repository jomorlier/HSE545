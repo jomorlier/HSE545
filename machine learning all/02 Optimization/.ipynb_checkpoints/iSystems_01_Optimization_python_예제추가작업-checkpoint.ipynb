{
 "cells": [
  {
   "cell_type": "code",
   "execution_count": 3,
   "metadata": {
    "collapsed": true
   },
   "outputs": [],
   "source": [
    "import numpy as np\n",
    "import matplotlib.pyplot as plt\n",
    "from numpy import linalg as LA\n",
    "import cvxpy as cvx\n",
    "import warnings\n",
    "from cvxopt import matrix, solvers"
   ]
  },
  {
   "cell_type": "markdown",
   "metadata": {
    "slideshow": {
     "slide_type": "slide"
    }
   },
   "source": [
    "<font size=\"6\"><b>OPTIMIZATION</b></font>\n",
    "\n",
    "Table of Contents\n",
    "<div id=\"toc\"></div>"
   ]
  },
  {
   "cell_type": "markdown",
   "metadata": {
    "slideshow": {
     "slide_type": "slide"
    }
   },
   "source": [
    "---\n",
    "# 1. OPTIMIZATION\n",
    "\n",
    "- an important tool in 1) engineering problem solving and 2) decision science\n",
    "- peolple optimize\n",
    "- nature optimizes"
   ]
  },
  {
   "cell_type": "markdown",
   "metadata": {
    "slideshow": {
     "slide_type": "subslide"
    }
   },
   "source": [
    "<img src=\"./image_files/lifeguard.png\", width =400 >\n"
   ]
  },
  {
   "cell_type": "markdown",
   "metadata": {},
   "source": [
    "<a>\n",
    "<img src=\"./image_files/light.jpg\", width=400, align=left>\n",
    "<img src=\"./image_files/ant.jpg\", width = 360, align=right>\n",
    "</a>"
   ]
  },
  {
   "cell_type": "markdown",
   "metadata": {
    "slideshow": {
     "slide_type": "subslide"
    }
   },
   "source": [
    "<br>\n",
    "(source: http://nautil.us/blog/to-save-drowning-people-ask-yourself-what-would-light-do)\n",
    "<br>"
   ]
  },
  {
   "cell_type": "markdown",
   "metadata": {
    "slideshow": {
     "slide_type": "slide"
    }
   },
   "source": [
    "__3 key components__\n",
    "1. objective\n",
    "2. decision variable or unknown\n",
    "3. constraints\n",
    "\n",
    "__Procedures__\n",
    "1. The process of identifying objective, variables, and constraints for a given problem is known as \"modeling\"\n",
    "2. Once the model has been formulated, optimization algorithm can be used to find its solutions."
   ]
  },
  {
   "cell_type": "markdown",
   "metadata": {
    "slideshow": {
     "slide_type": "subslide"
    }
   },
   "source": [
    "In mathematical expression\n",
    "\n",
    "$$\\begin{align*}\n",
    "\\min_{x} \\quad &f(x) \\\\\n",
    "\\text{subject to} \\quad &g_i(x) \\leq 0, \\qquad i=1,\\cdots,m\n",
    "\\end{align*}\n",
    "$$\n",
    "\n",
    "Remarks) equivalent\n",
    "\n",
    "$$\\begin{align*}\n",
    "\\min_{x}  f(x) \\quad&\\leftrightarrow \\quad \\max_{x} -f(x)\\\\\n",
    "\\quad g_i(x) \\leq 0\\quad&\\leftrightarrow \\quad -g_i(x) \\geq 0\\\\\n",
    "h(x) = 0 \\quad&\\leftrightarrow \\quad \n",
    "\\begin{cases}\n",
    "  h(x) \\leq 0 \\quad \\text{and} \\\\\n",
    "  h(x) \\geq 0 \n",
    "\\end{cases}\n",
    "\\end{align*}\n",
    "$$\n",
    "\n",
    "<br>\n",
    "The good news: for many classes of optimization problems, people have already done all the \"hardwork\" of developing numerical algorithms \n",
    "\n",
    "- A wide range of tools that can take optimization problems in \"natural\" forms and compute a solution \n",
    "\n",
    "- Some well-known libraries: CVX and YALMIP\n",
    "\n",
    "- CVX is a Matlab-based modeling system for convex optimization\n",
    "\n",
    "- Download and install \n",
    "    - http://cvxr.com/cvx/    \n",
    "    - http://cvxr.com/news/2014/02/cvx-demo-video/ (watch a demo)\n",
    "\n",
    "- Convex optimization    \n",
    "    - http://stanford.edu/~boyd/cvxbook/\n",
    "    - [Lecture 1 | Convex Optimization I (Stanford)](https://www.youtube.com/watch?v=McLq1hEq3UY)"
   ]
  },
  {
   "cell_type": "markdown",
   "metadata": {
    "slideshow": {
     "slide_type": "slide"
    }
   },
   "source": [
    "---\n",
    "# 2. LINEAR PROGRAMMING (Convex)\n",
    "\n",
    "__Objective function and Constraints are both linear__\n",
    "\n",
    "$$\n",
    "\\begin{align*} \\max \\; & \\; 3x_1 + \\frac{3}{2}x_2 \\quad \\quad \\leftarrow \\text{objective function}\\\\ \\\\\n",
    "\\text{subject to} \\; &  -1 \\leq x_1 \\leq 2 \\quad \\leftarrow \\text{constraints}\\\\\n",
    "& \\quad 0 \\leq x_2 \\leq 3 \n",
    "\\end{align*}\n",
    "$$"
   ]
  },
  {
   "cell_type": "markdown",
   "metadata": {
    "slideshow": {
     "slide_type": "subslide"
    }
   },
   "source": [
    "Method 1: **graphical approach**\n",
    "\n",
    "$$\n",
    "3 x_1 + 1.5 x_2 = C \\qquad \\Rightarrow \\qquad x_2 = -2 x_1 + \\frac{2}{3}C\n",
    "$$\n",
    "\n",
    "<br>\n",
    "<img src=\"./image_files/LP.jpg\", width = 300> \n",
    "<br>"
   ]
  },
  {
   "cell_type": "markdown",
   "metadata": {
    "slideshow": {
     "slide_type": "subslide"
    }
   },
   "source": [
    "Method 2: **CVX Matlab-based solver**\n",
    "<br>"
   ]
  },
  {
   "cell_type": "markdown",
   "metadata": {
    "slideshow": {
     "slide_type": "slide"
    }
   },
   "source": [
    "## LP Example\n",
    "\n",
    "$$\n",
    "\\begin{array}{Icr}\\begin{align*}\n",
    "\\max_{x} \\quad & x_1 + x_2 \\\\\n",
    "\\text{subject to} \\quad\n",
    "& 2x_1 + x_2 \\leq 29 \\\\\n",
    "& x_1 + 2x_2 \\leq 25 \\\\\n",
    "& x_1 \\geq 2 \\\\\n",
    "& x_2 \\geq 5\n",
    "\\end{align*}\\end{array}\n",
    "\\quad\\implies\\quad\n",
    "\\begin{array}{I}\n",
    "\\quad \\min_{x} \\quad & - \\begin{bmatrix} 1 & 1 \\end{bmatrix} \\begin{bmatrix} x_1 \\\\ x_2 \\end{bmatrix} \\\\\n",
    "\\text{subject to} \\quad\n",
    "& \\begin{bmatrix} 2 & 1 \\\\ 1 & 2 \\end{bmatrix} \\begin{bmatrix} x_1 \\\\ x_2 \\end{bmatrix} \\leq \\begin{bmatrix} 29 \\\\ 25 \\end{bmatrix} \\\\\n",
    "& \\begin{bmatrix} 2 \\\\ 5 \\end{bmatrix} \\leq \\begin{bmatrix} x_1 \\\\ x_2 \\end{bmatrix} \\leq \\begin{bmatrix}  \\\\ \\\\ \\end{bmatrix}\n",
    "\\end{array}\n",
    "$$"
   ]
  },
  {
   "cell_type": "markdown",
   "metadata": {
    "slideshow": {
     "slide_type": "subslide"
    }
   },
   "source": [
    "### CVX code    \n",
    "- Many examples will be provided throughout the class\n",
    "- below example\n",
    "    - http://cvxr.com/cvx/examples/ $\\rightarrow$ Miscellaneous examples\n",
    "    - http://inst.eecs.berkeley.edu/~ee127a/book/login/exa_lp_drug_manuf.html"
   ]
  },
  {
   "cell_type": "code",
   "execution_count": 13,
   "metadata": {
    "collapsed": false,
    "slideshow": {
     "slide_type": "subslide"
    }
   },
   "outputs": [
    {
     "data": {
      "text/plain": [
       "The optimal variable is\r\n",
       "   11.0000\r\n",
       "    7.0000\r\n",
       "\r\n",
       "The ojective value is\r\n",
       "   18.0000"
      ]
     },
     "execution_count": 13,
     "metadata": {},
     "output_type": "execute_result"
    }
   ],
   "source": [
    "# LP example2\n",
    "\n",
    "f = np.array([[1, 1]])\n",
    "A = np.array([[2, 1], [1, 2]])\n",
    "b = np.array([[29], [25]])\n",
    "lb = np.array([[2], [5]])\n",
    "\n",
    "\n",
    "\n",
    "x = cvx.Variable(2,1)\n",
    "\n",
    "objective = cvx.Maximize(f*x)\n",
    "constraints = [A*x <= b, lb <= x]\n",
    "prob = cvx.Problem(objective, constraints)\n",
    "result = prob.solve()\n",
    "\n",
    "print (x.value)\n",
    "print (result)"
   ]
  },
  {
   "cell_type": "markdown",
   "metadata": {
    "slideshow": {
     "slide_type": "slide"
    }
   },
   "source": [
    "---\n",
    "# 3. QUADRATIC PROGRAMMING (Convex)"
   ]
  },
  {
   "cell_type": "markdown",
   "metadata": {
    "slideshow": {
     "slide_type": "skip"
    }
   },
   "source": [
    "The problem can be found at <http://courses.csail.mit.edu/6.867/wiki/images/e/ef/Qp-quadprog.pdf>"
   ]
  },
  {
   "cell_type": "markdown",
   "metadata": {
    "slideshow": {
     "slide_type": "slide"
    }
   },
   "source": [
    "$$\n",
    "\\begin{array}{Icr}\\begin{align*}\n",
    "\\min \\quad &\\frac{1}{2}x^2+3x+4y  \\\\\n",
    "\\text{subject to} \\quad \n",
    "& x+3y \\geq  15 \\\\\n",
    "& 2x+5y \\leq  100 \\\\\n",
    "& 3x+4y \\leq  80 \\\\\n",
    "& x,y \\geq  0 \\\\\n",
    "\\end{align*}\\end{array}\n",
    "\\quad\\implies\\quad\n",
    "\\begin{array}{I}\n",
    "\\min_{x} \\quad & \\frac{1}{2}x^THx + f^Tx \\\\\n",
    "\\text{subject to} \\quad\n",
    "& Ax \\leq b \\\\\n",
    "& A_{eq}x = b_{eq} \\\\\n",
    "& LB \\leq x \\leq UB\n",
    "\\end{array}\n",
    "$$"
   ]
  },
  {
   "cell_type": "markdown",
   "metadata": {
    "slideshow": {
     "slide_type": "subslide"
    }
   },
   "source": [
    "## CVX code\n",
    "\n",
    "<http://inst.eecs.berkeley.edu/~ee127a/book/login/l_lqp_standard.html>"
   ]
  },
  {
   "cell_type": "code",
   "execution_count": 4,
   "metadata": {
    "collapsed": false
   },
   "outputs": [
    {
     "name": "stdout",
     "output_type": "stream",
     "text": [
      "[[  7.37787558e-10]\n",
      " [  5.00000000e+00]]\n",
      "20.00000000034897\n"
     ]
    }
   ],
   "source": [
    "\n",
    "f = np.array([[3], [4]])\n",
    "H = np.array([[1, 0], [0, 0]])\n",
    "A = np.array([[-1, -3], [2, 5], [3, 4]])\n",
    "b = np.array([[-15], [100], [80]])\n",
    "LB = np.array([[0], [0]])\n",
    "\n",
    "x = cvx.Variable(2)\n",
    "objective = cvx.Minimize(cvx.quad_form(x, H) + f.T*x)\n",
    "constraints = [A*x <= b, x >= LB]\n",
    "prob = cvx.Problem(objective, constraints)\n",
    "result = prob.solve()\n",
    "\n",
    "print(x.value)\n",
    "print(result)"
   ]
  },
  {
   "cell_type": "code",
   "execution_count": 5,
   "metadata": {
    "collapsed": false,
    "slideshow": {
     "slide_type": "subslide"
    }
   },
   "outputs": [
    {
     "name": "stdout",
     "output_type": "stream",
     "text": [
      "[[ 1.99999999]\n",
      " [ 2.99999999]]\n",
      "-10.499999966365493\n"
     ]
    }
   ],
   "source": [
    "x = cvx.Variable(2,1)\n",
    "\n",
    "objective = cvx.Minimize(-3*x[0] - (1.5)*x[1])\n",
    "constraints = [-1 <= x[0], 0 <= x[1], x[0] <= 2, x[1] <= 3]\n",
    "prob = cvx.Problem(objective, constraints)\n",
    "result = prob.solve()\n",
    "\n",
    "print(x.value)\n",
    "print(prob.solve())"
   ]
  },
  {
   "cell_type": "markdown",
   "metadata": {
    "slideshow": {
     "slide_type": "skip"
    }
   },
   "source": [
    "**Another example**"
   ]
  },
  {
   "cell_type": "code",
   "execution_count": 6,
   "metadata": {
    "collapsed": false,
    "slideshow": {
     "slide_type": "skip"
    }
   },
   "outputs": [
    {
     "data": {
      "text/plain": [
       "x =\r\n",
       "\r\n",
       "    2.0000\r\n",
       "    3.0000\r\n",
       "\r\n",
       "\r\n",
       "cvx_optval =\r\n",
       "\r\n",
       "  -10.5000\r\n",
       "\r\n",
       "\r\n",
       "cvx_cputime =\r\n",
       "\r\n",
       "    0.1560\r\n",
       "\r\n",
       "\r\n",
       "cvx_status =\r\n",
       "\r\n",
       "Solved"
      ]
     },
     "execution_count": 6,
     "metadata": {},
     "output_type": "execute_result"
    }
   ],
   "source": [
    "cvx_begin quiet\n",
    "    variable x(2)\n",
    "    minimize -3*x(1) - 3/2*x(2)\n",
    "    subject to\n",
    "        -1 <= x(1) <= 2\n",
    "        0 <= x(2) <= 3\n",
    "cvx_end\n",
    "\n",
    "x\n",
    "cvx_optval\n",
    "cvx_cputime  \n",
    "cvx_status   "
   ]
  },
  {
   "cell_type": "markdown",
   "metadata": {
    "slideshow": {
     "slide_type": "skip"
    }
   },
   "source": [
    "---\n",
    "# 4. LEAST-SQUARES\n",
    "The problem can be found at Computational Methods for Data Analysis, Chap 17"
   ]
  },
  {
   "cell_type": "markdown",
   "metadata": {
    "slideshow": {
     "slide_type": "skip"
    }
   },
   "source": [
    "## MATLAB code"
   ]
  },
  {
   "cell_type": "code",
   "execution_count": 6,
   "metadata": {
    "collapsed": false,
    "slideshow": {
     "slide_type": "skip"
    }
   },
   "outputs": [
    {
     "data": {
      "image/png": "[encoded data removed]",
      "text/plain": [
       "<matplotlib.figure.Figure at 0x7fb8bba54c88>"
      ]
     },
     "metadata": {},
     "output_type": "display_data"
    }
   ],
   "source": [
    "%matplotlib inline\n",
    "x = np.array([[0.1, 0.4, 0.7, 1.2, 1.3, 1.7, 2.2, 2.8, 3.0, 4.0, 4.3, 4.4, 4.9]]).transpose()\n",
    "y = np.array([[0.5, 0.9, 1.1, 1.5, 1.5, 2.0, 2.2, 2.8, 2.7, 3.0, 3.5, 3.7, 3.9]]).transpose()\n",
    "\n",
    "\n",
    "m = y.shape[0]\n",
    "A = np.concatenate((x,np.ones((m,1))),1)\n",
    "\n",
    "\n",
    "theta = cvx.Variable(A.shape[1])\n",
    "objective = cvx.Minimize(cvx.norm2(A*theta - y))\n",
    "constraints = []\n",
    "prob = cvx.Problem(objective, constraints)\n",
    "result = prob.solve()\n",
    "\n",
    "\n",
    "\n",
    "\n",
    "xp = np.linspace(0, 5, 500)\n",
    "yp = theta[0].value*xp + theta[1].value\n",
    "\n",
    "plt.plot(x, y, 'ko')\n",
    "plt.plot(xp, yp, 'r-', linewidth = 2)\n",
    "plt.axis('equal')\n",
    "plt.show()"
   ]
  },
  {
   "cell_type": "markdown",
   "metadata": {
    "slideshow": {
     "slide_type": "slide"
    }
   },
   "source": [
    "---\n",
    "# 5. INTEGER PROGRAMMING (non-convex)\n",
    "\n",
    "- some or all of the variables are restricted to be integers. In many settings the term refers to integer linear programming (ILP), in which the objective function and the constraints (other than the integer constraints) are linear."
   ]
  },
  {
   "cell_type": "markdown",
   "metadata": {
    "slideshow": {
     "slide_type": "slide"
    }
   },
   "source": [
    "## 5.1. Mixed Integer Linear Programming (MILP)\n",
    "\n",
    "\n",
    "A mixed-integer linear program is a problem with\n",
    "\n",
    "- Linear objective function, $f^T x$, where $f$ is a column vector of constants, and $x$ is the column vector of unknowns\n",
    "- Bounds and linear constraints, but no nonlinear constraints \n",
    "- Restrictions on some components of $x$ to have integer values"
   ]
  },
  {
   "cell_type": "markdown",
   "metadata": {
    "slideshow": {
     "slide_type": "subslide"
    }
   },
   "source": [
    "Matlab command: `intlinprog` (available from MATLAB R2014b)\n",
    "\n",
    "```\n",
    ">> help intlinprog\n",
    "\n",
    "INTLINPROG Mixed integer linear programming.\n",
    " \n",
    "    X = INTLINPROG(f,intcon,A,b) attempts to solve problems of the form\n",
    " \n",
    "             min f'*x    subject to:  A*x  <= b\n",
    "              x                       Aeq*x = beq\n",
    "                                      lb <= x <= ub\n",
    "                                      x(i) integer, where i is in the index\n",
    "                                      vector intcon (integer constraints)\n",
    "\n",
    "\n",
    "```\n",
    "\n",
    "- Integer programming is not a part of convex optimzation problem. $\\rightarrow$ we cannot use cvx."
   ]
  },
  {
   "cell_type": "markdown",
   "metadata": {
    "slideshow": {
     "slide_type": "subslide"
    }
   },
   "source": [
    "### MATLAB code\n",
    "** MILP Example 1**\n",
    "\n",
    "$$\\begin{align*}\n",
    "\\min_{x} \\quad\n",
    "& \\begin{bmatrix} -3 & -1 \\end{bmatrix} \\begin{bmatrix} x_1 \\\\ x_2 \\end{bmatrix} \\\\\n",
    "\\text{subject to} \\quad\n",
    "& \\begin{bmatrix} 17 & 11 \\end{bmatrix} \\begin{bmatrix} x_1 \\\\ x_2 \\end{bmatrix} \\leq 83 \\\\\n",
    "& \\begin{bmatrix} 0 \\\\ 0 \\end{bmatrix} \\leq\n",
    "\\begin{bmatrix} x_1 \\\\ x_2 \\end{bmatrix} \\leq\n",
    "\\begin{bmatrix} 3 \\\\ 7 \\end{bmatrix} \\\\\n",
    "& x_1, x_2 \\in \\mathbb{Z} \\; \\text{(integer)}\n",
    "\\end{align*}\n",
    "$$"
   ]
  },
  {
   "cell_type": "code",
   "execution_count": 4,
   "metadata": {
    "collapsed": false,
    "slideshow": {
     "slide_type": "subslide"
    }
   },
   "outputs": [
    {
     "data": {
      "text/plain": [
       "LP:                Optimal objective value is -11.909091.                                           \r\n",
       "\r\n",
       "Cut Generation:    Applied 1 Gomory cut.                                                            \r\n",
       "                   Lower bound is -11.000000.                                                       \r\n",
       "                   Relative gap is 0.00%.                                                          \r\n",
       "\r\n",
       "\r\n",
       "Optimal solution found.\r\n",
       "\r\n",
       "Intlinprog stopped at the root node because the objective value is within a gap tolerance of the optimal value, options.TolGapAbs = 0\r\n",
       "(the default value). The intcon variables are integer within tolerance, options.TolInteger = 1e-05 (the default value).\r\n",
       "\r\n",
       "\r\n",
       "x =\r\n",
       "\r\n",
       "    3.0000\r\n",
       "    2.0000"
      ]
     },
     "execution_count": 4,
     "metadata": {},
     "output_type": "execute_result"
    }
   ],
   "source": [
    "f = [-3 -1]';\n",
    "intcon = 1:2;\n",
    "A = [17 11];\n",
    "b = 83;\n",
    "lb = [0 0]';\n",
    "ub = [3 7]';\n",
    "\n",
    "x = intlinprog(f,intcon,A,b,[],[],lb,ub)"
   ]
  },
  {
   "cell_type": "markdown",
   "metadata": {
    "slideshow": {
     "slide_type": "subslide"
    }
   },
   "source": [
    "**MIP Example 2**\n",
    "\n",
    "$$\\begin{align*}\n",
    "\\min_{x} \\quad\n",
    "& \\begin{bmatrix} -3 & -2 & -1 \\end{bmatrix}\n",
    "\\begin{bmatrix} x_1 \\\\ x_2 \\\\ x_3 \\end{bmatrix} \\\\\n",
    "\\text{subject to} \\quad\n",
    "& \\begin{bmatrix} 1 & 1 & 1 \\end{bmatrix}\n",
    "\\begin{bmatrix} x_1 \\\\ x_2 \\\\ x_3 \\end{bmatrix} \\leq 7 \\\\\n",
    "& \\begin{bmatrix} 4 & 2 & 1 \\end{bmatrix}\n",
    "\\begin{bmatrix} x_1 \\\\ x_2 \\\\ x_3 \\end{bmatrix} = 12 \\\\\n",
    "& 0 \\leq \\begin{bmatrix} x_1 \\\\ x_2 \\\\ x_3 \\end{bmatrix} \\\\\n",
    "& x_3 \\in \\{0,1\\}\n",
    "\\end{align*}\n",
    "$$"
   ]
  },
  {
   "cell_type": "code",
   "execution_count": 16,
   "metadata": {
    "collapsed": false,
    "slideshow": {
     "slide_type": "subslide"
    }
   },
   "outputs": [
    {
     "data": {
      "text/plain": [
       "LP:                Optimal objective value is -12.000000.                                           \r\n",
       "\r\n",
       "\r\n",
       "Optimal solution found.\r\n",
       "\r\n",
       "Intlinprog stopped at the root node because the objective value is within a gap tolerance of the optimal value, options.TolGapAbs = 0\r\n",
       "(the default value). The intcon variables are integer within tolerance, options.TolInteger = 1e-05 (the default value).\r\n",
       "\r\n",
       "\r\n",
       "x =\r\n",
       "\r\n",
       "         0\r\n",
       "    5.5000\r\n",
       "    1.0000"
      ]
     },
     "execution_count": 16,
     "metadata": {},
     "output_type": "execute_result"
    }
   ],
   "source": [
    "f = [-3; -2; -1];\n",
    "intcon = 3;\n",
    "A = [1, 1, 1];\n",
    "b = 7;\n",
    "Aeq = [4,2,1];\n",
    "beq = 12;\n",
    "lb = zeros(3,1);\n",
    "ub = [Inf;Inf;1];\n",
    "\n",
    "x = intlinprog(f,intcon,A,b,Aeq,beq,lb,ub)"
   ]
  },
  {
   "cell_type": "markdown",
   "metadata": {
    "slideshow": {
     "slide_type": "subslide"
    }
   },
   "source": [
    "### Integer programming using cvx\n",
    "- Integer programming is not a part of convex optimzation problem."
   ]
  },
  {
   "cell_type": "markdown",
   "metadata": {
    "slideshow": {
     "slide_type": "slide"
    }
   },
   "source": [
    "## 5.2. Binary Integer Programming\n",
    "\n",
    "each variable can only take on the value of 0 or 1. This may represent the selection or rejection of an option, the turning on or off of switches, a yes/no answer, or many other situations."
   ]
  },
  {
   "cell_type": "markdown",
   "metadata": {
    "slideshow": {
     "slide_type": "subslide"
    }
   },
   "source": [
    "$$ \\begin{align*}\n",
    "\\min \\quad & x_1 + x_2 + x_3 + x_4 + x_5 + x_6 \\\\\n",
    "\\\\\n",
    "\\text{subject to} \\quad\n",
    "& x_1 + x_2 \\geq 1 \\\\\n",
    "& x_1 + x_2 + x_6\\ \\geq 1 \\\\\n",
    "& x_3 + x_4 \\geq 1 \\\\\n",
    "& x_3 + x_4 + x_5 \\geq 1 \\\\\n",
    "& x_4 + x_5 + x_6 \\geq 1 \\\\\n",
    "& x_5 + x_6 \\geq 1 \\\\\n",
    "& x_1 \\ x_2 \\ x_3 \\ x_4 \\ x_5 \\ x_6 \\in \\{0, 1\\} \\\\\n",
    "\\end{align*}$$\n"
   ]
  },
  {
   "cell_type": "markdown",
   "metadata": {
    "slideshow": {
     "slide_type": "subslide"
    }
   },
   "source": [
    "### MATLAB code"
   ]
  },
  {
   "cell_type": "code",
   "execution_count": 5,
   "metadata": {
    "collapsed": false,
    "slideshow": {
     "slide_type": "fragment"
    }
   },
   "outputs": [
    {
     "data": {
      "text/plain": [
       "LP:                Optimal objective value is 2.000000.                                             \r\n",
       "\r\n",
       "\r\n",
       "Optimal solution found.\r\n",
       "\r\n",
       "Intlinprog stopped at the root node because the objective value is within a gap tolerance of the optimal value, options.TolGapAbs = 0 (the default value).\r\n",
       "The intcon variables are integer within tolerance, options.TolInteger = 1e-05 (the default value).\r\n",
       "\r\n",
       "\r\n",
       "x =\r\n",
       "\r\n",
       "     0\r\n",
       "     1\r\n",
       "     0\r\n",
       "     1\r\n",
       "     0\r\n",
       "     0\r\n",
       "\r\n",
       "\r\n",
       "fVal =\r\n",
       "\r\n",
       "     2"
      ]
     },
     "execution_count": 5,
     "metadata": {},
     "output_type": "execute_result"
    }
   ],
   "source": [
    "% intligprog for Mixed Integer Linear Programming (MILP) available from Matlab 2014\n",
    "\n",
    "f = ones(6,1);\n",
    "A = ...\n",
    "   -[1 1 0 0 0 0;\n",
    "     1 1 0 0 0 1;\n",
    "     0 0 1 1 0 0;\n",
    "     0 0 1 1 1 0;\n",
    "     0 0 0 1 1 1;\n",
    "     0 1 0 0 1 1];\n",
    "b = -ones(6,1);\n",
    "\n",
    "intcon = 1:6;\n",
    "lb = zeros(6,1);\n",
    "ub = ones(6,1);\n",
    "[x, fVal] = intlinprog(f,intcon,A,b,[],[],lb,ub)"
   ]
  },
  {
   "cell_type": "markdown",
   "metadata": {
    "slideshow": {
     "slide_type": "subslide"
    }
   },
   "source": [
    "### Integer programming using cvx\n",
    "- Integer programming is not a part of convex optimzation problem."
   ]
  },
  {
   "cell_type": "markdown",
   "metadata": {
    "slideshow": {
     "slide_type": "slide"
    }
   },
   "source": [
    "# 6. General or Standard Forms\n",
    "\n",
    "1. Linear programming\n",
    "$$\\begin{align*}\n",
    "\\min_{x} \\quad & f^Tx \\\\\n",
    "\\text{subject to} \\quad \n",
    "& Ax \\leq b\\\\\n",
    "& A_{eq}x = b_{eq}\\\\\n",
    "& LB \\leq x \\leq UB\n",
    "\\end{align*}\n",
    "$$\n",
    "\n",
    "2. Integer programming\n",
    "$$\\begin{align*}\n",
    "\\min_{x} \\quad & f^Tx \\\\\n",
    "\\text{subject to} \\quad\n",
    "& Ax \\leq b\\\\\n",
    "& A_{eq}x = b_{eq}\\\\\n",
    "& LB \\leq x \\leq UB\\\\\n",
    "& x \\in \\mathbb{Z} \\;\\text{(integer)}\n",
    "\\end{align*}\n",
    "$$\n",
    "\n",
    "3. Mixed integer linear programming\n",
    "$$\\begin{align*}\n",
    "\\min_{x,z} \\quad & f^T\n",
    "\\begin{bmatrix} x \\\\ z \\end{bmatrix} \\\\\n",
    "\\text{subject to} \\quad\n",
    "& A \\begin{bmatrix} x \\\\ z \\end{bmatrix} \\leq b \\\\\n",
    "& A_{eq} \\begin{bmatrix} x \\\\ z \\end{bmatrix} = b_{eq}\\\\\n",
    "& LB \\leq \\begin{bmatrix} x \\\\ z \\end{bmatrix} \\leq UB \\\\\n",
    "& x \\in \\mathbb{R} \\;\\text{(real)} \\\\\n",
    "& z \\in \\mathbb{Z}\n",
    "\\end{align*}\n",
    "$$\n",
    "\n",
    "4. Binary integer programming\n",
    "$$\\begin{align*}\n",
    "\\min_{x} \\quad & f^Tx \\\\\n",
    "\\text{subject to} \\quad\n",
    "& Ax \\leq b \\\\\n",
    "& A_{eq}x = b_{eq} \\\\\n",
    "& LB \\leq x \\leq UB \\\\\n",
    "& x \\in \\{0,1\\} \n",
    "\\end{align*}\n",
    "$$\n",
    "\n",
    "5. Quadratic programming\n",
    "$$\\begin{align*}\n",
    "\\min_{x} \\quad & \\frac{1}{2}x^THx + f^Tx \\\\\n",
    "\\text{subject to} \\quad\n",
    "& Ax \\leq b \\\\\n",
    "& A_{eq}x = b_{eq} \\\\\n",
    "& LB \\leq x \\leq UB\n",
    "\\end{align*}\n",
    "$$\n",
    "\n",
    "\n"
   ]
  },
  {
   "cell_type": "markdown",
   "metadata": {},
   "source": [
    "# 7. Gradient Descent"
   ]
  },
  {
   "cell_type": "markdown",
   "metadata": {},
   "source": [
    "Goal : Find $\\omega^{*}$ that minimizes\n",
    "\n",
    "$$f(\\omega) = \\lVert X\\omega - y \\rVert ^2_2$$\n",
    "\n",
    "- Closed form solution exists\n",
    "- Gradient Descent is iterative (Intuition: go downhill !)\n",
    "\n",
    "<br>\n",
    "<img src = \"./image_files/gradient01.png\" width = 350>\n",
    "<br>\n",
    "\n",
    "$$\\text{Scalar objective:}\\;\\; f(\\omega) = \\lVert \\omega x - y \\rVert^2_2 = \\sum_{j=1}^{n}\\left( \\omega x^{(j)} - y^{(j)} \\right)^2$$"
   ]
  },
  {
   "cell_type": "code",
   "execution_count": 1,
   "metadata": {
    "collapsed": false
   },
   "outputs": [
    {
     "data": {
      "text/html": [
       "<iframe src=\"./image_files/gradient.pdf#view=FitH\", width=700, height = 400\" frameborder=\"0\"></iframe>"
      ],
      "text/plain": [
       "<IPython.core.display.HTML object>"
      ]
     },
     "metadata": {},
     "output_type": "display_data"
    }
   ],
   "source": [
    "%%html\n",
    "<iframe src=\"./image_files/gradient.pdf#view=FitH\", width=700, height = 400\" frameborder=\"0\"></iframe>"
   ]
  },
  {
   "cell_type": "markdown",
   "metadata": {},
   "source": [
    "## Example \n",
    "\n",
    "\n",
    "$$\n",
    "\\begin{align*}\n",
    "\\min& \\quad (x_1-3)^{2} + (x_2-3)^{2}\\\\\n",
    "=\\min& \\quad \\frac{1}{2} \\begin{bmatrix} x_1 & x_2 \\end{bmatrix}\n",
    "\\begin{bmatrix} 2 & 0 \\\\ 0 & 2 \\end{bmatrix}\n",
    "\\begin{bmatrix} x_1 \\\\ x_2 \\end{bmatrix} - \n",
    "\\begin{bmatrix} 6 & 6 \\end{bmatrix}\n",
    "\\begin{bmatrix} x_1 \\\\ x_2 \\end{bmatrix} + 18\n",
    "\\end{align*}\n",
    "$$\n",
    "\n",
    "- update rule\n",
    "\n",
    "$$ \\omega_{i+1} = \\omega_{i} - \\alpha_i \\nabla f(\\omega_i)$$"
   ]
  },
  {
   "cell_type": "code",
   "execution_count": 38,
   "metadata": {
    "collapsed": false
   },
   "outputs": [
    {
     "data": {
      "text/plain": [
       "x =\r\n",
       "\r\n",
       "    3.0000\r\n",
       "    3.0000"
      ]
     },
     "execution_count": 38,
     "metadata": {},
     "output_type": "execute_result"
    }
   ],
   "source": [
    "% use gradient descent for quadratic \n",
    "\n",
    "H = [2 0;\n",
    "    0 2];\n",
    "f = -[6 6]';\n",
    "\n",
    "x = zeros(2,1);\n",
    "alpha = 0.2;\n",
    "\n",
    "for i = 1:25    \n",
    "    g = H*x + f;    \n",
    "    x = x - alpha*g;\n",
    "end\n",
    "\n",
    "x"
   ]
  },
  {
   "cell_type": "code",
   "execution_count": 1,
   "metadata": {
    "collapsed": false,
    "slideshow": {
     "slide_type": "skip"
    }
   },
   "outputs": [
    {
     "data": {
      "application/javascript": [
       "$.getScript('https://kmahelona.github.io/ipython_notebook_goodies/ipython_notebook_toc.js')"
      ],
      "text/plain": [
       "<IPython.core.display.Javascript object>"
      ]
     },
     "metadata": {},
     "output_type": "display_data"
    }
   ],
   "source": [
    "%%javascript\n",
    "$.getScript('https://kmahelona.github.io/ipython_notebook_goodies/ipython_notebook_toc.js')"
   ]
  }
 ],
 "metadata": {
  "kernelspec": {
   "display_name": "Python 3",
   "language": "python",
   "name": "python3"
  },
  "language_info": {
   "codemirror_mode": {
    "name": "ipython",
    "version": 3
   },
   "file_extension": ".py",
   "mimetype": "text/x-python",
   "name": "python",
   "nbconvert_exporter": "python",
   "pygments_lexer": "ipython3",
   "version": "3.4.3"
  }
 },
 "nbformat": 4,
 "nbformat_minor": 0
}
