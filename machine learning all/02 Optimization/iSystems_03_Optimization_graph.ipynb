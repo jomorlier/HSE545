{
 "cells": [
  {
   "cell_type": "markdown",
   "metadata": {
    "slideshow": {
     "slide_type": "slide"
    }
   },
   "source": [
    "<br><br>\n",
    "<font size='6'><b>Graph</b></font><br><br>\n",
    "\n",
    "<table style=\"border-style: hidden; border-collapse: collapse;\" width = \"80%\"> \n",
    "    <tr style=\"border-style: hidden; border-collapse: collapse;\">\n",
    "        <td width = 60% style=\"border-style: hidden; border-collapse: collapse;\">\n",
    "\n",
    "        </td>\n",
    "        <td width = 20%>\n",
    "        by Seungchul Lee<br>iSystems Design Lab<br>http://isystems.unist.ac.kr/<br>UNIST\n",
    "        </td>\n",
    "    </tr>\n",
    "</table>\n",
    "\n",
    "Table of Contents\n",
    "<div id=\"toc\"></div>"
   ]
  },
  {
   "cell_type": "markdown",
   "metadata": {
    "slideshow": {
     "slide_type": "slide"
    }
   },
   "source": [
    "# 1. Graph Theory\n",
    "\n",
    "<br>\n",
    "<table style=\"border-style: hidden; border-collapse: collapse;\" width = \"80%\"> \n",
    "    <tr>\n",
    "        <td width = 400 style=\"border-style: hidden; border-collapse: collapse;\">\n",
    "            <img src = \"./image_files/Konigsberg_bridges.png\" width = 300>\n",
    "        </td>\n",
    "        <td width = 400>\n",
    "            <img src = \"./image_files/BarbasiBridges.jpg\" width = 300>\n",
    "\n",
    "        </td>\n",
    "    </tr>\n",
    "</table>\n",
    "\n",
    "\n",
    "- abstract relations, topology, or connectivity\n",
    "- Graphs G(V,E)\n",
    "    - V: a set of vertices (nodes)\n",
    "    - E: a set of edges (links, relations)\n",
    "    - weight (edge property)\n",
    "        - distance in a road network\n",
    "        - strength of connection in a personal network   \n",
    "    \n",
    "- Graphs can be directed or undirected\n",
    "- Graphs model any situation where you have objects and pairwise relationships (symmetric or asymmetric) between the objects\n",
    "\n",
    "|Vertex|Edge||\n",
    "|------|----|------|\n",
    "|People|like each other |undirected|\n",
    "|People|is the boss of |directed|\n",
    "|Tasks|cannot be processed at the same time |undirected|\n",
    "|Computers|have a direct network connection|undirected|\n",
    "|Airports|planes flies between them|directed|\n",
    "|City|can travel between them|directed|\n"
   ]
  },
  {
   "cell_type": "markdown",
   "metadata": {
    "slideshow": {
     "slide_type": "slide"
    }
   },
   "source": [
    "## 1.1. Adjacent matrix\n",
    "\n",
    "\n",
    "- __Undirected graph__ $G = (V,E)$\n",
    "\n",
    "<table style=\"border-style: hidden; border-collapse: collapse;\" width = \"85%\"> \n",
    "    <tr style=\"border-style: hidden; border-collapse: collapse;\">\n",
    "        <td width = 450 style=\"border-style: hidden; border-collapse: collapse;\">\n",
    "            $$ \\begin{align*}V &= \\{1,2,\\cdots,7\\} \\\\ \n",
    "            E &= \\{\\{1,2\\},\\{1,6\\},\\{2,3\\},\\{3,4\\},\\{3,6\\},\\{3,7\\},\\{4,7\\},\\{5,6\\} \\}\\end{align*}$$\n",
    "        </td>\n",
    "        <td width = 350 style=\"border-style: hidden; border-collapse: collapse;\">\n",
    "            <img src = \"./image_files/undirected.png\" width = 250>\n",
    "        </td>\n",
    "        \n",
    "    </tr>    \n",
    "</table>\n",
    "\n",
    "<table>\n",
    "    <tr>\n",
    "        <td width = 300>\n",
    "            $$\\text{Adjacency list}$$\n",
    "        </td>\n",
    "        <td width = 300>\n",
    "            $$\\text{Adjacency matrix (symmetric)}$$\n",
    "        </td>\n",
    "    </tr>\n",
    "    <tr>\n",
    "        <td>\n",
    "            $$\\begin{align*}\\text{adj}(1) &= \\{2,6\\}\\\\ \n",
    "                 \\text{adj}(2) &= \\{1,3\\}\\\\\n",
    "                 \\text{adj}(3) &= \\{2,4,6,7\\}\\\\\n",
    "                 \\text{adj}(4) &= \\{3,7\\}\\\\\n",
    "                 \\text{adj}(5) &= \\{6\\}\\\\\n",
    "                 \\text{adj}(6) &= \\{1,3,5\\}\\\\\n",
    "                 \\text{adj}(7) &= \\{3,4\\}\n",
    "               \\end{align*}$$\n",
    "        </td>\n",
    "        <td>\n",
    "            $$\\begin{bmatrix}\n",
    "                0&1&0&0&0&1&0\\\\\n",
    "                1&0&1&0&0&0&0\\\\\n",
    "                0&1&0&1&0&1&1\\\\\n",
    "                0&0&1&0&0&0&1\\\\\n",
    "                0&0&0&0&0&1&0\\\\\n",
    "                1&0&1&0&1&0&0\\\\\n",
    "                0&0&1&1&0&0&0\\\\\n",
    "            \\end{bmatrix}$$\n",
    "        </td>\n",
    "    </tr>\n",
    "</table>    "
   ]
  },
  {
   "cell_type": "markdown",
   "metadata": {
    "slideshow": {
     "slide_type": "subslide"
    }
   },
   "source": [
    "- __Directed graph__ $G = (V,E)$\n",
    "\n",
    "<table style=\"border-style: hidden; border-collapse: collapse;\" width = \"85%\"> \n",
    "    <tr style=\"border-style: hidden; border-collapse: collapse;\">\n",
    "        <td width = 450 style=\"border-style: hidden; border-collapse: collapse;\">\n",
    "            $$ \\begin{align*}V &= \\{1,2,\\cdots,7\\} \\\\ \n",
    "            E &= \\{\\{1,2\\},\\{1,6\\},\\{2,3\\},\\{3,4\\},\\{3,6\\},\\{3,7\\},\\{4,7\\},\\{5,6\\} \\}\\end{align*}$$\n",
    "        </td>\n",
    "        <td width = 350 style=\"border-style: hidden; border-collapse: collapse;\">\n",
    "            <img src=\"./image_files/directed.png\", width = 250> \n",
    "        </td>\n",
    "        \n",
    "    </tr>    \n",
    "</table>\n",
    "\n",
    "\n",
    "\n",
    "<table>\n",
    "    <tr>\n",
    "        <td width = 300>\n",
    "            $$\\text{Adjacency list}$$\n",
    "        </td>\n",
    "        <td width = 300>\n",
    "            $$\\text{Adjacency matrix (asymmetric)}$$\n",
    "        </td>\n",
    "    </tr>\n",
    "    <tr>\n",
    "        <td>\n",
    "            $$\n",
    "                \\begin{align*}\n",
    "                \\text{adj}(1) &= \\{2,6\\}\\\\\n",
    "                \\text{adj}(2) &= \\{3\\}\\\\\n",
    "                \\text{adj}(3) &= \\{4,7\\}\\\\\n",
    "                \\text{adj}(4) &= \\{7\\}\\\\\n",
    "                \\text{adj}(5) &= \\phi\\\\\n",
    "                \\text{adj}(6) &= \\{3,5\\}\\\\\n",
    "                \\text{adj}(7) &= \\phi\n",
    "                \\end{align*}\n",
    "            $$\n",
    "        </td>\n",
    "        <td>\n",
    "            $$\n",
    "            \\begin{bmatrix}\n",
    "                0&1&0&0&0&1&0\\\\\n",
    "                0&0&1&0&0&0&0\\\\\n",
    "                0&0&0&1&0&0&1\\\\\n",
    "                0&0&0&0&0&0&1\\\\\n",
    "                0&0&0&0&0&0&0\\\\\n",
    "                0&0&1&0&1&0&0\\\\\n",
    "                0&0&0&0&0&0&0\\\\\n",
    "            \\end{bmatrix}\n",
    "            $$\n",
    "        </td>\n",
    "    </tr>\n",
    "</table>    \n",
    "\n",
    "\n"
   ]
  },
  {
   "cell_type": "markdown",
   "metadata": {
    "slideshow": {
     "slide_type": "slide"
    }
   },
   "source": [
    "## 1.2. Problems in graph\n",
    "\n",
    "__Graph search problem__\n",
    "\n",
    "- Given: a graph $G=(V,E)$ (directed or undirected) and a start node $s \\in V$\n",
    "- Find: a set of nodes $\\tilde{V} \\in V$ that are reachable from node $s$ (_i.e._, there exist a path from $s$)\n",
    "    - Breadth-first search\n",
    "    - Depth-first search\n",
    "    "
   ]
  },
  {
   "cell_type": "markdown",
   "metadata": {
    "slideshow": {
     "slide_type": "fragment"
    }
   },
   "source": [
    "__Path finding problem__\n",
    "\n",
    "- Given: a graph $G=(V,E)$ (directed or undirected) and a start node $s \\in V$\n",
    "- Find: path $p$ from $s$ to each node $\\upsilon \\in V$"
   ]
  },
  {
   "cell_type": "markdown",
   "metadata": {
    "slideshow": {
     "slide_type": "fragment"
    }
   },
   "source": [
    "__Shortest path problem__\n",
    "\n",
    "- Given: a graph $G=(V,E)$ (directed or undirected) with edge weights $c_{uv} \\in \\mathbb{R}$ and a start node $s \\in V$\n",
    "- Find: shortest path length $\\delta(s,\\upsilon)$ from $s$ to node $\\upsilon \\in V$\n",
    " $$\\delta(s,\\upsilon) =\\min_{p\\in P_{s\\upsilon}} c(p)$$\n",
    " where $P_{s\\upsilon} = \\{ s \\mapsto \\upsilon \\}$ ia s set of paths from $s$ to $\\upsilon$, and $c(p)$ is length (cost) of path $p$\n",
    "\n",
    "- Dynamic programming, Dijkstra's algorithm, Bellman-Ford algorithm, A* algorithm"
   ]
  },
  {
   "cell_type": "markdown",
   "metadata": {
    "slideshow": {
     "slide_type": "slide"
    }
   },
   "source": [
    "# 2. Create Graph with Python and NetworkX \n",
    "\n",
    "- python 2.XX\n",
    "    - another programming language\n",
    "    - https://www.python.org/\n",
    "    - [download and install](https://www.continuum.io/downloads)\n",
    "\n",
    "\n",
    "- ipython\n",
    "    - The [IPython Notebook](http://ipython.org/notebook.html) \n",
    "    - an interactive computational environment \n",
    "\n",
    "\n",
    "- NetworkX\n",
    "    - Python software package for graph and networks\n",
    "    - https://networkx.github.io/\n",
    "    - [downlaod](https://networkx.github.io/documentation/latest/install.html)"
   ]
  },
  {
   "cell_type": "markdown",
   "metadata": {
    "slideshow": {
     "slide_type": "slide"
    }
   },
   "source": [
    "## 2.1. Undirected graphs"
   ]
  },
  {
   "cell_type": "code",
   "execution_count": 54,
   "metadata": {
    "collapsed": true,
    "slideshow": {
     "slide_type": "fragment"
    }
   },
   "outputs": [],
   "source": [
    "import networkx as nx\n",
    "import matplotlib.pyplot as plt\n",
    "\n",
    "%matplotlib inline"
   ]
  },
  {
   "cell_type": "code",
   "execution_count": 55,
   "metadata": {
    "collapsed": true,
    "slideshow": {
     "slide_type": "fragment"
    }
   },
   "outputs": [],
   "source": [
    "g = nx.Graph()\n",
    "g.add_edge('a','b',weight = 0.1)\n",
    "g.add_edge('b','c',weight = 1.5)\n",
    "g.add_edge('a','c',weight = 1.0)\n",
    "g.add_edge('c','d',weight = 2.2)"
   ]
  },
  {
   "cell_type": "code",
   "execution_count": 56,
   "metadata": {
    "collapsed": false,
    "slideshow": {
     "slide_type": "fragment"
    }
   },
   "outputs": [
    {
     "data": {
      "image/png": "[encoded data removed]",
      "text/plain": [
       "<matplotlib.figure.Figure at 0x1cb609e8>"
      ]
     },
     "metadata": {},
     "output_type": "display_data"
    }
   ],
   "source": [
    "# draw a graph with nodes and edges\n",
    "nx.draw(g)\n",
    "plt.show()"
   ]
  },
  {
   "cell_type": "code",
   "execution_count": 57,
   "metadata": {
    "collapsed": false,
    "slideshow": {
     "slide_type": "subslide"
    }
   },
   "outputs": [
    {
     "data": {
      "image/png": "[encoded data removed]",
      "text/plain": [
       "<matplotlib.figure.Figure at 0x1aa60e48>"
      ]
     },
     "metadata": {},
     "output_type": "display_data"
    }
   ],
   "source": [
    "# draw a graph with nodes' labels \n",
    "\n",
    "pos = nx.spring_layout(g)\n",
    "\n",
    "nx.draw_networkx_nodes(g,pos,node_size = 500) # nodes\n",
    "nx.draw_networkx_edges(g,pos) # edges\n",
    "nx.draw_networkx_labels(g,pos,font_size = 15,font_family = 'sans-serif') # labels\n",
    "\n",
    "plt.axis('off')\n",
    "plt.show()"
   ]
  },
  {
   "cell_type": "code",
   "execution_count": 58,
   "metadata": {
    "collapsed": false,
    "slideshow": {
     "slide_type": "subslide"
    }
   },
   "outputs": [
    {
     "data": {
      "image/png": "[encoded data removed]",
      "text/plain": [
       "<matplotlib.figure.Figure at 0x1beaa470>"
      ]
     },
     "metadata": {},
     "output_type": "display_data"
    }
   ],
   "source": [
    "# draw a graph with nodes' labels and edges' weights\n",
    "\n",
    "pos = nx.spring_layout(g)\n",
    "\n",
    "nx.draw_networkx_nodes(g,pos,node_size = 500) # nodes\n",
    "nx.draw_networkx_edges(g,pos) # edges\n",
    "nx.draw_networkx_labels(g,pos,font_size = 15,font_family = 'sans-serif') # labels\n",
    "\n",
    "labels = nx.get_edge_attributes(g,'weight')\n",
    "nx.draw_networkx_edge_labels(g,pos,edge_labels=labels)\n",
    "\n",
    "plt.axis('off')\n",
    "plt.show()"
   ]
  },
  {
   "cell_type": "code",
   "execution_count": 59,
   "metadata": {
    "collapsed": false,
    "slideshow": {
     "slide_type": "subslide"
    }
   },
   "outputs": [
    {
     "data": {
      "image/png": "[encoded data removed]",
      "text/plain": [
       "<matplotlib.figure.Figure at 0x1cb41908>"
      ]
     },
     "metadata": {},
     "output_type": "display_data"
    }
   ],
   "source": [
    "g = nx.Graph()\n",
    "\n",
    "g.add_node(1)\n",
    "g.add_node(2)\n",
    "g.add_node(3)\n",
    "\n",
    "g.add_edge(1,2)\n",
    "g[1][2]['weight'] = 1\n",
    "g.add_edge(1,3,weight=3)\n",
    "\n",
    "pos = pos = nx.spring_layout(g)\n",
    "\n",
    "nx.draw(g,pos)\n",
    "nx.draw_networkx_labels(g,pos,font_size = 15,font_family = 'sans-serif')\n",
    "labels = nx.get_edge_attributes(g,'weight')\n",
    "nx.draw_networkx_edge_labels(g,pos,edge_labels=labels)\n",
    "\n",
    "plt.show()"
   ]
  },
  {
   "cell_type": "code",
   "execution_count": 60,
   "metadata": {
    "collapsed": false,
    "slideshow": {
     "slide_type": "subslide"
    }
   },
   "outputs": [
    {
     "data": {
      "image/png": "[encoded data removed]",
      "text/plain": [
       "<matplotlib.figure.Figure at 0x1c27d320>"
      ]
     },
     "metadata": {},
     "output_type": "display_data"
    }
   ],
   "source": [
    "g = nx.Graph()\n",
    "\n",
    "g.add_nodes_from([1,2,3])  # a list of nodes\n",
    "g.add_edges_from([(1,2),(1,3),(2,3)])  # a list of edges\n",
    "\n",
    "nx.draw(g)\n",
    "plt.show()"
   ]
  },
  {
   "cell_type": "code",
   "execution_count": 61,
   "metadata": {
    "collapsed": false,
    "slideshow": {
     "slide_type": "subslide"
    }
   },
   "outputs": [
    {
     "data": {
      "image/png": "[encoded data removed]",
      "text/plain": [
       "<matplotlib.figure.Figure at 0x1ae1d630>"
      ]
     },
     "metadata": {},
     "output_type": "display_data"
    }
   ],
   "source": [
    "g = nx.Graph()\n",
    "\n",
    "g.add_nodes_from([1,2,3])  # a list of nodes\n",
    "g.add_weighted_edges_from([(1,2,1.2),(1,3,2.1),(2,3,2.5)])\n",
    "\n",
    "pos = nx.spring_layout(g)\n",
    "\n",
    "nx.draw_networkx_nodes(g,pos,node_size = 500) # nodes\n",
    "nx.draw_networkx_edges(g,pos) # edges\n",
    "nx.draw_networkx_labels(g,pos,font_size = 15,font_family = 'sans-serif') # labels\n",
    "\n",
    "labels = nx.get_edge_attributes(g,'weight')\n",
    "nx.draw_networkx_edge_labels(g,pos,edge_labels=labels)\n",
    "\n",
    "plt.axis('off')\n",
    "plt.show()"
   ]
  },
  {
   "cell_type": "markdown",
   "metadata": {
    "slideshow": {
     "slide_type": "slide"
    }
   },
   "source": [
    "## Useful functions in graph"
   ]
  },
  {
   "cell_type": "code",
   "execution_count": 62,
   "metadata": {
    "collapsed": false,
    "slideshow": {
     "slide_type": "fragment"
    }
   },
   "outputs": [
    {
     "data": {
      "image/png": "[encoded data removed]",
      "text/plain": [
       "<matplotlib.figure.Figure at 0x1aa21438>"
      ]
     },
     "metadata": {},
     "output_type": "display_data"
    }
   ],
   "source": [
    "g = nx.Graph()\n",
    "\n",
    "g.add_nodes_from([1,2,3])  # a list of nodes\n",
    "g.add_weighted_edges_from([(1,2,1.2),(1,3,2.1),(2,3,2.5)])\n",
    "\n",
    "pos = nx.spring_layout(g)\n",
    "\n",
    "nx.draw_networkx_nodes(g,pos,node_size = 500) # nodes\n",
    "nx.draw_networkx_edges(g,pos) # edges\n",
    "nx.draw_networkx_labels(g,pos,font_size = 15,font_family = 'sans-serif') # labels\n",
    "\n",
    "labels = nx.get_edge_attributes(g,'weight')\n",
    "nx.draw_networkx_edge_labels(g,pos,edge_labels=labels)\n",
    "\n",
    "plt.axis('off')\n",
    "plt.show()"
   ]
  },
  {
   "cell_type": "code",
   "execution_count": 63,
   "metadata": {
    "collapsed": false,
    "slideshow": {
     "slide_type": "fragment"
    }
   },
   "outputs": [
    {
     "name": "stdout",
     "output_type": "stream",
     "text": [
      "3\n",
      "3\n"
     ]
    }
   ],
   "source": [
    "print nx.number_of_nodes(g)\n",
    "print nx.number_of_edges(g)"
   ]
  },
  {
   "cell_type": "code",
   "execution_count": 64,
   "metadata": {
    "collapsed": false,
    "slideshow": {
     "slide_type": "fragment"
    }
   },
   "outputs": [
    {
     "data": {
      "text/plain": [
       "[1, 2, 3]"
      ]
     },
     "execution_count": 64,
     "metadata": {},
     "output_type": "execute_result"
    }
   ],
   "source": [
    "g.nodes()"
   ]
  },
  {
   "cell_type": "code",
   "execution_count": 65,
   "metadata": {
    "collapsed": false,
    "slideshow": {
     "slide_type": "fragment"
    }
   },
   "outputs": [
    {
     "data": {
      "text/plain": [
       "[(1, 2), (1, 3), (2, 3)]"
      ]
     },
     "execution_count": 65,
     "metadata": {},
     "output_type": "execute_result"
    }
   ],
   "source": [
    "g.edges()"
   ]
  },
  {
   "cell_type": "code",
   "execution_count": 66,
   "metadata": {
    "collapsed": false,
    "slideshow": {
     "slide_type": "fragment"
    }
   },
   "outputs": [
    {
     "data": {
      "text/plain": [
       "[2, 3]"
      ]
     },
     "execution_count": 66,
     "metadata": {},
     "output_type": "execute_result"
    }
   ],
   "source": [
    "g.neighbors(1)"
   ]
  },
  {
   "cell_type": "code",
   "execution_count": 67,
   "metadata": {
    "collapsed": false,
    "slideshow": {
     "slide_type": "fragment"
    }
   },
   "outputs": [
    {
     "name": "stdout",
     "output_type": "stream",
     "text": [
      "  (0, 1)\t1.2\n",
      "  (0, 2)\t2.1\n",
      "  (1, 0)\t1.2\n",
      "  (1, 2)\t2.5\n",
      "  (2, 0)\t2.1\n",
      "  (2, 1)\t2.5\n",
      "[[ 0.   1.2  2.1]\n",
      " [ 1.2  0.   2.5]\n",
      " [ 2.1  2.5  0. ]]\n"
     ]
    }
   ],
   "source": [
    "A = nx.adjacency_matrix(g)\n",
    "print A\n",
    "print A.todense()"
   ]
  },
  {
   "cell_type": "markdown",
   "metadata": {
    "slideshow": {
     "slide_type": "slide"
    }
   },
   "source": [
    "## 2.2. Directed Graphs"
   ]
  },
  {
   "cell_type": "code",
   "execution_count": 68,
   "metadata": {
    "collapsed": false,
    "slideshow": {
     "slide_type": "fragment"
    }
   },
   "outputs": [
    {
     "data": {
      "image/png": "[encoded data removed]",
      "text/plain": [
       "<matplotlib.figure.Figure at 0x1ca28358>"
      ]
     },
     "metadata": {},
     "output_type": "display_data"
    }
   ],
   "source": [
    "import networkx as nx\n",
    "import matplotlib.pyplot as plt\n",
    "\n",
    "# construct a graph first\n",
    "dg = nx.DiGraph()\n",
    "dg.add_nodes_from([0,1,2,3,4])\n",
    "dg.add_weighted_edges_from([(0,1,1),(0,2,4),(1,2,2),(1,4,11),(2,3,4),(2,4,8),(3,4,3)])\n",
    "\n",
    "# plot a graph \n",
    "pos = nx.spring_layout(dg)\n",
    "\n",
    "nx.draw(dg,pos,node_size = 500)\n",
    "nx.draw_networkx_labels(dg,pos,font_size = 10)\n",
    "labels = nx.get_edge_attributes(dg,'weight')\n",
    "nx.draw_networkx_edge_labels(dg,pos,edge_labels=labels)\n",
    "plt.show()"
   ]
  },
  {
   "cell_type": "code",
   "execution_count": 69,
   "metadata": {
    "collapsed": false,
    "slideshow": {
     "slide_type": "fragment"
    }
   },
   "outputs": [
    {
     "data": {
      "text/plain": [
       "[1, 2]"
      ]
     },
     "execution_count": 69,
     "metadata": {},
     "output_type": "execute_result"
    }
   ],
   "source": [
    "dg.successors(0)"
   ]
  },
  {
   "cell_type": "code",
   "execution_count": 70,
   "metadata": {
    "collapsed": false,
    "slideshow": {
     "slide_type": "fragment"
    }
   },
   "outputs": [
    {
     "data": {
      "text/plain": [
       "[1, 2, 3]"
      ]
     },
     "execution_count": 70,
     "metadata": {},
     "output_type": "execute_result"
    }
   ],
   "source": [
    "dg.predecessors(4)"
   ]
  },
  {
   "cell_type": "code",
   "execution_count": 71,
   "metadata": {
    "collapsed": false,
    "slideshow": {
     "slide_type": "fragment"
    }
   },
   "outputs": [
    {
     "data": {
      "text/plain": [
       "matrix([[ 0,  1,  4,  0,  0],\n",
       "        [ 0,  0,  2,  0, 11],\n",
       "        [ 0,  0,  0,  4,  8],\n",
       "        [ 0,  0,  0,  0,  3],\n",
       "        [ 0,  0,  0,  0,  0]])"
      ]
     },
     "execution_count": 71,
     "metadata": {},
     "output_type": "execute_result"
    }
   ],
   "source": [
    "A = nx.adjacency_matrix(dg)\n",
    "A.todense()"
   ]
  },
  {
   "cell_type": "markdown",
   "metadata": {
    "slideshow": {
     "slide_type": "slide"
    }
   },
   "source": [
    "# 3. Alorithms in Graph Theory"
   ]
  },
  {
   "cell_type": "code",
   "execution_count": 72,
   "metadata": {
    "collapsed": false,
    "slideshow": {
     "slide_type": "fragment"
    }
   },
   "outputs": [
    {
     "data": {
      "image/png": "[encoded data removed]",
      "text/plain": [
       "<matplotlib.figure.Figure at 0x1bed65c0>"
      ]
     },
     "metadata": {},
     "output_type": "display_data"
    }
   ],
   "source": [
    "import networkx as nx\n",
    "import matplotlib.pyplot as plt\n",
    "\n",
    "# construct a graph first\n",
    "G = nx.Graph()\n",
    "G.add_nodes_from([1,2,3,4,5,6,7,8])\n",
    "G.add_edges_from([(1,3),(1,4),(1,5),(1,6),(1,7),(2,4),(2,5),(3,8),(5,7)])\n",
    "\n",
    "# plot a graph \n",
    "pos = nx.spring_layout(G)\n",
    "\n",
    "nx.draw(G,pos,node_size = 500)\n",
    "nx.draw_networkx_labels(G,pos,font_size = 10)\n",
    "plt.show()"
   ]
  },
  {
   "cell_type": "markdown",
   "metadata": {
    "slideshow": {
     "slide_type": "slide"
    }
   },
   "source": [
    "## 3.1. Graph Search Algorithm\n",
    "### Depth first search"
   ]
  },
  {
   "cell_type": "code",
   "execution_count": 73,
   "metadata": {
    "collapsed": false,
    "slideshow": {
     "slide_type": "fragment"
    }
   },
   "outputs": [
    {
     "data": {
      "image/png": "[encoded data removed]",
      "text/plain": [
       "<matplotlib.figure.Figure at 0x1c0055c0>"
      ]
     },
     "metadata": {},
     "output_type": "display_data"
    },
    {
     "name": "stdout",
     "output_type": "stream",
     "text": [
      "{1: [4, 6], 2: [5], 3: [1], 4: [2], 5: [7], 8: [3]}\n"
     ]
    }
   ],
   "source": [
    "T = nx.dfs_tree(G,8)\n",
    "nx.draw(T,pos,node_size = 500)\n",
    "nx.draw_networkx_labels(T,pos,font_size = 10)\n",
    "plt.show()\n",
    "\n",
    "print (nx.dfs_successors(G,8))"
   ]
  },
  {
   "cell_type": "markdown",
   "metadata": {
    "slideshow": {
     "slide_type": "subslide"
    }
   },
   "source": [
    "### Breadth first search"
   ]
  },
  {
   "cell_type": "code",
   "execution_count": 74,
   "metadata": {
    "collapsed": false,
    "slideshow": {
     "slide_type": "fragment"
    }
   },
   "outputs": [
    {
     "data": {
      "image/png": "[encoded data removed]",
      "text/plain": [
       "<matplotlib.figure.Figure at 0x1c48b4e0>"
      ]
     },
     "metadata": {},
     "output_type": "display_data"
    },
    {
     "name": "stdout",
     "output_type": "stream",
     "text": [
      "{8: [3], 1: [4, 5, 6, 7], 3: [1], 4: [2]}\n"
     ]
    }
   ],
   "source": [
    "T = nx.bfs_tree(G,8)\n",
    "nx.draw(T,pos,node_size = 500)\n",
    "nx.draw_networkx_labels(T,pos,font_size = 10)\n",
    "plt.show()\n",
    "\n",
    "print (nx.bfs_successors(G,8))"
   ]
  },
  {
   "cell_type": "markdown",
   "metadata": {
    "slideshow": {
     "slide_type": "slide"
    }
   },
   "source": [
    "## 3.3. Shortest path"
   ]
  },
  {
   "cell_type": "markdown",
   "metadata": {
    "slideshow": {
     "slide_type": "fragment"
    }
   },
   "source": [
    "<img src = \"./image_files/opt_06.bmp\">"
   ]
  },
  {
   "cell_type": "code",
   "execution_count": 75,
   "metadata": {
    "collapsed": false,
    "slideshow": {
     "slide_type": "subslide"
    }
   },
   "outputs": [
    {
     "data": {
      "image/png": "[encoded data removed]",
      "text/plain": [
       "<matplotlib.figure.Figure at 0x1f04a048>"
      ]
     },
     "metadata": {},
     "output_type": "display_data"
    },
    {
     "name": "stdout",
     "output_type": "stream",
     "text": [
      "[0, 1, 2, 3, 4]\n"
     ]
    }
   ],
   "source": [
    "import networkx as nx\n",
    "import matplotlib.pyplot as plt\n",
    "\n",
    "# construct a graph first\n",
    "G = nx.Graph()\n",
    "G.add_nodes_from([0,1,2,3,4])\n",
    "G.add_weighted_edges_from([(0,1,1),(0,2,4),(1,2,2),(1,4,11),(2,3,4),(2,4,8),(3,4,3)])\n",
    "\n",
    "# plot a graph with weights displayed\n",
    "pos = nx.spring_layout(G)\n",
    "labels = nx.get_edge_attributes(G,'weight')\n",
    "\n",
    "nx.draw(G,pos,node_size = 500)\n",
    "nx.draw_networkx_labels(G,pos,font_size = 10)\n",
    "nx.draw_networkx_edge_labels(G,pos,edge_labels=labels)\n",
    "plt.show()\n",
    "\n",
    "# find the shortest path in a graph\n",
    "print nx.shortest_path(G,0,4,weight = 'weight')"
   ]
  },
  {
   "cell_type": "markdown",
   "metadata": {
    "collapsed": true,
    "slideshow": {
     "slide_type": "slide"
    }
   },
   "source": [
    "## Examples: Probablistic RoadMaps (PRM) for robot path planning\n",
    "\n",
    "- a motion planning algorithm in robotics, which solves the problem of determining a path between a starting configuration of the robot and a goal configuration while avoiding collisions.\n",
    "\n",
    "\n",
    "- The basic idea behind PRM is \n",
    "    1. to take _random samples_ from the configuration space of the robot, \n",
    "    2. testing them for whether they are in the free space, and \n",
    "    3. use a local planner to attempt to connect these configurations to other nearby configurations.\n",
    "    4. remove all colliding paths (collision-free)\n",
    "    5. The starting and goal configurations are added in, and \n",
    "    6. a _graph search algorithm_ is applied to the resulting graph to determine a path between the starting and goal configurations.\n",
    "\n",
    "\n",
    "- reference: [Probabilistic roadmaps for path planning in high-dimensional configuration spaces](http://ieeexplore.ieee.org/xpls/abs_all.jsp?arnumber=508439&tag=1)"
   ]
  },
  {
   "cell_type": "markdown",
   "metadata": {},
   "source": [
    "See <a href=\"./reference_files/PRMs_robotics.pdf\" target=\"_blank\">PRMs_robotics.pdf</a> for more information."
   ]
  },
  {
   "cell_type": "code",
   "execution_count": 2,
   "metadata": {
    "collapsed": false,
    "slideshow": {
     "slide_type": "skip"
    }
   },
   "outputs": [
    {
     "data": {
      "application/javascript": [
       "$.getScript('https://kmahelona.github.io/ipython_notebook_goodies/ipython_notebook_toc.js')"
      ],
      "text/plain": [
       "<IPython.core.display.Javascript object>"
      ]
     },
     "metadata": {},
     "output_type": "display_data"
    }
   ],
   "source": [
    "%%javascript\n",
    "$.getScript('https://kmahelona.github.io/ipython_notebook_goodies/ipython_notebook_toc.js')"
   ]
  }
 ],
 "metadata": {
  "kernelspec": {
   "display_name": "Python 2",
   "language": "python",
   "name": "python2"
  },
  "language_info": {
   "codemirror_mode": {
    "name": "ipython",
    "version": 2
   },
   "file_extension": ".py",
   "mimetype": "text/x-python",
   "name": "python",
   "nbconvert_exporter": "python",
   "pygments_lexer": "ipython2",
   "version": "2.7.11"
  }
 },
 "nbformat": 4,
 "nbformat_minor": 0
}
