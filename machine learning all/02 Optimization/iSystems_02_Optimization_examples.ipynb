{
 "cells": [
  {
   "cell_type": "markdown",
   "metadata": {
    "slideshow": {
     "slide_type": "slide"
    }
   },
   "source": [
    "<font size=\"6\"><b>Optimization Examples</b></font>\n",
    "\n",
    "Table of Contents\n",
    "<div id=\"toc\"></div>"
   ]
  },
  {
   "cell_type": "markdown",
   "metadata": {
    "slideshow": {
     "slide_type": "slide"
    }
   },
   "source": [
    "<font size=\"5\"><b>General or Standard Forms</b></font>\n",
    "1. Linear programming\n",
    "$$\\begin{align*}\n",
    "\\min_{x} \\quad & f^Tx \\\\\n",
    "\\text{subject to} \\quad \n",
    "& Ax \\leq b\\\\\n",
    "& A_{eq}x = b_{eq}\\\\\n",
    "& LB \\leq x \\leq UB\n",
    "\\end{align*}\n",
    "$$\n",
    "\n",
    "2. Integer programming\n",
    "$$\\begin{align*}\n",
    "\\min_{x} \\quad & f^Tx \\\\\n",
    "\\text{subject to} \\quad\n",
    "& Ax \\leq b\\\\\n",
    "& A_{eq}x = b_{eq}\\\\\n",
    "& LB \\leq x \\leq UB\\\\\n",
    "& x \\in \\mathbb{Z} \\;\\text{(integer)}\n",
    "\\end{align*}\n",
    "$$\n",
    "\n",
    "3. Mixed integer linear programming\n",
    "$$\\begin{align*}\n",
    "\\min_{x,z} \\quad & f^T\n",
    "\\begin{bmatrix} x \\\\ z \\end{bmatrix} \\\\\n",
    "\\text{subject to} \\quad\n",
    "& A \\begin{bmatrix} x \\\\ z \\end{bmatrix} \\leq b \\\\\n",
    "& A_{eq} \\begin{bmatrix} x \\\\ z \\end{bmatrix} = b_{eq}\\\\\n",
    "& LB \\leq \\begin{bmatrix} x \\\\ z \\end{bmatrix} \\leq UB \\\\\n",
    "& x \\in \\mathbb{R} \\;\\text{(real)} \\\\\n",
    "& z \\in \\mathbb{Z}\n",
    "\\end{align*}\n",
    "$$\n",
    "\n",
    "4. Binary integer programming\n",
    "$$\\begin{align*}\n",
    "\\min_{x} \\quad & f^Tx \\\\\n",
    "\\text{subject to} \\quad\n",
    "& Ax \\leq b \\\\\n",
    "& A_{eq}x = b_{eq} \\\\\n",
    "& LB \\leq x \\leq UB \\\\\n",
    "& x \\in \\{0,1\\} \n",
    "\\end{align*}\n",
    "$$\n",
    "\n",
    "5. Quadratic programming\n",
    "$$\\begin{align*}\n",
    "\\min_{x} \\quad & \\frac{1}{2}x^THx + f^Tx \\\\\n",
    "\\text{subject to} \\quad\n",
    "& Ax \\leq b \\\\\n",
    "& A_{eq}x = b_{eq} \\\\\n",
    "& LB \\leq x \\leq UB\n",
    "\\end{align*}\n",
    "$$"
   ]
  },
  {
   "cell_type": "markdown",
   "metadata": {
    "slideshow": {
     "slide_type": "slide"
    }
   },
   "source": [
    "---\n",
    "# 1. Mixed Integer Linear Programming (MILP)\n",
    "\n",
    "- Matlab command: `intlinprog` (available from MATLAB R2014b)"
   ]
  },
  {
   "cell_type": "markdown",
   "metadata": {
    "slideshow": {
     "slide_type": "slide"
    }
   },
   "source": [
    "## 1.1. Knapsack problems\n",
    "\n",
    "- There is a container (knapsack) of capacity C = 20. \n",
    "- Furthermore, there is a set 6 of objects. \n",
    "- Each object has a weight and a value.\n",
    "- Determine the number of each item to include in a collection so that the total size is less than or equal to 20 and the total value is as large as possible.\n",
    "\n",
    "|items|1|2|3|4|5|6\n",
    "|:-:|:-:|:-:|:-:|:-:|:-:|:-:\n",
    "|weights|10|9|4|2|1|20\n",
    "|values|175|90|20|50|10|200\n",
    "\n",
    "<br>\n",
    "Question: Can we formulate this knapsack problem into a binary integer program?"
   ]
  },
  {
   "cell_type": "markdown",
   "metadata": {
    "slideshow": {
     "slide_type": "fragment"
    }
   },
   "source": [
    "$\\Rightarrow$ decision variables $\\quad x_{i} \\in \\{0,1\\} \\quad i = 1,\\cdots,6$\n",
    "\n",
    "$$\\begin{align*}\n",
    "\\max_{x} \\quad & 175x_1 + 90x_2 + 20x_3 + 50x_4 + 10x_5 + 200x_6 \\\\\n",
    "\\text{subject to} \\quad & 10x_1 + 9x_2 + 4x_3 + 2x_4 + x_5 + 20x_6 \\leq 20 \\\\\n",
    "\\end{align*}\n",
    "$$\n",
    "\n",
    "$\\Rightarrow$ `intlinprog` in Matlab to solve"
   ]
  },
  {
   "cell_type": "code",
   "execution_count": 4,
   "metadata": {
    "collapsed": false,
    "slideshow": {
     "slide_type": "subslide"
    }
   },
   "outputs": [
    {
     "data": {
      "text/plain": [
       "LP:                Optimal objective value is -305.000000.                                          \r\n",
       "\r\n",
       "Cut Generation:    Applied 1 strong CG cut.                                                         \r\n",
       "                   Lower bound is -275.000000.                                                      \r\n",
       "                   Relative gap is 0.00%.                                                          \r\n",
       "\r\n",
       "\r\n",
       "Optimal solution found.\r\n",
       "\r\n",
       "Intlinprog stopped at the root node because the objective value is within a gap tolerance of the optimal value, options.TolGapAbs = 0\r\n",
       "(the default value). The intcon variables are integer within tolerance, options.TolInteger = 1e-05 (the default value).\r\n",
       "\r\n",
       "\r\n",
       "x =\r\n",
       "\r\n",
       "    1.0000\r\n",
       "    1.0000\r\n",
       "         0\r\n",
       "         0\r\n",
       "    1.0000\r\n",
       "         0"
      ]
     },
     "execution_count": 4,
     "metadata": {},
     "output_type": "execute_result"
    }
   ],
   "source": [
    "% given\n",
    "n = 6;  % # of items\n",
    "weights = [10 9 4 2 1 20];\n",
    "values = [175 90 20 50 10 200];\n",
    "maxWeight = 20;\n",
    "\n",
    "% in a form of MILP\n",
    "f = -values;        % max\n",
    "A = weights;\n",
    "b = maxWeight;\n",
    "intcon = 1:n;\n",
    "lb = zeros(n,1);\n",
    "ub = ones(n,1);\n",
    "\n",
    "x = intlinprog(f,intcon,A,b,[],[],lb,ub)"
   ]
  },
  {
   "cell_type": "markdown",
   "metadata": {
    "slideshow": {
     "slide_type": "slide"
    }
   },
   "source": [
    "## 1.2. Factory and warehouse\n",
    "\n",
    "- A campany wants to\n",
    "\n",
    " 1) build new factory in Ulsan, Busan, or both\n",
    " \n",
    " 2) build new warehouse (only one has to be built)\n",
    " \n",
    " 3) warehouse must be built in a city of a new factory\n",
    "\n",
    "\n",
    "- Available capital to build is 10. We want to maximize total profit.\n",
    "\n",
    "\n",
    "| | |Profit|Cost to build\n",
    "|:-:|:-|:-:|:-:\n",
    "|1|Build a factory in Ulsan|7|5\n",
    "|2|Build a factory in Busan|5|3\n",
    "|3|Build a warehouse in Ulsan|6|5\n",
    "|4|Build a warehouse in Busan|4|2\n",
    "\n",
    "\n",
    "- Form a binary integer programming to find the optimal locations of new factory and warehouse, and solve it using `intlinprog` in MATLAB.\n",
    " \n",
    " (Hint: define binary decision variables, then use them to define objective function and constraints.)"
   ]
  },
  {
   "cell_type": "code",
   "execution_count": 5,
   "metadata": {
    "collapsed": false,
    "slideshow": {
     "slide_type": "subslide"
    }
   },
   "outputs": [
    {
     "data": {
      "text/plain": [
       "LP:                Optimal objective value is -16.000000.                                           \r\n",
       "\r\n",
       "\r\n",
       "Optimal solution found.\r\n",
       "\r\n",
       "Intlinprog stopped at the root node because the objective value is within a gap tolerance of the optimal value, options.TolGapAbs = 0\r\n",
       "(the default value). The intcon variables are integer within tolerance, options.TolInteger = 1e-05 (the default value).\r\n",
       "\r\n",
       "\r\n",
       "x =\r\n",
       "\r\n",
       "    1.0000\r\n",
       "    1.0000\r\n",
       "         0\r\n",
       "    1.0000\r\n",
       "\r\n",
       "\r\n",
       "fval =\r\n",
       "\r\n",
       "   -16"
      ]
     },
     "execution_count": 5,
     "metadata": {},
     "output_type": "execute_result"
    }
   ],
   "source": [
    "f = -[7 5 6 4]';\n",
    "intcon = [1 2 3 4];\n",
    "A = [5 3 5 2;\n",
    "    -1 -1 0 0;\n",
    "    -1 0 1 0;\n",
    "    0 -1 0 1];\n",
    "b = [10;\n",
    "    -1;\n",
    "    0;\n",
    "    0];\n",
    "\n",
    "Aeq = [0 0 1 1];\n",
    "beq = [1];\n",
    "\n",
    "lb = [0 0 0 0]';\n",
    "ub = [1 1 1 1]';\n",
    "[x fval] = intlinprog(f,intcon,A,b,Aeq,beq,lb,ub)"
   ]
  },
  {
   "cell_type": "markdown",
   "metadata": {
    "slideshow": {
     "slide_type": "slide"
    }
   },
   "source": [
    "## 1.3. Shortest path\n",
    "\n",
    "\n",
    "\n",
    "- Binary integer programming can be applied to finding the shortest path in the graph.\n",
    "\n",
    "\n",
    "- Define the binary decision variables and form the binary integer programming. Then you can solve it using `intlinprog` command in MATLAB\n",
    "\n",
    "\n",
    "<img src = \"./image_files/opt_06.bmp\">"
   ]
  },
  {
   "cell_type": "code",
   "execution_count": 6,
   "metadata": {
    "collapsed": false,
    "slideshow": {
     "slide_type": "subslide"
    }
   },
   "outputs": [
    {
     "data": {
      "text/plain": [
       "LP:                Optimal objective value is 10.000000.                                            \r\n",
       "\r\n",
       "\r\n",
       "Optimal solution found.\r\n",
       "\r\n",
       "Intlinprog stopped at the root node because the objective value is within a gap tolerance of the optimal value, options.TolGapAbs = 0\r\n",
       "(the default value). The intcon variables are integer within tolerance, options.TolInteger = 1e-05 (the default value).\r\n",
       "\r\n",
       "\r\n",
       "x =\r\n",
       "\r\n",
       "     1\r\n",
       "     0\r\n",
       "     1\r\n",
       "     1\r\n",
       "     0\r\n",
       "     0\r\n",
       "     1"
      ]
     },
     "execution_count": 6,
     "metadata": {},
     "output_type": "execute_result"
    }
   ],
   "source": [
    "f = [1 4 2 4 8 11 3]';\n",
    "Aeq = [1 1 0 0 0 0 0\n",
    "    1 0 -1 0 0 -1 0\n",
    "    0 1 1 -1 -1 0 0\n",
    "    0 0 0 1 0 0 -1\n",
    "    0 0 0 0 1 1 1];\n",
    "beq = [1 0 0 0 1]';\n",
    "\n",
    "intcon = 1:7;\n",
    "lb = zeros(7,1);\n",
    "ub = ones(7,1);\n",
    "\n",
    "x = intlinprog(f,intcon,[],[],Aeq,beq,lb,ub)"
   ]
  },
  {
   "cell_type": "markdown",
   "metadata": {
    "slideshow": {
     "slide_type": "slide"
    }
   },
   "source": [
    "---\n",
    "# 2. Quadratic Programming (QP) \n"
   ]
  },
  {
   "cell_type": "markdown",
   "metadata": {
    "slideshow": {
     "slide_type": "slide"
    }
   },
   "source": [
    "## 2.1. Best location at a concert\n",
    "\n",
    "<img src=\"./image_files/concert.png\", width = 300>\n",
    "\n",
    "Question: Find the best location to listen to singer's voice"
   ]
  },
  {
   "cell_type": "markdown",
   "metadata": {
    "slideshow": {
     "slide_type": "subslide"
    }
   },
   "source": [
    "$$\\begin{align*}\n",
    "\\Rightarrow \\quad \\min \\quad\n",
    "&  \\sqrt{(x_1-3)^{2}+(x_2-3)^{2}} \\\\\n",
    "\\Rightarrow \\quad \\min \\quad\n",
    "& (x_1-3)^{2} + (x_2-3)^{2} \\\\\n",
    "\\text{subject to} \\quad\n",
    "& x_1 + x_2 \\leq 3 \\\\\n",
    "& x_1 \\geq 0 \\\\\n",
    "& x_2 \\geq 0\n",
    "\\end{align*}\n",
    "$$\n",
    "\n",
    "<br>\n",
    "$$\\begin{align*}\n",
    "\\Rightarrow \\quad & x_1^{2} - 6x_1 + 9 + x_2^{2} - 6x_2 + 9 \\\\\n",
    "& = x_1^{2} + x_2^{2} - 6 x_1 - 6x_2 + 18 \\\\\n",
    "& = \\frac{1}{2} \\begin{bmatrix} x_1 & x_2 \\end{bmatrix}\n",
    "\\begin{bmatrix} 2 & 0 \\\\ 0 & 2 \\end{bmatrix}\n",
    "\\begin{bmatrix} x_1 \\\\ x_2 \\end{bmatrix} - \n",
    "\\begin{bmatrix} 6 & 6 \\end{bmatrix}\n",
    "\\begin{bmatrix} x_1 \\\\ x_2 \\end{bmatrix} + 18 \\\\\n",
    "& \\begin{bmatrix} 1 & 1 \\end{bmatrix}\n",
    "\\begin{bmatrix} x_1 \\\\ x_2 \\end{bmatrix} \\leq 3 \\\\\n",
    "& \\begin{bmatrix} 0 \\\\ 0 \\end{bmatrix} \\leq\n",
    "\\begin{bmatrix} x_1 \\\\ x_2 \\end{bmatrix} \\leq\n",
    "\\begin{bmatrix} \\\\ \\\\ \\end{bmatrix}\n",
    "\\end{align*}\n",
    "$$"
   ]
  },
  {
   "cell_type": "code",
   "execution_count": 11,
   "metadata": {
    "collapsed": false,
    "slideshow": {
     "slide_type": "subslide"
    }
   },
   "outputs": [
    {
     "data": {
      "text/plain": [
       "Minimum found that satisfies the constraints.\r\n",
       "\r\n",
       "Optimization completed because the objective function is non-decreasing in \r\n",
       "feasible directions, to within the default value of the function tolerance,\r\n",
       "and constraints are satisfied to within the default value of the constraint tolerance.\r\n",
       "\r\n",
       "\r\n",
       "\r\n",
       "\r\n",
       "x =\r\n",
       "\r\n",
       "    1.5000\r\n",
       "    1.5000"
      ]
     },
     "execution_count": 11,
     "metadata": {},
     "output_type": "execute_result"
    }
   ],
   "source": [
    "H = [2 0;\n",
    "    0 2];\n",
    "f = -[6 6]';\n",
    "A = [1 1];\n",
    "b = 3;\n",
    "lb = [0 0]';\n",
    "\n",
    "x = quadprog(H,f,A,b,[],[],lb,[])"
   ]
  },
  {
   "cell_type": "markdown",
   "metadata": {
    "slideshow": {
     "slide_type": "slide"
    }
   },
   "source": [
    "# 3. Convecx Problems (CVX)"
   ]
  },
  {
   "cell_type": "markdown",
   "metadata": {
    "slideshow": {
     "slide_type": "slide"
    }
   },
   "source": [
    "## 3.1. Shortest distance\n",
    "\n",
    "<img src = \"./image_files/river2.png\", width = 400>\n",
    "\n",
    "<br>"
   ]
  },
  {
   "cell_type": "markdown",
   "metadata": {
    "slideshow": {
     "slide_type": "fragment"
    }
   },
   "source": [
    "$$ \\min \\; d_1 + d_2 = \\min \\left\\rVert \\vec{a} - \\begin{bmatrix}x\\\\0\\end{bmatrix}\\right\\rVert_2  + \\left\\rVert \\vec{b} - \\begin{bmatrix}x\\\\0\\end{bmatrix}\\right\\rVert_2$$\n",
    "\n",
    "- $ \\vec{a} \\rightarrow \\begin{bmatrix}x\\\\0\\end{bmatrix}$: walk with an empty bucket\n",
    "- $ \\begin{bmatrix}x\\\\0\\end{bmatrix} \\rightarrow \\vec{b}$: walk with a water-filled bucket\n",
    "\n",
    "$$\\implies \\min d_1 + \\mu d_2$$\n",
    "\n",
    "- can use cvx to find $x$"
   ]
  },
  {
   "cell_type": "code",
   "execution_count": 8,
   "metadata": {
    "collapsed": false,
    "slideshow": {
     "slide_type": "subslide"
    }
   },
   "outputs": [
    {
     "data": {
      "text/plain": [
       "x =\r\n",
       "\r\n",
       "    2.6665\r\n",
       "\r\n",
       "\r\n",
       "cvx_optval =\r\n",
       "\r\n",
       "    5.0000"
      ]
     },
     "execution_count": 8,
     "metadata": {},
     "output_type": "execute_result"
    }
   ],
   "source": [
    "clear all,  clc\n",
    "\n",
    "pt1 = [0 2]';\n",
    "pt2 = [4 1]';\n",
    "mu = 1;         % can give different weight\n",
    "\n",
    "cvx_begin quiet\n",
    "    variable x\n",
    "    minimize norm([x 0]'-pt1,2) + mu*norm([x 0]'-pt2,2)\n",
    "cvx_end\n",
    "\n",
    "x\n",
    "cvx_optval"
   ]
  },
  {
   "cell_type": "markdown",
   "metadata": {
    "slideshow": {
     "slide_type": "slide"
    }
   },
   "source": [
    "## 3.2. Weber problems\n",
    "\n",
    "<img src=\"./image_files/weber.png\", width = 400>\n",
    "\n",
    "-  Find a point in the plane that minimizes the sum of the transportation costs (or distance) from this point to $n$ destination points"
   ]
  },
  {
   "cell_type": "code",
   "execution_count": 1,
   "metadata": {
    "collapsed": false
   },
   "outputs": [
    {
     "data": {
      "text/plain": [
       "x =\r\n",
       "\r\n",
       "   -0.0000\r\n",
       "    1.0000\r\n",
       "\r\n",
       "\r\n",
       "cvx_optval =\r\n",
       "\r\n",
       "    6.0000"
      ]
     },
     "execution_count": 1,
     "metadata": {},
     "output_type": "execute_result"
    }
   ],
   "source": [
    "clear all\n",
    "clc\n",
    "\n",
    "A = [sqrt(3) 0]';\n",
    "B = [-sqrt(3) 0]';\n",
    "C = [0 1+2]';\n",
    "\n",
    "cvx_begin quiet\n",
    "    variable x(2,1)\n",
    "    minimize norm(x-A,2) + norm(x-B,2) + norm(x-C,2)\n",
    "cvx_end\n",
    "x\n",
    "cvx_optval"
   ]
  },
  {
   "cell_type": "code",
   "execution_count": 2,
   "metadata": {
    "collapsed": false,
    "slideshow": {
     "slide_type": "subslide"
    }
   },
   "outputs": [
    {
     "data": {
      "image/png": "[encoded data removed]",
      "text/plain": [
       "<IPython.core.display.Image object>"
      ]
     },
     "metadata": {},
     "output_type": "display_data"
    },
    {
     "data": {},
     "execution_count": 2,
     "metadata": {},
     "output_type": "execute_result"
    }
   ],
   "source": [
    "pts = [A B C];\n",
    "plot(pts(1,:),pts(2,:),'o'), hold on\n",
    "plot(x(1),x(2),'s'), hold off\n",
    "axis equal\n",
    "xlim([-3,3])"
   ]
  },
  {
   "cell_type": "code",
   "execution_count": 13,
   "metadata": {
    "collapsed": false
   },
   "outputs": [
    {
     "data": {
      "text/plain": [
       "x =\r\n",
       "\r\n",
       "   1.0e-08 *\r\n",
       "\r\n",
       "   -0.0005\r\n",
       "    0.1935\r\n",
       "\r\n",
       "\r\n",
       "cvx_optval =\r\n",
       "\r\n",
       "    6.4641"
      ]
     },
     "execution_count": 13,
     "metadata": {},
     "output_type": "execute_result"
    }
   ],
   "source": [
    "P = [A;B;C];\n",
    "Phi = repmat(eye(2),[3,1]);\n",
    "\n",
    "cvx_begin quiet\n",
    "    variable x(2,1)\n",
    "    minimize norm(Phi*x-P,1)\n",
    "cvx_end\n",
    "x\n",
    "cvx_optval"
   ]
  },
  {
   "cell_type": "markdown",
   "metadata": {},
   "source": [
    "## 3.3. Piece-wise linear programming\n",
    "\n",
    "Linear vs. Affine\n",
    "- Linear\n",
    "\n",
    "$$f(x)=a^Tx$$\n",
    "\n",
    "- Affine \n",
    "\n",
    "$$ f(x) = a^Tx + b$$"
   ]
  },
  {
   "cell_type": "markdown",
   "metadata": {},
   "source": [
    "__$L_1$ norm optimization__\n",
    "\n",
    "- $L_1$ norm\n",
    "\n",
    "$$ \\lVert y \\rVert_{1}  = \\sum_{i} \\,\\lvert y_i \\rvert = \\sum_{i} \\, \\max \\left(-y_i,y_i \\right) $$\n",
    "\n",
    "- Fitting/Approximation Problem, _i.e._, sum of (absolute) residuals\n",
    "\n",
    "$$\\min \\; \\lVert Ax-b \\rVert_1 = \\lvert r_1 \\rvert + \\cdots + \\lvert r_m \\rvert$$\n",
    "\n",
    "- LP Equivalent\n",
    "    - $t = \\begin{bmatrix} t_1 & t_2 & \\cdots & t_m \\end{bmatrix}^T $\n",
    "$$\n",
    "\\begin{align}\n",
    "\\min \\quad & t_1 + \\cdots + t_m \\\\\n",
    "\\text{subject to} \\quad \n",
    "& Ax - b \\leq t \\\\\n",
    "& -(Ax - b) \\leq t \n",
    "\\end{align}\n",
    "$$\n",
    "\n",
    "- LP Equivalent in Matrix Form\n",
    "\n",
    "$$\n",
    "\\begin{align}\n",
    "\\min \\quad & \\begin{bmatrix} \\mathbb{0} & \\mathbb{1} \\end{bmatrix}^T \\begin{bmatrix} x \\\\ t \\end{bmatrix} \\\\\n",
    "\\text{subject to} \\quad \n",
    "& \\begin{bmatrix} A & -I \\\\ -A & -I \\end{bmatrix}\\begin{bmatrix} x \\\\ t \\end{bmatrix} \n",
    "\\leq \\begin{bmatrix} b \\\\ -b \\end{bmatrix}\n",
    "\\end{align}\n",
    "$$\n",
    "\n",
    "- can convert it to LP or just simply use cvx"
   ]
  },
  {
   "cell_type": "code",
   "execution_count": 14,
   "metadata": {
    "collapsed": false
   },
   "outputs": [
    {
     "data": {
      "image/png": "[encoded data removed]",
      "text/plain": [
       "<IPython.core.display.Image object>"
      ]
     },
     "metadata": {},
     "output_type": "display_data"
    },
    {
     "data": {
      "text/plain": [
       "x =\r\n",
       "\r\n",
       "   1.0e-08 *\r\n",
       "\r\n",
       "   -0.0005\r\n",
       "    0.3541\r\n",
       "\r\n",
       "\r\n",
       "cvx_optval =\r\n",
       "\r\n",
       "    6.4641"
      ]
     },
     "execution_count": 14,
     "metadata": {},
     "output_type": "execute_result"
    }
   ],
   "source": [
    "p1 = [sqrt(3) 0]';\n",
    "p2 = [-sqrt(3) 0]';\n",
    "p3 = [0 1+2]';\n",
    "\n",
    "cvx_begin quiet\n",
    "    variable x(2,1)\n",
    "    % minimize norm(x-p1,2) + norm(x-p2,2) + norm(x-p3,2)\n",
    "    minimize norm(x-p1,1) + norm(x-p2,1) + norm(x-p3,1)\n",
    "cvx_end\n",
    "x\n",
    "cvx_optval\n",
    "\n",
    "pts = [p1 p2 p3];\n",
    "plot(pts(1,:),pts(2,:),'o'), hold on\n",
    "plot(x(1),x(2),'s'), hold off\n",
    "axis equal\n",
    "xlim([-3,3])\n"
   ]
  },
  {
   "cell_type": "code",
   "execution_count": 29,
   "metadata": {
    "collapsed": false
   },
   "outputs": [
    {
     "data": {
      "image/png": "[encoded data removed]",
      "text/plain": [
       "<IPython.core.display.Image object>"
      ]
     },
     "metadata": {},
     "output_type": "display_data"
    },
    {
     "data": {},
     "execution_count": 29,
     "metadata": {},
     "output_type": "execute_result"
    }
   ],
   "source": [
    "% weber problem in 2-norm\n",
    "\n",
    "m = 10;\n",
    "pts = 10*rand(2,10);\n",
    "plot(pts(1,:),pts(2,:),'o'), axis equal, xlim([-1 11]), hold on\n",
    "\n",
    "b = reshape(pts,[2*m,1]);\n",
    "A = repmat(eye(2),[m,1]);\n",
    "\n",
    "%w = inv(A'*A)*A'*b\n",
    "\n",
    "cvx_begin quiet\n",
    "    variables w(2,1)\n",
    "    minimize norm(A*w-b,2)\n",
    "cvx_end\n",
    "plot(w(1),w(2),'s'), hold off"
   ]
  },
  {
   "cell_type": "code",
   "execution_count": 41,
   "metadata": {
    "collapsed": false
   },
   "outputs": [
    {
     "data": {
      "text/plain": [
       "pts =\r\n",
       "\r\n",
       "    9.5163    0.5268    2.6912    5.4787    4.1774    3.0145    6.6634    6.9811    1.7813    9.9908   20.0000   19.0000\r\n",
       "    9.2033    7.3786    4.2284    9.4274    9.8305    7.0110    5.3913    6.6653    1.2801    1.7112   20.0000   19.0000"
      ]
     },
     "execution_count": 41,
     "metadata": {},
     "output_type": "execute_result"
    }
   ],
   "source": [
    "% weber problem in 2-norm\n",
    "\n",
    "m = 10;\n",
    "pts = 10*rand(2,10);\n",
    "pts = [pts [20 20]' [19 19]']"
   ]
  },
  {
   "cell_type": "code",
   "execution_count": 42,
   "metadata": {
    "collapsed": false
   },
   "outputs": [
    {
     "data": {
      "image/png": "[encoded data removed]",
      "text/plain": [
       "<IPython.core.display.Image object>"
      ]
     },
     "metadata": {},
     "output_type": "display_data"
    },
    {
     "data": {},
     "execution_count": 42,
     "metadata": {},
     "output_type": "execute_result"
    }
   ],
   "source": [
    "plot(pts(1,:),pts(2,:),'o'), \n",
    "%axis equal, xlim([-1 22]), \n",
    "hold on\n",
    "\n",
    "b = reshape(pts,[2*(m+2),1]);\n",
    "A = repmat(eye(2),[m+2,1]);\n",
    "\n",
    "%w = inv(A'*A)*A'*b\n",
    "\n",
    "cvx_begin quiet\n",
    "    variables w(2,1)\n",
    "    minimize norm(A*w-b,2)\n",
    "cvx_end\n",
    "plot(w(1),w(2),'s'), hold off"
   ]
  },
  {
   "cell_type": "code",
   "execution_count": 43,
   "metadata": {
    "collapsed": false
   },
   "outputs": [
    {
     "data": {
      "image/png": "[encoded data removed]",
      "text/plain": [
       "<IPython.core.display.Image object>"
      ]
     },
     "metadata": {},
     "output_type": "display_data"
    },
    {
     "data": {},
     "execution_count": 43,
     "metadata": {},
     "output_type": "execute_result"
    }
   ],
   "source": [
    "plot(pts(1,:),pts(2,:),'o'), \n",
    "%axis equal, xlim([-1 22]), \n",
    "hold on\n",
    "\n",
    "b = reshape(pts,[2*(m+2),1]);\n",
    "A = repmat(eye(2),[m+2,1]);\n",
    "\n",
    "%w = inv(A'*A)*A'*b\n",
    "\n",
    "cvx_begin quiet\n",
    "    variables w(2,1)\n",
    "    minimize norm(A*w-b,1)\n",
    "cvx_end\n",
    "plot(w(1),w(2),'s'), hold off"
   ]
  },
  {
   "cell_type": "code",
   "execution_count": null,
   "metadata": {
    "collapsed": true
   },
   "outputs": [],
   "source": []
  },
  {
   "cell_type": "code",
   "execution_count": null,
   "metadata": {
    "collapsed": true
   },
   "outputs": [],
   "source": []
  },
  {
   "cell_type": "code",
   "execution_count": null,
   "metadata": {
    "collapsed": true
   },
   "outputs": [],
   "source": []
  },
  {
   "cell_type": "code",
   "execution_count": 10,
   "metadata": {
    "collapsed": false,
    "slideshow": {
     "slide_type": "skip"
    }
   },
   "outputs": [
    {
     "data": {
      "application/javascript": [
       "$.getScript('https://kmahelona.github.io/ipython_notebook_goodies/ipython_notebook_toc.js')"
      ],
      "text/plain": [
       "<IPython.core.display.Javascript object>"
      ]
     },
     "metadata": {},
     "output_type": "display_data"
    }
   ],
   "source": [
    "%%javascript\n",
    "$.getScript('https://kmahelona.github.io/ipython_notebook_goodies/ipython_notebook_toc.js')"
   ]
  }
 ],
 "metadata": {
  "kernelspec": {
   "display_name": "Matlab",
   "language": "matlab",
   "name": "matlab_kernel"
  },
  "language_info": {
   "file_extension": ".m",
   "help_links": [
    {
     "text": "MetaKernel Magics",
     "url": "https://github.com/calysto/metakernel/blob/master/metakernel/magics/README.md"
    }
   ],
   "mimetype": "text/x-matlab",
   "name": "octave"
  }
 },
 "nbformat": 4,
 "nbformat_minor": 0
}
