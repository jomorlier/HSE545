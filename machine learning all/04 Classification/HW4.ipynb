{
 "cells": [
  {
   "cell_type": "markdown",
   "metadata": {},
   "source": [
    "<br><br>\n",
    "<center><font size='5'><b>Machine Learning for Mechanical Engineering</b></font><br><br><font size='5'><b>Homework 4</b></font><br><br><font size='3'><b>Due Monday, 04/09/2018, 9:30 AM</b></font></center>\n",
    "\n",
    "<table style=\"border-style: hidden; border-collapse: collapse;\" width = \"95%\"> \n",
    "    <tr style=\"border-style: hidden; border-collapse: collapse;\">\n",
    "        <td width = 75% style=\"border-style: hidden; border-collapse: collapse;\">\n",
    "\n",
    "        </td>\n",
    "        <td width = 20%>\n",
    "        by Prof. Seungchul Lee<br>Industrial AI Lab<br>POSTECH\n",
    "        </td>\n",
    "    </tr>\n",
    "</table>"
   ]
  },
  {
   "cell_type": "markdown",
   "metadata": {},
   "source": [
    "- For your handwritten solution, hand in your hardcopy at class.\n",
    "- For your code, email your .ipynb file to (`iai.postech@gmail.com`)\n",
    "- When you send an e-mail, write down <font color=\"red\">[Machine Learning HW4]</font> on the title\n",
    "- And please <font color=\"red\">write your NAME</font> on your .ipynb files.  ex) 김지원_20182315_HW2.ipynb\n",
    "- Do not submit a printed version of your code. It will not be graded."
   ]
  },
  {
   "cell_type": "markdown",
   "metadata": {},
   "source": [
    "# Problem 1\n",
    "\n",
    "In this problem, we will try to classify handwritten digits. For the sake of simplicity, we simplify this digit classification problem into a binary classification between digit 0 and digit 1.\n",
    "\n",
    "You can download images from this [link](https://www.dropbox.com/sh/2s154nsafde9nra/AACeAK_EwjoclWScP7O1U-5la?dl=0).\n",
    "\n",
    "\n",
    "## Step 1. Load data\n",
    "\n",
    "You can load the digit images using the below code. Each dataset contains 500 gray-scaled images with size of (28, 28)."
   ]
  },
  {
   "cell_type": "code",
   "execution_count": 1,
   "metadata": {
    "collapsed": true
   },
   "outputs": [],
   "source": [
    "from six.moves import cPickle\n",
    "digit0 = cPickle.load(open('./data/digit0.pkl', 'rb'))\n",
    "digit1 = cPickle.load(open('./data/digit1.pkl', 'rb'))"
   ]
  },
  {
   "cell_type": "markdown",
   "metadata": {},
   "source": [
    "__(a)__ Check the shape of each dataset. Randomly pick images from each datasets and ```imshow``` the images."
   ]
  },
  {
   "cell_type": "code",
   "execution_count": 2,
   "metadata": {
    "collapsed": true
   },
   "outputs": [],
   "source": [
    "# Your code here"
   ]
  },
  {
   "cell_type": "markdown",
   "metadata": {},
   "source": [
    "## Step 2. Extract features\n",
    "\n",
    "<br>\n",
    "<img src=\"./image_files/ml_flowchart.png\", width = 500>\n",
    "<br>\n",
    "\n",
    "__(b)__ Write the code for feature extraction. We will construct the feature vectors for each dataset with the following three features : \n",
    "\n",
    "- The average value of pixels located at the center of the image ([9:18, 9:18])\n",
    "\n",
    "- The average value of pixels over the entire location\n",
    "\n",
    "- Include the ones as the bias term\n",
    "   \n",
    "\n",
    "__(c)__ Then you will have (500, 3) feature vectors for each dataset. Plot the first two features for every samples on the 2D-plane."
   ]
  },
  {
   "cell_type": "code",
   "execution_count": 3,
   "metadata": {
    "collapsed": true
   },
   "outputs": [],
   "source": [
    "# Your code here"
   ]
  },
  {
   "cell_type": "markdown",
   "metadata": {},
   "source": [
    "# Problem 2\n",
    "\n",
    "We will apply perceptron to the feature vectors defined in Problem 1. \n",
    "\n",
    "__(a)__\n",
    "The below is a pseudo code of the perceptron. Write the code to classify the digits using the given perceptron pseudo code."
   ]
  },
  {
   "cell_type": "markdown",
   "metadata": {},
   "source": [
    "```\n",
    "For k = 1:100 {\n",
    "      For j = 1:100 {\n",
    "            i = random integer selection between 1 and 2000\n",
    "            compute yhat(i)\n",
    "            if yhat(i) is wrong {\n",
    "                w = w + y(i)x(i)\n",
    "            }\n",
    "    }\n",
    "}\n",
    "```"
   ]
  },
  {
   "cell_type": "code",
   "execution_count": 4,
   "metadata": {
    "collapsed": true
   },
   "outputs": [],
   "source": [
    "# Your code here"
   ]
  },
  {
   "cell_type": "markdown",
   "metadata": {},
   "source": [
    "__(b)__ Plot the decision boundary of your classifier on the figure you have plotted in Step 2 of Problem 1."
   ]
  },
  {
   "cell_type": "code",
   "execution_count": 5,
   "metadata": {
    "collapsed": true
   },
   "outputs": [],
   "source": [
    "# Your code here"
   ]
  },
  {
   "cell_type": "markdown",
   "metadata": {},
   "source": [
    "# Problem 3\n",
    "\n",
    "We will apply SVM to the feature vectors defined in Problem 1. \n",
    "\n",
    "__(a)__ Write the code to classify the digits with SVM using cvxpy."
   ]
  },
  {
   "cell_type": "code",
   "execution_count": 6,
   "metadata": {
    "collapsed": true
   },
   "outputs": [],
   "source": [
    "# Your code here"
   ]
  },
  {
   "cell_type": "markdown",
   "metadata": {},
   "source": [
    "__(b)__ Plot the decision boundary of your classifier on the figure you have plotted in Step 2 of Problem 1."
   ]
  },
  {
   "cell_type": "code",
   "execution_count": 7,
   "metadata": {
    "collapsed": true
   },
   "outputs": [],
   "source": [
    "# Your code here"
   ]
  },
  {
   "cell_type": "markdown",
   "metadata": {},
   "source": [
    "# Problem 4"
   ]
  },
  {
   "cell_type": "markdown",
   "metadata": {},
   "source": [
    "__(a)__\n",
    "Let $f(x) = \\omega^Tx$ be a linear boundary of a binary classifier and $y \\in \\{-1,1\\}$. Explain $y \\cdot f(x) \\leq 0$ when the classifier is wrong and  $y \\cdot f(x) > 0$ when the classifier is correct.\n",
    "\n",
    "__(b)__ \n",
    "Let $\\ell \\left(f(x), y \\right)$ be a loss function. Ideally, the loss function for the classification problem is $u \\left(-y \\cdot f(x) \\right)$ where $u(\\cdot)$ is a step function. Explain the meaning of $J = \\sum_{i=1}^{N} u \\left(-y_i \\cdot f(x_i) \\right)$.\n",
    "\n",
    "__(c)__\n",
    "Explain why the ideal loss function cannot be implemented when we want to use a gradient descent algorithm?\n",
    "\n",
    "__(d)__ In the logistic regression, we define $$\\sigma(z) = \\frac{1}{1 + e^{-z}}$$ Then, show\n",
    "$$ \\frac{d\\sigma(z)}{dz} = \\sigma(z)(1-\\sigma(z))$$\n",
    "\n",
    "Note: this property is useful in a gradient descent for a parameter learning.\n",
    "\n",
    "\n",
    "__(e)__\n",
    "Plot the ideal loss function and the loss function of the logistic regression. Compare the shape of both loss functions and explain why the logistic regression can approximately solve the classification problem."
   ]
  },
  {
   "cell_type": "markdown",
   "metadata": {},
   "source": [
    "# Problem 5\n",
    "\n",
    "You will use K-means to compress an image by reducing the number of colors it contains. You can download images from this [link](https://www.dropbox.com/sh/jv300h0z9a93evb/AACMbKwcAg6tIjo1JIn6u3i7a?dl=0). \n",
    "\n",
    "__(a)__ Image Representation\n",
    "\n",
    "The data for this exercise contains a 128-pixel by 128-pixel TIFF image named \"bird.tiff.\" It looks like the picture in Figure 1.\n",
    "<br><br>\n",
    "<img src=\"./image_files/clus01.bmp\", width = 250>\n",
    "<br><br>\n",
    "In a straightforward 24-bit color representation of this image, each pixel is represented as three 8-bit numbers (ranging from 0 to 255) that specify red, green and blue (RGB) intensity values. Our bird photo contains thousands of colors, but we'd like to reduce that number to 16. By making this reduction, it would be possible to represent the photo in a more efficient way by storing only the RGB values of the 16 colors present in the image.\n",
    "\n",
    "In this problem, you will use K-means to reduce the color count to $k = 16$. That is, you will compute 16 colors as the cluster centroids and replace each pixel in the image with its nearest cluster centroid color.\n",
    "\n",
    "(b) K-means in Python\n",
    "\n",
    "You can load a bird image using the following code."
   ]
  },
  {
   "cell_type": "code",
   "execution_count": 8,
   "metadata": {},
   "outputs": [
    {
     "data": {
      "text/plain": [
       "<matplotlib.figure.Figure at 0x7f0baf255518>"
      ]
     },
     "metadata": {},
     "output_type": "display_data"
    },
    {
     "name": "stdout",
     "output_type": "stream",
     "text": [
      "Matrix shape: (128, 128, 3)\n"
     ]
    }
   ],
   "source": [
    "from six.moves import cPickle\n",
    "import matplotlib.pyplot as plt\n",
    "\n",
    "A = cPickle.load(open('./data/bird.pkl', 'rb'))\n",
    "\n",
    "plt.figure(figsize=(4, 4))\n",
    "plt.imshow(A.astype('uint8'))\n",
    "plt.axis('off')\n",
    "plt.show()\n",
    "\n",
    "print('Matrix shape: {}'.format(A.shape))"
   ]
  },
  {
   "cell_type": "markdown",
   "metadata": {},
   "source": [
    "This creates a three-dimensional matrix $A$ whose first two indices identify a pixel position and whose last index represents red, green, or blue. For example, $A(50, 33, 3)$ gives you the blue intensity of the pixel at position $y = 50, x = 33$. (The y-position is given first, but this does not matter so much in our example because the $x$ and $y$ dimensions have the same size).\n",
    "\n",
    "Your task is to compute 16 cluster centroids from this image, with each centroid being a vector of length three that holds a set of RGB values. Here is the K-means algorithm as it applies to this problem:\n",
    "\n",
    "(c) K-means algorithm\n",
    "\n",
    "> 1. For initialization, sample 16 colors randomly from the original picture. There are your \n",
    "$k$ means $\\mu_1, \\mu_2, \\cdots, \\mu_k$.\n",
    "<br><br>\n",
    "> 2. Go through each pixel in the small image and calculate its nearest mean.\n",
    " <br><br>\n",
    " $$c^{(i)} = \\text{arg} min_j \\lVert x^{(i)}-\\mu_j \\rVert^2$$\n",
    " <br><br>\n",
    "> 3. Update the values of the means based on the pixels assigned to them. \n",
    "<br><br>\n",
    "$$\\mu_j = \\frac{\\sum\\limits_i^m 1\\{c^{(i)} = j\\}x^{(i)}}{\\sum\\limits_i^m 1\\{c^{(i)} = j\\}}$$\n",
    "<br><br>\n",
    ">4. Repeat steps 2 and 3 until convergence. This should take between 30 and 100 iterations. You can either run the loop for a preset maximum number of iterations, or you can decide to terminate the loop when the locations of the means are no longer changing by a significant amount.\n",
    "\n",
    "Note: In Step 3, you should update a mean only if there are pixels assigned to it. Otherwise, you will see a divide-by-zero error. For example, it's possible that during initialization, two of the means will be initialized to the same color (_i.e._ black). Depending on your implementation, all of the pixels in the photo that are closest to that color may get assigned to one of the means, leaving the other mean with no assigned pixels.\n",
    "\n",
    "When you have recalculated the image, you can display it. When you are finished, compare your image to the one in the solutions.\n",
    "\n",
    "<img src=\"./image_files/clus02.bmp\", width = 250>"
   ]
  },
  {
   "cell_type": "code",
   "execution_count": 9,
   "metadata": {
    "collapsed": true
   },
   "outputs": [],
   "source": [
    "# Your code here"
   ]
  }
 ],
 "metadata": {
  "kernelspec": {
   "display_name": "Python 3",
   "language": "python",
   "name": "python3"
  },
  "language_info": {
   "codemirror_mode": {
    "name": "ipython",
    "version": 3
   },
   "file_extension": ".py",
   "mimetype": "text/x-python",
   "name": "python",
   "nbconvert_exporter": "python",
   "pygments_lexer": "ipython3",
   "version": "3.6.4"
  }
 },
 "nbformat": 4,
 "nbformat_minor": 2
}
