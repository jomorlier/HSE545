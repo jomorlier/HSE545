{
 "cells": [
  {
   "cell_type": "markdown",
   "metadata": {
    "collapsed": true
   },
   "source": [
    "<br>\n",
    "<font size = '6'><b>Modeling Time-Series Data</b></font>\n",
    "\n",
    "<table style=\"border-style: hidden; border-collapse: collapse;\" width = \"90%\"> \n",
    "    <tr style=\"border-style: hidden; border-collapse: collapse;\">\n",
    "        <td width = 60% style=\"border-style: hidden; border-collapse: collapse;\">\n",
    "             \n",
    "        </td>\n",
    "        <td width = 30%>\n",
    "        Collected by Prof. Seungchul Lee<br>\n",
    "        iSystems Design Lab<br>UNIST<br>http://isystems.unist.ac.kr/\n",
    "        </td>\n",
    "    </tr>\n",
    "</table>\n",
    "\n",
    "\n",
    "Table of Contents\n",
    "<div id=\"toc\"></div>"
   ]
  },
  {
   "cell_type": "markdown",
   "metadata": {
    "collapsed": true
   },
   "source": [
    "# 1. (Determinstic) Sequences and Difference Equations\n",
    "\n",
    "We will focus on linear difference equations (LDE), a surprisingly rich topic both theoretically and practivally.\n",
    "\n",
    "For example,\n",
    "\n",
    "$$ y[0]=1,\\quad y[1]=\\frac{1}{2},\\quad y[2]=\\frac{1}{4},\\quad \\cdots $$\n",
    "\n",
    "\n",
    "or by closed-form expression,\n",
    "\n",
    "$$y[n]=\\left(\\frac{1}{2}\\right)^n,\\quad n≥0 $$\n",
    "\n",
    "or with a difference equation and an initial condition,\n",
    "\n",
    "$$y[n]=\\frac{1}{2}y[n−1],\\quad y[0]=1$$\n",
    "\n",
    "\n",
    "\n",
    "## 1.1. First order homogeneous LDE\n",
    "\n",
    "Stanard form\n",
    "\n",
    "$$\n",
    "{y[n]=\\alpha_1y[n-1]}$$ \n",
    "\n",
    "\n",
    "Solution\n",
    "\n",
    "$$\n",
    "\\begin{align*}\n",
    "y[n] &=\\alpha_1y[n-1]  \\\\\n",
    "&=\\alpha_1(\\alpha_1y[n-2]) \\\\\n",
    "&=\\alpha_1(\\alpha_1(\\alpha_1y[n-3])) \\\\\n",
    "&\\;\\; \\vdots \\\\\n",
    "&=\\alpha_1\\cdots(\\alpha_1(\\alpha_1\\cdots y[0])) \\\\\n",
    "&=y[0]\\alpha_1^n\n",
    "\\end{align*}$$ \n",
    "\n",
    "- If $\\alpha_1<−1$ \n",
    "    - oscillate, the magnitude of their values grow without bound, and the first-order LDE is unstable,\n",
    "- If $−1<\\alpha_1<0$ \n",
    "    - oscillate, their values decay to zero, and the first-order LDE is stable,\n",
    "- If $\\alpha_1=−1$ \n",
    "    - oscillate, the magnitude of their values neither decay nor grow, and the first-order LDE is neither stable or unstable.\n",
    "\n",
    "## 1.2. Second order homogeneous LDE\n",
    "\n",
    "Standard form\n",
    "\n",
    "$$\n",
    "y[n]=\\alpha_1 y[n−1] + \\alpha_2 y [n−2]$$ \n",
    "\n",
    "Assume LDE has solutions of the form\n",
    "\n",
    "$$y[n]=c\\lambda^n$$\n",
    "\n",
    "Results in a quadratic equation\n",
    "\n",
    "$${\\lambda^2− \\alpha_1 \\lambda− \\alpha_2=0,}$$ \n",
    "\n",
    "And roots are\n",
    "\n",
    "$${(\\lambda_1,\\lambda_2)=\\frac{\\alpha_1\\pm\\sqrt{\\alpha_1^2+4\\alpha_2}}{2}}$$ \n",
    "\n",
    "Finally solutions with two inintial conditions are\n",
    "\n",
    "$$y[n]=c_1 \\lambda_1^n+c_2 \\lambda_2^n$$\n",
    "\n",
    "Note that $\\lambda$ and $c$ can be complex numbers.\n",
    "\n",
    "## 1.3. High order homogeneous LDE\n",
    "\n",
    "Standard form\n",
    "\n",
    "$$\n",
    "y[n]=\\alpha_1 y[n−1] + \\alpha_2 y [n−2] + \\cdots + \\alpha_k y[n-k]$$ "
   ]
  },
  {
   "cell_type": "markdown",
   "metadata": {},
   "source": [
    "# 2. (Stochastic) Time Series Analysis\n",
    "\n",
    "\n",
    "## 2.1. Stationarity and Non-Stationary Series\n",
    "- A series is _stationary_ if there is no systematic change in mean and variance over time\n",
    "\n",
    "    - Example: radio static\n",
    "\n",
    "- A series is _non-stationary_ if mean and variance change over time\n",
    "\n",
    "    - Example: GDP, population, weather, etc.\n",
    "\n",
    "<img src=\"./image_files/time_series.png\" width = 600>\n",
    "\n",
    "## 2.2. Testing for Non-Stationarity\n",
    "\n",
    "Formally\n",
    "- Augmented DickeyFuller test\n",
    "\n",
    "Informally\n",
    "- Auto-Correlation Function (ACF)\n",
    "- Normal Quantile Plot (Q-Q plot)\n",
    "\n",
    "Q-Q Plot\n",
    "\n",
    "- Compare distribution of the residuals to normal\n",
    "- Scatter plot of residual quantiles against normal\n",
    "    - Stationary data: quantiles match normal ($45^o$ line)\n",
    "    - Non-stationary data: quantiles do not match (points off $45^o$ line)\n",
    "    "
   ]
  },
  {
   "cell_type": "markdown",
   "metadata": {},
   "source": [
    "## 2.3. Dealing with Non-Stationarity\n",
    "\n",
    "<br>\n",
    "<font size='4'><b>Linear trends</b></font>\n",
    "\n",
    "<img src=\"./image_files/linear_trend.png\" width = 600>\n",
    "\n",
    "\n",
    "- One way of dealing with trend is to difference the series\n",
    "\n",
    "$$\\Delta Y_t = Y_t - Y_{t-1}$$\n",
    "\n",
    "- Then, estimate the model using first differences (_i.e._, AR(1) model) as \n",
    "\n",
    "$$ \\Delta Y_t = \\beta_1 + \\beta_2 \\Delta Y_{t-1} + u_t$$\n",
    "\n",
    "- If first differences are non-stationary, use second difference \n",
    "\n",
    "$$\\Delta^2 Y_t = \\Delta Y_t- \\Delta Y_{t-1}$$\n",
    "\n",
    "$$ \\Delta^2 Y_t = \\beta_1 + \\beta_2 \\Delta^2 Y_{t-1} + u_t$$\n",
    "\n",
    "\n",
    "- Another way to deal with linear trend is to include a trend term\n",
    "\n",
    "- Instead of estimating a plain AR(1) model\n",
    "\n",
    "$$ Y_t = \\beta_1 + \\beta_2 Y_{t-1} + u_t$$\n",
    "\n",
    "- Include time $t$ into the regression and estimate\n",
    "\n",
    "$$ Y_t = \\beta_1 + \\beta_2 Y_{t-1} + \\beta_3 t + u_t$$\n",
    "\n",
    "- Q-Q residuals plot (stationary data)\n",
    "    - normal residuals once trend is successfully netted $\\leftrightarrow$ see if $u_t$ is normally distributed\n",
    "    \n",
    "<img src=\"./image_files/qq_plot_linear.png\" width = 500>    "
   ]
  },
  {
   "cell_type": "markdown",
   "metadata": {},
   "source": [
    "<font size='4'><b>Non-linear trends</b></font>\n",
    "\n",
    "For example, population may grow exponentially\n",
    "\n",
    "\n",
    "<img src=\"./image_files/non_linear_trend.png\" width = 500>    \n",
    "\n",
    "- Non-linear trends can be dealt with by differencing\n",
    "\n",
    "- Alternatively, include an exponential time term\n",
    "\n",
    "$$ Y_t = \\beta_1 + \\beta_2 Y_{t-1} + \\beta_3 t^{\\beta_4} + u_t$$\n",
    "\n",
    "- Residual Q-Q plot can be used to check model fit\n",
    "\n",
    "<br>\n",
    "<font size='4'><b>Seasonal trends</b></font>\n",
    "\n",
    "- Some series may exhibit seasonal trends\n",
    "\n",
    "- For example, weather pattern, employment, inflation, etc.\n",
    "\n",
    "<img src=\"./image_files/seasonal.png\" width = 500>    \n",
    "\n",
    "- Including linear or quadratic trend may be insufficient\n",
    "\n",
    "- Several approaches to accounting for seasonal trends\n",
    "    - differencing\n",
    "    - modeling cyclical trends\n",
    "\n",
    "\n",
    "1. Seasonal differences\n",
    "\n",
    "    - Suppose trend cycle is repeated with frequency $s$ period\n",
    "    - For example, for monthly data\n",
    "        - annual cycles $s = 12$\n",
    "        - quarterly cycles $s = 3$\n",
    "    - Solution: work with seasonal differences $\\Delta_t^s Y_t$\n",
    "$$\\Delta_t^s Y_t = Y_t - Y_{t-s}$$\n",
    "    - Examine the resiudal Q-Q plot to check model fit\n",
    "    - Choice of $s$ may be challenging (experimentation)\n",
    "<br><br>\n",
    "2. Seasonal trend models\n",
    "\n",
    "    - As with linear or exponential trends, can explicitly include seasonal trend term into the model\n",
    "    \n",
    "    - A common approach is to include cyclical trend term based on sine wave\n",
    "    $$\\beta \\sin(\\omega t+\\theta)$$\n",
    "    \n",
    "    - Include cyclical trend term into the model by estimating\n",
    "    $$Y_t = \\beta_1 + \\beta_2 Y_{t-1} + \\left( \\beta_3 \\sin \\frac{2\\pi}{s}t +  \\beta_4 \\cos \\frac{2\\pi}{s}t \\right) + u_t$$\n",
    "    <br><br>\n",
    "    - Quarterly trend example (monthly data and want to include quarterly trend)\n",
    "    $$Y_t = \\beta_1 + \\beta_2 Y_{t-1} + \\left( \\beta_3 \\sin \\frac{2\\pi}{3}t +  \\beta_4 \\cos \\frac{2\\pi}{3}t \\right) + u_t$$\n",
    "    \n",
    "    - Annual trend example (monthly data and want to include annual trend)\n",
    "    $$Y_t = \\beta_1 + \\beta_2 Y_{t-1} + \\left( \\beta_3 \\sin \\frac{2\\pi}{12}t +  \\beta_4 \\cos \\frac{2\\pi}{12}t \\right) + u_t$$\n",
    "    \n",
    "    - Monthly trend example (daily data and want to include monthly trend)\n",
    "    $$Y_t = \\beta_1 + \\beta_2 Y_{t-1} + \\left( \\beta_3 \\sin \\frac{2\\pi}{30}t +  \\beta_4 \\cos \\frac{2\\pi}{30}t \\right) + u_t$$"
   ]
  },
  {
   "cell_type": "markdown",
   "metadata": {},
   "source": [
    "<font size='4'><b>Combining Linear, Quadratic, and Seasonal Trends</b></font>\n",
    "\n",
    "- Some data may have a combintation of trends\n",
    "\n",
    "<img src=\"./image_files/combined_trend.png\" width = 500>   \n",
    "\n",
    "- One solution is to apply repeated differencing to the series \n",
    "\n",
    "- For example, first remove seasonal trend. Then remove linear trend\n",
    "\n",
    "- Inspect model fit by examining residuals Q-Q plot\n",
    "\n",
    "\n",
    "- Anternatively, include both linear and cyclical trend terms into the model\n",
    "\n",
    "\\begin{align*}\n",
    "Y_t &= \\beta_1 + \\beta_2 Y_{t-1} \\\\\n",
    "&+ \\beta_3 t + \\beta_4 t^{\\beta_5} \\\\\n",
    "&+ \\beta_6 \\sin \\frac{2\\pi}{s}t +  \\beta_7 \\cos \\frac{2\\pi}{s}t \\\\\n",
    "&+ u_t\n",
    "\\end{align*}"
   ]
  },
  {
   "cell_type": "markdown",
   "metadata": {},
   "source": [
    "## 2.4. Time-Series Forecasting\n",
    "\n",
    "Suppose $\\hat{\\beta}_1,\\hat{\\beta}_2,\\cdots,\\hat{\\beta}_7$ are estimated from an AR(1) model with linear, exponential, and cyclical trends\n",
    "\n",
    "Then at some time $T$ we can predict\n",
    "- Linear trend as \n",
    "$$\\hat{L}_T = \\hat{\\beta}_3 T$$\n",
    "- Exponential trend as \n",
    "$$\\hat{E}_T = \\hat{\\beta}_4 T^{\\beta_5}$$\n",
    "- Cyclical trend as \n",
    "$$\\hat{C}_T = \\hat{\\beta}_6 \\sin \\frac{2\\pi}{s}T +  \\hat{\\beta}_7 \\cos \\frac{2\\pi}{s}T$$\n",
    "\n",
    "Seasonal ajustments and \"De-trending\"\n",
    "\n",
    "- Data are often available in seasonally adjusted and/or \"de-trending\"\n",
    "\n",
    "- Objective is to remove all trends\n",
    "\n",
    "- Approach is to estimate a model with trend components only\n",
    "\n",
    "\n",
    "- For example, suppose data have exponential and cyclical trend components\n",
    "\n",
    "- Estimate the trend-only model\n",
    "\n",
    "$$ Y_t = \\alpha_1 t^{\\alpha_2} + \\alpha_3 \\sin \\frac{2\\pi}{s}t +  \\alpha_4 \\cos \\frac{2\\pi}{s}t + u_t $$\n",
    "\n",
    "- Calcuate the trend estimates\n",
    "    - Exponential trend component $ \\hat{E}_t = \\alpha_1 t^{\\alpha_2} $\n",
    "    - Cyclical trend component $ \\hat{C}_t = \\alpha_3 \\sin \\frac{2\\pi}{s}t +  \\alpha_4 \\cos \\frac{2\\pi}{s}t $\n",
    "    \n",
    "- De-trended data: $\\bar{Y}_t = Y_t - \\hat{E}_t$\n",
    "\n",
    "- Seasonally-adjusted data: $\\tilde{Y} = Y_t - \\hat{C}_t$\n",
    "\n",
    "Forecasting Series\n",
    "\n",
    "- Given series value at time $t$, predict future value as\n",
    "\n",
    "$$ \\hat{Y}_{t+1} = \\hat{\\beta}_1 + \\hat{\\beta}_2 Y_t + \\hat{L}_{t+1} + \\hat{E}_{t+1} + \\hat{C}_{t+1} $$"
   ]
  },
  {
   "cell_type": "code",
   "execution_count": 1,
   "metadata": {
    "collapsed": false
   },
   "outputs": [
    {
     "data": {
      "text/html": [
       "<iframe src=\"https://www.youtube.com/embed/xBP4cQetoNM\" \n",
       "width=\"560\" height=\"315\" frameborder=\"0\" allowfullscreen></iframe>"
      ],
      "text/plain": [
       "<IPython.core.display.HTML object>"
      ]
     },
     "metadata": {},
     "output_type": "display_data"
    }
   ],
   "source": [
    "%%html\n",
    "<iframe src=\"https://www.youtube.com/embed/xBP4cQetoNM\" \n",
    "width=\"560\" height=\"315\" frameborder=\"0\" allowfullscreen></iframe>"
   ]
  },
  {
   "cell_type": "markdown",
   "metadata": {
    "collapsed": true
   },
   "source": [
    "- <a href=\"./files/Medovikov-TimeSeries2011.pdf\" target=\"_blank\">Slides#1</a>,  <a href=\"./files/Medovikov-AppliedTimeSeries.pdf\" target=\"_blank\">Slides#2</a>, from [Prof. Ivan Medovikov](http://medovikov.me/teaching.html) at Brock University"
   ]
  },
  {
   "cell_type": "code",
   "execution_count": 2,
   "metadata": {
    "collapsed": false
   },
   "outputs": [
    {
     "data": {
      "application/javascript": [
       "$.getScript('https://kmahelona.github.io/ipython_notebook_goodies/ipython_notebook_toc.js')"
      ],
      "text/plain": [
       "<IPython.core.display.Javascript object>"
      ]
     },
     "metadata": {},
     "output_type": "display_data"
    }
   ],
   "source": [
    "%%javascript\n",
    "$.getScript('https://kmahelona.github.io/ipython_notebook_goodies/ipython_notebook_toc.js')"
   ]
  }
 ],
 "metadata": {
  "anaconda-cloud": {},
  "kernelspec": {
   "display_name": "Python 3",
   "language": "python",
   "name": "python3"
  },
  "language_info": {
   "codemirror_mode": {
    "name": "ipython",
    "version": 3
   },
   "file_extension": ".py",
   "mimetype": "text/x-python",
   "name": "python",
   "nbconvert_exporter": "python",
   "pygments_lexer": "ipython3",
   "version": "3.5.2"
  }
 },
 "nbformat": 4,
 "nbformat_minor": 0
}
