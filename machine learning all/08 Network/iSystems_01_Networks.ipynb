{
 "cells": [
  {
   "cell_type": "markdown",
   "metadata": {},
   "source": [
    "<br><br>\n",
    "<font size='6'><b>Networks</b></font><br><br>\n",
    "\n",
    "- Structural Analysis and Visualization of Networks\n",
    "    - by Prof. Leonid Zhukov \n",
    "    - http://www.leonidzhukov.net/hse/2015/networks/\n",
    "    - Slides\n",
    "    - Videos\n",
    "    - ipython notebook\n",
    "  \n",
    "  \n",
    "- Data Mining\n",
    "    - by Prof. Jeff Phillips\n",
    "    - http://www.cs.utah.edu/~jeffp/teaching/cs5140.html\n",
    "    - http://www.cs.utah.edu/~jeffp/teaching/cs5140-S15/cs5140.html\n",
    "    - https://www.youtube.com/channel/UCcrlwW88yMcXujhGjSP2WBg\n",
    "    \n",
    "    \n",
    "<table style=\"border-style: hidden; border-collapse: collapse;\" width = \"80%\"> \n",
    "    <tr style=\"border-style: hidden; border-collapse: collapse;\">\n",
    "        <td width = 60% style=\"border-style: hidden; border-collapse: collapse;\">\n",
    "\n",
    "        </td>\n",
    "        <td width = 20%>\n",
    "        by Seungchul Lee<br>iSystems Design Lab<br>http://isystems.unist.ac.kr/<br>UNIST\n",
    "        </td>\n",
    "    </tr>\n",
    "</table>\n",
    "\n",
    "Table of Contents\n",
    "<div id=\"toc\"></div>"
   ]
  },
  {
   "cell_type": "markdown",
   "metadata": {},
   "source": [
    "# 1. Degree\n",
    "\n",
    "** Undirected graph**\n",
    "- The degree of vertex in a graph is the number of edges connected to it\n",
    "- denote the degree of vertex $i$ by $k_{i}$\n",
    "- for an undirected graph of $n$ vetices\n",
    "\n",
    "$$ k_i = \\sum_{j=1}^{n} \\; A_{ij} $$\n",
    "\n",
    "- Every edge in an undirected graph has two ends and if there are $m$ edges\n",
    "\n",
    "$$ 2m = \\sum_{i=1}^{n} \\; k_i $$\n",
    "\n",
    "- the mean degree $c$ of a vertex\n",
    "\n",
    "$$ c = \\frac{1}{n} \\sum_{i=1}^{n} \\; k_i $$\n",
    "\n",
    "- the maximum possible number of edges in a graph is $\\left( \\begin{array}{c} n\\\\2 \\end{array}   \\right) = \\frac{n(n-1)}{2}$\n",
    "\n",
    "- _density_ $\\rho$ of a graph is the fraction of these edges that are actually present\n",
    "\n",
    "$$ \\rho = \\frac{m}{\\left( \\begin{array}{c} n\\\\2 \\end{array}   \\right)}$$\n",
    "\n",
    "**Directed graph**\n",
    "\n",
    "- in-degree: the number of incoming edges connected to a vertex\n",
    "\n",
    "$$ k_i^{\\text{in}} = \\sum_{j=1}^{n} \\; A_{ij} $$\n",
    "\n",
    "- out-degree: the number of outgoing edges\n",
    "\n",
    "$$ k_i^{\\text{out}} = \\sum_{i=1}^{n} \\; A_{ij} $$\n",
    "\n",
    "\n"
   ]
  },
  {
   "cell_type": "markdown",
   "metadata": {},
   "source": [
    "# 2. Centrality\n",
    "\n",
    "- Which are the most _important_ or central vertices in a network?\n",
    "- *degree centrality* is a simple centrality measure\n",
    "    - in a social network, it seems reasonable to suppose that inidividuals who have connections to many others might have more influence, more access to information\n",
    "\n",
    "## 2.1. Eigenvector centrality\n",
    "- not all neighbors are equivalent\n",
    "- increase importance by having connections to other vertices that are _themselves important_\n",
    "\n",
    "- sum of the centrality (ranks, scores) of its in-comming neighbors\n",
    "- iteratively update\n",
    "\n",
    "$$\n",
    "\\begin{align*}\n",
    "r_i \\leftarrow \\sum_{j \\, \\in \\, N(i)} r_j = \\sum_{j} A_{ji}r_j\n",
    "\\end{align*}\n",
    "$$\n",
    "\n",
    "- matrix form with a _row_ vector of $r$ \n",
    "\n",
    "$$ \n",
    "\\begin{align*}\n",
    "&1) \\quad r \\leftarrow r\\,A &\\text{update}\\\\\n",
    "&2) \\quad r \\leftarrow \\frac{r}{\\parallel r \\parallel_1}& \\text{normalize}\n",
    "\\end{align*}\n",
    "$$\n",
    "\n",
    "- left eigenvector of the adjacency matrix A associated with the largest eigenvalue\n",
    "\n",
    "$$ \\lambda \\, r = r\\,A $$\n",
    "\n",
    "- [online note](http://www.sci.unich.it/~francesc/teaching/network/eigenvector.html)"
   ]
  },
  {
   "cell_type": "markdown",
   "metadata": {},
   "source": [
    "## 2.2. Google PageRank\n",
    "\n",
    "- Source\n",
    "    - Networks: Friends, Money, and Bytes \n",
    "    - by Prof. Mung Chiang at Princeton University\n",
    "    - [youtube](https://www.youtube.com/user/Network20Q/playlists) playlist\n",
    "\n",
    "\n",
    "- Consider World Wide Web as a graph (or network)\n",
    "\n",
    "- Question: which page is more important?\n",
    "\n",
    "- For Google, which page among google search results should be placed on top?\n",
    "\n",
    "<img src=\"./image_files/internet_graph.jpg\" width = 450>\n",
    "\n",
    "- Read [Wikipedia](https://en.wikipedia.org/wiki/PageRank)\n",
    "\n",
    "- The [original PageRank paper](http://infolab.stanford.edu/~backrub/google.html) by Google’s founders Sergey Brin and Lawrence Page "
   ]
  },
  {
   "cell_type": "markdown",
   "metadata": {},
   "source": [
    "<table style=\"border-style: hidden; border-collapse: collapse;\" width = \"70%\"> \n",
    "    <tr style=\"border-style: hidden; border-collapse: collapse;\">\n",
    "        <td width = 35% style=\"border-style: hidden; border-collapse: collapse;\">\n",
    "            <img src=\"./image_files/graph_try_01.png\", width = 250>\n",
    "        </td>\n",
    "        <td width = 35%>\n",
    "            $$ A = \n",
    "            \\begin{bmatrix}\n",
    "            0 & 0 & 1 & 0\\\\\n",
    "            0 & 0 & 1 & 0\\\\\n",
    "            0 & 0 & 0   & 1\\\\\n",
    "            1 & 1 & 1 & 0\n",
    "            \\end{bmatrix}$$\n",
    "        </td>\n",
    "    </tr>\n",
    "</table>\n",
    "\n",
    "- In-degree\n",
    "    - What makes a page important?\n",
    "    - Possible measure\n",
    "        - In-degree: measure of the number of incoming links a node has ($1,1,3,1$)\n",
    "    - Does this tell the whole story?\n",
    "\n",
    "\n",
    "- Importance score, $\\pi_i$ for node $i$\n",
    "$$ \\pi = \\left[\\pi_1,\\, \\pi_2,\\, \\pi_3,\\, \\pi_4 \\right]$$\n",
    "    - each node...\n",
    "        - has its own importance score\n",
    "        - Spreads an equal amount of its importance to each outgoing link\n",
    "    - _row vector by convention_\n",
    "    \n",
    "    - Out-degree: the number of outgoing links from a node $\\to (1,1,1,3)$\n",
    "    \n",
    "    - _Markov chain_ with transition probability matrix $H$\n",
    "    \n",
    "$$ H = D^{-1}A = \\begin{bmatrix}\n",
    "            1 & 0 & 0 & 0\\\\\n",
    "            0 & 1 & 0 & 0\\\\\n",
    "            0 & 0 & 1 & 0\\\\\n",
    "            0 & 0 & 0 & \\frac{1}{3}\n",
    "            \\end{bmatrix}\n",
    "            \\begin{bmatrix}\n",
    "            0 & 0 & 1 & 0\\\\\n",
    "            0 & 0 & 1 & 0\\\\\n",
    "            0 & 0 & 0   & 1\\\\\n",
    "            1 & 1 & 1 & 0\n",
    "            \\end{bmatrix} = \\begin{bmatrix}\n",
    "0 & 0 & \\frac{1}{1} & 0\\\\\n",
    "0 & 0 & \\frac{1}{1} & 0\\\\\n",
    "0 & 0 & 0   & \\frac{1}{1}\\\\\n",
    "\\frac{1}{3} & \\frac{1}{3} & \\frac{1}{3} & 0\n",
    "\\end{bmatrix}$$"
   ]
  },
  {
   "cell_type": "markdown",
   "metadata": {},
   "source": [
    "- Simultaneous equations\n",
    "    - We can write each node's score in terms of its incoming links\n",
    "    - Recursion: seemingly circular logic\n",
    "<table style=\"border-style: hidden; border-collapse: collapse;\" width = \"70%\"> \n",
    "    <tr style=\"border-style: hidden; border-collapse: collapse;\">\n",
    "        <td width = 35% style=\"border-style: hidden; border-collapse: collapse;\">\n",
    "            $$ \n",
    "            \\begin{align*}\n",
    "            \\pi_1 &= \\frac{\\pi_4}{3}\\\\\n",
    "            \\pi_2 &= \\frac{\\pi_4}{3}\\\\\n",
    "            \\pi_3 &= \\pi_1 + \\pi_2 + \\frac{\\pi_4}{3}\\\\\n",
    "            \\pi_4 &= \\pi_3\n",
    "            \\end{align*}\n",
    "            $$               \n",
    "        </td>\n",
    "        <td width = 35%>\n",
    "            $$ H = \n",
    "            \\begin{bmatrix}\n",
    "            0 & 0 & \\frac{1}{1} & 0\\\\\n",
    "            0 & 0 & \\frac{1}{1} & 0\\\\\n",
    "            0 & 0 & 0   & \\frac{1}{1}\\\\\n",
    "            \\frac{1}{3} & \\frac{1}{3} & \\frac{1}{3} & 0\n",
    "            \\end{bmatrix}$$\n",
    "        </td>\n",
    "    </tr>\n",
    "</table>\n",
    "    - or eigenvalue problem (transposed)\n",
    "$$ \n",
    "\\left[\\pi_1,\\, \\pi_2,\\, \\pi_3,\\, \\pi_4 \\right] \\times\n",
    "\\begin{bmatrix}\n",
    "0 & 0 & \\frac{1}{1} & 0\\\\\n",
    "0 & 0 & \\frac{1}{1} & 0\\\\\n",
    "0 & 0 & 0   & \\frac{1}{1}\\\\\n",
    "\\frac{1}{3} & \\frac{1}{3} & \\frac{1}{3} & 0\n",
    "\\end{bmatrix}\n",
    "= 1\\left[\\pi_1,\\, \\pi_2,\\, \\pi_3,\\, \\pi_4 \\right]\n",
    "$$"
   ]
  },
  {
   "cell_type": "code",
   "execution_count": 9,
   "metadata": {
    "collapsed": false
   },
   "outputs": [
    {
     "data": {
      "text/plain": [
       "ans =\r\n",
       "\r\n",
       "   1.0000 + 0.0000i\r\n",
       "  -0.5000 + 0.6455i\r\n",
       "  -0.5000 - 0.6455i\r\n",
       "   0.0000 + 0.0000i\r\n",
       "\r\n",
       "\r\n",
       "ans =\r\n",
       "\r\n",
       "    0.1250    0.1250    0.3750    0.3750"
      ]
     },
     "execution_count": 9,
     "metadata": {},
     "output_type": "execute_result"
    }
   ],
   "source": [
    "A = [0 0 1 0;\n",
    "     0 0 1 0;\n",
    "     0 0 0 1;\n",
    "     1 1 1 0];\n",
    "\n",
    "d = [1 1 1 3];\n",
    "\n",
    "H = inv(diag(d))*A;\n",
    "\n",
    "[V,D] = eig(H');\n",
    "diag(D)\n",
    "V(:,1)'/sum(V(:,1),1)"
   ]
  },
  {
   "cell_type": "code",
   "execution_count": 14,
   "metadata": {
    "collapsed": false
   },
   "outputs": [
    {
     "data": {
      "text/plain": [
       "r =\r\n",
       "\r\n",
       "    0.1250    0.1250    0.3750    0.3750"
      ]
     },
     "execution_count": 14,
     "metadata": {},
     "output_type": "execute_result"
    }
   ],
   "source": [
    "% iterative \n",
    "\n",
    "N = 4;\n",
    "r = 1/N*ones(1,N); % random guess\n",
    "pre_r = inf*ones(size(r));\n",
    "\n",
    "while norm(pre_r - r,1) > eps    \n",
    "    pre_r = r;\n",
    "    r = r*H;    \n",
    "end\n",
    "\n",
    "r"
   ]
  },
  {
   "cell_type": "markdown",
   "metadata": {},
   "source": [
    "- Dangling nodes\n",
    "    - Does what we just presented always lead to a unique solution?\n",
    "    - Not quite yet !\n",
    "<img src=\"./image_files/graph_try_02.png\", width = 300>\n",
    "    - Dangling nodes\n",
    "        - nodes that do not point to any others\n",
    "        - lead to no meaningful solution\n",
    "        - Solution: assume dangling node points to every node in the graph ($\\rightarrow$ random surfer)\n",
    "\n",
    "\n",
    "- The Random Surfer\n",
    "    - Surfing the web at random\n",
    "    - Two possible actions\n",
    "        - pick a hyperlink randomly from the current page\n",
    "        - enter a URL randomly\n",
    "    - Stochastic matrix $H'$\n",
    "    \n",
    "$$H' = H + \\frac{1}{N}d \\mathbf{1}^T \\qquad$$\n",
    "\n",
    "$\\qquad \\qquad $where $d$ is dangling (absorbing) nodes indicator column vector and $\\mathbb{1}$ is a unit column vector\n",
    "\n",
    "$$ H' = \n",
    "\\begin{bmatrix}\n",
    "0 & 0 & 0 & 1\\\\\n",
    "\\frac{1}{3} & 0 & \\frac{1}{3} & \\frac{1}{3}\\\\\n",
    "\\frac{1}{3} & \\frac{1}{3} & 0   & \\frac{1}{3}\\\\\n",
    "0 & 0 & 0 & 0\n",
    "\\end{bmatrix} + \n",
    "\\begin{bmatrix}\n",
    "0 & 0 & 0 & 0\\\\\n",
    "0 & 0 & 0 & 0\\\\\n",
    "0 & 0 & 0 & 0\\\\\n",
    "\\frac{1}{4} & \\frac{1}{4} & \\frac{1}{4} & \\frac{1}{4}\n",
    "\\end{bmatrix} \n",
    "= H + \\frac{1}{4} \\begin{bmatrix} 0\\\\0\\\\0\\\\1\\end{bmatrix} \\begin{bmatrix} 1 & 1 & 1 &1 \\end{bmatrix} $$"
   ]
  },
  {
   "cell_type": "code",
   "execution_count": 16,
   "metadata": {
    "collapsed": false
   },
   "outputs": [
    {
     "data": {
      "text/plain": [
       "H2 =\r\n",
       "\r\n",
       "         0         0         0    1.0000\r\n",
       "    0.3333         0    0.3333    0.3333\r\n",
       "    0.3333    0.3333         0    0.3333\r\n",
       "    0.2500    0.2500    0.2500    0.2500"
      ]
     },
     "execution_count": 16,
     "metadata": {},
     "output_type": "execute_result"
    }
   ],
   "source": [
    "A = [0 0 0 1;\n",
    "     1 0 1 1;\n",
    "     1 1 0 1;\n",
    "     0 0 0 0];\n",
    "\n",
    "s = sum(A,2);\n",
    "\n",
    "H2 = zeros(size(A));\n",
    "\n",
    "for i = 1:N\n",
    "    if s(i) ~=0\n",
    "        H2(i,:) = A(i,:)/s(i);\n",
    "    else\n",
    "        H2(i,:) = 1/N*ones(N,1);\n",
    "    end\n",
    "end\n",
    "\n",
    "H2"
   ]
  },
  {
   "cell_type": "code",
   "execution_count": 17,
   "metadata": {
    "collapsed": false
   },
   "outputs": [
    {
     "data": {
      "text/plain": [
       "r =\r\n",
       "\r\n",
       "    0.2222    0.1667    0.1667    0.4444"
      ]
     },
     "execution_count": 17,
     "metadata": {},
     "output_type": "execute_result"
    }
   ],
   "source": [
    "% iterative\n",
    "\n",
    "r = 1/N*ones(1,N);\n",
    "pre_r = inf*ones(size(r));\n",
    "\n",
    "while norm(pre_r - r,1) > eps    \n",
    "    pre_r = r;\n",
    "    r = r*H2;    \n",
    "end\n",
    "\n",
    "r"
   ]
  },
  {
   "cell_type": "markdown",
   "metadata": {},
   "source": [
    "- Disconnected graph\n",
    "    - Connected component - group of nodes which can reach eath other, but none outside of the group\n",
    "    - More than one connected component\n",
    "        - Infinitely many solutions\n",
    "        - Stuck in subgraph forever\n",
    "        - Solution: add the purely random surfing into the mix\n",
    "            - you get bored, enter a URL randomly\n",
    "    - PageRank: what is the chance a page is selected at any time?\n",
    "\n",
    "    - Google matrix $G$\n",
    "<table style=\"border-style: hidden; border-collapse: collapse;\" width = \"90%\"> \n",
    "    <tr style=\"border-style: hidden; border-collapse: collapse;\">\n",
    "        <td width = 30% style=\"border-style: hidden; border-collapse: collapse;\">\n",
    "            <img src=\"./image_files/graph_try_03.png\", width = 250>\n",
    "        </td>\n",
    "        <td width = 60%>\n",
    "$$ G = \n",
    "\\alpha \n",
    "\\begin{bmatrix}\n",
    "\\frac{1}{2} & \\frac{1}{2} & 0 & 0\\\\\n",
    "\\frac{1}{2} & \\frac{1}{2} & 0 & 0\\\\\n",
    "0 & 0 & \\frac{1}{2} & \\frac{1}{2}\\\\\n",
    "0 & 0 & \\frac{1}{2} & \\frac{1}{2}\n",
    "\\end{bmatrix} + (1-\\alpha)\n",
    "\\frac{1}{4}\\begin{bmatrix}\n",
    "1 & 1 & 1 & 1\\\\\n",
    "1 & 1 & 1 & 1\\\\\n",
    "1 & 1 & 1 & 1\\\\\n",
    "1 & 1 & 1 & 1\n",
    "\\end{bmatrix}\n",
    "$$\n",
    "        </td>\n",
    "    </tr>\n",
    "</table>\n",
    "\n",
    "$$G = \\alpha H' + (1-\\alpha)\\frac{1}{N}\\mathbf{1}\\mathbf{1}^T$$"
   ]
  },
  {
   "cell_type": "code",
   "execution_count": 21,
   "metadata": {
    "collapsed": false
   },
   "outputs": [
    {
     "data": {
      "text/plain": [
       "H2 =\r\n",
       "\r\n",
       "    0.5000    0.5000         0         0\r\n",
       "    0.5000    0.5000         0         0\r\n",
       "         0         0    0.5000    0.5000\r\n",
       "         0         0    0.5000    0.5000\r\n",
       "\r\n",
       "\r\n",
       "G =\r\n",
       "\r\n",
       "    0.4625    0.4625    0.0375    0.0375\r\n",
       "    0.4625    0.4625    0.0375    0.0375\r\n",
       "    0.0375    0.0375    0.4625    0.4625\r\n",
       "    0.0375    0.0375    0.4625    0.4625"
      ]
     },
     "execution_count": 21,
     "metadata": {},
     "output_type": "execute_result"
    }
   ],
   "source": [
    "A = [1 1 0 0;\n",
    "     1 1 0 0;\n",
    "     0 0 1 1;\n",
    "     0 0 1 1];\n",
    "\n",
    "s = sum(A,2);\n",
    "\n",
    "H2 = zeros(size(A));\n",
    "\n",
    "for i = 1:length(s)\n",
    "    if s(i) ~=0\n",
    "        H2(i,:) = A(i,:)/s(i);\n",
    "    else\n",
    "        H2(i,:) = 1/N*ones(N,1);\n",
    "    end\n",
    "end\n",
    "\n",
    "H2\n",
    "alpha = 0.85;\n",
    "G = alpha*H2 + (1-alpha)*1/N*ones(N,N)"
   ]
  },
  {
   "cell_type": "code",
   "execution_count": 22,
   "metadata": {
    "collapsed": false
   },
   "outputs": [
    {
     "data": {
      "text/plain": [
       "r =\r\n",
       "\r\n",
       "    0.2500    0.2500    0.2500    0.2500"
      ]
     },
     "execution_count": 22,
     "metadata": {},
     "output_type": "execute_result"
    }
   ],
   "source": [
    "% iterative\n",
    "\n",
    "r = 1/N*ones(1,N);\n",
    "pre_r = inf*ones(size(r));\n",
    "\n",
    "while norm(pre_r - r,1) > eps    \n",
    "    pre_r = r;\n",
    "    r = r*G;    \n",
    "end\n",
    "\n",
    "r"
   ]
  },
  {
   "cell_type": "markdown",
   "metadata": {
    "collapsed": true
   },
   "source": [
    "### 2.2.1. PageRank Computations\n",
    "1. Eigenvalue problem (choose left eigenvector $\\pi$ with $\\lambda = 1$)\n",
    "    \n",
    "    $$ \\pi G = 1 \\pi \\implies \\pi = \\alpha \\pi H' + (1-\\alpha)\\frac{1}{N}\\mathbf{1}^T$$\n",
    "\n",
    "    where $\\pi$ is stationary distribution of Markov chain, and raw vector by convention\n",
    "\n",
    "2. Power iterations:\n",
    "\n",
    "$$ \\pi \\leftarrow \\pi \\left(\\alpha H' + (1-\\alpha)\\frac{1}{N}\\mathbf{1}\\mathbf{1}^T \\right) = \\alpha \\pi H' + (1-\\alpha)\\frac{1}{N}\\mathbf{1}^T $$\n",
    "\n",
    "### 2.2.2. Summary\n",
    "\n",
    "<table style=\"border-style: hidden; border-collapse: collapse;\" width = \"96%\"> \n",
    "    <tr style=\"border-style: hidden; border-collapse: collapse;\">\n",
    "        <td width = 5% style=\"border-style: hidden; border-collapse: collapse;\">\n",
    "             \n",
    "        </td>\n",
    "        <td width = 60% style=\"border-style: hidden; border-collapse: collapse;\">\n",
    "             $H $\n",
    "        </td>\n",
    "        <td width = 48%>\n",
    "            from webgraph\n",
    "        </td>\n",
    "    </tr>\n",
    "    <tr style=\"border-style: hidden; border-collapse: collapse;\">\n",
    "        <td width = 5% style=\"border-style: hidden; border-collapse: collapse;\">\n",
    "             \n",
    "        </td>\n",
    "        <td width = 60% style=\"border-style: hidden; border-collapse: collapse;\">\n",
    "             $H' = H + \\frac{1}{N}d \\mathbf{1}^T \\qquad$\n",
    "        </td>\n",
    "        <td width = 48%>\n",
    "            to overcome dangling issue\n",
    "        </td>\n",
    "    </tr>\n",
    "    <tr style=\"border-style: hidden; border-collapse: collapse;\">\n",
    "        <td width = 5% style=\"border-style: hidden; border-collapse: collapse;\">\n",
    "             \n",
    "        </td>\n",
    "        <td width = 60% style=\"border-style: hidden; border-collapse: collapse;\">\n",
    "             $G = \\alpha H' + (1-\\alpha)\\frac{1}{N}\\mathbf{1}\\mathbf{1}^T= \\alpha \\left( H + \\frac{1}{N}d \\mathbf{1}^T\\right) + (1-\\alpha)\\frac{1}{N}\\mathbf{1}\\mathbf{1}^T$\n",
    "        </td>\n",
    "        <td width = 48%>\n",
    "            to overcome disconnected subgraph\n",
    "        </td>\n",
    "    </tr>\n",
    "</table>\n",
    "\n",
    "<br><br>\n",
    "$$ \\pi [k+1] = \\pi [k] G$$"
   ]
  },
  {
   "cell_type": "markdown",
   "metadata": {},
   "source": [
    "# 3. Graph Partitioning Algorithms\n",
    "\n",
    "- **Network communities** are groups of vertices similar to each other\n",
    "    - similarity-based clustering ($\\to$ inner product)\n",
    "    - example: you are defined by your connections (friends)\n",
    "\n",
    "\n",
    "- **Network communities** are groups of vertices such vertices inside the group connected with many more edges than between groups\n",
    "    - graph partitioning (or community detection)\n",
    "    \n",
    "## 3.1. Graph partitioning    \n",
    "- the spectral partitioning\n",
    "- bisection problem (dividing a graph into two parts of specified sizes)\n",
    "\n",
    "<br>\n",
    "\n",
    "Graph $G(E,V)$ partition: $V=V_1 + V_2$\n",
    "- graph cut\n",
    "$$ Q=\\text{cut}\\left(V_1,V_2 \\right) = \\sum_{i\\in V_1,\\; j\\in V_2}{e_{ij}} $$\n",
    "\n",
    "- ratio cut\n",
    "$$ Q=\\frac{\\text{cut}\\left(V_1,V_2 \\right)}{\\parallel V_1 \\parallel} + \\frac{\\text{cut}\\left(V_1,V_2 \\right)}{\\parallel V_2 \\parallel}$$"
   ]
  },
  {
   "cell_type": "code",
   "execution_count": 1,
   "metadata": {
    "collapsed": false
   },
   "outputs": [
    {
     "data": {
      "text/html": [
       "<center><iframe src=\"https://www.youtube.com/embed/fPaOkWzJySQ\" \n",
       "width=\"560\" height=\"315\" frameborder=\"0\" allowfullscreen></iframe></center>"
      ],
      "text/plain": [
       "<IPython.core.display.HTML object>"
      ]
     },
     "metadata": {},
     "output_type": "display_data"
    }
   ],
   "source": [
    "%%html\n",
    "<center><iframe src=\"https://www.youtube.com/embed/fPaOkWzJySQ\" \n",
    "width=\"560\" height=\"315\" frameborder=\"0\" allowfullscreen></iframe></center>"
   ]
  },
  {
   "cell_type": "code",
   "execution_count": 2,
   "metadata": {
    "collapsed": false
   },
   "outputs": [
    {
     "data": {
      "text/html": [
       "<center><iframe src=\"https://www.youtube.com/embed/BgCukCFZr9A\" \n",
       "width=\"560\" height=\"315\" frameborder=\"0\" allowfullscreen></iframe></center>"
      ],
      "text/plain": [
       "<IPython.core.display.HTML object>"
      ]
     },
     "metadata": {},
     "output_type": "display_data"
    }
   ],
   "source": [
    "%%html\n",
    "<center><iframe src=\"https://www.youtube.com/embed/BgCukCFZr9A\" \n",
    "width=\"560\" height=\"315\" frameborder=\"0\" allowfullscreen></iframe></center>"
   ]
  },
  {
   "cell_type": "markdown",
   "metadata": {},
   "source": [
    "## 3.2. Spectral partitioning\n",
    "\n",
    "\n",
    "### 3.2.1. Graph Laplacian and Optimization\n",
    "- indicator vector\n",
    "\n",
    "$$ s_i = \\begin{cases} +1 & \\quad \\text{if } u_i \\in V_1\\\\ -1 & \\quad \\text{if } u_i \\in V_2 \\end{cases}$$\n",
    "\n",
    "- number of edges, connecting $V_1$ and $V_2$\n",
    "\n",
    "$$ \n",
    "\\begin{align*}\n",
    "\\text{cut}\\left(V_1,V_2 \\right) &= \\frac{1}{4} \\sum_{e(i,\\,j)}(s_i - s_j)^2  = \\frac{1}{8} \\sum_{i,\\,j} A_{ij}(s_i - s_j)^2 \\\\&= \\frac{1}{8} \\sum_{i,\\,j} A_{ij}(s_i^2 - 2 s_i s_j + s_j^2) = \\frac{1}{4} \\sum_{i,\\,j} A_{ij}(s_i^2 - s_i s_j) \\\\\n",
    "& = \\frac{1}{4} \\sum_{i} \\sum_{j} A_{ij} s_i^2 - \\frac{1}{4} \\sum_{i,\\,j}A_{ij}s_i s_j = \\frac{1}{4} \\sum_{i} \\left(\\sum_{j} A_{ij}\\right) s_i^2 - \\frac{1}{4} \\sum_{i,\\,j}A_{ij}s_i s_j \\\\&= \\frac{1}{4} \\sum_{i} k_i s_i^2 - \\frac{1}{4} \\sum_{i,\\,j}A_{ij}s_i s_j\\\\\n",
    "& = \\frac{1}{4} \\sum_{i,\\,j} \\left(k_i \\delta_{ij}s_i^2 - A_{ij}s_i s_j\\right) = \\frac{1}{4} \\sum_{i,\\,j} \\left( k_i \\delta_{ij} - A_{ij}\\right)s_i s_j = \\frac{1}{4} \\sum_{i,\\,j} \\left( D_{ij} - A_{ij}\\right)s_i s_j\n",
    "\\end{align*}\n",
    "$$\n",
    "\n",
    "- Graph Laplacian: $L_{ij} = D_{ij} - A_{ij}$, where $D_{ij} = \\text{diag}(k_i)$\n",
    "\n",
    "$$ L_{ij} = \\begin{cases} \\;\\; k_i &\\quad \\text{if } i = j\\\\ -1 &\\quad \\text{if } \\exists \\; e(i,j)\\\\ \\;\\; 0 &\\quad \\text{otherwise}\\end{cases}$$\n",
    "\n",
    "- matrix form\n",
    "\n",
    "$$Q(s) = \\frac{1}{4} s^T L s$$\n",
    "\n",
    "- optimization\n",
    "$$ \n",
    "\\begin{align*}\n",
    "\\min_s \\quad & Q(s) \\\\\n",
    "\\text{subject to } & \\sum_i s_i = 0 \\qquad (\\Rightarrow \\text{balanced cut constraint})\\\\\n",
    "& s_i \\in \\{+1,-1\\}\n",
    "\\end{align*}\n",
    "$$\n",
    "\n",
    "\n",
    "- integer minimizaiton problem, but exact solution is NP-hard"
   ]
  },
  {
   "cell_type": "markdown",
   "metadata": {},
   "source": [
    "### 3.2.2. Relaxed spectral method\n",
    "\n",
    "- $\\text{discrete } s_i \\rightarrow \\text{continuous } x_i$ \n",
    "\n",
    "\n",
    "<table style=\"border-style: hidden; border-collapse: collapse;\" width = \"96%\"> \n",
    "    <tr style=\"border-style: hidden; border-collapse: collapse;\">\n",
    "        <td width = 30% style=\"border-style: hidden; border-collapse: collapse;\">\n",
    "            $$ \n",
    "            \\begin{align*}\n",
    "            \\min_x \\quad  & \\;\\frac{1}{4} x^T L x \\quad = \\min_x \\; x^T L x\\\\ \n",
    "            \\text{subject to } &  \\sum_i x_i = 0\\\\ \n",
    "             & \\sum_i x_i^2 = n \n",
    "            \\end{align*}\n",
    "            $$\n",
    "        </td>        \n",
    "        <td width = 5% style=\"border-style: hidden; border-collapse: collapse;\">\n",
    "        $\\implies$\n",
    "        </td>\n",
    "        <td width = 20% style=\"border-style: hidden; border-collapse: collapse;\"> \n",
    "            $$ \n",
    "            \\begin{align*}\n",
    "            \\min_x \\quad  & \\; x^T L x\\\\ \n",
    "            \\text{subject to } &  x^T \\mathbb{1} = 0\\\\ \n",
    "             & x^Tx = n \n",
    "            \\end{align*}\n",
    "            $$\n",
    "        </td> \n",
    "        <td width = 5% style=\"border-style: hidden; border-collapse: collapse;\">\n",
    "        $\\implies$\n",
    "        </td>\n",
    "        <td width = 30%>\n",
    "            $$ \n",
    "            \\begin{align*}\n",
    "            \\min_x \\quad  & \\; \\left(\\frac{x}{\\sqrt{n}}\\right)^T L \\left(\\frac{x}{\\sqrt{n}}\\right)\\\\ \n",
    "            \\text{subject to } &  \\left(\\frac{x}{\\sqrt{n}}\\right)^T \\mathbb{1} = 0\\\\ \n",
    "             & \\left(\\frac{x}{\\sqrt{n}}\\right)^T\\left(\\frac{x}{\\sqrt{n}}\\right) = 1\n",
    "            \\end{align*}\n",
    "            $$\n",
    "        </td>\n",
    "    </tr>\n",
    "</table>\n",
    "\n",
    "<table style=\"border-style: hidden; border-collapse: collapse;\" width = \"96%\"> \n",
    "    <tr style=\"border-style: hidden; border-collapse: collapse;\">\n",
    "        <td width = 30% style=\"border-style: hidden; border-collapse: collapse;\">\n",
    "$$ \\frac{x}{\\sqrt{n}} \\rightarrow x$$\n",
    "        </td>\n",
    "        <td width = 5% style=\"border-style: hidden; border-collapse: collapse;\">\n",
    "        $\\implies$\n",
    "        <td width = 20% style=\"border-style: hidden; border-collapse: collapse;\">\n",
    "            $$ \n",
    "            \\begin{align*}\n",
    "            \\min_x \\quad  & \\; x^T L x\\\\ \n",
    "            \\text{subject to } &  x^T \\mathbb{1} = 0\\\\ \n",
    "             & x^Tx = 1 \n",
    "            \\end{align*}\n",
    "            $$\n",
    "        </td>\n",
    "        <td width = 5% style=\"border-style: hidden; border-collapse: collapse;\">\n",
    "        $\\implies$\n",
    "        <td width = 30%>\n",
    "            $$ \n",
    "            \\begin{align*}\n",
    "            \\min_x \\quad  & \\; \\frac{x^T L x}{x^Tx}\\\\ \n",
    "            \\text{subject to } &  x^T \\mathbb{1} = 0\\\\  \n",
    "            \\end{align*}\n",
    "            $$\n",
    "        </td>\n",
    "    </tr>\n",
    "</table>\n",
    "\n",
    "- given $x_i$, round them up by $s_i = \\text{sign}(x_i)$"
   ]
  },
  {
   "cell_type": "markdown",
   "metadata": {},
   "source": [
    "<br>\n",
    "__Solution__\n",
    "\n",
    "- Eigenvalue problem\n",
    "$$ Lx = \\lambda x, \\quad x \\perp \\mathbb{1} $$\n",
    "<br><br>\n",
    "$$ \n",
    "\\begin{align*}\n",
    "\\min_x \\quad  & \\; \\frac{x^T L x}{x^Tx} = \\min_x \\; \\lambda\\\\ \\\\\n",
    "\\text{subject to } &  x^T \\mathbb{1} = 0\\\\  \n",
    "\\end{align*}\n",
    "$$\n",
    "<br><br>\n",
    "- First (smallest) eigenvector $=\\mathbb{1}$\n",
    "$$ L\\mathbb{1} = 0 = 0\\mathbb{1} \\; \\implies \\; \\lambda = 0, \\quad x_1 = \\mathbb{1} $$\n",
    "\n",
    "<br>\n",
    "- Looking for the second smallest eigenvalue/eigenvector $\\lambda_2$ and $x_2$\n",
    "\n",
    "$$ x_2 \\perp x_1 = \\mathbb{1}$$"
   ]
  },
  {
   "cell_type": "markdown",
   "metadata": {
    "collapsed": true
   },
   "source": [
    "<br>\n",
    "**Solution using Lagrange multipliers (optional)**\n",
    "\n",
    "$$ Q(x) = \\frac{1}{4} x^T L x - \\lambda (x^Tx-n), \\quad x^T \\mathbb{1} = 0 $$\n",
    "\n",
    "- Eigenvalue problem\n",
    "$$ Lx = \\lambda x, \\quad x \\perp \\mathbb{1} $$\n",
    "\n",
    "- Solution\n",
    "$$ Q(x) = \\frac{n}{4} \\lambda $$ \n",
    "\n",
    "- First (smallest) eigenvector $=\\mathbb{1}$\n",
    "$$ L\\mathbb{1} = 0, \\quad \\lambda = 0, \\quad x_1 = \\mathbb{1} $$\n",
    "\n",
    "<br>\n",
    "- Looking for the second smallest eigenvalue/eigenvector $\\lambda_2$ and $x_2$\n",
    "\n",
    "$$ x_2 \\perp x_1 = \\mathbb{1}$$"
   ]
  },
  {
   "cell_type": "markdown",
   "metadata": {
    "collapsed": true
   },
   "source": [
    "## 3.3. Example 1\n",
    "\n",
    "<table style=\"border-style: hidden; border-collapse: collapse;\" width = \"96%\"> \n",
    "    <tr style=\"border-style: hidden; border-collapse: collapse;\">\n",
    "        <td width = 48% style=\"border-style: hidden; border-collapse: collapse;\">\n",
    "<img src=\"./image_files/graph_4.png\", width = 400>\n",
    "        </td>\n",
    "        <td width = 48%>\n",
    "<img src=\"./image_files/adjacent_matrix_2.png\", width = 250>\n",
    "        </td>\n",
    "    </tr>\n",
    "</table>"
   ]
  },
  {
   "cell_type": "code",
   "execution_count": 1,
   "metadata": {
    "collapsed": false,
    "scrolled": true
   },
   "outputs": [
    {
     "data": {
      "text/plain": [
       "ans =\r\n",
       "\r\n",
       "   -0.0000\r\n",
       "    0.2907\r\n",
       "    2.0000\r\n",
       "    2.8061\r\n",
       "    4.0000\r\n",
       "    4.0000\r\n",
       "    4.0000\r\n",
       "    4.9032\r\n",
       "\r\n",
       "\r\n",
       "u2 =\r\n",
       "\r\n",
       "   -0.1993\r\n",
       "    0.3696\r\n",
       "   -0.4325\r\n",
       "    0.1993\r\n",
       "   -0.3696\r\n",
       "    0.3696\r\n",
       "   -0.3696\r\n",
       "    0.4325"
      ]
     },
     "execution_count": 1,
     "metadata": {},
     "output_type": "execute_result"
    }
   ],
   "source": [
    "A = [0 0 0 1 1 0 1 0;\n",
    "     0 0 0 1 0 1 0 1;\n",
    "     0 0 0 0 1 0 1 0;\n",
    "     1 1 0 0 0 1 0 0;\n",
    "     1 0 1 0 0 0 1 0;\n",
    "     0 1 0 1 0 0 0 1;\n",
    "     1 0 1 0 1 0 0 0;\n",
    "     0 1 0 0 0 1 0 0];\n",
    "\n",
    "L = diag(sum(A,1)) - A;\n",
    "[V,D] = eig(L);\n",
    "diag(D)\n",
    "[ds,Y] = sort(diag(D));\n",
    "u2 = V(:,Y(2))\n",
    "[v2,I] = sort(u2,'ascend');"
   ]
  },
  {
   "cell_type": "code",
   "execution_count": 5,
   "metadata": {
    "collapsed": false
   },
   "outputs": [
    {
     "data": {
      "image/png": "[encoded data removed]",
      "text/plain": [
       "<IPython.core.display.Image object>"
      ]
     },
     "metadata": {},
     "output_type": "display_data"
    },
    {
     "data": {},
     "execution_count": 5,
     "metadata": {},
     "output_type": "execute_result"
    }
   ],
   "source": [
    "%plot -s 700,300\n",
    "subplot(1,2,1), plot(1:8,u2,'.'), xlim([0 9])\n",
    "subplot(1,2,2), plot(1:8,v2,'.'), xlim([0 9])"
   ]
  },
  {
   "cell_type": "code",
   "execution_count": 6,
   "metadata": {
    "collapsed": false
   },
   "outputs": [
    {
     "data": {
      "text/plain": [
       "A =\r\n",
       "\r\n",
       "     0     0     0     1     1     0     1     0\r\n",
       "     0     0     0     1     0     1     0     1\r\n",
       "     0     0     0     0     1     0     1     0\r\n",
       "     1     1     0     0     0     1     0     0\r\n",
       "     1     0     1     0     0     0     1     0\r\n",
       "     0     1     0     1     0     0     0     1\r\n",
       "     1     0     1     0     1     0     0     0\r\n",
       "     0     1     0     0     0     1     0     0\r\n",
       "\r\n",
       "\r\n",
       "B =\r\n",
       "\r\n",
       "     0     1     1     0     0     0     0     0\r\n",
       "     1     0     1     1     0     0     0     0\r\n",
       "     1     1     0     1     0     0     0     0\r\n",
       "     0     1     1     0     1     0     0     0\r\n",
       "     0     0     0     1     0     1     1     0\r\n",
       "     0     0     0     0     1     0     1     1\r\n",
       "     0     0     0     0     1     1     0     1\r\n",
       "     0     0     0     0     0     1     1     0\r\n",
       "\r\n",
       "\r\n",
       "I =\r\n",
       "\r\n",
       "     3\r\n",
       "     5\r\n",
       "     7\r\n",
       "     1\r\n",
       "     4\r\n",
       "     6\r\n",
       "     2\r\n",
       "     8"
      ]
     },
     "execution_count": 6,
     "metadata": {},
     "output_type": "execute_result"
    }
   ],
   "source": [
    "A\n",
    "B = A(I,I)\n",
    "\n",
    "I"
   ]
  },
  {
   "cell_type": "markdown",
   "metadata": {
    "collapsed": true
   },
   "source": [
    "<table style=\"border-style: hidden; border-collapse: collapse;\" width = \"90%\"> \n",
    "    <tr style=\"border-style: hidden; border-collapse: collapse;\">\n",
    "        <td width = 45% style=\"border-style: hidden; border-collapse: collapse;\">\n",
    "            <img src=\"./image_files/graph_5.png\", width = 400>\n",
    "        </td>\n",
    "        <td width = 45%>\n",
    "            <img src=\"./image_files/rearranged.png\", width = 130>\n",
    "        </td>\n",
    "    </tr>\n",
    "</table>"
   ]
  },
  {
   "cell_type": "code",
   "execution_count": 7,
   "metadata": {
    "collapsed": false
   },
   "outputs": [
    {
     "data": {
      "image/png": "[encoded data removed]",
      "text/plain": [
       "<IPython.core.display.Image object>"
      ]
     },
     "metadata": {},
     "output_type": "display_data"
    },
    {
     "data": {},
     "execution_count": 7,
     "metadata": {},
     "output_type": "execute_result"
    }
   ],
   "source": [
    "%plot -s 700,300\n",
    "subplot(1,2,1), spy(A)\n",
    "subplot(1,2,2), spy(B)"
   ]
  },
  {
   "cell_type": "markdown",
   "metadata": {},
   "source": [
    "## 3.4. Example 2\n",
    " <img src=\"./image_files/graph_6.png\", width = 250>"
   ]
  },
  {
   "cell_type": "code",
   "execution_count": 8,
   "metadata": {
    "collapsed": false
   },
   "outputs": [
    {
     "data": {
      "image/png": "[encoded data removed]",
      "text/plain": [
       "<IPython.core.display.Image object>"
      ]
     },
     "metadata": {},
     "output_type": "display_data"
    },
    {
     "data": {},
     "execution_count": 8,
     "metadata": {},
     "output_type": "execute_result"
    }
   ],
   "source": [
    "%plot -s 700,300\n",
    "A = [0 0 0 0 1 0 1 0 0 0 0 0 0 0 0 0;\n",
    "     0 0 1 1 1 0 0 0 1 0 0 0 0 0 0 0;\n",
    "     0 1 0 1 1 1 0 1 0 0 0 0 0 0 0 0;\n",
    "     0 1 1 0 0 0 1 0 0 0 0 0 0 0 0 0;\n",
    "     1 1 1 0 0 1 0 0 0 0 0 0 0 0 0 0;\n",
    "     0 0 1 0 1 0 1 0 0 1 0 0 0 0 0 0;\n",
    "     1 0 0 1 0 1 0 1 0 0 0 0 0 0 0 0;\n",
    "     0 0 1 0 0 0 1 0 0 1 0 0 0 0 0 0;\n",
    "     0 1 0 0 0 0 0 0 0 1 1 1 1 0 1 0;\n",
    "     0 0 0 0 0 1 0 1 1 0 1 0 0 0 1 0;\n",
    "     0 0 0 0 0 0 0 0 1 1 0 0 0 0 0 0;\n",
    "     0 0 0 0 0 0 0 0 1 0 0 0 0 1 0 0;\n",
    "     0 0 0 0 0 0 0 0 1 0 0 0 0 1 1 0;\n",
    "     0 0 0 0 0 0 0 0 0 0 0 1 1 0 1 0;\n",
    "     0 0 0 0 0 0 0 0 1 1 0 0 1 1 0 1;\n",
    "     0 0 0 0 0 0 0 0 0 0 0 0 0 0 1 0;\n",
    "    ];    \n",
    "\n",
    "L = diag(sum(A,1)) - A;\n",
    "[V,D] = eig(L);\n",
    "\n",
    "u2 = V(:,2);\n",
    "[v2,I] = sort(u2,'ascend');\n",
    "\n",
    "subplot(1,2,1), plot(1:16,u2,'.'), xlim([0 17])\n",
    "subplot(1,2,2), plot(1:16,v2,'.'), xlim([0 17])"
   ]
  },
  {
   "cell_type": "code",
   "execution_count": 32,
   "metadata": {
    "collapsed": false
   },
   "outputs": [
    {
     "data": {
      "image/png": "[encoded data removed]",
      "text/plain": [
       "<IPython.core.display.Image object>"
      ]
     },
     "metadata": {},
     "output_type": "display_data"
    },
    {
     "data": {
      "text/plain": [
       "ans =\r\n",
       "\r\n",
       "     9    10    11    12    13    14    15    16"
      ]
     },
     "execution_count": 32,
     "metadata": {},
     "output_type": "execute_result"
    }
   ],
   "source": [
    "spy(A(I,I))\n",
    "\n",
    "S = 1:16;\n",
    "S(u2<0)"
   ]
  },
  {
   "cell_type": "markdown",
   "metadata": {},
   "source": [
    " <img src=\"./image_files/graph_6.png\", width = 250>"
   ]
  },
  {
   "cell_type": "markdown",
   "metadata": {},
   "source": [
    "## 3.5. Example 3: Zachary Karate Club\n",
    "\n",
    "- Zachary's Karate Club is a well-known social network of a university karate club described in \"An Information Flow Model for Conflict and Fission in Small Groups\" paper by Wayne W. Zachary.\n",
    "\n",
    "\n",
    "- A social network of a karate club was studied by Wayne W. Zachary for a period of three years from 1970 to 1972. The network captures 34 members of a karate club, documenting 78 pairwise links between members who interacted outside the club. During the study a conflict arose between the administrator \"John A\" and instructor \"Mr. Hi\" (pseudonyms), which led to the split of the club into two. Half of the members formed a new club around Mr. Hi, members from the other part found a new instructor or gave up karate. Basing on collected data Zachary assigned correctly all but one member of the club to the groups they actually joined after the split.\n",
    "\n",
    "\n",
    "- Source:\n",
    "    - https://en.wikipedia.org/wiki/Zachary%27s_karate_club\n",
    "    - http://konect.uni-koblenz.de/networks/ucidata-zachary\n",
    "    - http://www-personal.umich.edu/~mejn/netdata/\n",
    "\n",
    "\n",
    "<img src=\"./image_files/Karate_2.png\", width = 300>\n",
    "- note: node labels start from 0"
   ]
  },
  {
   "cell_type": "code",
   "execution_count": 11,
   "metadata": {
    "collapsed": false
   },
   "outputs": [
    {
     "data": {
      "image/png": "[encoded data removed]",
      "text/plain": [
       "<IPython.core.display.Image object>"
      ]
     },
     "metadata": {},
     "output_type": "display_data"
    },
    {
     "data": {},
     "execution_count": 11,
     "metadata": {},
     "output_type": "execute_result"
    }
   ],
   "source": [
    "%plot -s 560,420\n",
    "[A,~] = xlsread([pwd,'\\image_files\\matrix_noheader.csv']);\n",
    "spy(A)"
   ]
  },
  {
   "cell_type": "code",
   "execution_count": 12,
   "metadata": {
    "collapsed": false
   },
   "outputs": [
    {
     "data": {
      "image/png": "[encoded data removed]",
      "text/plain": [
       "<IPython.core.display.Image object>"
      ]
     },
     "metadata": {},
     "output_type": "display_data"
    },
    {
     "data": {},
     "execution_count": 12,
     "metadata": {},
     "output_type": "execute_result"
    }
   ],
   "source": [
    "L = diag(sum(A,1)) - A;\n",
    "[V,D] = eig(L);\n",
    "plot(1:34,diag(D),'.'), title('eigenvalues')"
   ]
  },
  {
   "cell_type": "code",
   "execution_count": 13,
   "metadata": {
    "collapsed": false
   },
   "outputs": [
    {
     "data": {
      "image/png": "[encoded data removed]",
      "text/plain": [
       "<IPython.core.display.Image object>"
      ]
     },
     "metadata": {},
     "output_type": "display_data"
    },
    {
     "data": {},
     "execution_count": 13,
     "metadata": {},
     "output_type": "execute_result"
    }
   ],
   "source": [
    "%plot -s 700,300\n",
    "u2 = V(:,2);\n",
    "[v2,I] = sort(u2,'ascend');\n",
    "\n",
    "subplot(1,2,1), plot(1:34,u2,'.'), title('2nd smallest eigenvector','fontsize',8), xlim([0 35])\n",
    "subplot(1,2,2), plot(1:34,v2,'.'), title('sorted','fontsize',8), xlim([0 35])"
   ]
  },
  {
   "cell_type": "code",
   "execution_count": 15,
   "metadata": {
    "collapsed": false
   },
   "outputs": [
    {
     "data": {
      "image/png": "[encoded data removed]",
      "text/plain": [
       "<IPython.core.display.Image object>"
      ]
     },
     "metadata": {},
     "output_type": "display_data"
    },
    {
     "data": {
      "text/plain": [
       "ans =\r\n",
       "\r\n",
       "     1     2     4     5     6     7     8    11    12    13    14    17    18    20    22"
      ]
     },
     "execution_count": 15,
     "metadata": {},
     "output_type": "execute_result"
    }
   ],
   "source": [
    "%plot -s 700,300\n",
    "subplot(1,2,1), spy(A)\n",
    "subplot(1,2,2), spy(A(I,I))\n",
    "\n",
    "S = 1:34;\n",
    "S(u2<0)"
   ]
  },
  {
   "cell_type": "markdown",
   "metadata": {},
   "source": [
    " <table style=\"border-style: hidden; border-collapse: collapse;\" width = \"96%\"> \n",
    "    <tr style=\"border-style: hidden; border-collapse: collapse;\">\n",
    "        <td width = 48% style=\"border-style: hidden; border-collapse: collapse;\">\n",
    "            <img src=\"./image_files/Zachary.png\", width = 400>\n",
    "        </td>\n",
    "        <td width = 48%>\n",
    "            <img src=\"./image_files/Karate_Cuneyt_Akcora.png\", width = 350>\n",
    "        </td>\n",
    "    </tr>\n",
    "</table>\n",
    "\n",
    "- Node 1 stands for the instructor, node 34 for the president"
   ]
  },
  {
   "cell_type": "markdown",
   "metadata": {},
   "source": [
    "## 3.6. Normalized cut (optional)"
   ]
  },
  {
   "cell_type": "code",
   "execution_count": 17,
   "metadata": {
    "collapsed": false
   },
   "outputs": [
    {
     "data": {
      "image/png": "[encoded data removed]",
      "text/plain": [
       "<IPython.core.display.Image object>"
      ]
     },
     "metadata": {},
     "output_type": "display_data"
    },
    {
     "data": {},
     "execution_count": 17,
     "metadata": {},
     "output_type": "execute_result"
    }
   ],
   "source": [
    "%plot -s 560,420\n",
    "n = length(A);\n",
    "deg = sum(A); % for other than simple graphs, use [deg,~,~]=degrees(adj);\n",
    "\n",
    "L = zeros(n);\n",
    "edges = find(A>0);\n",
    "\n",
    "for e = 1:length(edges)\n",
    "    [i,j] = ind2sub([n,n],edges(e));\n",
    "    if i == j\n",
    "        L(i,i) = 1; \n",
    "        continue \n",
    "    end\n",
    "    L(i,j) = -1/sqrt(deg(i)*deg(j));\n",
    "end\n",
    "\n",
    "%%\n",
    "[V,D] = eig(L);\n",
    "plot(1:34,diag(D),'.'), title('eigenvalues')"
   ]
  },
  {
   "cell_type": "code",
   "execution_count": 21,
   "metadata": {
    "collapsed": false
   },
   "outputs": [
    {
     "data": {
      "image/png": "[encoded data removed]",
      "text/plain": [
       "<IPython.core.display.Image object>"
      ]
     },
     "metadata": {},
     "output_type": "display_data"
    },
    {
     "data": {},
     "execution_count": 21,
     "metadata": {},
     "output_type": "execute_result"
    }
   ],
   "source": [
    "%plot -s 700,300\n",
    "u2 = V(:,2);\n",
    "[v2, I] = sort(u2,'ascend');\n",
    "\n",
    "subplot(1,2,1), plot(1:34,u2,'.'), title('2nd smallest eigenvector','fontsize',8), xlim([0 35])\n",
    "subplot(1,2,2), plot(1:34,v2,'.'), title('sorted','fontsize',8), xlim([0 35])"
   ]
  },
  {
   "cell_type": "code",
   "execution_count": 19,
   "metadata": {
    "collapsed": false
   },
   "outputs": [
    {
     "data": {
      "image/png": "[encoded data removed]",
      "text/plain": [
       "<IPython.core.display.Image object>"
      ]
     },
     "metadata": {},
     "output_type": "display_data"
    },
    {
     "data": {
      "text/plain": [
       "ans =\r\n",
       "\r\n",
       "     1     2     4     5     6     7     8    11    12    13    14    17    18    20    22"
      ]
     },
     "execution_count": 19,
     "metadata": {},
     "output_type": "execute_result"
    }
   ],
   "source": [
    "%plot -s 700,300\n",
    "subplot(1,2,1), spy(A)\n",
    "subplot(1,2,2), spy(A(I,I))\n",
    "\n",
    "S = 1:34;\n",
    "S(u2<0)"
   ]
  },
  {
   "cell_type": "markdown",
   "metadata": {
    "collapsed": true
   },
   "source": [
    " <table style=\"border-style: hidden; border-collapse: collapse;\" width = \"96%\"> \n",
    "    <tr style=\"border-style: hidden; border-collapse: collapse;\">\n",
    "        <td width = 48% style=\"border-style: hidden; border-collapse: collapse;\">\n",
    "            <img src=\"./image_files/Zachary.png\", width = 400>\n",
    "        </td>\n",
    "        <td width = 48%>\n",
    "            <img src=\"./image_files/Karate_Cuneyt_Akcora.png\", width = 350>\n",
    "        </td>\n",
    "    </tr>\n",
    "</table>\n",
    "\n",
    "- Node 1 stands for the instructor, node 34 for the president"
   ]
  },
  {
   "cell_type": "code",
   "execution_count": 20,
   "metadata": {
    "collapsed": false
   },
   "outputs": [
    {
     "data": {
      "image/png": "[encoded data removed]",
      "text/plain": [
       "<IPython.core.display.Image object>"
      ]
     },
     "metadata": {},
     "output_type": "display_data"
    },
    {
     "data": {},
     "execution_count": 20,
     "metadata": {},
     "output_type": "execute_result"
    }
   ],
   "source": [
    "imagesc(A(I,I)), colormap('hot'), axis equal, axis off"
   ]
  },
  {
   "cell_type": "markdown",
   "metadata": {},
   "source": [
    "## 3.7. Flocking Example"
   ]
  },
  {
   "cell_type": "code",
   "execution_count": 3,
   "metadata": {
    "collapsed": false,
    "scrolled": true
   },
   "outputs": [
    {
     "data": {
      "text/html": [
       "<center><iframe src=\"https://www.youtube.com/embed/t3Gp4vob_t8\" \n",
       "width=\"560\" height=\"315\" frameborder=\"0\" allowfullscreen></iframe></center>"
      ],
      "text/plain": [
       "<IPython.core.display.HTML object>"
      ]
     },
     "metadata": {},
     "output_type": "display_data"
    }
   ],
   "source": [
    "%%html\n",
    "<center><iframe src=\"https://www.youtube.com/embed/t3Gp4vob_t8\" \n",
    "width=\"560\" height=\"315\" frameborder=\"0\" allowfullscreen></iframe></center>"
   ]
  },
  {
   "cell_type": "markdown",
   "metadata": {},
   "source": [
    "<img src=\"./image_files/Velocity.gif\", width = 800>"
   ]
  },
  {
   "cell_type": "code",
   "execution_count": 23,
   "metadata": {
    "collapsed": false
   },
   "outputs": [
    {
     "data": {
      "application/javascript": [
       "$.getScript('https://kmahelona.github.io/ipython_notebook_goodies/ipython_notebook_toc.js')"
      ],
      "text/plain": [
       "<IPython.core.display.Javascript object>"
      ]
     },
     "metadata": {},
     "output_type": "display_data"
    }
   ],
   "source": [
    "%%javascript\n",
    "$.getScript('https://kmahelona.github.io/ipython_notebook_goodies/ipython_notebook_toc.js')"
   ]
  }
 ],
 "metadata": {
  "kernelspec": {
   "display_name": "Matlab",
   "language": "matlab",
   "name": "matlab_kernel"
  },
  "language_info": {
   "file_extension": ".m",
   "help_links": [
    {
     "text": "MetaKernel Magics",
     "url": "https://github.com/calysto/metakernel/blob/master/metakernel/magics/README.md"
    }
   ],
   "mimetype": "text/x-matlab",
   "name": "octave"
  }
 },
 "nbformat": 4,
 "nbformat_minor": 0
}
