{
 "cells": [
  {
   "cell_type": "markdown",
   "metadata": {},
   "source": [
    "<br><br>\n",
    "<font size='6'><b>Probability for Machine Learning</b></font><br><br>\n",
    "\n",
    "<table style=\"border-style: hidden; border-collapse: collapse;\" width = \"80%\"> \n",
    "    <tr style=\"border-style: hidden; border-collapse: collapse;\">\n",
    "        <td width = 60% style=\"border-style: hidden; border-collapse: collapse;\">\n",
    "\n",
    "        </td>\n",
    "        <td width = 20%>\n",
    "        by Seungchul Lee<br>iSystems Design Lab<br>http://isystems.unist.ac.kr/<br>UNIST\n",
    "        </td>\n",
    "    </tr>\n",
    "</table>\n",
    "\n",
    "Table of Contents\n",
    "<div id=\"toc\"></div>"
   ]
  },
  {
   "cell_type": "markdown",
   "metadata": {},
   "source": [
    "# 1. Random Variable (= r.v.)"
   ]
  },
  {
   "cell_type": "markdown",
   "metadata": {},
   "source": [
    "- (Rough) Definition: Variable with a probability\n",
    "\n",
    "\n",
    "- Probability that $x=a$\n",
    "\n",
    "$$\\triangleq  \\;\n",
    "P_X(x=a)=P(x=a)\n",
    "\\begin{cases}\n",
    "    \\text{1)} \\; P(x=a) \\geq 0 \\\\\n",
    "    \\text{2)} \\; \\sum\\limits_{\\text{all}} P(x)=1\n",
    "\\end{cases}$$\n",
    "\n",
    "\n",
    "- $\\begin{cases}\n",
    "    \\text{continuous r.v.} \\qquad \\text{if} \\;x \\;\\text{is continuous}\\\\\n",
    "    \\text{discrete r.v.} \\quad \\qquad \\, \\text{if} \\;x \\;\\text{is discrete}\n",
    "\\end{cases}$"
   ]
  },
  {
   "cell_type": "markdown",
   "metadata": {},
   "source": [
    "__Example__\n",
    "\n",
    "- $x$: die outcome\n",
    "\n",
    "$$ P(X=1)=P(X=2)= \\;\\dotsb \\;= P(X=6) = \\frac{1}{6} $$\n",
    "\n",
    "- Question\n",
    "$$ y = x_1 + x_2: \\;\\;\\; \\text{  sum of two dice}$$\n",
    "\n",
    "$$ P_Y(y=5) = \\text{?}$$\n",
    "\n",
    "<br>\n",
    "<img src=\"image_files/01.bmp\", width=\"600\">\n",
    "<br>"
   ]
  },
  {
   "cell_type": "markdown",
   "metadata": {},
   "source": [
    "## 1.1. Expectation = mean\n",
    "\n",
    "$$ E[x]=\n",
    "\\begin{cases}\n",
    "    \\sum\\limits_{x}xP(x) & \\quad \\text{discrete}\\\\\n",
    "    \\int_{x} xP(x)dx & \\quad \\text{continuous}\n",
    "\\end{cases}$$"
   ]
  },
  {
   "cell_type": "markdown",
   "metadata": {},
   "source": [
    "__Example__\n",
    "\n",
    "\n",
    "$$\n",
    "\\begin{align*}\n",
    "\\text{Sample mean} &= \\sum\\limits_{x}x\\cdot\\frac{1}{m}\\;\\;(\\because\\;\\text{uniform distribution assumed})\\\\\n",
    "\\text{Variance} \\quad \\text{var}[x] &=E\\big[(x-E[x])^2 \\big]\\;\\text{: mean square deviation from mean}\n",
    "\\end{align*}$$"
   ]
  },
  {
   "cell_type": "markdown",
   "metadata": {},
   "source": [
    "# 2. Random Vectors (multivariate R.V.)"
   ]
  },
  {
   "cell_type": "markdown",
   "metadata": {},
   "source": [
    "<br>\n",
    "$$ \n",
    "x = \\begin{bmatrix}x_1\\\\x_2\\\\\\vdots\\\\x_n\\end{bmatrix}, \\;\\;\\text{$n$ random variables}$$\n",
    "\n",
    "## Joint density probability\n",
    "\n",
    "- Joint prob. models probability of co-occurrence of many r.v. \n",
    "    \n",
    "$$ P_{X_1,\\cdots,X_n}(X_1=x_1,\\cdots,X_n=x_n)$$\n",
    "\n",
    "\n",
    "<img src=\"./image_files/joint.png\" width = 350>"
   ]
  },
  {
   "cell_type": "markdown",
   "metadata": {},
   "source": [
    "## Marginal density probability\n",
    "<br><br>\n",
    "$$ P_{X_1}(X_1=x_1),\\,\\cdots,\\,P_{X_n}(X_n=x_n)$$\n",
    "\n",
    " - For two r.v.\n",
    " \n",
    "$$ \\begin{align*}P(X) &= \\sum_y P(X,Y=y)\\\\ P(Y) &= \\sum_x P(X=x,Y)\\end{align*}$$\n",
    "\n",
    "<img src=\"./image_files/marginal.png\" width = 450>\n",
    "\n",
    "<br>"
   ]
  },
  {
   "cell_type": "markdown",
   "metadata": {},
   "source": [
    "## Conditional probability\n",
    "\n",
    "- Probability of one event when we know the outcome of the other\n",
    "    \n",
    "$$P(X_1=x_1 \\mid X_2=x_2) = \\frac{P(X_1=x_1,X_2=x_2)}{P(X_2=x_2)}: \\qquad \\text{Conditional prob. of $x_1$ given $x_2$}$$\n",
    "\n",
    "<img src=\"./image_files/condition.png\" width = 600>"
   ]
  },
  {
   "cell_type": "markdown",
   "metadata": {},
   "source": [
    "- Independent random variables\n",
    "    - when one tells nothing about the other\n",
    "\n",
    "$$\\begin{align*} \n",
    "P(X_1=x_1 \\mid X_2=x_2) &=P(X_1=x_1) \\\\ &\\Updownarrow \\\\\n",
    "P(X_2=x_2 \\mid X_1=x_1) &=P(X_2=x_2) \\\\ &\\Updownarrow \\\\\n",
    "P(X_1=x_1,X_2=x_2) & = P(X_1=x_1)P(X_2=x_2) \n",
    "\\end{align*}$$\n",
    "\n",
    "<img src=\"./image_files/independent.png\" width = 600>"
   ]
  },
  {
   "cell_type": "markdown",
   "metadata": {},
   "source": [
    "__Example__\n",
    "\n",
    "- four dice $\\, \\omega_1\\;  \\omega_2 \\; \\omega_3 \\;\\omega_4$\n",
    "\n",
    "$$\\begin{align*}x&=\\omega_1+\\omega_2\\;\\;\\; \\text{: sum of the first two dice}\\\\\n",
    "y&=\\omega_1+\\omega_2+\\omega_3+\\omega_4\\;\\;\\; \\text{: sum of all four dice}\\end{align*}$$\n",
    "<br>\n",
    "<center>probability of $\\begin{bmatrix}x\\\\y\\end{bmatrix}=\\;?$</center>"
   ]
  },
  {
   "cell_type": "markdown",
   "metadata": {},
   "source": [
    "- marginal probability\n",
    "$$ P_X(x) = \\sum\\limits_{y}P_{XY}(x,y)$$\n",
    "\n",
    "<br>\n",
    "<img src=\"./image_files/02.bmp\",width=\"300\">\n",
    "<br>"
   ]
  },
  {
   "cell_type": "markdown",
   "metadata": {},
   "source": [
    "- conditional probability\n",
    "    - suppose we measure $y=19$\n",
    "$$P_{X \\mid Y}(x \\mid y =19) =\\;?$$\n",
    "\n",
    "<br>\n",
    "<img src=\"./image_files/03.bmp\",width=\"350\">\n",
    "<br>"
   ]
  },
  {
   "cell_type": "markdown",
   "metadata": {},
   "source": [
    "- Pictorial Explanation\n",
    "<br>\n",
    "<img src=\"./image_files/04.bmp\",width=\"600\">\n",
    "<br>\n",
    "<br>\n",
    "<img src=\"./image_files/05.bmp\",width=\"600\">\n",
    "<br>"
   ]
  },
  {
   "cell_type": "markdown",
   "metadata": {},
   "source": [
    "__Example__\n",
    "\n",
    "- Suppose we have three bins, labeled A,B, and C.\n",
    "- Two of the bins have only white balls, and one bin has only black balls.\n",
    "\n",
    "1) We take one ball, what is the probability that it is white? (white = 1)\n",
    "$$ P(X_1=1)=\\frac{2}{3} $$\n",
    "\n",
    "2) When a white ball has been drawn from bin C, what is the probability of drawing a white ball from bin B?\n",
    "$$ P(X_2=1 \\mid X_1=1) = \\frac{1}{2}$$\n",
    "\n",
    "3) When two balls have been drawn from two different bins, what is the probability of drawing two white balls?\n",
    "$$ P(X_1=1,X_2=1)=P(X_2=1 \\mid X_1 = 1)P(X_1=1)=\\frac{1}{2}\\cdot\\frac{2}{3}=\\frac{1}{3}$$\n"
   ]
  },
  {
   "cell_type": "markdown",
   "metadata": {},
   "source": [
    "# 3. Bayes Rule\n",
    "\n",
    "<img src=\"./image_files/Bayes_Theorem.jpg\", width = 300>\n",
    "\n",
    "\n",
    "- enables us to swap $A$ and $B$ in conditional probability\n",
    "\n",
    "$$\n",
    "\\begin{align*}\n",
    "P(X_2,X_1) &= P(X_2 \\mid X_1)P(X_1) = P(X_1 \\mid X_2)P(X_2)\\\\ \\\\\n",
    "\\therefore \\;\\; P(X_2 \\mid X_1) &= \\frac{P(X_1 \\mid X_2)P(X_2)}{P(X_1)}\n",
    "\\end{align*}$$"
   ]
  },
  {
   "cell_type": "markdown",
   "metadata": {},
   "source": [
    "__Example__\n",
    "\n",
    "- Suppose that in a group of people, 40% are male and 60% are female.\n",
    "- 50% of the males are smokers, 30% of the females are smokers.\n",
    "- Find the probability that a smoker is male\n",
    "\n",
    "$$\\begin{array}{Icr}\n",
    "x = \\; \\text{M or F} \\\\\n",
    "y = \\; \\text{S or N}\n",
    "\\end{array}\n",
    "\\quad \\quad\n",
    "\\begin{array}{Icr}\n",
    "\\begin{align*}\n",
    "&P(x=\\text{M})=0.4\\\\\n",
    "&P(x=\\text{F})=0.6\\\\\n",
    "&P(y=\\text{S} \\mid x=\\text{M})=0.5\\\\\n",
    "&P(y=\\text{S} \\mid x=\\text{F})=0.3\n",
    "\\end{align*}\\end{array}$$\n",
    "\n",
    "$$P(x=\\text{M} \\mid y = \\text{S}) = \\text{?}$$\n",
    "\n",
    "- Baye's Rule + conditional probability\n",
    "\n",
    "\n",
    "$$P(x=\\text{M} \\mid y = \\text{S}) =\\frac{P(y=\\text{S} \\mid x=\\text{M})P(x=\\text{M})}{P(y=\\text{S})}=\\frac{0.20}{0.38} \\approx 0.53$$\n",
    "\n",
    "$$\\begin{align*} P(y=\\text{S})\n",
    "& =P(y=\\text{S} \\mid x=\\text{M})P(x=\\text{M}) + P(y=\\text{S} \\mid x=\\text{F})P(x=\\text{F}) \\\\\n",
    "& = 0.5 \\times 0.4 + 0.3 \\times 0.6 = 0.38\n",
    "\\end{align*}$$"
   ]
  },
  {
   "cell_type": "markdown",
   "metadata": {},
   "source": [
    "__Example__\n",
    "- History\n",
    "\n",
    "<br>\n",
    "<img src=\"image_files/06.png\" width = 400>\n",
    "<br>\n",
    "\n",
    "\n",
    "$$\\left(\\frac{9}{10}\\right)^{20} \\approx 0.1216$$"
   ]
  },
  {
   "cell_type": "markdown",
   "metadata": {},
   "source": [
    "# 4. Linear Transformation of Random Variables"
   ]
  },
  {
   "cell_type": "markdown",
   "metadata": {},
   "source": [
    "## 4.1. For single random variable\n",
    "\n",
    "\n",
    "$$\n",
    "X \\mapsto Y=aX$$\n",
    "\n",
    "$$\n",
    "\\begin{align*}\n",
    "E[aX] &=aE[X]\\\\\n",
    "\\text{var}(aX) &= a^2 \\text{Var}(X) \\\\ \\\\\n",
    "\\text{var}(X) &= E[(X-E[X])^2]=E[(X-\\bar{X})^2]=E[X^2-2X\\bar{X}+\\bar{X}^2]\\\\\n",
    "&=E[X^2]-2E[X\\bar{X}]+\\bar{X}^2 = E[X^2]-2E[X]\\bar{X}+\\bar{X}^2\\\\\n",
    "&=E[X^2]-E[X]^2\n",
    "\\end{align*}\n",
    "$$"
   ]
  },
  {
   "cell_type": "markdown",
   "metadata": {},
   "source": [
    "## 4.2. Sum of two random variables $X$ and $Y$ \n",
    "\n",
    "\n",
    "$$ \n",
    "Z=X+Y \\;\\text{(still univariate)}$$ \n",
    "\n",
    "$$\n",
    "\\begin{align*}\n",
    "E[X+Y] &=E[X]+E[Y]\\\\\n",
    "\\text{var}(X+Y) &= E[(X+Y-E[X+Y])^2] = E[((X-\\bar{X})+(Y-\\bar{Y}))^2]\\\\\n",
    "&=E[(X-\\bar{X})^2]+E[(Y-\\bar{Y})^2]+2E[(X-\\bar{X}(Y-\\bar{Y})]\\\\\n",
    "&=\\text{var}(X)+\\text{var}(Y)+2 \\text{cov}(X,Y)\\\\ \\\\\n",
    "\\text{cov}(X,Y) &=E[(X-\\bar{X})(Y-\\bar{Y})]=E[XY-X\\bar{Y}-\\bar{X}Y+\\bar{X}\\bar{Y}]\\\\\n",
    "&=E[XY]-E[X]\\bar{Y}-\\bar{X}E[Y]-\\bar{X}\\bar{Y}=E[XY]-E[X]E[Y]\n",
    "\\end{align*}\n",
    "$$\n",
    "\n",
    "- Note: quality control in manufacturing process \n",
    "$$\\text{var}(X+Y)=\\text{var}(X)+\\text{var}(Y)+2 \\text{cov}(X,Y)$$\n",
    "\n",
    "<br>"
   ]
  },
  {
   "cell_type": "markdown",
   "metadata": {},
   "source": [
    "__Remark__\n",
    "\n",
    "- variance - for univariable\n",
    "- covariance - for bivariable\n",
    "\n",
    "- Covariance two r.v.\n",
    "\n",
    "$$\\text{cov}(x,y) = E[(x-\\mu_x)(y-\\mu_y)]$$\n",
    "\n",
    "- Covariance matrix for random vectors\n",
    "\n",
    "$$ \\begin{align*} \\text{cov}(X) = E[(X-\\mu)(X-\\mu)^T] &=\\begin{bmatrix}\\text{cov}(X_1,X_1) & \\text{cov}(X_1,X_2)\\\\\\text{cov}(X_2,X_1) & \\text{cov}(X_2,X_2)\\end{bmatrix}\\\\\n",
    "&=\\begin{bmatrix}\\text{var}(X_1) & \\text{cov}(X_1,X_2)\\\\\\text{cov}(X_2,X_1) & \\text{var}(X_2)\\end{bmatrix}\\end{align*}$$\n",
    "\n",
    "\n",
    "- Moments : provides rough gues on probability distribution\n",
    "\n",
    "$$ \\int x^kP_x(x)dx \\;\\;\\; or \\;\\;\\; \\sum x^kP_x(x)dx $$"
   ]
  },
  {
   "cell_type": "markdown",
   "metadata": {},
   "source": [
    "## 4.3. Affine transformation of random vectors"
   ]
  },
  {
   "cell_type": "markdown",
   "metadata": {},
   "source": [
    "$$ y = Ax+b$$\n",
    "\n",
    "$$\n",
    "\\begin{align*}\n",
    "&\\text{1. } \\; E[y]=AE[x]+b \\\\\n",
    "&\\text{2. } \\; \\text{cov}(y)=A \\,\\text{cov}(x)\\,A^T\n",
    "\\end{align*}\n",
    "$$\n",
    "\n",
    "- IID random variables\n",
    "$\\begin{cases}\n",
    "\\text{identically distributed} \\\\\n",
    "\\text{independent}\n",
    "\\end{cases}$\n",
    "\n",
    "- Suppose $ x_1,x_2,\\cdots,x_m$ are IID with mean $\\mu$ and variance $\\sigma^2$\n",
    "\n",
    "$$ \\text{Let} \\; x=\\begin{bmatrix}x_1\\\\\\vdots\\\\x_m\\end{bmatrix},\\quad\n",
    "\\text{then} \\; E[X]=\\begin{bmatrix}\\mu\\\\\\vdots\\\\\\mu\\end{bmatrix},\\quad\n",
    "\\text{cov}(X) = \\begin{bmatrix}\n",
    "            \\sigma^2 & & &\\\\\n",
    "            & \\sigma^2 & &\\\\\n",
    "            & & \\ddots &\\\\\n",
    "            & & & \\sigma^2\n",
    "            \\end{bmatrix}$$\n",
    "                        \n",
    "- sum of IID random variables (single r.v.)\n",
    "\n",
    "$$S_m = \\frac{1}{m}\\sum\\limits_{i=1}^m x_i \\; \\implies\n",
    "S_m = Ax \\;\\; \\text{where} \\; A=\\frac{1}{m}[1,\\cdots,1]$$\n",
    "<br><br>\n",
    "$$ \n",
    "\\begin{align*}E[S_m] &= AE[x] = \\frac{1}{m}m\\mu =\\mu \\\\\n",
    "\\text{var}(S_m) &=A \\,\\text{cov}(x)\\,A^T=A\\begin{bmatrix}\n",
    "            \\sigma^2 & & &\\\\\n",
    "            & \\sigma^2 & &\\\\\n",
    "            & & \\ddots &\\\\\n",
    "            & & & \\sigma^2\n",
    "            \\end{bmatrix}A^T=\\frac{\\sigma^2}{m}\n",
    "\\end{align*}$$\n",
    "\n",
    "\n",
    "<br>\n",
    "- Reduce the variance by a factor of $m$ $\\implies$ Law of large numbers or Central limit theorem\n",
    "\n",
    "$$ \\bar{x} \\longrightarrow N\\left(\\mu,\\left(\\frac{\\sigma}{\\sqrt{m}}\\right)^2 \\right) $$\n"
   ]
  },
  {
   "cell_type": "code",
   "execution_count": 2,
   "metadata": {
    "collapsed": false
   },
   "outputs": [
    {
     "data": {
      "application/javascript": [
       "$.getScript('https://kmahelona.github.io/ipython_notebook_goodies/ipython_notebook_toc.js')"
      ],
      "text/plain": [
       "<IPython.core.display.Javascript object>"
      ]
     },
     "metadata": {},
     "output_type": "display_data"
    }
   ],
   "source": [
    "%%javascript\n",
    "$.getScript('https://kmahelona.github.io/ipython_notebook_goodies/ipython_notebook_toc.js')"
   ]
  }
 ],
 "metadata": {
  "kernelspec": {
   "display_name": "Matlab",
   "language": "matlab",
   "name": "matlab_kernel"
  },
  "language_info": {
   "file_extension": ".m",
   "help_links": [
    {
     "text": "MetaKernel Magics",
     "url": "https://github.com/calysto/metakernel/blob/master/metakernel/magics/README.md"
    }
   ],
   "mimetype": "text/x-matlab",
   "name": "octave"
  }
 },
 "nbformat": 4,
 "nbformat_minor": 0
}
