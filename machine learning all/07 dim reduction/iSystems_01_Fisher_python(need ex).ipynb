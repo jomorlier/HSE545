{
 "cells": [
  {
   "cell_type": "code",
   "execution_count": 4,
   "metadata": {
    "collapsed": false
   },
   "outputs": [],
   "source": [
    "from mpl_toolkits.mplot3d import axes3d\n",
    "import matplotlib.pyplot as plt\n",
    "import numpy as np\n",
    "from numpy import matlib as matlib\n",
    "from numpy import linalg as LA\n",
    "%matplotlib inline"
   ]
  },
  {
   "cell_type": "markdown",
   "metadata": {},
   "source": [
    "<font size = \"6\">\n",
    "<b>Fisher Discriminant Analysis</b>\n",
    "</font>\n",
    "\n",
    "Table of Contents\n",
    "<div id=\"toc\"></div>"
   ]
  },
  {
   "cell_type": "markdown",
   "metadata": {},
   "source": [
    "- Dimensionality reduction with label information (when the ultimate goal is classification/regression)\n",
    "\n",
    "\n",
    "- PCA ignores label information even if it is available\n",
    "    - Only chooses directions of maximum variance\n",
    "\n",
    "\n",
    "- Fisher Discriminant Analysis (FDA) takes into account the label information\n",
    "    - It’s also called Linear Discriminant Analysis (LDA)\n",
    "\n",
    "\n",
    "- FDA/LDA projects data while preserving class separation\n",
    "    - <font color='red'>Examples from same class are put closely together by the projection</font>\n",
    "    - <font color='red'>Examples from different classes are placed far apart by the projection</font>"
   ]
  },
  {
   "cell_type": "markdown",
   "metadata": {},
   "source": [
    "# 1. Projection onto line $\\omega$\n",
    "\n",
    "- Linear regression projects each data point\n",
    "    - assume zero mean, otherwise $x \\leftarrow x - \\bar{x}$\n",
    "    - $\\omega_3 = 0$\n",
    "$$ \\hat{y} = \\langle \\omega,x\\rangle = \\omega^Tx = \\omega_1x_1 + \\omega_2x_2$$\n",
    "\n",
    "- Dimension reduction\n",
    "\n",
    "$$x = \\begin{bmatrix}x_1 \\\\ x_2 \\end{bmatrix} \\rightarrow \\hat y \\; (\\text{scalar})$$\n",
    "\n",
    "\n",
    "- Each data point $x = \\begin{bmatrix}x_1 \\\\ x_2 \\end{bmatrix}$ is projected onto $\\omega$ (projected length on $\\omega$ direction)\n",
    "\n",
    "\n",
    "- For a given $\\omega$, distribution of the projected points $\\{ \\hat y^{(1)}, \\cdots, \\hat y^{(m)} \\}$ is specified.\n",
    "\n",
    " __Question: Which $\\omega$ is better for classification?__\n",
    "\n",
    "<br>\n",
    "<img src=\"image_files/projection.png\" width = 700>\n",
    "<br>\n",
    "\n",
    "<table  width = \"80%\"> \n",
    "    <tr>\n",
    "        <td width = \"40%\">\n",
    "             $$\\text{Class }C_0$$\n",
    "        </td>\n",
    "        <td width = \"40%\">\n",
    "             $$\\text{Class }C_1$$\n",
    "        </td>\n",
    "    </tr>\n",
    "    <tr>\n",
    "        <td width = \"40%\">\n",
    "             sample mean $\\mu_0$<br> sample variance $S_0$<br> \n",
    "             $\\quad \\mu _0 = \\frac{1}{n_0} \\sum\\limits_{ x^{(i)} \\in C_0}^{n_0}x^{(i)}$<br>\n",
    "             $\\quad S_0 = \\frac{1}{n_0 - 1} \\sum\\limits_{ x^{(i)} \\in C_0}^{n_0}\\big( x^{(i)} - \\mu_0 \\big)\\big( x^{(i)} - \\mu_0 \\big)^T$\n",
    "        </td>\n",
    "        <td width = \"40%\">\n",
    "             sample mean $\\mu_1$<br>sample variance $S_1$<br>\n",
    "             $\\quad \\mu _1 = \\frac{1}{n_1} \\sum\\limits_{ x^{(i)} \\in C_1}^{n_1}x^{(i)}$<br>\n",
    "             $\\quad S_1 = \\frac{1}{n_1 - 1} \\sum\\limits_{ x^{(i)} \\in C_1}^{n_1}\\big( x^{(i)}-\\mu_1 \\big)\\big(x^{(i)}-\\mu_1 \\big)^T$\n",
    "        </td>\n",
    "    </tr>\n",
    "    <tr>\n",
    "        <td width = \"40%\">\n",
    "             Projected space<br>\n",
    "             $\\quad E\\,[ \\hat y \\mid x \\in C_0 ] = \\mu_0^T\\omega$<br>\n",
    "             $\\quad \\text{var}\\,[\\hat y \\mid x \\in C_0 ] = \\omega^TS_0\\omega$\n",
    "        </td>\n",
    "        <td width = \"40%\">\n",
    "            Projected space<br>\n",
    "            $\\quad E\\,[ \\hat y \\mid x \\in C_1 ] = \\mu_1^T\\omega$<br>\n",
    "            $\\quad \\text{var}\\,[\\hat y \\mid x \\in C_1 ] = \\omega^TS_1\\omega$\n",
    "        </td>\n",
    "    </tr>\n",
    "</table>\n",
    "\n",
    "- Find $\\omega$ so that when projected onto $\\omega$,\n",
    "\n",
    "    - the classes are maximally separated (maximize distance between classes)\n",
    "    \n",
    "    - Each class is tight (minimize variance of each class)\n",
    "    \n",
    "    \n",
    "$$\\max_\\omega \\frac{(\\text{seperation of projected means})^2}{\\text{sum of within class variances}}$$\n",
    "\n",
    "$$ \\implies \\max_\\omega \\frac {\\big(\\mu_0^T\\omega - \\mu_1^T\\omega \\big)^2}{n_0\\omega^TS_0\\omega + n_1\\omega^TS_1\\omega}$$\n",
    "\n",
    "<br>\n",
    "<img src=\"image_files/01.png\" width = 700>\n",
    "<br>\n",
    "\n",
    "$$\\omega = \\text{arg}\\max_\\omega \\bigg\\{ \\frac{\\big((\\mu_0^T - \\mu_1^T)\\omega\\big)^2}{n_0\\omega^TS_0\\omega + n_1\\omega^TS_1\\omega} \\bigg \\}$$\n",
    "<br><br>\n",
    "$$J(\\omega) = \\frac {\\big((\\mu_0^T - \\mu_1^T)\\omega\\big)^2}{\\omega^T(n_0S_0 + n_1S_1)\\omega} = \\frac {(m^T\\omega)^2}{\\omega^T\\Sigma \\omega}$$\n",
    "\n",
    "$ $\n",
    "\n",
    "<table style=\"border-style: hidden; border-collapse: collapse;\" width = \"80%\"> \n",
    "    <tr style=\"border-style: hidden; border-collapse: collapse;\">\n",
    "        <td width = 25% style=\"border-style: hidden; border-collapse: collapse;\">\n",
    "             $ m \\equiv \\mu_0 - \\mu_1$\n",
    "        </td>\n",
    "        <td width = 55%>\n",
    "\n",
    "        </td>\n",
    "    </tr>\n",
    "    <tr style=\"border-style: hidden; border-collapse: collapse;\">\n",
    "        <td width = 25% style=\"border-style: hidden; border-collapse: collapse;\">\n",
    "             $ \\Sigma \\equiv n_0S_0 + n_1S_1 = R^TR$\n",
    "        </td>\n",
    "        <td width = 55%>\n",
    "            We can always write $\\Sigma$ like this, where $R$ is a \"square root\" matrix\n",
    "        </td>\n",
    "    </tr>\n",
    "    <tr style=\"border-style: hidden; border-collapse: collapse;\">\n",
    "        <td width = 25% style=\"border-style: hidden; border-collapse: collapse;\">\n",
    "             $u \\equiv R\\omega \\rightarrow \\omega = R^{-1}u$\n",
    "        </td>\n",
    "        <td width = 55%>\n",
    "            Using $R$, change the coordinate systems from $\\omega$ to $u$\n",
    "        </td>\n",
    "    </tr>\n",
    "</table>\n",
    "\n",
    "<br>\n",
    "\n",
    "$$J(u) = \\frac {\\big( m^TR^{-1}u\\big)^2}{\\omega^TR^TR\\omega} = \\frac {\\bigg( \\big(R^{-T}m \\big)^Tu\\bigg)^2}{u^Tu}= \n",
    "\\bigg( \\left(R^{-T}m \\right)^T  \\frac{u}{\\parallel u \\parallel} \\bigg)^2$$\n",
    "\n",
    "<br>\n",
    "$$J(u) = \\bigg( \\left(R^{(-T)}m \\right)^T  \\frac{u}{\\lVert u \\rVert} \\bigg)^2 \\; \\text{is maximum when} \\; u = a\\,R^{-T}m$$\n",
    "\n",
    "\n",
    "- Why? \n",
    "    - Dot product of a unit vector and another vector is maximum when the two have the same direction.\n",
    "\n",
    "<br>\n",
    "$$\\begin{align*} \n",
    "u &= aR^{-T}m = aR^{-T}(\\mu_0 - \\mu_1)\\\\\n",
    " \\omega &= R^{-1}u = aR^{-1}R^{-T}(\\mu_0 - \\mu_1) = a\\big(R^TR\\big)^{-1}(\\mu_0 - \\mu_1) = a\\Sigma^{-1}(\\mu_0 - \\mu_1) \\\\ \\\\\n",
    "\\therefore \\; \\omega &= a(n_0S_0 + n_1S_1)^{-1}(\\mu_0 - \\mu_1) \n",
    "\\end{align*}$$"
   ]
  },
  {
   "cell_type": "markdown",
   "metadata": {},
   "source": [
    "## Training data set generationm"
   ]
  },
  {
   "cell_type": "code",
   "execution_count": 5,
   "metadata": {
    "collapsed": true
   },
   "outputs": [],
   "source": [
    "#training data set generation\n",
    "\n",
    "n0 = 200;\n",
    "n1 = 200\n",
    "\n",
    "mu = np.array([0, 0])\n",
    "sigma = np.array([[0.9, -0.4],[-0.4, 0.3]])\n",
    "\n",
    "x0 = np.transpose(np.random.multivariate_normal(mu, sigma, n0)) + 2.5 * np.ones([2,n0])  # data in class 0\n",
    "x1 = np.transpose(np.random.multivariate_normal(mu, sigma, n1)) + 1 * np.ones([2,n1])# data in class 1"
   ]
  },
  {
   "cell_type": "code",
   "execution_count": 6,
   "metadata": {
    "collapsed": false
   },
   "outputs": [
    {
     "name": "stderr",
     "output_type": "stream",
     "text": [
      "/usr/local/lib/python3.4/dist-packages/numpy/matlib.py:358: VisibleDeprecationWarning: using a non-integer number instead of an integer will result in an error in the future\n",
      "  return c.reshape(rows, cols)\n"
     ]
    }
   ],
   "source": [
    "mu0 = np.mean(x0, axis = 1)\n",
    "mu1 = np.mean(x1, axis = 1)\n",
    "s0 = 1/(n0-1)*(x0-matlib.repmat(mu0,2,n0/2)).dot(np.transpose(x0-matlib.repmat(mu0,2,n0/2)))\n",
    "s1 = 1/(n1-1)*(x1-matlib.repmat(mu1,2,n1/2)).dot(np.transpose(x1-matlib.repmat(mu1,2,n1/2)))"
   ]
  },
  {
   "cell_type": "markdown",
   "metadata": {},
   "source": [
    "## Projection line and histogram"
   ]
  },
  {
   "cell_type": "code",
   "execution_count": 10,
   "metadata": {
    "collapsed": false
   },
   "outputs": [
    {
     "data": {
      "image/png": "[encoded data removed]",
      "text/plain": [
       "<matplotlib.figure.Figure at 0x7f81b05c04a8>"
      ]
     },
     "metadata": {},
     "output_type": "display_data"
    }
   ],
   "source": [
    "#make plot\n",
    "#different w (x axis)\n",
    "def plot_diff_w(w_X = 5, w_Y = 5):\n",
    "    w = np.array([[w_X], [w_Y]])\n",
    "    plt.figure(figsize=  (10, 10))\n",
    "    plt.subplot(221)\n",
    "    plt.scatter(x0[0,:],x0[1,:], c = 'red');\n",
    "    plt.scatter(x1[0,:],x1[1,:], c = 'blue')\n",
    "    r = np.array([[x/10 for x in range(-20,61)]])\n",
    "    ln = (w/LA.norm(w)).dot(r)\n",
    "    plt.plot(ln[0,:],ln[1,:],'k',linewidth = 3)\n",
    "    \n",
    "    plt.subplot(222)\n",
    "    y1 = np.transpose(x0).dot(w)\n",
    "    y2 = np.transpose(x1).dot(w)\n",
    "    plt.axis([-10,50,0,40])\n",
    "    plt.hist((y1,y2),20)\n",
    "    \n",
    "    plt.show\n",
    "\n",
    "from IPython.html.widgets import interact\n",
    "interact(plot_diff_w, w_X=[0, 10, 0.25], w_Y=[0, 10, 0.25]);"
   ]
  },
  {
   "cell_type": "markdown",
   "metadata": {},
   "source": [
    "# Example \n",
    "Source: Teknomo, Kardi (2005), Discriminant Analysis Tutorial, http://people.revoledu.com/kardi/tutorial/LDA\n",
    "\n",
    "Factory ABC produces very expensive and high quality chip rings that their qualities are measured in terms of curvature and diameter. Result of qualit control by experts is given in the table below\n",
    "\n",
    "|Curvature|Diameter|Quality Control Result|\n",
    "|---|---|---|\n",
    "|2.95|6.63| Go |\n",
    "|2.53|7.79| Go |\n",
    "|3.57|5.65| Go|\n",
    "|3.16|5.47| Go|\n",
    "|2.58|4.46| NoGo|\n",
    "|2.16|6.22| NoGo|\n",
    "|3.27|3.52| NoGo|\n",
    "\n",
    "As a consultant to the factory, you get a task to set up the criteria for automatic quality control. Then the manager of the factory also wants to test your criteria upon new type of chip rings that even the human experts are argued to each other. The new chip rings have curvature 2.81 and diamter 5.46.\n",
    "\n",
    "Can you solve ths problem by emplying LDA?\n",
    "\n",
    "\n",
    "$$x = \\begin{bmatrix} x_1 \\\\ x_2\\end{bmatrix}, \\qquad X = \\begin{bmatrix} x_1 & \\cdots\\\\ x_2 & \\cdots\\end{bmatrix}$$"
   ]
  },
  {
   "cell_type": "code",
   "execution_count": 30,
   "metadata": {
    "collapsed": false
   },
   "outputs": [
    {
     "data": {
      "image/png": "[encoded data removed]",
      "text/plain": [
       "<IPython.core.display.Image object>"
      ]
     },
     "metadata": {},
     "output_type": "display_data"
    },
    {
     "data": {},
     "execution_count": 30,
     "metadata": {},
     "output_type": "execute_result"
    }
   ],
   "source": [
    "clear all\n",
    "X0 = [2.95 2.53 3.57 3.16;\n",
    "      6.63 7.79 5.65 5.47];\n",
    "X1 = [2.58 2.16 3.27;\n",
    "      4.46 6.22 3.52];\n",
    "      \n",
    "n0 = length(X0);\n",
    "n1 = length(X1);\n",
    "\n",
    "plot(X0(1,:),X0(2,:),'ob',X1(1,:),X1(2,:),'or')"
   ]
  },
  {
   "cell_type": "code",
   "execution_count": 31,
   "metadata": {
    "collapsed": false
   },
   "outputs": [
    {
     "data": {
      "text/plain": [
       "w =\r\n",
       "\r\n",
       "    4.1448\r\n",
       "    1.7262"
      ]
     },
     "execution_count": 31,
     "metadata": {},
     "output_type": "execute_result"
    }
   ],
   "source": [
    "gmu = mean([X0 X1],2);\n",
    "\n",
    "X0 = X0 - repmat(gmu,1,n0);\n",
    "X1 = X1 - repmat(gmu,1,n1);\n",
    "\n",
    "mu0 = mean(X0,2);\n",
    "mu1 = mean(X1,2);\n",
    "\n",
    "S0 = 1/(n0-1)*(X0-repmat(mu0,1,n0))*(X0-repmat(mu0,1,n0))';\n",
    "S1 = 1/(n1-1)*(X1-repmat(mu1,1,n1))*(X1-repmat(mu1,1,n1))';\n",
    "\n",
    "w = inv(n0*S0+n1*S1)*(mu0-mu1)"
   ]
  },
  {
   "cell_type": "code",
   "execution_count": 32,
   "metadata": {
    "collapsed": false
   },
   "outputs": [
    {
     "data": {
      "image/png": "[encoded data removed]",
      "text/plain": [
       "<IPython.core.display.Image object>"
      ]
     },
     "metadata": {},
     "output_type": "display_data"
    },
    {
     "data": {},
     "execution_count": 32,
     "metadata": {},
     "output_type": "execute_result"
    }
   ],
   "source": [
    "figure(1),  clf\n",
    "plot(X0(1,:),X0(2,:),'ob',X1(1,:),X1(2,:),'or'), hold on\n",
    "\n",
    "Xnew = [2.81 5.46]';\n",
    "Xnew = Xnew - gmu;\n",
    "\n",
    "plot(Xnew(1),Xnew(2),'ok','markerfacecolor','k')\n",
    "\n",
    "t = -3:0.1:3;\n",
    "ln = (w./norm(w))*t;\n",
    "plot(ln(1,:),ln(2,:),'k');  hold off;\n",
    "box on, axis equal\n",
    "%xlim([-3 3])"
   ]
  },
  {
   "cell_type": "code",
   "execution_count": 33,
   "metadata": {
    "collapsed": false
   },
   "outputs": [
    {
     "data": {
      "text/plain": [
       "Znew =\r\n",
       "\r\n",
       "   -0.1560"
      ]
     },
     "execution_count": 33,
     "metadata": {},
     "output_type": "execute_result"
    }
   ],
   "source": [
    "Znew = (w'/norm(w))*Xnew"
   ]
  },
  {
   "cell_type": "code",
   "execution_count": 2,
   "metadata": {
    "collapsed": false
   },
   "outputs": [
    {
     "data": {
      "application/javascript": [
       "$.getScript('https://kmahelona.github.io/ipython_notebook_goodies/ipython_notebook_toc.js')"
      ],
      "text/plain": [
       "<IPython.core.display.Javascript object>"
      ]
     },
     "metadata": {},
     "output_type": "display_data"
    }
   ],
   "source": [
    "%%javascript\n",
    "$.getScript('https://kmahelona.github.io/ipython_notebook_goodies/ipython_notebook_toc.js')"
   ]
  }
 ],
 "metadata": {
  "kernelspec": {
   "display_name": "Python 3",
   "language": "python",
   "name": "python3"
  },
  "language_info": {
   "codemirror_mode": {
    "name": "ipython",
    "version": 3
   },
   "file_extension": ".py",
   "mimetype": "text/x-python",
   "name": "python",
   "nbconvert_exporter": "python",
   "pygments_lexer": "ipython3",
   "version": "3.4.3"
  }
 },
 "nbformat": 4,
 "nbformat_minor": 0
}
