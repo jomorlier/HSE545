{
 "cells": [
  {
   "cell_type": "markdown",
   "metadata": {},
   "source": [
    "<font size='6'><b>Ellipse and Gaussian Distribution</b></font>\n",
    "\n",
    "Table of Contents\n",
    "<div id=\"toc\"></div>"
   ]
  },
  {
   "cell_type": "markdown",
   "metadata": {},
   "source": [
    "# 1. Coordinates\n",
    "\n",
    "- basis $\\{\\hat e_1 \\;\\hat e_2 \\}$  or basis $\\{\\hat q_1 \\;\\hat q_2 \\}$\n",
    "\n",
    "\n",
    "<img src = \"./image_files/changecoord.png\" width = 450>\n",
    "<br>\n",
    "\n",
    "$$\n",
    "\\begin{align*}\n",
    "\\overrightarrow{r}_I &= \\begin{bmatrix}x_1\\\\x_2\\end{bmatrix} \\text{: coordinate of} \\; \\overrightarrow r \\text{ in basis} \\; \\{\\hat e_1 \\;\\hat e_2 \\} \\;(= I) \\\\\n",
    "\\overrightarrow{r}_Q &= \\begin{bmatrix}y_1\\\\y_2\\end{bmatrix} \\text{: coordinate of} \\;\\overrightarrow r \\text{ in basis} \\;\\{\\hat q_1 \\;\\hat q_2 \\} \\;(= Q)\n",
    "\\end{align*}\n",
    "$$\n",
    "\n",
    "<br>\n",
    "\n",
    "$$\\begin{align*} \\overrightarrow r & = x_1\\hat{e}_1 + x_2\\hat{e}_2  = y_1\\hat{q}_1 + y_2\\hat{q}_2 \\\\\n",
    "& =\\begin{bmatrix}\\hat{e}_1&\\hat{e}_2\\end{bmatrix}\\begin{bmatrix}x_1\\\\x_2\\end{bmatrix}=\\begin{bmatrix}\\hat{q}_1&\\hat{q}_2\\end{bmatrix}\\begin{bmatrix}y_1\\\\y_2\\end{bmatrix} \\\\ \\\\\n",
    "& \\implies  \\begin{bmatrix}x_1\\\\x_2\\end{bmatrix} = Q\\begin{bmatrix}y_1\\\\y_2\\end{bmatrix} \\\\\n",
    "& \\implies  \\begin{bmatrix}y_1\\\\y_2\\end{bmatrix} = Q^{-1}\\begin{bmatrix}x_1\\\\x_2\\end{bmatrix}= Q^{T}\\begin{bmatrix}x_1\\\\x_2\\end{bmatrix}\n",
    "\\end{align*}$$\n",
    "\n",
    "\n",
    "- Coordinate change to basis of $\\{\\hat q_1 \\hat q_2 \\}$\n",
    "\n",
    "$$ \\underbrace{\\begin{bmatrix}x_1\\\\x_2\\end{bmatrix}}_{\\text{coordinate in } I} \\quad \\underrightarrow{Q^T} \\quad \\underbrace{\\begin{bmatrix}y_1\\\\y_2\\end{bmatrix}}_{\\text{coordinate in } Q} $$\n"
   ]
  },
  {
   "cell_type": "markdown",
   "metadata": {},
   "source": [
    "# 2. Equation of an Ellipse\n",
    "\n",
    "- unit circle\n",
    "\n",
    "<table style=\"border-style: hidden; border-collapse: collapse;\" width = \"96%\"> \n",
    "    <tr style=\"border-style: hidden; border-collapse: collapse;\">\n",
    "        <td width = 48% style=\"border-style: hidden; border-collapse: collapse;\">\n",
    "             <img src=\"./image_files/unitcircle.png\" width = 200>\n",
    "        </td>\n",
    "        <td width = 48%>\n",
    "            $$\n",
    "            \\begin{align*} & x_1^2 + x_2^2 = 1 \\implies \\\\ \\\\\n",
    "            &\\begin{bmatrix}x_1 & x_2 \\end{bmatrix}\n",
    "            \\begin{bmatrix}1 & 0 \\\\ \n",
    "                           0 & 1 \\end{bmatrix}\n",
    "            \\begin{bmatrix}x_1 \\\\\n",
    "                           x_2 \\end{bmatrix} = 1 \\end{align*}$$\n",
    "        </td>\n",
    "    </tr>\n",
    "</table>\n",
    "\n",
    "              \n",
    "- independent ellipse\n",
    "\n",
    "<table style=\"border-style: hidden; border-collapse: collapse;\" width = \"96%\"> \n",
    "    <tr style=\"border-style: hidden; border-collapse: collapse;\">\n",
    "        <td width = 48% style=\"border-style: hidden; border-collapse: collapse;\">\n",
    "             <img src=\"./image_files/indep.png\" width = 200>\n",
    "        </td>\n",
    "        <td width = 48%>\n",
    "$$ \n",
    "\\begin{align*} &\\frac{x_1^2}{a^2} + \\frac{x_2^2}{b^2} = 1 \\implies\n",
    "\\begin{bmatrix}x_1 & x_2 \\end{bmatrix}\n",
    "\\begin{bmatrix}\\frac{1}{a^2} & 0 \\\\ \n",
    "                           0 & \\frac{1}{b^2} \\end{bmatrix}\n",
    "\\begin{bmatrix}x_1 \\\\\n",
    "               x_2 \\end{bmatrix} = 1 \\\\\n",
    "& \\implies \\begin{bmatrix}x_1 & x_2 \\end{bmatrix}\n",
    "\\Sigma_x^{-1}\n",
    "\\begin{bmatrix}x_1 \\\\\n",
    "               x_2 \\end{bmatrix} = 1\\\\ \\\\                       \n",
    "&\\text{where} \\; \n",
    "\\Sigma_x^{-1} =\\begin{bmatrix}\\frac{1}{a^2} & 0\\\\\n",
    "                           0 & \\frac{1}{b^2} \\end{bmatrix}, \\,\\Sigma_x = \\begin{bmatrix}a^2 & 0\\\\\n",
    "                 0 & b^2 \\end{bmatrix} \\end{align*}$$\n",
    "        </td>\n",
    "    </tr>\n",
    "</table>"
   ]
  },
  {
   "cell_type": "markdown",
   "metadata": {},
   "source": [
    "- Rotated ellipse (dependent ellipse)\n",
    "    - Coordinate changes\n",
    "<br>\n",
    "<img src=\"./image_files/change01.png\" width = 600>\n",
    "<br>\n",
    "\n",
    "\n",
    "$$\\begin{bmatrix}x_1 \\\\ x_2 \\end{bmatrix} = u^T\n",
    "\\begin{bmatrix}y_1 \\\\ y_2 \\end{bmatrix},\\quad\n",
    "\\begin{array}{Icr} \\begin{align} &x=u^Ty \\\\\n",
    "                                 &ux=y\n",
    "\\end{align} \\end{array} $$\n",
    "\n",
    "- Now we know in basis $\\{\\hat x_1 \\;\\hat x_2 \\} \\;(= I)$\n",
    "\n",
    "$$ x^T \\Sigma_x^{-1}x = 1 \\quad \\text{and} \\quad \\Sigma_x = \\begin{bmatrix}a^2 & 0\\\\\n",
    "0 & b^2 \\end{bmatrix} $$\n",
    "\n",
    "- Then, we can find $\\Sigma_y$ such that\n",
    "\n",
    "$$ y^T \\Sigma_y^{-1}y = 1 \\quad \\text{and} \\quad \\Sigma_y = ? $$\n",
    "\n",
    "$$\\implies x^T \\Sigma_x^{-1} x = y^Tu\\Sigma_x^{-1}u^Ty = 1 \\quad\n",
    "(\\Sigma_y^{-1} \\; \\text{: similar matrix to } \\Sigma_x^{-1})$$\n",
    "\n",
    "<br>\n",
    "$$\\begin{align*}\n",
    "\\therefore \\;\\Sigma_y^{-1} &= u\\Sigma_x^{-1}u^T \\quad \\text{or}\\\\\n",
    "\\Sigma_y &= u\\Sigma_xu^T\n",
    "\\end{align*}$$"
   ]
  },
  {
   "cell_type": "code",
   "execution_count": 1,
   "metadata": {
    "collapsed": false
   },
   "outputs": [
    {
     "ename": "SyntaxError",
     "evalue": "invalid syntax (<ipython-input-1-843e92923cd6>, line 1)",
     "output_type": "error",
     "traceback": [
      "\u001b[1;36m  File \u001b[1;32m\"<ipython-input-1-843e92923cd6>\"\u001b[1;36m, line \u001b[1;32m1\u001b[0m\n\u001b[1;33m    theta = 0:0.01:2*pi;\u001b[0m\n\u001b[1;37m             ^\u001b[0m\n\u001b[1;31mSyntaxError\u001b[0m\u001b[1;31m:\u001b[0m invalid syntax\n"
     ]
    }
   ],
   "source": [
    "theta = 0:0.01:2*pi;\n",
    "\n",
    "x1 = cos(theta);\n",
    "x2 = sin(theta);\n",
    "\n",
    "plot(x1,x2), axis equal, xlim([-4,4])"
   ]
  },
  {
   "cell_type": "code",
   "execution_count": 2,
   "metadata": {
    "collapsed": false
   },
   "outputs": [
    {
     "ename": "SyntaxError",
     "evalue": "invalid syntax (<ipython-input-2-2950c9995fcf>, line 1)",
     "output_type": "error",
     "traceback": [
      "\u001b[1;36m  File \u001b[1;32m\"<ipython-input-2-2950c9995fcf>\"\u001b[1;36m, line \u001b[1;32m1\u001b[0m\n\u001b[1;33m    theta = 0:0.01:2*pi;\u001b[0m\n\u001b[1;37m             ^\u001b[0m\n\u001b[1;31mSyntaxError\u001b[0m\u001b[1;31m:\u001b[0m invalid syntax\n"
     ]
    }
   ],
   "source": [
    "theta = 0:0.01:2*pi;\n",
    "\n",
    "x1 = 3*cos(theta);\n",
    "x2 = sin(theta);\n",
    "\n",
    "plot(x1,x2), axis equal, xlim([-4,4])"
   ]
  },
  {
   "cell_type": "markdown",
   "metadata": {},
   "source": [
    "$$ u = \\left[\\hat x_1 \\;\\hat x_2 \\right] = \\begin{bmatrix}\\frac{1}{2} & -\\frac{\\sqrt{3}}{2}\\\\\n",
    "\\frac{\\sqrt{3}}{2} & \\frac{1}{2} \\end{bmatrix}$$"
   ]
  },
  {
   "cell_type": "code",
   "execution_count": 3,
   "metadata": {
    "collapsed": false
   },
   "outputs": [
    {
     "ename": "SyntaxError",
     "evalue": "invalid syntax (<ipython-input-3-8b66b1b70925>, line 1)",
     "output_type": "error",
     "traceback": [
      "\u001b[1;36m  File \u001b[1;32m\"<ipython-input-3-8b66b1b70925>\"\u001b[1;36m, line \u001b[1;32m1\u001b[0m\n\u001b[1;33m    theta = 0:0.01:2*pi;\u001b[0m\n\u001b[1;37m             ^\u001b[0m\n\u001b[1;31mSyntaxError\u001b[0m\u001b[1;31m:\u001b[0m invalid syntax\n"
     ]
    }
   ],
   "source": [
    "theta = 0:0.01:2*pi;\n",
    "\n",
    "x1 = 3*cos(theta);\n",
    "x2 = sin(theta);\n",
    "\n",
    "u = [1/2 -sqrt(3)/2;sqrt(3)/2 1/2]; % 60 degree rotated\n",
    "y = u*[x1;x2];\n",
    "\n",
    "plot(y(1,:),y(2,:)), axis equal, xlim([-4,4])"
   ]
  },
  {
   "cell_type": "code",
   "execution_count": 4,
   "metadata": {
    "collapsed": false
   },
   "outputs": [
    {
     "ename": "SyntaxError",
     "evalue": "invalid syntax (<ipython-input-4-6f138582afec>, line 1)",
     "output_type": "error",
     "traceback": [
      "\u001b[1;36m  File \u001b[1;32m\"<ipython-input-4-6f138582afec>\"\u001b[1;36m, line \u001b[1;32m1\u001b[0m\n\u001b[1;33m    Sx = [9 0;0 1];\u001b[0m\n\u001b[1;37m            ^\u001b[0m\n\u001b[1;31mSyntaxError\u001b[0m\u001b[1;31m:\u001b[0m invalid syntax\n"
     ]
    }
   ],
   "source": [
    "Sx = [9 0;0 1];\n",
    "Sy = u*Sx*u'"
   ]
  },
  {
   "cell_type": "markdown",
   "metadata": {},
   "source": [
    "## 2.1. Question (reverse problem)\n",
    "\n",
    "- Given $\\Sigma_y^{-1}$ (or $\\Sigma_y)$, how to find $a$ (major axis) and $b$ (minor axis) or __how to find the proper matrix $u$__\n",
    "    - eigenvectors of $\\Sigma$\n",
    "\n",
    "$$A=S \\Lambda S^T \\qquad \\text{where  } S=[\\upsilon_1 \\; \\upsilon_2] \\text{ eigenvector of } A, \\; \\text{and }\\Lambda=\\begin{bmatrix} \\lambda_1 & 0 \\\\ 0 & \\lambda_2 \\end{bmatrix}$$\n",
    "\n",
    "<br>\n",
    "\n",
    "$$ \\text{here, }\\, \\Sigma_y = u\\Sigma_xu^T = u \\Lambda u^T \\qquad \\text{where  } u = \\begin{bmatrix}\\hat{x}_1 & \\hat{x}_2 \\end{bmatrix}\n",
    "\\text{ eigenvector of } \\Sigma_y, \\; \\text{and }\\Lambda=\\begin{bmatrix} \\lambda_1 & 0 \\\\ 0 & \\lambda_2 \\end{bmatrix} = \n",
    "\\begin{bmatrix} a^2 & 0 \\\\ 0 & b^2 \\end{bmatrix} $$"
   ]
  },
  {
   "cell_type": "markdown",
   "metadata": {},
   "source": [
    "\n",
    " <br>\n",
    " <img src=\"./image_files/question01.png\" width = 250>"
   ]
  },
  {
   "cell_type": "markdown",
   "metadata": {},
   "source": [
    "$$\\begin{align*} \\text{eigen-analysis}\n",
    "\\begin{cases}\\Sigma_y\\hat{x}_1=\\lambda_1 \\hat{x}_1\\\\\n",
    "             \\Sigma_y\\hat{x}_2=\\lambda_2 \\hat{x}_2\\\\\n",
    "\\end{cases} \\; \\implies \\;\n",
    "& \\Sigma_y \\underbrace{\\begin{bmatrix}\\hat{x}_1 & \\hat{x}_2 \\end{bmatrix}}_{u} =\n",
    "\\underbrace{\\begin{bmatrix} \\hat{x}_1 & \\hat{x}_2 \\end{bmatrix}}_{u}\n",
    "\\underbrace{\\begin{bmatrix}\\lambda_1 & 0 \\\\ 0 & \\lambda_2 \\end{bmatrix}}_{\\Lambda} \\\\ \\\\\n",
    "& \\Sigma_y u = u\\Lambda \\\\\n",
    "& \\Sigma_y = u \\Lambda u^T = u \\Sigma_x u^T\n",
    "\\end{align*}$$\n",
    "\n",
    "\n",
    "Therefore\n",
    "\n",
    "$$\\begin{array}{Icr} x=u^Ty \\\\\n",
    "\\begin{bmatrix}x_1 \\\\ x_2 \\end{bmatrix}\n",
    "= u^T \\begin{bmatrix} y_1 \\\\ y_2 \\end{bmatrix} \\end{array}\n",
    "\\quad\n",
    "\\quad\n",
    "\\begin{array}{Icr} \\begin{align*}\n",
    "& a=\\sqrt{\\lambda_1}\\\\\n",
    "& b = \\sqrt{\\lambda_2}\\\\\n",
    "& \\text{major axis}=\\hat{x}_1\\\\\n",
    "& \\text{minor axis}=\\hat{x}_2\n",
    "\\end{align*} \\end{array}$$"
   ]
  },
  {
   "cell_type": "code",
   "execution_count": 5,
   "metadata": {
    "collapsed": false
   },
   "outputs": [
    {
     "ename": "SyntaxError",
     "evalue": "invalid syntax (<ipython-input-5-8bae0492cf83>, line 1)",
     "output_type": "error",
     "traceback": [
      "\u001b[1;36m  File \u001b[1;32m\"<ipython-input-5-8bae0492cf83>\"\u001b[1;36m, line \u001b[1;32m1\u001b[0m\n\u001b[1;33m    Sy = [3.0000    3.4641;\u001b[0m\n\u001b[1;37m                         ^\u001b[0m\n\u001b[1;31mSyntaxError\u001b[0m\u001b[1;31m:\u001b[0m invalid syntax\n"
     ]
    }
   ],
   "source": [
    "Sy = [3.0000    3.4641;\n",
    "    3.4641    7.0000];\n",
    "\n",
    "[U,D] = eig(Sy);\n",
    "[d,I] = sort(diag(D),'descend');\n",
    "D = diag(d)\n",
    "U = U(:,I)"
   ]
  },
  {
   "cell_type": "markdown",
   "metadata": {},
   "source": [
    "## 2.2. Summary"
   ]
  },
  {
   "cell_type": "markdown",
   "metadata": {},
   "source": [
    "<br>\n",
    "<img src=\"./image_files/change01.png\" width = 700>\n",
    "<br>\n",
    "\n",
    "$$ \n",
    "\\begin{align*}\n",
    "x &=u^Ty \\\\\n",
    "u &=\\begin{bmatrix}\\hat{x}_1 & \\hat{x}_2\\end{bmatrix}\n",
    "\\end{align*}$$\n",
    "\n",
    "- independent ellipse in $\\{\\hat{x}_1, \\hat{x}_2 \\}$\n",
    "\n",
    "- dependent ellipse in $\\{ \\hat{y}_1, \\hat{y}_2 \\}$\n",
    "\n",
    "- Decouple\n",
    "    - diagonalize\n",
    "    - eigen-analysis"
   ]
  },
  {
   "cell_type": "markdown",
   "metadata": {},
   "source": [
    "# 3. Gaussian Distribution\n",
    "\n",
    "## 3.1. Standard univariate normal distribution $\\sim N(0,1^2)$\n",
    "\n",
    "<table style=\"border-style: hidden; border-collapse: collapse;\" width = \"96%\"> \n",
    "    <tr style=\"border-style: hidden; border-collapse: collapse;\">\n",
    "        <td width = 48% style=\"border-style: hidden; border-collapse: collapse;\">\n",
    "$$\n",
    "P_Y\\left(Y=y\\right)=\\frac{1}{\\sqrt{2\\pi}}\\exp\\left(-\\frac{1}{2}y^2\\right)$$\n",
    "<br>\n",
    "$$ \\frac{1}{2} y^2 = \\text{const} \\implies \\text{prob. contour}$$             \n",
    "        </td>\n",
    "        <td width = 48%>\n",
    "            <img src=\"./image_files/normal01.png\" width = 250>\n",
    "        </td>\n",
    "    </tr>\n",
    "</table>"
   ]
  },
  {
   "cell_type": "code",
   "execution_count": 6,
   "metadata": {
    "collapsed": false
   },
   "outputs": [
    {
     "ename": "SyntaxError",
     "evalue": "invalid syntax (<ipython-input-6-df9ec8dcbb23>, line 4)",
     "output_type": "error",
     "traceback": [
      "\u001b[1;36m  File \u001b[1;32m\"<ipython-input-6-df9ec8dcbb23>\"\u001b[1;36m, line \u001b[1;32m4\u001b[0m\n\u001b[1;33m    y = -10:0.1:10;\u001b[0m\n\u001b[1;37m           ^\u001b[0m\n\u001b[1;31mSyntaxError\u001b[0m\u001b[1;31m:\u001b[0m invalid syntax\n"
     ]
    }
   ],
   "source": [
    "%plot -s 560,200\n",
    "% probability density function\n",
    "\n",
    "y = -10:0.1:10;\n",
    "\n",
    "ProbG = 1/sqrt(2*pi)*exp(-1/2*y.^2);\n",
    "plot(y,ProbG)"
   ]
  },
  {
   "cell_type": "code",
   "execution_count": 7,
   "metadata": {
    "collapsed": false
   },
   "outputs": [
    {
     "ename": "SyntaxError",
     "evalue": "invalid syntax (<ipython-input-7-ebb51efc3846>, line 3)",
     "output_type": "error",
     "traceback": [
      "\u001b[1;36m  File \u001b[1;32m\"<ipython-input-7-ebb51efc3846>\"\u001b[1;36m, line \u001b[1;32m3\u001b[0m\n\u001b[1;33m    ProbG2 = normpdf(y,0,1); % normal probability density function\u001b[0m\n\u001b[1;37m                             ^\u001b[0m\n\u001b[1;31mSyntaxError\u001b[0m\u001b[1;31m:\u001b[0m invalid syntax\n"
     ]
    }
   ],
   "source": [
    "%plot -s 560,200\n",
    "% or\n",
    "ProbG2 = normpdf(y,0,1); % normal probability density function\n",
    "plot(y,ProbG2)"
   ]
  },
  {
   "cell_type": "code",
   "execution_count": 8,
   "metadata": {
    "collapsed": false
   },
   "outputs": [
    {
     "name": "stderr",
     "output_type": "stream",
     "text": [
      "ERROR: Line magic function `%plot` not found.\n",
      "ERROR: Line magic function `%random` not found.\n"
     ]
    },
    {
     "ename": "NameError",
     "evalue": "name 'normrnd' is not defined",
     "output_type": "error",
     "traceback": [
      "\u001b[1;31m---------------------------------------------------------------------------\u001b[0m",
      "\u001b[1;31mNameError\u001b[0m                                 Traceback (most recent call last)",
      "\u001b[1;32m<ipython-input-8-1bb34ed13820>\u001b[0m in \u001b[0;36m<module>\u001b[1;34m()\u001b[0m\n\u001b[0;32m      2\u001b[0m \u001b[0mget_ipython\u001b[0m\u001b[1;33m(\u001b[0m\u001b[1;33m)\u001b[0m\u001b[1;33m.\u001b[0m\u001b[0mmagic\u001b[0m\u001b[1;33m(\u001b[0m\u001b[1;34m'random sampling from Gaussian'\u001b[0m\u001b[1;33m)\u001b[0m\u001b[1;33m\u001b[0m\u001b[0m\n\u001b[0;32m      3\u001b[0m \u001b[1;33m\u001b[0m\u001b[0m\n\u001b[1;32m----> 4\u001b[1;33m \u001b[0mx\u001b[0m \u001b[1;33m=\u001b[0m \u001b[0mnormrnd\u001b[0m\u001b[1;33m(\u001b[0m\u001b[1;36m0\u001b[0m\u001b[1;33m,\u001b[0m\u001b[1;36m1\u001b[0m\u001b[1;33m,\u001b[0m\u001b[1;36m1000\u001b[0m\u001b[1;33m,\u001b[0m\u001b[1;36m1\u001b[0m\u001b[1;33m)\u001b[0m\u001b[1;33m;\u001b[0m\u001b[1;33m\u001b[0m\u001b[0m\n\u001b[0m\u001b[0;32m      5\u001b[0m \u001b[0mhistogram\u001b[0m\u001b[1;33m(\u001b[0m\u001b[0mx\u001b[0m\u001b[1;33m,\u001b[0m\u001b[1;36m31\u001b[0m\u001b[1;33m,\u001b[0m\u001b[1;34m'Normalization'\u001b[0m\u001b[1;33m,\u001b[0m\u001b[1;34m'pdf'\u001b[0m\u001b[1;33m)\u001b[0m\u001b[1;33m,\u001b[0m \u001b[0mxlim\u001b[0m\u001b[1;33m(\u001b[0m\u001b[1;33m[\u001b[0m\u001b[1;33m-\u001b[0m\u001b[1;36m10\u001b[0m\u001b[1;33m,\u001b[0m\u001b[1;36m10\u001b[0m\u001b[1;33m]\u001b[0m\u001b[1;33m)\u001b[0m\u001b[1;33m\u001b[0m\u001b[0m\n",
      "\u001b[1;31mNameError\u001b[0m: name 'normrnd' is not defined"
     ]
    }
   ],
   "source": [
    "%plot -s 560,200\n",
    "% random sampling from Gaussian\n",
    "\n",
    "x = normrnd(0,1,1000,1);\n",
    "histogram(x,31,'Normalization','pdf'), xlim([-10,10])"
   ]
  },
  {
   "cell_type": "markdown",
   "metadata": {},
   "source": [
    "## 3.2. Univariate Normal distribution $\\sim N\\left(\\mu,\\sigma^2\\right)$\n",
    "\n",
    "- Gaussian or normal distribution, 1D (mean $\\mu$, variance $\\sigma^2$)\n",
    "\n",
    "$$\n",
    "N(x;\\mu,\\sigma) = \\frac{1}{\\sqrt{2\\pi\\sigma^2}}\\exp\\left(-\\frac{1}{2}\\frac{\\left(x-\\mu\\right)^2}{\\sigma^2}\\right) $$\n",
    "\n",
    "<table style=\"border-style: hidden; border-collapse: collapse;\" width = \"96%\"> \n",
    "    <tr style=\"border-style: hidden; border-collapse: collapse;\">\n",
    "        <td width = 48% style=\"border-style: hidden; border-collapse: collapse;\">\n",
    "$$\n",
    "\\begin{align*}x &\\sim N\\left(\\mu,\\sigma^2\\right) \\\\\n",
    "& \\implies P_Y\\left(y\\right) = P_X\\left(x\\right), \\quad y = \\frac{x-\\mu}{\\sigma}\\\\\n",
    "P_X\\left(X=x\\right) &\\sim \\exp\\left(-\\frac{1}{2}\\left(\\frac{x-\\mu}{\\sigma}\\right)^2\\right) \\\\\n",
    "&= \\exp\\left(-\\frac{1}{2}\\frac{\\left(x-\\mu\\right)^2}{\\sigma^2}\\right)\n",
    "\\end{align*}$$             \n",
    "        </td>\n",
    "        <td width = 48%>\n",
    "<img src=\"./image_files/normal02.png\" width = 250>\n",
    "        </td>\n",
    "    </tr>\n",
    "</table>"
   ]
  },
  {
   "cell_type": "code",
   "execution_count": null,
   "metadata": {
    "collapsed": false
   },
   "outputs": [],
   "source": [
    "%plot -s 560,200\n",
    "% probability density function\n",
    "\n",
    "mu = 2;\n",
    "sigma = 2;\n",
    "\n",
    "x = -10:0.1:10;\n",
    "\n",
    "ProbG3 = 1/sqrt(2*pi*sigma^2)*exp(-1/(2*sigma^2)*(x-mu).^2);\n",
    "plot(y,ProbG,x,ProbG3)"
   ]
  },
  {
   "cell_type": "code",
   "execution_count": null,
   "metadata": {
    "collapsed": false
   },
   "outputs": [],
   "source": [
    "%plot -s 560,200\n",
    "% probability density function\n",
    "\n",
    "mu = 2;\n",
    "sigma = 2;\n",
    "\n",
    "x = -10:0.1:10;\n",
    "\n",
    "ProbG4 = normpdf(x,mu,sigma);\n",
    "plot(y,ProbG,x,ProbG4)"
   ]
  },
  {
   "cell_type": "code",
   "execution_count": null,
   "metadata": {
    "collapsed": false
   },
   "outputs": [],
   "source": [
    "%plot -s 560,200\n",
    "% random sampling from Gaussian\n",
    "\n",
    "x = mu + sigma*normrnd(0,1,1000,1);\n",
    "histogram(x,31,'Normalization','pdf'), xlim([-10,10]), ylim([0,0.4])"
   ]
  },
  {
   "cell_type": "code",
   "execution_count": null,
   "metadata": {
    "collapsed": false
   },
   "outputs": [],
   "source": [
    "%plot -s 560,200\n",
    "% random sampling from Gaussian\n",
    "\n",
    "x = normrnd(mu,sigma,1000,1);\n",
    "histogram(x,31,'Normalization','pdf'), xlim([-10,10]), ylim([0,0.4])"
   ]
  },
  {
   "cell_type": "markdown",
   "metadata": {},
   "source": [
    "## 3.3. Multivariate Gaussian models\n",
    "\n",
    "- Similar to a univariate case, but in a matrix form\n",
    "\n",
    "$$\n",
    "\\begin{align*} N\\big(x; \\mu,\\Sigma\\big) &= \\frac{1}{(2\\pi)^{\\frac{n}{2}}\\big\\vert\\Sigma\\big\\vert^{\\frac{1}{2}}}\\exp\\left(-\\frac{1}{2}\\left(x-\\mu\\right)^T\\Sigma^{-1}\\left(x-\\mu\\right)\\right) \\\\ \\\\\n",
    "\\mu &= \\text{length}\\,\\, n \\,\\,\\text{column vector} \\\\\n",
    "\\Sigma &= n \\times n \\,\\,\\text{matrix (covariance matrix)} \\\\\n",
    "\\lvert\\Sigma\\rvert &= \\text{matrix determinant}\\end{align*}$$\n",
    "\n",
    "\n",
    "- Multivariate Gaussian models and ellipse\n",
    "    - Ellipse shows constant $\\Delta^2$ value...\n",
    "$$\n",
    "\\Delta^2 = (x-\\mu)^T\\Sigma^{-1} (x-\\mu)$$"
   ]
  },
  {
   "cell_type": "markdown",
   "metadata": {},
   "source": [
    "### 3.3.1. Two _independent_ variables \n",
    "\n",
    "$$\n",
    "\\begin{align*}\n",
    "P\\left(X_1=x_1,X_2=x_2\\right) &= P_{X_1}\\left(x_1\\right)P_{X_2}\\left(x_2\\right) \\\\\n",
    "&\\sim \\exp \\left(-\\frac{1}{2} \\frac{\\left(x_1-\\mu_{x_1}\\right)^2}{\\sigma_{x_1}^2}\\right)\n",
    "\\cdot \\exp \\left(-\\frac{1}{2} \\frac{\\left(x_2-\\mu_{x_2}\\right)^2}{\\sigma_{x_2}^2}\\right) \\\\\n",
    "&\\sim\\exp \\left(-\\frac{1}{2}\\left(\\frac{x_1^2}{\\sigma_{x_1}^2} + \\frac{x_2^2}{\\sigma_{x_2}^2}\\right)\\right)\\\\\n",
    "\\end{align*}\n",
    "$$\n",
    "\n",
    "- in a matrix form\n",
    "\n",
    "$$ P(x_1) \\cdot P(x_2)=\\frac{1}{Z_1Z_2}\\exp\\left(-\\frac{1}{2}(x-\\mu)^T\\Sigma^{-1}(x-\\mu)\\right) $$\n",
    "\n",
    "\n",
    "$$\\left ( x=\\begin{bmatrix} x_1 \\\\ x_2 \\end{bmatrix}, \\quad\n",
    "\\mu = \\begin{bmatrix} \\mu_1 \\\\ \\mu_2 \\end{bmatrix}, \\quad\n",
    "\\Sigma = \\begin{bmatrix}\\sigma_{x_1}^2 & 0 \\\\ 0 & \\sigma_{x_2}^2 \\end{bmatrix} \\right )$$ \n",
    "\n",
    "<table style=\"border-style: hidden; border-collapse: collapse;\" width = \"80%\"> \n",
    "    <tr style=\"border-style: hidden; border-collapse: collapse;\">\n",
    "        <td width = 40% style=\"border-style: hidden; border-collapse: collapse;\">\n",
    "<img src=\"./image_files/normal03.png\" width = 250>           \n",
    "        </td>\n",
    "        <td width = 40%>\n",
    "$$\n",
    "\\begin{align*}\\frac{x_1^2}{\\sigma_{x_1}^2} + \\frac{x_2^2}{\\sigma_{x_2}^2} &= c \\;\\;\\;\\text{(ellipse)} \\\\ \\\\\n",
    "\\begin{bmatrix} x_1 & x_2\\end{bmatrix} \\begin{bmatrix} \\frac{1}{\\sigma_{x_1}^2} & 0 \\\\ 0 & \\frac{1}{\\sigma_{x_2}^2}\n",
    "\\end{bmatrix}\n",
    "\\begin{bmatrix}x_1 \\\\ x_2\\end{bmatrix} &= c \\qquad (\\sigma_{x_1} < \\sigma_{x_2})\n",
    "\\end{align*}$$\n",
    "        </td>\n",
    "    </tr>\n",
    "</table>\n",
    "\n",
    "- Summary in a matrix form\n",
    "\n",
    "$$ \n",
    "\\begin{align*}N\\left(0,\\Sigma_x\\right) &\\sim \\exp\\left(-\\frac{1}{2}x^T \\Sigma_x^{-1} x\\right) \\\\\n",
    "N\\left(\\mu_x,\\Sigma_x\\right) &\\sim \\exp\\left(-\\frac{1}{2}\\left(x-\\mu_x\\right)^T \\Sigma_x^{-1} \\left(x-\\mu_x\\right)\\right) \\end{align*}$$"
   ]
  },
  {
   "cell_type": "code",
   "execution_count": null,
   "metadata": {
    "collapsed": false
   },
   "outputs": [],
   "source": [
    "%plot -s 560,420\n",
    "mu = [0 0]';\n",
    "sigma = eye(2);\n",
    "m = 1000;\n",
    "x = mvnrnd(mu,sigma,m);\n",
    "plot(x(:,1),x(:,2),'.'), axis equal, xlim([-10,10])"
   ]
  },
  {
   "cell_type": "code",
   "execution_count": null,
   "metadata": {
    "collapsed": false
   },
   "outputs": [],
   "source": [
    "%plot -s 560,420\n",
    "mu = [0 0]';\n",
    "sigma = [1 0;0 4];\n",
    "m = 1000;\n",
    "x = mvnrnd(mu,sigma,m);\n",
    "plot(x(:,1),x(:,2),'.'), axis equal, xlim([-10,10])"
   ]
  },
  {
   "cell_type": "markdown",
   "metadata": {},
   "source": [
    "### 3.3.1. Two _dependent_ variables in $\\{y_1,y_2\\}$\n",
    "\n",
    "<br>\n",
    "<img src=\"./image_files/dependent.png\", width = 700>\n",
    "<br>\n",
    "\n",
    "- Compute $P_Y(y)$ from $P_X(x)$\n",
    "$$\\begin{align*} P_X(x) = P_Y(y) \\;\\ \\text{where}\\;\\;\n",
    "& x = \\begin{bmatrix}x_1 \\\\ x_2\\end{bmatrix},\n",
    "y = \\begin{bmatrix}y_1 \\\\ y_2 \\end{bmatrix}\n",
    "\\end{align*}$$\n",
    "\n",
    "\n",
    "- Relationship between $y$ and $x$\n",
    "\n",
    "$$ x = \\begin{bmatrix}\\hat{x}_1 & \\hat{x}_2 \\end{bmatrix}^T y = u^Ty $$\n",
    "\n",
    "<br><br>\n",
    "$$x^T\\Sigma_x^{-1} x = y^Tu\\Sigma_x^{-1}u^Ty = y^T \\Sigma_y^{-1} y\\\\\n",
    "\\therefore \\;\\; \\Sigma_y^{-1} = u\\Sigma_x^{-1} u^T$$\n",
    "\n",
    "\n",
    "$$\\rightarrow \\Sigma_y = u\\Sigma_x u^T$$\n",
    "\n",
    " - $\\Sigma_x$ : covariance matrix of $x$\n",
    "\n",
    " - $\\Sigma_y$ : covariance matrix of $y$\n",
    "\n",
    "- If $u$ is an eigenvector matrix of $\\Sigma_y$, then $\\Sigma_x$ is a diagonal matrix"
   ]
  },
  {
   "cell_type": "code",
   "execution_count": null,
   "metadata": {
    "collapsed": false
   },
   "outputs": [],
   "source": [
    "%plot -s 560,420\n",
    "mu = [0 0]';\n",
    "sigma = 1/2*[5 -3;\n",
    "             -3 5];\n",
    "m = 1000;\n",
    "x = mvnrnd(mu,sigma,m);\n",
    "plot(x(:,1),x(:,2),'.'), axis equal, xlim([-10,10])"
   ]
  },
  {
   "cell_type": "markdown",
   "metadata": {},
   "source": [
    "__Remark__\n",
    "\n",
    "$$\n",
    "\\begin{align*}\n",
    "& x \\sim N(\\mu_x,\\Sigma_x) \\text{ and } y = Ax + b \\;\n",
    "\\text{affine transformation}\\\\ \\\\ \\implies \\; \n",
    "& y \\sim N(\\mu_y,\\Sigma_y) = N(A\\mu_x+b,A\\Sigma_xA^T)\\\\ \\implies \\; \n",
    "& y \\;\\; \\text{is also Gaussian with} \\;\\; \\mu_y = Ax+b, \\;\\; \\Sigma_y = A \\Sigma_x A^T\n",
    "\\end{align*}$$"
   ]
  },
  {
   "cell_type": "markdown",
   "metadata": {},
   "source": [
    "## 3.4. Decouple using covariance matrix\n",
    "\n",
    "Given data, how to find $\\Sigma_y$ and major(or minor) axis (assume $\\mu_y = 0$)\n",
    "\n",
    "$$ \\Sigma_y = \n",
    "\\begin{bmatrix}\n",
    "\\text{var}(y_1) & \\text{cov}(y_1,y_2)\\\\\n",
    "\\text{cov}(y_2,y_1) & \\text{var}(y_2)\n",
    "\\end{bmatrix}$$\n",
    "\n",
    "<table style=\"border-style: hidden; border-collapse: collapse;\" width = \"96%\"> \n",
    "    <tr style=\"border-style: hidden; border-collapse: collapse;\">\n",
    "        <td width = 48% style=\"border-style: hidden; border-collapse: collapse;\">\n",
    "<img src=\"./image_files/question02.png\" width = 250>             \n",
    "        </td>\n",
    "        <td width = 48%>\n",
    "$$\\begin{array}{Icr} \\text{eigen-analysis} \\\\ \\\\\n",
    "\\Sigma_y\\hat{x}_1 = \\lambda_1\\hat{x}_1 \\\\\n",
    "\\Sigma_y\\hat{x}_2 = \\lambda_2\\hat{x}_2 \n",
    "\\end{array} \\quad \\quad\n",
    "\\begin{array}{Icr} \\Sigma_x^{-1} =\n",
    "\\begin{bmatrix} \\frac{1}{\\sqrt{\\lambda_1}^2} & 0 \\\\\n",
    "0 & \\frac{1}{\\sqrt{\\lambda_2}^2} \\end{bmatrix} \\\\\n",
    "\\Sigma_x = \\begin{bmatrix}\\sqrt{\\lambda_1}^2 & 0 \\\\ 0 & \\sqrt{\\lambda_2}^2 \\end{bmatrix} \\end{array} $$\n",
    "        </td>\n",
    "    </tr>\n",
    "</table>\n",
    "\n",
    "\n",
    "<br>\n",
    "\n",
    "$$\\begin{array}{Icr} \\begin{align*}\n",
    "\\Sigma_y \\begin{bmatrix} \\hat{x}_1 & \\hat{x}_2 \\end{bmatrix} &= \\begin{bmatrix} \\hat{x}_1 & \\hat{x}_2 \\end{bmatrix} \\begin{bmatrix} \\lambda_1 & 0 \\\\ 0 & \\lambda_2 \\end{bmatrix}\\\\ \n",
    "&= \\begin{bmatrix}\\hat{x}_1 & \\hat{x}_2 \\end{bmatrix} \\Sigma_{x} \\\\ \\\\\n",
    "\\Sigma_y &= u \\Sigma_x u^T \\end{align*} \\end{array} \\quad \\quad \\quad\n",
    "\\begin{array}{Icr} y = ux \\implies u^Ty = x \\\\\n",
    "\\begin{bmatrix} \\hat{x}_1 & \\hat{x}_2 \\end{bmatrix} = u \\\\ \\\\ \\\\ \\end{array}$$"
   ]
  },
  {
   "cell_type": "code",
   "execution_count": null,
   "metadata": {
    "collapsed": false
   },
   "outputs": [],
   "source": [
    "% can estimate Sigma from data using covariance matrix \n",
    "% learn about this at the next lecture (parameter estimation)\n",
    "\n",
    "S = cov(x)"
   ]
  },
  {
   "cell_type": "code",
   "execution_count": null,
   "metadata": {
    "collapsed": false
   },
   "outputs": [],
   "source": [
    "[V,D] = eig(S)"
   ]
  },
  {
   "cell_type": "markdown",
   "metadata": {},
   "source": [
    "# 4. Geometry of the Gaussian\n",
    "\n",
    "<br>\n",
    "$$\n",
    "\\Delta^2 = (x-\\mu)^T\\Sigma^{-1} (x-\\mu) \\quad \\text{Ellipse shows constant $\\Delta^2$ value...}$$\n",
    "\n",
    "- Write in terms of eigenvectors\n",
    "\n",
    "$$\n",
    "\\begin{align*}\n",
    "\\Sigma &= U\\Lambda U^T \\\\\n",
    "\\Sigma &= \\begin{bmatrix}u_1 & u_2 \\\\ \\downarrow & \\downarrow \\end{bmatrix} \\begin{bmatrix}\\lambda_1 & 0 \\\\ 0 & \\lambda_2\\end{bmatrix}\n",
    "\\begin{bmatrix}u_1 & \\rightarrow \\\\ u_2 & \\rightarrow \\end{bmatrix}\n",
    "\\end{align*}$$\n",
    "\n",
    "- Then\n",
    "\n",
    "$$y_i = u_i^T(x-\\mu) $$\n",
    "\n",
    "$$\\Delta^2 = \\frac{y_1^2}{\\lambda_1}+\\frac{y_2^2}{\\lambda_2} $$\n",
    "\n",
    "<br>\n",
    "<img src=\"./image_files/gaussian03.png\" width = 350>\n",
    "<br>"
   ]
  },
  {
   "cell_type": "markdown",
   "metadata": {},
   "source": [
    "## 4.1. Numerical Demo"
   ]
  },
  {
   "cell_type": "code",
   "execution_count": null,
   "metadata": {
    "collapsed": false
   },
   "outputs": [],
   "source": [
    "%plot -s 560,420\n",
    "mu = [0 0]';\n",
    "sigma = eye(2);\n",
    "m = 1000;\n",
    "x = mvnrnd(mu,sigma,m)';\n",
    "\n",
    "plot(x(1,:),x(2,:),'.'), axis equal, xlim([-10,10])"
   ]
  },
  {
   "cell_type": "markdown",
   "metadata": {},
   "source": [
    "__Scaling__\n",
    "\n",
    "$$ x_B = \\Lambda^{\\frac{1}{2}} x_A = \\begin{bmatrix}3 & 0 \\\\ 0 & 1\\end{bmatrix} \\cdot x_A$$"
   ]
  },
  {
   "cell_type": "code",
   "execution_count": null,
   "metadata": {
    "collapsed": false
   },
   "outputs": [],
   "source": [
    "A = [3 0;0 1];\n",
    "y = A*x;\n",
    "plot(y(1,:),y(2,:),'.'), axis equal, xlim([-10,10])"
   ]
  },
  {
   "cell_type": "markdown",
   "metadata": {},
   "source": [
    "__Rotating__\n",
    "\n",
    "$$x_C = U^T\\Lambda^{\\frac{1}{2}} x_A = \\begin{bmatrix}\\cos\\theta & -\\sin\\theta \\\\ \\sin\\theta & \\cos\\theta \\end{bmatrix} \\cdot x_B$$"
   ]
  },
  {
   "cell_type": "code",
   "execution_count": null,
   "metadata": {
    "collapsed": false
   },
   "outputs": [],
   "source": [
    "theta = pi/3;\n",
    "\n",
    "R = [cos(theta) -sin(theta);\n",
    "     sin(theta) cos(theta)];\n",
    "\n",
    "z = R*y;\n",
    "\n",
    "plot(z(1,:),z(2,:),'.'), axis equal, xlim([-10,10])"
   ]
  },
  {
   "cell_type": "markdown",
   "metadata": {},
   "source": [
    "__Shifting__\n",
    "\n",
    "$$ x_D = x_C + \\mu = x_C + \\begin{bmatrix} \\mu_x \\\\ \\mu_y\\end{bmatrix}$$"
   ]
  },
  {
   "cell_type": "code",
   "execution_count": null,
   "metadata": {
    "collapsed": false
   },
   "outputs": [],
   "source": [
    "mu = [3 0]';\n",
    "w = z + repmat(mu,1,length(z));\n",
    "\n",
    "plot(w(1,:),w(2,:),'.'), axis equal, xlim([-10,10])"
   ]
  },
  {
   "cell_type": "markdown",
   "metadata": {},
   "source": [
    "__Recovery__"
   ]
  },
  {
   "cell_type": "code",
   "execution_count": null,
   "metadata": {
    "collapsed": false
   },
   "outputs": [],
   "source": [
    "m = length(w);\n",
    "mu_hat = mean(w,2)"
   ]
  },
  {
   "cell_type": "code",
   "execution_count": null,
   "metadata": {
    "collapsed": false
   },
   "outputs": [],
   "source": [
    "z = w - repmat(mu_hat,1,m);"
   ]
  },
  {
   "cell_type": "code",
   "execution_count": null,
   "metadata": {
    "collapsed": false
   },
   "outputs": [],
   "source": [
    "S = 1/m*z*z'"
   ]
  },
  {
   "cell_type": "code",
   "execution_count": null,
   "metadata": {
    "collapsed": false
   },
   "outputs": [],
   "source": [
    "[U,D] = eig(S);\n",
    "[D,I] = sort(diag(D),'descend');\n",
    "diag(D)\n",
    "U = U(:,I)"
   ]
  },
  {
   "cell_type": "code",
   "execution_count": null,
   "metadata": {
    "collapsed": false
   },
   "outputs": [],
   "source": [
    "xp = -10:0.1:10;\n",
    "plot(z(1,:),z(2,:),'.'), axis equal, xlim([-10,10]), hold on\n",
    "plot(xp,U(2,1)/U(1,1)*xp)\n",
    "plot(xp,U(2,2)/U(1,2)*xp), hold off"
   ]
  },
  {
   "cell_type": "code",
   "execution_count": null,
   "metadata": {
    "collapsed": false
   },
   "outputs": [],
   "source": [
    "y = U'*z;\n",
    "plot(y(1,:),y(2,:),'.'), axis equal, xlim([-10,10])"
   ]
  },
  {
   "cell_type": "code",
   "execution_count": null,
   "metadata": {
    "collapsed": false
   },
   "outputs": [],
   "source": [
    "L = 1/m*y*y';\n",
    "[U,D] = eig(L);\n",
    "[D,I] = sort(diag(D),'descend');\n",
    "diag(D)\n",
    "U = U(:,I)"
   ]
  },
  {
   "cell_type": "code",
   "execution_count": null,
   "metadata": {
    "collapsed": false
   },
   "outputs": [],
   "source": [
    "DM = diag(D);\n",
    "F = sqrtm(DM);\n",
    "\n",
    "x = inv(F)*y;\n",
    "plot(x(1,:),x(2,:),'.'), axis equal, xlim([-10,10])"
   ]
  },
  {
   "cell_type": "code",
   "execution_count": null,
   "metadata": {
    "collapsed": false
   },
   "outputs": [],
   "source": [
    "%%javascript\n",
    "$.getScript('https://kmahelona.github.io/ipython_notebook_goodies/ipython_notebook_toc.js')"
   ]
  }
 ],
 "metadata": {
  "kernelspec": {
   "display_name": "Python 3",
   "language": "python",
   "name": "python3"
  },
  "language_info": {
   "codemirror_mode": {
    "name": "ipython",
    "version": 3
   },
   "file_extension": ".py",
   "mimetype": "text/x-python",
   "name": "python",
   "nbconvert_exporter": "python",
   "pygments_lexer": "ipython3",
   "version": "3.5.2"
  }
 },
 "nbformat": 4,
 "nbformat_minor": 0
}
