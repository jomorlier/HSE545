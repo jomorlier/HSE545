{
 "cells": [
  {
   "cell_type": "markdown",
   "metadata": {},
   "source": [
    "# <br><br>\n",
    "<center><font size='5'><b>Machine Learning for Mechanical Engineering</b></font><br><br><font size='5'><b>Final Exam</b></font><br><br></center>\n",
    "\n",
    "<table style=\"border-style: hidden; border-collapse: collapse;\" width = \"95%\"> \n",
    "    <tr style=\"border-style: hidden; border-collapse: collapse;\">\n",
    "        <td width = 75% style=\"border-style: hidden; border-collapse: collapse;\">\n",
    "\n",
    "        </td>\n",
    "        <td width = 20%>\n",
    "        by Prof. Seungchul Lee<br>Industrial AI Lab<br>POSTECH\n",
    "        </td>\n",
    "    </tr>\n",
    "</table>"
   ]
  },
  {
   "cell_type": "markdown",
   "metadata": {},
   "source": [
    "- For your handwritten solution, hand in your hardcopy to TA.\n",
    "- For your code, email your .ipynb file to `iai.postech@gmail.com`. Only .ipynb file will be graded.\n",
    "- When you send an e-mail, write down <font color=\"red\">[Machine Learning Final]</font> on the title\n",
    "- And please <font color=\"red\">write your NAME</font> on your .ipynb files.  ex) name_20182315_Final.ipynb\n",
    "- Do not submit a printed version of your code. It will not be graded."
   ]
  },
  {
   "cell_type": "markdown",
   "metadata": {},
   "source": [
    "# Problem 1\n",
    "\n",
    "Consider two spheres $V_1$ and $V_2$ defined by two equations below.\n",
    "\n",
    "\n",
    "$$V_1 : x^2 + y^2 + z^2 = 1$$\n",
    "$$V_2 : (x - 1)^2 + y^2 + z^2 = 1$$"
   ]
  },
  {
   "cell_type": "markdown",
   "metadata": {},
   "source": [
    "__(1)__ \n",
    "Write the code to estimate the volume of the sphere $V_1$ using Monte Carlo simulation. Compare your estimation with the analytic solution $\\frac{4}{3}\\pi$"
   ]
  },
  {
   "cell_type": "code",
   "execution_count": 2,
   "metadata": {},
   "outputs": [
    {
     "name": "stdout",
     "output_type": "stream",
     "text": [
      "Estimation: 4.14656\n",
      "Analytic solution: 4.1887902047863905\n"
     ]
    }
   ],
   "source": [
    "import numpy as np\n",
    "\n",
    "# Define variables\n",
    "N = 100000 # number of samples\n",
    "r = 1 # radius of the sphere\n",
    "\n",
    "# Sample unifromly from cubic [-2,2]x[-2,2]x[-2,2]\n",
    "samples = np.random.rand(N, 3)\n",
    "samples = 4*samples - 2\n",
    "\n",
    "# Compute distance between the origin and particles\n",
    "dist = np.sqrt(samples[:,0]**2 + samples[:,1]**2 + samples[:,2]**2)\n",
    "\n",
    "# Compute the probability of the particles in the sphere\n",
    "rate = np.mean(dist<r)\n",
    "\n",
    "# Compute volume V\n",
    "V = 4**3*rate\n",
    "\n",
    "print('Estimation: {}'.format(V))\n",
    "print('Analytic solution: {}'.format(4/3*np.pi))"
   ]
  },
  {
   "cell_type": "markdown",
   "metadata": {},
   "source": [
    "__(2)__\n",
    "Write the code to estimate the volume of the intersection between the sphere $V_1$ and the $V_2$. Compare your estimation with the analytic solution $\\frac{5}{12}\\pi$."
   ]
  },
  {
   "cell_type": "code",
   "execution_count": 3,
   "metadata": {},
   "outputs": [
    {
     "name": "stdout",
     "output_type": "stream",
     "text": [
      "Estimation: 1.33248\n",
      "Analytic solution: 1.3089969389957472\n"
     ]
    }
   ],
   "source": [
    "import numpy as np\n",
    "\n",
    "# Define variables\n",
    "N = 100000 # number of samples\n",
    "r = 1 # radius of the sphere\n",
    "\n",
    "# Sample unifromly from cubic [-2,2]x[-2,2]x[-2,2]\n",
    "samples = np.random.rand(N, 3)\n",
    "samples = 4*samples - 2\n",
    "\n",
    "# Compute distance between the origin and particles\n",
    "dist1 = np.sqrt(samples[:,0]**2 + samples[:,1]**2 + samples[:,2]**2)\n",
    "dist2 = np.sqrt((samples[:,0] - 1)**2 + samples[:,1]**2 + samples[:,2]**2)\n",
    "\n",
    "# Compute the probability of the particles in both spheres\n",
    "rate = np.mean((dist1<r)&(dist2<r))\n",
    "\n",
    "# Compute volume V\n",
    "V = 4**3*rate\n",
    "\n",
    "print('Estimation: {}'.format(V))\n",
    "print('Analytic solution: {}'.format(5/12*np.pi))"
   ]
  },
  {
   "cell_type": "markdown",
   "metadata": {},
   "source": [
    "# Problem 2\n",
    "\n",
    "Given 100 pictures of human faces with size of $(50, 40)$, we will apply PCA to this dataset. First, you can load the data using the code below.\n",
    "\n",
    "Download this [data](https://www.dropbox.com/s/uyy3tss4m2w5qrj/problem2_data.pkl?dl=1)."
   ]
  },
  {
   "cell_type": "markdown",
   "metadata": {},
   "source": [
    "__(1)__\n",
    "Plot the image of a single human face among 100 pictures. (You can radomly select one of the face images)"
   ]
  },
  {
   "cell_type": "code",
   "execution_count": 5,
   "metadata": {},
   "outputs": [
    {
     "name": "stdout",
     "output_type": "stream",
     "text": [
      "(100, 50, 40)\n"
     ]
    }
   ],
   "source": [
    "from six.moves import cPickle\n",
    "\n",
    "data = cPickle.load(open('./data_files/problem2_data.pkl', 'rb'))\n",
    "print(data.shape)"
   ]
  },
  {
   "cell_type": "code",
   "execution_count": 6,
   "metadata": {},
   "outputs": [
    {
     "data": {
      "text/plain": [
       "<matplotlib.figure.Figure at 0x2908900eb38>"
      ]
     },
     "metadata": {},
     "output_type": "display_data"
    }
   ],
   "source": [
    "import matplotlib.pyplot as plt\n",
    "\n",
    "sample = data[3]\n",
    "plt.imshow(sample, 'gray')\n",
    "plt.axis('off')\n",
    "plt.show()"
   ]
  },
  {
   "cell_type": "markdown",
   "metadata": {},
   "source": [
    "__(2)__\n",
    "Before applying PCA, we need to reshape the face images into vectorized form. Reshape the given dataset into a matrix of size $(100,50 \\times 40)$. \n",
    "\n",
    "(_i.e._, $(100,50,40)$ $\\rightarrow$ $(100,50\\times 40)$)"
   ]
  },
  {
   "cell_type": "code",
   "execution_count": 7,
   "metadata": {},
   "outputs": [],
   "source": [
    "re_data = data.reshape(100,-1)"
   ]
  },
  {
   "cell_type": "markdown",
   "metadata": {},
   "source": [
    "__(3)__\n",
    "Apply PCA to the reshaped dataset. First, you need to compute a covariance matrix. Second, you need to compute eigen vectors of its covariance matrix."
   ]
  },
  {
   "cell_type": "code",
   "execution_count": 8,
   "metadata": {},
   "outputs": [],
   "source": [
    "import numpy as np\n",
    "\n",
    "# First, compute a covariance matrix\n",
    "cov = np.cov(re_data.T)\n",
    "\n",
    "# Second, compute eigen vectors\n",
    "lamb, v = np.linalg.eig(cov)"
   ]
  },
  {
   "cell_type": "markdown",
   "metadata": {},
   "source": [
    "__(4)__\n",
    "Show the first eigen vector. First, you need to convert eigen vector to a real valued vector using `np.real()`. Then you need to reshape the eigen vector into image size $(50,40)$. "
   ]
  },
  {
   "cell_type": "code",
   "execution_count": 9,
   "metadata": {},
   "outputs": [
    {
     "data": {
      "image/png": "[encoded data removed]",
      "text/plain": [
       "<matplotlib.figure.Figure at 0x2908a380c88>"
      ]
     },
     "metadata": {},
     "output_type": "display_data"
    }
   ],
   "source": [
    "first_eig = v[:,0].real\n",
    "plt.imshow(first_eig.reshape(50, 40), 'gray')\n",
    "plt.axis('off')\n",
    "plt.show()"
   ]
  },
  {
   "cell_type": "markdown",
   "metadata": {},
   "source": [
    "# Problem 3\n",
    "\n",
    "Consider the following dataset. The first column is discrete-valued random variable $y$ and the second and third columns are continuous-valued random variables $x_1$ and $x_2$.\n",
    "\n",
    "Download this [data](https://www.dropbox.com/s/yxvhidt8p44852r/problem3_data.pkl?dl=1).\n",
    "\n",
    "<img src=\"./image_files/problem2_fig.PNG\" width = 200>\n",
    "\n",
    "You can load the table using the below code. The table has totally 1000 samples as you can see from the shape."
   ]
  },
  {
   "cell_type": "code",
   "execution_count": 11,
   "metadata": {},
   "outputs": [
    {
     "name": "stdout",
     "output_type": "stream",
     "text": [
      "(1000, 3)\n"
     ]
    }
   ],
   "source": [
    "from six.moves import cPickle\n",
    "table = cPickle.load(open('./data_files/problem3_data.pkl', 'rb'))\n",
    "\n",
    "print(table.shape)"
   ]
  },
  {
   "cell_type": "markdown",
   "metadata": {},
   "source": [
    "__(1)__\n",
    "Estimate the marginal distribution $P(y=0)$ and $P(y=1)$ using the given table."
   ]
  },
  {
   "cell_type": "code",
   "execution_count": 12,
   "metadata": {},
   "outputs": [
    {
     "name": "stdout",
     "output_type": "stream",
     "text": [
      "Probability of y=0: 0.703\n",
      "Probability of y=1: 0.297\n"
     ]
    }
   ],
   "source": [
    "import numpy as np\n",
    "\n",
    "y_1 = np.mean(table[:,0] == 1)\n",
    "y_0 = np.mean(table[:,0] == 0)\n",
    "\n",
    "print('Probability of y=0: {}'.format(y_0))\n",
    "print('Probability of y=1: {}'.format(y_1))"
   ]
  },
  {
   "cell_type": "markdown",
   "metadata": {},
   "source": [
    "__(2)__\n",
    "Plot the marginal distribution $P(x_1, x_2)$ using the given table."
   ]
  },
  {
   "cell_type": "code",
   "execution_count": 13,
   "metadata": {},
   "outputs": [
    {
     "data": {
      "image/png": "[encoded data removed]",
      "text/plain": [
       "<matplotlib.figure.Figure at 0x2908a3edbe0>"
      ]
     },
     "metadata": {},
     "output_type": "display_data"
    }
   ],
   "source": [
    "import matplotlib.pyplot as plt\n",
    "\n",
    "plt.figure(figsize=(6, 6))\n",
    "plt.plot(table[:,1], table[:,2], '.')\n",
    "plt.title('Marginal distribution', fontsize=15)\n",
    "plt.xlabel('$x_1$', fontsize=15)\n",
    "plt.ylabel('$x_2$', fontsize=15)\n",
    "plt.axis('scaled')\n",
    "plt.show()"
   ]
  },
  {
   "cell_type": "markdown",
   "metadata": {},
   "source": [
    "__(3)__\n",
    "Plot the conditional distributions $P(x_1, x_2 \\mid y=0)$ and $P(x_1, x_2 \\mid y=1)$ using the given table."
   ]
  },
  {
   "cell_type": "code",
   "execution_count": 14,
   "metadata": {},
   "outputs": [
    {
     "data": {
      "image/png": "[encoded data removed]",
      "text/plain": [
       "<matplotlib.figure.Figure at 0x2908a4cf5c0>"
      ]
     },
     "metadata": {},
     "output_type": "display_data"
    }
   ],
   "source": [
    "plt.figure(figsize=(6, 6))\n",
    "plt.plot(table[table[:,0]==0,1], table[table[:,0]==0,2], '.', label='y=0')\n",
    "plt.plot(table[table[:,0]==1,1], table[table[:,0]==1,2], '.', label='y=1')\n",
    "plt.title('Conditional distribution', fontsize=15)\n",
    "plt.xlabel('$x_1$', fontsize=15)\n",
    "plt.ylabel('$x_2$', fontsize=15)\n",
    "plt.legend(fontsize=15)\n",
    "plt.axis('scaled')\n",
    "plt.show()"
   ]
  },
  {
   "cell_type": "markdown",
   "metadata": {},
   "source": [
    "__(4)__\n",
    "Compute the conditional probability of $P(y \\mid -6 \\leq x_1 \\leq -4 \\ \\text{and} \\ 8 \\leq x_2 \\leq 11)$"
   ]
  },
  {
   "cell_type": "code",
   "execution_count": 15,
   "metadata": {},
   "outputs": [
    {
     "name": "stdout",
     "output_type": "stream",
     "text": [
      "Probability of y=0: 1.0\n",
      "Probability of y=1: 0.0\n"
     ]
    }
   ],
   "source": [
    "condition = (-6 < table[:,1]) * (table[:,1] < -4) * (8 < table[:,2]) * (table[:,2] < 11)\n",
    "\n",
    "y_1 = np.mean(table[condition,0])\n",
    "y_0 = 1 - y_1\n",
    "\n",
    "print('Probability of y=0: {}'.format(y_0))\n",
    "print('Probability of y=1: {}'.format(y_1))"
   ]
  },
  {
   "cell_type": "markdown",
   "metadata": {},
   "source": [
    "# Problem 4\n",
    "\n",
    "Let's assume the probability of having cancer is 0.1. When a human has a cancer, the probability of having a tumor in his body is 0.9. Also, when a human doesn't have a cancer, the probaility of having a tumor in his body is 0.7. One day, Sam goes to a hospital and his doctor finds a tumor in his body.  In this case, would you believe Sam has a cancer? Please describe the reason in a logical way."
   ]
  },
  {
   "cell_type": "markdown",
   "metadata": {},
   "source": [
    "# Problem 5\n",
    "\n",
    "[10pt] Middle East Respiratory Syndrome (MERS) outbreaked in South Korea, which caused extremely serious problems to almost every corner of our societies. Read the following conversation regarding MERS.\n",
    "\n",
    "__A__: All the media in Korea talk about MERS nowadays. It is getting more serious. I do not think that Pohang is a safe place any more. I think I should go and get some masks to be protected from MERS. Do you want to go with me? \n",
    "\n",
    "__B__: Mask? Are you kidding? On the hottest day like today? I do not want to wear a mask. By the way, I remember that the World Health Organization said \"the risk of sustained person-to-person transmission appears to be very low.\" \n",
    "\n",
    "__A__: I know that, but I am afraid that there is potential danger in that it is possible for the virus to mutate into a strain that does transmit from person to person. I believe that more evidences that support this are coming on the news. Look at this news article!   \n",
    "\n",
    "__B__: I also heard those news from TV. However, some are just rumors!!! Anyway, I am not going with you.  \n",
    "\n",
    "\n",
    "From the above conversations between __A__ and __B__, we can find out that they behave differently although they have had the similar amount of information and heard similar news. Explain why they end up drawing different conclusions using the concept of MAP.\n",
    "\n",
    "<br>\n",
    "$$\\theta_{\\text{MAP}} = \\frac{m}{m+\\sigma^2} \\bar x + \\frac{\\sigma^2}{m+\\sigma^2} \\mu$$"
   ]
  },
  {
   "cell_type": "markdown",
   "metadata": {},
   "source": [
    "# Problem 6\n",
    "\n",
    "1) Explain why the perceptron cannot solve the XOR problem.\n",
    "\n",
    "2) ANN (Artificial Neural Networks) is also called as MLP (Multilayer Perceptron). Explain why the MLP is able to solve the XOR problem.\n",
    "\n",
    "3) We learned three different non-linear activation fuctions in class. Explain why the unit step function (or sign fuction) is not used for a non-linear activation function in ANN. \n",
    "\n",
    "4) Explain why the autoencoder is one of unsupervised learning algorithms.\n",
    "\n",
    "5) Explain how the autoencoder can work as a feature extraction.\n",
    "\n",
    "6) We have learned two methods for the dimension reduction: PCA and Autoencoder. Explain briefly when you think the autoencoder is acting (or working) like the PCA.\n",
    "\n",
    "7) Explain how the CNN can do the image pattern recognition with the fixed size of kernels although the object size on images might be different."
   ]
  },
  {
   "cell_type": "markdown",
   "metadata": {},
   "source": [
    "# Problem 7\n",
    "\n",
    "Download this data. [pet_data](https://www.dropbox.com/sh/98okq7x6g1ppts3/AACuSKgYpxuhwVhO9_h4VJTxa?dl=1)\n",
    "\n",
    "\n",
    "(1) CNN for the cat and dog classification."
   ]
  },
  {
   "cell_type": "code",
   "execution_count": 1,
   "metadata": {},
   "outputs": [
    {
     "name": "stderr",
     "output_type": "stream",
     "text": [
      "c:\\users\\namjeong\\appdata\\local\\programs\\python\\python35\\lib\\site-packages\\h5py\\__init__.py:36: FutureWarning: Conversion of the second argument of issubdtype from `float` to `np.floating` is deprecated. In future, it will be treated as `np.float64 == np.dtype(float).type`.\n",
      "  from ._conv import register_converters as _register_converters\n"
     ]
    }
   ],
   "source": [
    "import numpy as np\n",
    "import tensorflow as tf\n",
    "import matplotlib.pyplot as plt\n",
    "\n",
    "from six.moves import cPickle"
   ]
  },
  {
   "cell_type": "code",
   "execution_count": 2,
   "metadata": {},
   "outputs": [],
   "source": [
    "#load data\n",
    "train_img = cPickle.load(open('./data_files/train_img_gray.pkl', 'rb'))\n",
    "train_label = cPickle.load(open('./data_files/train_label_gray.pkl', 'rb'))\n",
    "\n",
    "test_img = cPickle.load(open('./data_files/test_img_gray.pkl', 'rb'))\n",
    "test_label = cPickle.load(open('./data_files/test_label_gray.pkl', 'rb'))"
   ]
  },
  {
   "cell_type": "code",
   "execution_count": 3,
   "metadata": {},
   "outputs": [
    {
     "data": {
      "image/png": "[encoded data removed]",
      "text/plain": [
       "<matplotlib.figure.Figure at 0x17770ab5be0>"
      ]
     },
     "metadata": {},
     "output_type": "display_data"
    }
   ],
   "source": [
    "idx = np.random.randint(len(train_img))\n",
    "plt.imshow(train_img[idx], 'gray')\n",
    "plt.title('Label : {}'.format(train_label[idx]))\n",
    "plt.show()"
   ]
  },
  {
   "cell_type": "code",
   "execution_count": 4,
   "metadata": {},
   "outputs": [],
   "source": [
    "input_h  = 100 # Input height\n",
    "input_w = 100 # Input width\n",
    "input_ch = 1 # Input channel\n",
    "\n",
    "## First convolution layer\n",
    "# Filter size\n",
    "k1_h = 4\n",
    "k1_w = 4\n",
    "# the number of channels\n",
    "k1_ch = 8\n",
    "# Pooling size\n",
    "p1_h = 5\n",
    "p1_w = 5\n",
    "\n",
    "## Second convolution layer\n",
    "# Filter size\n",
    "k2_h = 2\n",
    "k2_w = 2\n",
    "# the number of channels\n",
    "k2_ch = 16\n",
    "# Pooling size\n",
    "p2_h = 4\n",
    "p2_w = 4\n",
    "\n",
    "## Fully connected\n",
    "# Flatten the features\n",
    "conv_result_size = int((100/(5*4)) * (100/(5*4)) * k2_ch)\n",
    "n_hidden1 = 100\n",
    "n_output = 2"
   ]
  },
  {
   "cell_type": "code",
   "execution_count": 5,
   "metadata": {},
   "outputs": [],
   "source": [
    "weights = {\n",
    "    'conv1' : tf.Variable(tf.random_normal([k1_h, k1_w, input_ch, k1_ch],stddev = 0.1)),\n",
    "    'conv2' : tf.Variable(tf.random_normal([k2_h, k2_w, k1_ch, k2_ch],stddev = 0.1)),\n",
    "    'hidden1' : tf.Variable(tf.random_normal([conv_result_size, n_hidden1], stddev = 0.1)),\n",
    "    'output' : tf.Variable(tf.random_normal([n_hidden1, n_output], stddev = 0.1))\n",
    "}\n",
    "\n",
    "biases = {\n",
    "    'conv1' : tf.Variable(tf.random_normal([k1_ch], stddev = 0.1)),\n",
    "    'conv2' : tf.Variable(tf.random_normal([k2_ch], stddev = 0.1)),\n",
    "    'hidden1' : tf.Variable(tf.random_normal([n_hidden1], stddev = 0.1)),\n",
    "    'output' : tf.Variable(tf.random_normal([n_output], stddev = 0.1))\n",
    "}\n",
    "\n",
    "x = tf.placeholder(tf.float32, [None, input_h, input_w, input_ch])\n",
    "y = tf.placeholder(tf.float32, [None, n_output])"
   ]
  },
  {
   "cell_type": "code",
   "execution_count": 6,
   "metadata": {},
   "outputs": [],
   "source": [
    "def net(x, weights, biases):\n",
    "    ## First convolution layer\n",
    "    conv1 = tf.nn.conv2d(x, weights['conv1'], \n",
    "                         strides= [1, 1, 1, 1], \n",
    "                         padding = 'SAME')\n",
    "    conv1 = tf.nn.relu(tf.add(conv1, biases['conv1']))\n",
    "    maxp1 = tf.nn.max_pool(conv1, \n",
    "                           ksize = [1, p1_h, p1_w, 1], \n",
    "                           strides = [1, p1_h, p1_w, 1], \n",
    "                           padding = 'VALID'\n",
    "                           )\n",
    "    \n",
    "    ## Second convolution layer\n",
    "    conv2 = tf.nn.conv2d(maxp1, weights['conv2'], \n",
    "                         strides= [1, 1, 1, 1], \n",
    "                         padding = 'SAME')\n",
    "    conv2 = tf.nn.relu(tf.add(conv2, biases['conv2']))\n",
    "    maxp2 = tf.nn.max_pool(conv2, \n",
    "                           ksize = [1, p2_h, p2_w, 1], \n",
    "                           strides = [1, p2_h, p2_w, 1], \n",
    "                           padding = 'VALID')\n",
    "\n",
    "    # shape = conv2.get_shape().as_list()\n",
    "    # maxp2_re = tf.reshape(conv2, [-1, shape[1]*shape[2]*shape[3]])\n",
    "    maxp2_re = tf.reshape(maxp2, [-1, conv_result_size])\n",
    "    \n",
    "    ### Fully connected\n",
    "    hidden1 = tf.add(tf.matmul(maxp2_re, weights['hidden1']), biases['hidden1'])\n",
    "    hidden1 = tf.nn.relu(hidden1)\n",
    "    output = tf.add(tf.matmul(hidden1, weights['output']), biases['output'])\n",
    "    return output"
   ]
  },
  {
   "cell_type": "code",
   "execution_count": 7,
   "metadata": {},
   "outputs": [
    {
     "name": "stdout",
     "output_type": "stream",
     "text": [
      "WARNING:tensorflow:From <ipython-input-7-e1b9d441c90f>:4: softmax_cross_entropy_with_logits (from tensorflow.python.ops.nn_ops) is deprecated and will be removed in a future version.\n",
      "Instructions for updating:\n",
      "\n",
      "Future major versions of TensorFlow will allow gradients to flow\n",
      "into the labels input on backprop by default.\n",
      "\n",
      "See tf.nn.softmax_cross_entropy_with_logits_v2.\n",
      "\n"
     ]
    }
   ],
   "source": [
    "LR = 0.0001\n",
    "\n",
    "pred = net(x, weights, biases)\n",
    "loss = tf.nn.softmax_cross_entropy_with_logits(labels=y, logits=pred)\n",
    "loss = tf.reduce_mean(loss)\n",
    "\n",
    "# optimizer = tf.train.GradientDescentOptimizer(learning_rate).minimize(cost)\n",
    "optm = tf.train.AdamOptimizer(LR).minimize(loss)\n",
    "\n",
    "init = tf.global_variables_initializer()"
   ]
  },
  {
   "cell_type": "code",
   "execution_count": 8,
   "metadata": {},
   "outputs": [],
   "source": [
    "n_batch = 50\n",
    "n_iter = 2500\n",
    "n_prt = 250"
   ]
  },
  {
   "cell_type": "code",
   "execution_count": 9,
   "metadata": {},
   "outputs": [],
   "source": [
    "sess = tf.Session()\n",
    "sess.run(init)"
   ]
  },
  {
   "cell_type": "code",
   "execution_count": 10,
   "metadata": {},
   "outputs": [
    {
     "name": "stdout",
     "output_type": "stream",
     "text": [
      "Iter : 0\n",
      "Cost : 13.400984764099121\n",
      "Iter : 250\n",
      "Cost : 1.2719180583953857\n",
      "Iter : 500\n",
      "Cost : 0.6830869317054749\n",
      "Iter : 750\n",
      "Cost : 1.0553808212280273\n",
      "Iter : 1000\n",
      "Cost : 0.8241110444068909\n",
      "Iter : 1250\n",
      "Cost : 0.7989736795425415\n",
      "Iter : 1500\n",
      "Cost : 0.5763419270515442\n",
      "Iter : 1750\n",
      "Cost : 0.9211671352386475\n",
      "Iter : 2000\n",
      "Cost : 0.6135859489440918\n",
      "Iter : 2250\n",
      "Cost : 0.589694619178772\n"
     ]
    }
   ],
   "source": [
    "# Training cycle\n",
    "for epoch in range(n_iter):\n",
    "    idx = np.random.randint(len(train_label), size=n_batch)\n",
    "    train_x = [train_img[i] for i in idx]\n",
    "    train_y = [train_label[i] for i in idx]\n",
    "    train_x = np.reshape(np.array(train_x),(-1,100,100,1)) \n",
    "    sess.run(optm, feed_dict={x: train_x,  y: train_y})\n",
    "    \n",
    "    if epoch % n_prt == 0:\n",
    "        c = sess.run(loss, feed_dict={x: train_x, y: train_y})\n",
    "        print (\"Iter : {}\".format(epoch))\n",
    "        print (\"Cost : {}\".format(c))"
   ]
  },
  {
   "cell_type": "code",
   "execution_count": 13,
   "metadata": {},
   "outputs": [
    {
     "name": "stdout",
     "output_type": "stream",
     "text": [
      "Accuracy : 77.0%\n"
     ]
    }
   ],
   "source": [
    "size = 100\n",
    "idx = np.random.randint(len(test_label), size=size)\n",
    "test_x = [test_img[i] for i in idx]\n",
    "test_y = [test_label[i] for i in idx]\n",
    "\n",
    "my_pred = sess.run(pred, feed_dict={x : np.array(test_x).reshape(-1,100,100,1)})\n",
    "my_pred = np.argmax(my_pred, axis=1)\n",
    "\n",
    "labels = np.argmax(test_y, axis=1)\n",
    "\n",
    "accr = np.mean(np.equal(my_pred, labels))\n",
    "print(\"Accuracy : {}%\".format(accr*100))"
   ]
  },
  {
   "cell_type": "code",
   "execution_count": 12,
   "metadata": {},
   "outputs": [
    {
     "data": {
      "image/png": "[encoded data removed]",
      "text/plain": [
       "<matplotlib.figure.Figure at 0x1777fd71dd8>"
      ]
     },
     "metadata": {},
     "output_type": "display_data"
    },
    {
     "name": "stdout",
     "output_type": "stream",
     "text": [
      "Label : 0\n",
      "Prediction : 0\n"
     ]
    },
    {
     "data": {
      "image/png": "[encoded data removed]",
      "text/plain": [
       "<matplotlib.figure.Figure at 0x1777fc47a20>"
      ]
     },
     "metadata": {},
     "output_type": "display_data"
    },
    {
     "name": "stdout",
     "output_type": "stream",
     "text": [
      "Probability : [0.9 0.1]\n"
     ]
    }
   ],
   "source": [
    "size = 1\n",
    "idx = np.random.randint(len(test_label), size=size)\n",
    "test_x = [test_img[i] for i in idx]\n",
    "test_y = [test_label[i] for i in idx]\n",
    "logits = sess.run(tf.nn.softmax(pred), feed_dict={x : np.array(test_x).reshape(-1,100,100,1)})\n",
    "predict = np.argmax(logits)\n",
    "\n",
    "plt.imshow(test_x[0], 'gray')\n",
    "plt.xticks([])\n",
    "plt.yticks([])\n",
    "plt.show()\n",
    "\n",
    "print('Label : {}'.format(np.argmax(test_y[0])))\n",
    "print('Prediction : {}'.format(predict))\n",
    "\n",
    "plt.stem(logits.ravel())\n",
    "plt.show()\n",
    "\n",
    "np.set_printoptions(precision=2, suppress=True)\n",
    "print('Probability : {}'.format(logits.ravel()))"
   ]
  },
  {
   "cell_type": "markdown",
   "metadata": {},
   "source": [
    "(2) ANN for the cat and dog classification."
   ]
  },
  {
   "cell_type": "code",
   "execution_count": null,
   "metadata": {},
   "outputs": [],
   "source": []
  },
  {
   "cell_type": "code",
   "execution_count": null,
   "metadata": {},
   "outputs": [],
   "source": []
  },
  {
   "cell_type": "code",
   "execution_count": null,
   "metadata": {},
   "outputs": [],
   "source": []
  }
 ],
 "metadata": {
  "kernelspec": {
   "display_name": "Python 3",
   "language": "python",
   "name": "python3"
  },
  "language_info": {
   "codemirror_mode": {
    "name": "ipython",
    "version": 3
   },
   "file_extension": ".py",
   "mimetype": "text/x-python",
   "name": "python",
   "nbconvert_exporter": "python",
   "pygments_lexer": "ipython3",
   "version": "3.5.3"
  }
 },
 "nbformat": 4,
 "nbformat_minor": 2
}
