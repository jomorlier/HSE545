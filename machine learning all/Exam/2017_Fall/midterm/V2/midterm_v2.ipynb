{
 "cells": [
  {
   "cell_type": "markdown",
   "metadata": {
    "deletable": true,
    "editable": true
   },
   "source": [
    "# 1. Linear Algebra"
   ]
  },
  {
   "cell_type": "markdown",
   "metadata": {
    "deletable": true,
    "editable": true
   },
   "source": [
    "## Problem 3\n",
    "\n",
    "In this problem, we want to explore a reflection transformation of $X$, which produces a mirror vector $Z$ with respect to vector $V$. See Figure 1.\n",
    "\n",
    "<img src=\"./image_files/LA01.png\", width = 250>\n",
    "<center>Figure 1</center>\n",
    "\n",
    "1) Is a reflection transformation linear?\n",
    "\n",
    "2) If yes, find matrix $M$ such that $Z = MX$ using concept of projection.\n",
    "\n",
    "3) If yes, find matrix $M$ such that $Z = MX$ using concept of eigen values and vectors. (you can use the results of the above problems)\n",
    "\n",
    "3) For $V = \\begin{bmatrix} 1 & 1 \\end{bmatrix}^T$, compute $M$ and its eigenvalues/eigenvectors (here, vector $V$ is a vector with 45 degree angle with x-axis)"
   ]
  },
  {
   "cell_type": "markdown",
   "metadata": {
    "deletable": true,
    "editable": true
   },
   "source": [
    "## Problem 5\n",
    "\n",
    "Let $R = R(\\theta)$ be a rotation matrix with a rotational angle of $\\theta$ in $\\mathbb{R}^n$.\n",
    "\n",
    "1. Prove that $$R^TR=I \\;\\text{in}\\; \\mathbb{R}^n$$\n",
    "    \n",
    "    Hint: Euclidian distances of vectors are preserved after a rotational operation. (_i.e._, $\\lVert Rx \\rVert = \\lVert x \\rVert$ for any $x \\in \\mathbb{R}^n$ ) \n",
    "<br><br>\n",
    "2. Prove that $$R^T(\\theta) = R^{-1}(\\theta) = R(-\\theta)\\;\\text{in}\\;\\mathbb{R}^n$$\n",
    "<br><br>\n",
    "3. Show that column vectors in $R$ are orthogonal in $\\mathbb{R}^n$."
   ]
  },
  {
   "cell_type": "markdown",
   "metadata": {
    "deletable": true,
    "editable": true
   },
   "source": [
    "## Problem 11\n",
    "\n",
    "Permutation matrices. A square matrix A is called a permutation matrix if it satisfies the following three properties:\n",
    "\n",
    "- all elements of A are either zero or one\n",
    "- each column of A contains exactly one element equal to one\n",
    "- each row of A contains exactly one element equal to one.\n",
    "\n",
    "The matrices\n",
    "\n",
    "$$A_1 = \\begin{bmatrix}\n",
    "0 & 1 & 0\\\\\n",
    "0 & 0 & 1 \\\\\n",
    "1& 0 & 0 \n",
    "\\end{bmatrix}, \\quad\n",
    "A_2 = \\begin{bmatrix}\n",
    "0 & 1 & 0 & 0\\\\\n",
    "0 & 0 & 0 & 1\\\\\n",
    "0 & 0& 1 & 0 \\\\\n",
    "1 & 0 & 0 & 0\n",
    "\\end{bmatrix}$$\n",
    "\n",
    "are examples of permutation matrices. A less formal definition is the following: a permutation matrix is the identity matrix with its rows reordered.\n",
    "\n",
    "(a) Let A be an $n \\times n$ permutation matrix. Give a simple description in words of the relation between a n-vector $x$ and $f(x) = Ax$.\n",
    "\n",
    "(b) Prove that columns of permutation matrix is orthogonal.\n",
    "\n",
    "(c) We can also define a second linear function $g(x) = A^Tx$ in terms of the same permutation matrix. What is the relation between $g$ and $f$ ?\n",
    "\n",
    "Hint: Use the result of (b)\n",
    "\n",
    "(d) Describe meaning of columns and rows of permutation matrix. Then, explain the result of (c)."
   ]
  },
  {
   "cell_type": "markdown",
   "metadata": {
    "deletable": true,
    "editable": true
   },
   "source": [
    "# 3. Regression"
   ]
  },
  {
   "cell_type": "markdown",
   "metadata": {
    "deletable": true,
    "editable": true
   },
   "source": [
    "## Problem 2\n",
    "\n",
    "The regularized least-squares problem has the form\n",
    "\n",
    "<br>\n",
    "$$ \\min_{\\theta} \\;\\lVert A\\theta -y\\rVert_2^2 + \\lambda \\lVert \\theta \\rVert_2^2$$\n",
    "\n",
    "(a) Show that the solution is given by\n",
    "<br><br>\n",
    "$$ \\hat{\\theta} = \\left( A^T A + \\lambda I_n \\right)^{-1} A^T y $$\n",
    " (Do not use the method of Lagrangian multipliers)\n",
    "<br><br>\n",
    "\n",
    "(b) Write down a gradient descent algorithm for given optimization problem.\n",
    "\n",
    "(c) Based on the result of (b), describe the role of regularizer term.\n",
    "\n",
    "(d) Describe results of (a) and (b) have the same meaning.\n",
    "\n",
    "(e) Find and draw an approximated curve of the given data points in Python using your gradient descent algorithm.\n",
    "    - overcome overfitting \n",
    "    - use RBF \n",
    "    - choose a proper value of $\\lambda$ on your own"
   ]
  },
  {
   "cell_type": "markdown",
   "metadata": {
    "deletable": true,
    "editable": true
   },
   "source": [
    "# 4. Classification"
   ]
  },
  {
   "cell_type": "markdown",
   "metadata": {},
   "source": [
    "## New problem\n",
    "\n",
    "a) Let's say $x_i$'s are features. We say feature $x_j$ is useless when $P(y|x_1, ... x_{j-1}, x_j, x_j, ... x_N) = P(y|x_1, ... x_{j-1}, x_j, ... x_N)$. Describe the reason.\n",
    "\n",
    "b) In our class, we learn that we can select meaningful feature using Lasso. Describe why Lasso select meaningful feature using above equation.\n",
    "\n",
    "c) Load 'data_input.pkl' and 'data_target.pkl'. Using these, build the classifier using Lasso.\n",
    "\n",
    "d) After applying Lasso, we can select meaningful features. Then, we again apply Lasso to refine our features. Such techniques are called recursive feature elimination. Write the code that recursively apply Lasso to select features and plot the number of features selected at each iteration."
   ]
  },
  {
   "cell_type": "code",
   "execution_count": 1,
   "metadata": {
    "collapsed": true
   },
   "outputs": [],
   "source": [
    "from sklearn.datasets import load_boston\n",
    "boston = load_boston()\n",
    "X, y = boston.data, boston.target\n",
    "\n",
    "from six.moves import cPickle\n",
    "cPickle.dump(X, open('./data_input.pkl', 'wb'))\n",
    "cPickle.dump(y, open('./data_target.pkl', 'wb'))"
   ]
  },
  {
   "cell_type": "markdown",
   "metadata": {},
   "source": [
    "## New problem\n",
    "(a) The figure shows loss functions of each classifier that you have learned in class.\n",
    "\n",
    "<img src=\"./image_files/hinge_.jpg\", width = 500>\n",
    "<center>Figure 1</center>\n",
    "\n",
    "Observe that the hinge loss function does not impose any loss when the inner product between target and prediction is greater than 1. Actually, support vector machine can be coded by setting classifier's loss to the hinge loss function. Describe the reason using the concept of maximum margin.\n",
    "\n",
    "(b) Using the figure, describe why support vector machine is robust to outlier.\n",
    "\n",
    "(c) Write the code that optimizing hinge loss function to build a classifier. Then plot the decision boundary of your classifier."
   ]
  },
  {
   "cell_type": "code",
   "execution_count": 2,
   "metadata": {
    "collapsed": false
   },
   "outputs": [
    {
     "data": {
      "image/png": "[encoded data removed]",
      "text/plain": [
       "<matplotlib.figure.Figure at 0x7fa9c7b4f518>"
      ]
     },
     "metadata": {},
     "output_type": "display_data"
    }
   ],
   "source": [
    "from sklearn.datasets import load_iris\n",
    "import matplotlib.pyplot as plt\n",
    "\n",
    "iris = load_iris()\n",
    "x, y = iris.data, iris.target\n",
    "x = x[y != 2]\n",
    "y = y[y != 2]\n",
    "y[y == 0] = -1\n",
    "x = x[:,:2]\n",
    "\n",
    "plt.plot(x[y == -1,0], x[y == -1,1], '.')\n",
    "plt.plot(x[y == 1,0], x[y == 1,1], '.')\n",
    "plt.show()"
   ]
  },
  {
   "cell_type": "markdown",
   "metadata": {
    "deletable": true,
    "editable": true
   },
   "source": [
    "# 5. Clustering"
   ]
  },
  {
   "cell_type": "markdown",
   "metadata": {
    "deletable": true,
    "editable": true
   },
   "source": [
    "## Problem 1\n",
    "\n",
    "You will use K-means to compress an image by reducing the number of colors it contains.\n",
    "\n",
    "1) Image Representation\n",
    "\n",
    "The data for this exercise contains a 128-pixel by 128-pixel TIFF image named \"bird.tiff.\" It looks like the picture in Figure 1.\n",
    "<br><br>\n",
    "<img src=\"./image_files/clus01.bmp\", width = 250>\n",
    "<br><br>\n",
    "In a straightforward 24-bit color representation of this image, each pixel is represented as three 8-bit numbers (ranging from 0 to 255) that specify red, green and blue (RGB) intensity values. Our bird photo contains thousands of colors, but we'd like to reduce that number to 16. By making this reduction, it would be possible to represent the photo in a more efficient way by storing only the RGB values of the 16 colors present in the image.\n",
    "\n",
    "In this problem, you will use K-means to reduce the color count to $k = 16$. That is, you will compute 16 colors as the cluster centroids and replace each pixel in the image with its nearest cluster centroid color.\n",
    "\n",
    "2) K-means in Matlab\n",
    "\n",
    "<a href = \"https://www.dropbox.com/s/tibygtcahpw9hmk/bird.tiff?dl=0\"> download bird.tiff </a>\n",
    "\n",
    "In Matlab, load the image into your program with the following command:\n",
    "\n",
    "```octave \n",
    "im = imread('bird.tiff');\n",
    "A = double(im);\n",
    "imshow(im)\n",
    "```\n",
    "This creates a three-dimensional matrix $A$ whose first two indices identify a pixel position and whose last index represents red, green, or blue. For example, $A(50, 33, 3)$ gives you the blue intensity of the pixel at position $y = 50, x = 33$. (The y-position is given first, but this does not matter so much in our example because the $x$ and $y$ dimensions have the same size).\n",
    "\n",
    "Your task is to compute 16 cluster centroids from this image, with each centroid being a vector of length three that holds a set of RGB values. Here is the K-means algorithm as it applies to this problem:\n",
    "\n",
    "3) K-means algorithm\n",
    "\n",
    "> 1. For initialization, sample 16 colors randomly from the original picture. There are your \n",
    "$k$ means $\\mu_1, \\mu_2, \\cdots, \\mu_k$.\n",
    "<br><br>\n",
    "> 2. Go through each pixel in the small image and calculate its nearest mean.\n",
    " <br><br>\n",
    " $$c^{(i)} = \\text{arg} min_j \\lVert x^{(i)}-\\mu_j \\rVert^2$$\n",
    " <br><br>\n",
    "> 3. Update the values of the means based on the pixels assigned to them. \n",
    "<br><br>\n",
    "$$\\mu_j = \\frac{\\sum\\limits_i^m 1\\{c^{(i)} = j\\}x^{(i)}}{\\sum\\limits_i^m 1\\{c^{(i)} = j\\}}$$\n",
    "<br><br>\n",
    ">4. Repeat steps 2 and 3 until convergence. This should take between 30 and 100 iterations. You can either run the loop for a preset maximum number of iterations, or you can decide to terminate the loop when the locations of the means are no longer changing by a significant amount.\n",
    "\n",
    "Note: In Step 3, you should update a mean only if there are pixels assigned to it. Otherwise, you will see a divide-by-zero error. For example, it's possible that during initialization, two of the means will be initialized to the same color (_i.e._ black). Depending on your implementation, all of the pixels in the photo that are closest to that color may get assigned to one of the means, leaving the other mean with no assigned pixels.\n",
    "\n",
    "When you have recalculated the image, you can display it. When you are finished, compare your image to the one in the solutions.\n",
    "\n",
    "```octave\n",
    "imshow(unit8(A16));\n",
    "```\n",
    "\n",
    "<img src=\"./image_files/clus02.bmp\", width = 250>"
   ]
  }
 ],
 "metadata": {
  "kernelspec": {
   "display_name": "Python 3",
   "language": "python",
   "name": "python3"
  },
  "language_info": {
   "codemirror_mode": {
    "name": "ipython",
    "version": 3
   },
   "file_extension": ".py",
   "mimetype": "text/x-python",
   "name": "python",
   "nbconvert_exporter": "python",
   "pygments_lexer": "ipython3",
   "version": "3.5.2"
  }
 },
 "nbformat": 4,
 "nbformat_minor": 2
}
