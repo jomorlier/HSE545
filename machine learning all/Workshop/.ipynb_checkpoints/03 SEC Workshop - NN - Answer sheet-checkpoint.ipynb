{
 "cells": [
  {
   "cell_type": "code",
   "execution_count": 1,
   "metadata": {
    "collapsed": false
   },
   "outputs": [
    {
     "data": {
      "application/javascript": [
       "$.getScript('https://kmahelona.github.io/ipython_notebook_goodies/ipython_notebook_toc.js')"
      ],
      "text/plain": [
       "<IPython.core.display.Javascript object>"
      ]
     },
     "metadata": {},
     "output_type": "display_data"
    }
   ],
   "source": [
    "%%javascript\n",
    "$.getScript('https://kmahelona.github.io/ipython_notebook_goodies/ipython_notebook_toc.js')"
   ]
  },
  {
   "cell_type": "markdown",
   "metadata": {
    "deletable": true,
    "editable": true
   },
   "source": [
    "<br><br>\n",
    "<font size='6'><b>Neural Network\n",
    "</b></font><br><br>\n",
    "\n",
    "<table style=\"border-style: hidden; border-collapse: collapse;\" width = \"80%\"> \n",
    "    <tr style=\"border-style: hidden; border-collapse: collapse;\">\n",
    "        <td width = 60% style=\"border-style: hidden; border-collapse: collapse;\">\n",
    "\n",
    "        </td>\n",
    "        <td width = 20%>\n",
    "        By Suhyun Kim<br>iSystems Design Lab<br>http://isystems.unist.ac.kr/<br>UNIST\n",
    "        </td>\n",
    "    </tr>\n",
    "</table>\n",
    "\n",
    "Table of Contents\n",
    "<div id=\"toc\"></div>"
   ]
  },
  {
   "cell_type": "markdown",
   "metadata": {
    "deletable": true,
    "editable": true
   },
   "source": [
    "## 0. Deep Learning Library"
   ]
  },
  {
   "cell_type": "markdown",
   "metadata": {
    "editable": true
   },
   "source": [
    "**Caffe**\n",
    "<img src=\"./image_files/Caffe_logo.png\" width = 200>\n",
    "\n",
    "- 장점\n",
    "    - Image Processing에 많이 쓰임\n",
    "    - 코드 작성없이 트레이닝 가능\n",
    "    - Python 인터페이스 \n",
    "    <img src=\"./image_files/Caffe_example_code.png\" width = 600>\n",
    "\n",
    "- 단점\n",
    "    - GPU를 위해서는 C++/CUDA작성 필요\n",
    "    - 큰 네트워크에 부적절\n"
   ]
  },
  {
   "cell_type": "markdown",
   "metadata": {
    "deletable": true,
    "editable": true
   },
   "source": [
    "**Theano**\n",
    "<img src=\"./image_files/Theano_logo.png\" width = 200>\n",
    "\n",
    "- 장점\n",
    "    - Python + Numpy\n",
    "    - Keras, Lasagna 등 추가 라이브러리 존재\n",
    "- 단점\n",
    "    - Theano 자체는 로우레벨 라이브러리\n",
    "    - 에러메세지가 부정확함"
   ]
  },
  {
   "cell_type": "markdown",
   "metadata": {
    "deletable": true,
    "editable": true
   },
   "source": [
    "**Tensorflow**\n",
    "<img src=\"./image_files/Tensorflow_logo.png\" width = 300>\n",
    "\n",
    "- 장점\n",
    "    - Python + Numpy\n",
    "    - Theano 보다 빠른 Compile time\n",
    "    - Tensorboard 를 통한 visualization\n",
    "    - 데이터와 모델의 병렬화\n",
    "\n",
    "- 단점\n",
    "    - 다른 library 들에 비해 느린속도\n",
    "    - 계산 그래프가 Python으로 되어 있어서 느림\n"
   ]
  },
  {
   "cell_type": "markdown",
   "metadata": {
    "deletable": true,
    "editable": true
   },
   "source": [
    "## 1. Neural Networks"
   ]
  },
  {
   "cell_type": "markdown",
   "metadata": {},
   "source": [
    "### 1.1. Tranditional Machine Learning vs. Neural Networks\n",
    "\n",
    "__Object recognition using machine learning__\n",
    "\n",
    "<img src=\"./image_files/ML_clown_fish.png\" width = 500>\n",
    "\n",
    "__Neural Network__\n",
    "\n",
    "<table style=\"border-style: hidden; border-collapse: collapse;\" width = \"96%\"> \n",
    "    <tr style=\"border-style: hidden; border-collapse: collapse;\">\n",
    "        <td width = 48% style=\"border-style: hidden; border-collapse: collapse;\">\n",
    "<img src=\"./image_files/nn_clown_fish.png\" width = 350>\n",
    "        </td>\n",
    "        <td width = 48%>\n",
    "<img src=\"./image_files/nn_fish.png\" width = 350>\n",
    "        </td>\n",
    "    </tr>\n",
    "</table>"
   ]
  },
  {
   "cell_type": "markdown",
   "metadata": {
    "collapsed": true,
    "deletable": true,
    "editable": true
   },
   "source": [
    "__Example__: neural network with one hidden layer\n",
    "\n",
    "Architectures are often shown graphically\n",
    "\n",
    "<img src=\"./image_files/nn_structure.png\" width = 300>\n"
   ]
  },
  {
   "cell_type": "markdown",
   "metadata": {},
   "source": [
    "\n",
    "$$h_{\\theta}(x) = \\Theta^{(2)} g\\left( \\Theta^{(1)}x\\right)$$\n",
    "\n",
    "\n",
    "where $\\Theta^{(1)} \\in \\mathbb{R}^{k \\times n}, \\Theta^{(2)} \\in \\mathbb{R}^{1 \\times k}$ and $g$ is some non-linear function applied elementwise to a vector"
   ]
  },
  {
   "cell_type": "markdown",
   "metadata": {
    "deletable": true,
    "editable": true
   },
   "source": [
    "__장점__\n",
    "\n",
    "- No need to manually engineer good features, just let the machine learning algorithm handle this part\n",
    "    - 엔지니어가 좋은 feature를 선택해줄 필요없이, 학습과정에서 feature가 학습된다.\n",
    "- It turns out that a 3-layer network is a universal function approximator, any non-linear function can be represented with a 3-layer network with a large enough hidden layer\n",
    "    - 3 layer network를 통해 모든 function을 표현할 수 있다\n",
    "\n",
    "__단점__\n",
    "\n",
    "- Minimizing loss on training data is no longer a convex optimization problem in parameters $\\theta$\n",
    "    - loss를 최소화하는 것이 간단한 문제가 아니다.\n",
    "- Still need to engineer a good architecture (more on this shortly)\n",
    "    - 엔지니어가 구조를 설계해주어야 한다."
   ]
  },
  {
   "cell_type": "markdown",
   "metadata": {
    "collapsed": true,
    "deletable": true,
    "editable": true
   },
   "source": [
    "## 2. Deep Neural Networks"
   ]
  },
  {
   "cell_type": "markdown",
   "metadata": {
    "deletable": true,
    "editable": true
   },
   "source": [
    "\"Deep\" neural networks typically refer to networks with multiple hidden layers\n",
    "\n",
    "<img src=\"./image_files/deep_structure.png\" width = 450>\n",
    "\n",
    "Motivation from neurobiology: 사람의 뇌가 정보를 처리할때 여러 층의 뉴런을 사용하는 것처럼 Neural Nets도 여러층의 layer를 적용"
   ]
  },
  {
   "cell_type": "markdown",
   "metadata": {
    "deletable": true,
    "editable": true
   },
   "source": [
    "### 3. Training Neural Networks"
   ]
  },
  {
   "cell_type": "markdown",
   "metadata": {
    "deletable": true,
    "editable": true
   },
   "source": [
    "### 3.1. Cost function\n",
    "\n",
    "How do we optimize the parameters for the machine learning loss minimization problem with a neural network\n",
    "\n",
    "$$ \\min_{\\theta} \\sum_{i=1}^{m}\\ell\\left( h_{\\theta}\\left(x^{(i)}\\right),y^{(i)}\\right)$$\n",
    "\n",
    "Gradient descent:\n",
    "\n",
    "$$ \\theta:= \\theta - \\alpha \\nabla_{\\theta} \\left( h_{\\theta} \\left(x^{(i)}\\right),y^{(i)}\\right)$$\n",
    "\n",
    "<img src=\"./image_files/GradientDescent.png\" width = 450>\n"
   ]
  },
  {
   "cell_type": "markdown",
   "metadata": {
    "deletable": true,
    "editable": true
   },
   "source": [
    "## 4. Neural Network in TensorFlow"
   ]
  },
  {
   "cell_type": "markdown",
   "metadata": {
    "deletable": true,
    "editable": true
   },
   "source": [
    "<br>\n",
    "<img src=\"./image_files/MNIST_neuralnet_image.png\" width = 450>\n",
    "<br>"
   ]
  },
  {
   "cell_type": "markdown",
   "metadata": {
    "collapsed": true,
    "deletable": true,
    "editable": true
   },
   "source": [
    "- The MNIST database (Mixed National Institute of Standards and Technology database) is a large database of handwritten digits that is commonly used for training various image processing systems.\n",
    "\n",
    "- Each image is 28 pixels by 28 pixels. We can interpret this as a big array of numbers\n",
    "\n",
    "<img src=\"./image_files/mnist_digits.png\" width = 450>\n",
    "\n",
    "<img src=\"./image_files/MNIST-Matrix.png\" width = 450>\n",
    "\n",
    "- 단순 NN 구조를 이용하여 숫자를 분류하는 네트워크를 구성하는 Example"
   ]
  },
  {
   "cell_type": "markdown",
   "metadata": {
    "deletable": true,
    "editable": true
   },
   "source": [
    "### 4.1. Import Library"
   ]
  },
  {
   "cell_type": "code",
   "execution_count": 8,
   "metadata": {
    "collapsed": true,
    "deletable": true,
    "editable": true
   },
   "outputs": [],
   "source": [
    "# Import Library\n",
    "import numpy as np\n",
    "import matplotlib.pyplot as plt\n",
    "import tensorflow as tf\n"
   ]
  },
  {
   "cell_type": "markdown",
   "metadata": {
    "deletable": true,
    "editable": true
   },
   "source": [
    "### 4.2. Load MNIST example"
   ]
  },
  {
   "cell_type": "code",
   "execution_count": null,
   "metadata": {
    "collapsed": true
   },
   "outputs": [],
   "source": [
    "from six.moves import cPickle\n",
    "\n",
    "mnist = cPickle.load(open('data_files/mnist.pkl', 'rb'))\n",
    "trainimgs   = mnist.train.images\n",
    "trainlabels = mnist.train.labels\n",
    "testimgs    = mnist.test.images\n",
    "testlabels  = mnist.test.labels\n",
    "ntrain      = trainimgs.shape[0]\n",
    "ntest       = testimgs.shape[0]\n",
    "print (\"Packages loaded\")"
   ]
  },
  {
   "cell_type": "code",
   "execution_count": 25,
   "metadata": {
    "collapsed": false,
    "scrolled": true
   },
   "outputs": [
    {
     "data": {
      "image/png": "[encoded data removed]",
      "text/plain": [
       "<matplotlib.figure.Figure at 0x7f4f1e976780>"
      ]
     },
     "metadata": {},
     "output_type": "display_data"
    }
   ],
   "source": [
    "plt.imshow(trainimgs[0, :].reshape(28, 28))\n",
    "plt.show()"
   ]
  },
  {
   "cell_type": "code",
   "execution_count": 10,
   "metadata": {
    "collapsed": false
   },
   "outputs": [
    {
     "name": "stdout",
     "output_type": "stream",
     "text": [
      "[ 0.  0.  0.  0.  0.  0.  0.  1.  0.  0.]\n"
     ]
    }
   ],
   "source": [
    "print (trainlabels[0, :])"
   ]
  },
  {
   "cell_type": "markdown",
   "metadata": {
    "editable": true
   },
   "source": [
    "**Design Neural Network**\n",
    "\n",
    "- Define Variable\n",
    "    - 학습 과정에서 필요한 변수 (iteration 횟수, learning rate 등) 정의\n",
    "\n",
    "- Define Network Component\n",
    "    - Network를 구성하는데 필요한 변수 (hidden layer 수, classes 개수 등) 정의\n",
    "\n",
    "- Define Weights\n",
    "    - 학습될 변수(파라미터) 정의\n",
    "    - Gradient Descent를 통해서 변화될 변수\n",
    "        - 처음 시작점은 정규분포를 따르는 임의의 값\n",
    "\n",
    "- Define Network Structure\n",
    "\n",
    "- Define Cost\n",
    "    - Neural Net의 output과 label y의 차이가 최소가 되도록 구성"
   ]
  },
  {
   "cell_type": "markdown",
   "metadata": {
    "deletable": true,
    "editable": true
   },
   "source": [
    "### 4.3. Define Variable\n",
    "- 학습 과정에서 필요한 변수 (iteration 횟수, learning rate 등) 정의"
   ]
  },
  {
   "cell_type": "code",
   "execution_count": 11,
   "metadata": {
    "collapsed": true,
    "deletable": true,
    "editable": true
   },
   "outputs": [],
   "source": [
    "# Define Variable\n",
    "'''\n",
    "batch size\n",
    "learning rate\n",
    "n_iter\n",
    "flag\n",
    "'''\n",
    "\n",
    "batch_size = 50\n",
    "learning_rate = 0.1\n",
    "n_iter = 2500\n",
    "flag = 250"
   ]
  },
  {
   "cell_type": "markdown",
   "metadata": {
    "deletable": true,
    "editable": true
   },
   "source": [
    "### 4.4. Define Network Component\n",
    "- Network를 구성하는데 필요한 변수 (hidden layer 수, classes 개수 등) 정의"
   ]
  },
  {
   "cell_type": "code",
   "execution_count": 12,
   "metadata": {
    "collapsed": true,
    "deletable": true,
    "editable": true
   },
   "outputs": [],
   "source": [
    "# Define Network size\n",
    "\n",
    "'''\n",
    "input shape\n",
    "output shape\n",
    "hidden layer 개수\n",
    "등 네트워크를 구성하는데 직접적인 영향을 주는 variable정의\n",
    "'''\n",
    "\n",
    "n_input = 784\n",
    "n_hidden = 100\n",
    "n_classes = 10"
   ]
  },
  {
   "cell_type": "markdown",
   "metadata": {
    "deletable": true,
    "editable": true
   },
   "source": [
    "### 4.5. Define Weights\n",
    "- 학습될 변수(파라미터) 정의\n",
    "- Gradient Descent를 통해서 변화될 변수\n",
    "    - 처음 시작점은 정규분포를 따르는 임의의 값"
   ]
  },
  {
   "cell_type": "code",
   "execution_count": 13,
   "metadata": {
    "collapsed": false,
    "deletable": true,
    "editable": true
   },
   "outputs": [],
   "source": [
    "# Define Weights\n",
    "\n",
    "'''\n",
    "Network 안에 들어갈 weigth, biases 정의\n",
    "'''\n",
    "\n",
    "weights = {\n",
    "    'h1_w' : tf.Variable(tf.random_normal([n_input, n_hidden], stddev = 0.1)),\n",
    "    'output_w' : tf.Variable(tf.random_normal([n_hidden, n_classes], stddev = 0.1)),\n",
    "}\n",
    "biases = {\n",
    "    'h1_b' : tf.Variable(tf.random_normal([n_hidden], stddev = 0.1)),\n",
    "    'output_b' : tf.Variable(tf.random_normal([n_classes], stddev = 0.1)),\n",
    "}"
   ]
  },
  {
   "cell_type": "markdown",
   "metadata": {
    "deletable": true,
    "editable": true
   },
   "source": [
    "### 4.6. Define Network Structure"
   ]
  },
  {
   "cell_type": "markdown",
   "metadata": {},
   "source": [
    "__1) Linear combination__\n",
    "\n",
    "<img src=\"./image_files/linear_sum2.png\" width = 320>"
   ]
  },
  {
   "cell_type": "markdown",
   "metadata": {},
   "source": [
    "$$y_j = \\left(\\sum\\limits_i \\omega_{ij}x_i\\right) + b_j$$\n",
    "\n",
    "$$\\mathcal{y} = \\mathcal{w}^T \\mathcal{x} + \\mathcal{b}$$"
   ]
  },
  {
   "cell_type": "code",
   "execution_count": null,
   "metadata": {
    "collapsed": true
   },
   "outputs": [],
   "source": [
    "layer1 = tf.matmul(x, weights['h1_w']) + biases['h1_b']"
   ]
  },
  {
   "cell_type": "markdown",
   "metadata": {},
   "source": [
    "__2) Nonlinear activation function__\n",
    "\n",
    "<img src=\"./image_files/ReLU.png\" width = 500>"
   ]
  },
  {
   "cell_type": "code",
   "execution_count": null,
   "metadata": {
    "collapsed": true
   },
   "outputs": [],
   "source": [
    "layer1 = tf.nn.relu(layer1)"
   ]
  },
  {
   "cell_type": "markdown",
   "metadata": {
    "editable": true
   },
   "source": [
    "__3) Classification__\n",
    "\n",
    "<img src=\"./image_files/classification.png\" width = 450>"
   ]
  },
  {
   "cell_type": "code",
   "execution_count": null,
   "metadata": {
    "collapsed": true
   },
   "outputs": [],
   "source": [
    "output_layer = tf.matmul(layer1, weights['output_w']) + biases['output_b']"
   ]
  },
  {
   "cell_type": "markdown",
   "metadata": {
    "editable": true
   },
   "source": [
    "<br>\n",
    "<img src=\"./image_files/MNIST_neuralnet_image.png\" width = 450>\n",
    "<br>"
   ]
  },
  {
   "cell_type": "code",
   "execution_count": 14,
   "metadata": {
    "collapsed": true,
    "deletable": true,
    "editable": true
   },
   "outputs": [],
   "source": [
    "# Define Network\n",
    "def net(x, weights, biases):\n",
    "    # first hidden layer\n",
    "    layer1 = tf.matmul(x, weights['h1_w']) + biases['h1_b']\n",
    "    # non linear activate function\n",
    "    layer1 = tf.nn.relu(layer1)\n",
    "    \n",
    "    # Output layer with linear activation\n",
    "    output_layer = tf.matmul(layer1, weights['output_w']) + biases['output_b']\n",
    "    return output_layer"
   ]
  },
  {
   "cell_type": "markdown",
   "metadata": {
    "deletable": true,
    "editable": true
   },
   "source": [
    "### 4.7. Define Cost\n",
    "- Neural Net의 output과 label y의 차이가 최소가 되도록 구성"
   ]
  },
  {
   "cell_type": "code",
   "execution_count": 15,
   "metadata": {
    "collapsed": false
   },
   "outputs": [],
   "source": [
    "# Define Cost\n",
    "\n",
    "x = tf.placeholder(tf.float32, [None, n_input])\n",
    "y = tf.placeholder(tf.float32, [None, n_classes])\n",
    "\n",
    "nn_output = net(x, weights, biases)\n",
    "cost = tf.reduce_mean(tf.square(nn_output - y))\n",
    "optimizer = tf.train.GradientDescentOptimizer(learning_rate).minimize(cost)\n"
   ]
  },
  {
   "cell_type": "markdown",
   "metadata": {},
   "source": [
    "- 지금까지 만든 Tensor Graph\n",
    "- 데이터와 모델의 병렬화\n",
    "<br>\n",
    "<img src=\"./image_files/NN_graph.png\" width = 300>\n",
    "<br>"
   ]
  },
  {
   "cell_type": "markdown",
   "metadata": {
    "deletable": true,
    "editable": true
   },
   "source": [
    "### 4.8. Optimize"
   ]
  },
  {
   "cell_type": "code",
   "execution_count": null,
   "metadata": {
    "collapsed": true
   },
   "outputs": [],
   "source": [
    "# Optimize \n",
    "init = tf.initialize_all_variables()\n",
    "sess = tf.Session()\n",
    "\n",
    "sess.run(init)\n",
    "\n",
    "# Training cycle\n",
    "for epoch in range(n_iter):\n",
    "    batch_x, batch_y = mnist.train.next_batch(batch_size)\n",
    "    sess.run(optimizer, feed_dict={x: batch_x,  y: batch_y})\n",
    "    c = sess.run(cost, feed_dict={x: batch_x,  y: batch_y})\n",
    "    if epoch % flag == 0:\n",
    "        print (\"Iter : {}\".format(epoch))\n",
    "        print (\"Cost : {}\".format(c))"
   ]
  },
  {
   "cell_type": "markdown",
   "metadata": {
    "deletable": true,
    "editable": true
   },
   "source": [
    "### 4.9. Test"
   ]
  },
  {
   "cell_type": "code",
   "execution_count": 13,
   "metadata": {
    "collapsed": true,
    "deletable": true,
    "editable": true
   },
   "outputs": [],
   "source": [
    "test_x, test_y = mnist.test.next_batch(1)"
   ]
  },
  {
   "cell_type": "code",
   "execution_count": 14,
   "metadata": {
    "collapsed": false,
    "deletable": true,
    "editable": true
   },
   "outputs": [
    {
     "data": {
      "image/png": "[encoded data removed]",
      "text/plain": [
       "<matplotlib.figure.Figure at 0x7f3eca6b4978>"
      ]
     },
     "metadata": {},
     "output_type": "display_data"
    }
   ],
   "source": [
    "plt.imshow(test_x.reshape(28, 28))\n",
    "plt.show()"
   ]
  },
  {
   "cell_type": "code",
   "execution_count": 15,
   "metadata": {
    "collapsed": false,
    "deletable": true,
    "editable": true
   },
   "outputs": [
    {
     "name": "stdout",
     "output_type": "stream",
     "text": [
      "2\n"
     ]
    }
   ],
   "source": [
    "predict_x = sess.run(pred, feed_dict={x: test_x})\n",
    "print (np.argmax(predict_x, 1)[0])"
   ]
  },
  {
   "cell_type": "code",
   "execution_count": 1,
   "metadata": {
    "collapsed": false,
    "deletable": true,
    "editable": true
   },
   "outputs": [
    {
     "data": {
      "application/javascript": [
       "$.getScript('https://kmahelona.github.io/ipython_notebook_goodies/ipython_notebook_toc.js')"
      ],
      "text/plain": [
       "<IPython.core.display.Javascript object>"
      ]
     },
     "metadata": {},
     "output_type": "display_data"
    }
   ],
   "source": [
    "%%javascript\n",
    "$.getScript('https://kmahelona.github.io/ipython_notebook_goodies/ipython_notebook_toc.js')"
   ]
  },
  {
   "cell_type": "code",
   "execution_count": null,
   "metadata": {
    "collapsed": true
   },
   "outputs": [],
   "source": []
  }
 ],
 "metadata": {
  "anaconda-cloud": {},
  "kernelspec": {
   "display_name": "Python 3",
   "language": "python",
   "name": "python3"
  },
  "language_info": {
   "codemirror_mode": {
    "name": "ipython",
    "version": 3
   },
   "file_extension": ".py",
   "mimetype": "text/x-python",
   "name": "python",
   "nbconvert_exporter": "python",
   "pygments_lexer": "ipython3",
   "version": "3.5.2"
  }
 },
 "nbformat": 4,
 "nbformat_minor": 1
}
