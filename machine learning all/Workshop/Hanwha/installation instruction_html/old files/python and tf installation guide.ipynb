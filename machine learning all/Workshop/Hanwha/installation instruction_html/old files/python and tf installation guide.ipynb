{
 "cells": [
  {
   "cell_type": "markdown",
   "metadata": {},
   "source": [
    "<br>\n",
    "<font size='6'><b>S/W 설치 메뉴얼</b></font><br><br>\n",
    "\n",
    "<table style=\"border-style: hidden; border-collapse: collapse;\" width = \"80%\"> \n",
    "    <tr style=\"border-style: hidden; border-collapse: collapse;\">\n",
    "        <td width = 50% style=\"border-style: hidden; border-collapse: collapse;\">\n",
    "\n",
    "        </td>\n",
    "        <td width = 30%>\n",
    "        <br>인공지능머신 연구회 2017년도 여름학교<br>08/21/2017 $\\sim$ 08/23/2017<br>한국과학기술회관 소회의실 2\n",
    "        </td>\n",
    "    </tr>\n",
    "</table>\n",
    "\n",
    "Table of Contents\n",
    "<div id=\"toc\"></div>"
   ]
  },
  {
   "cell_type": "markdown",
   "metadata": {},
   "source": [
    "# 1. Overview \n",
    "\n",
    "\n",
    "- 프로그램\n",
    "<img src = \"./image_files/program.png\" style=\"border:1px solid white\", width = 750>\n",
    "\n",
    "<br>\n",
    "- 강의내용소개\n",
    "<img src = \"./image_files/toc.png\" style=\"border:1px solid white\", width = 750>"
   ]
  },
  {
   "cell_type": "markdown",
   "metadata": {},
   "source": [
    "- 내용\n",
    "    - 본 매뉴얼은 __기계학습__ 및 __딥러닝__을 위한 패키지 설치를 다룸\n",
    "    - __강화학습__에 관산 설치는 다른 매뉴얼 참고\n",
    "\n",
    "- OS\n",
    "    - TensorFlow 패키지는 Linux 계열의 운영체제에 적합하지만$^{1)}$\n",
    "    - 사용자 편의를 위해 Windows 10으로 튜토리얼 작성\n",
    "\n",
    "- GPU\n",
    "    - TensorFlow는 CUDA를 이용해 GPU의 병렬연산 활용 가능$^{2)}$\n",
    "    - 본 튜토리얼에서는 편의를 위해 CPU 버전 설치만 다룸\n",
    "\n",
    "\n",
    "1) 2016년 12월, TensorFlow 1.0부터 Windows 7, 10을 지원하나 사용에 일부 제약이 있음. <br> $\\;\\;\\;$Windows 7, 또는 32 bits PC인 경우 본 매뉴얼 대로 설치하되 에러가 발생하는 부분이 있으면 연락 바람 (Windows 8 미지원)<br>\n",
    "2) Intel, AMD 계열의 그래픽카드 칩셋은 지원하지 않으며 NVIDA CUDA 3.0 이상만 지원\n",
    "\n",
    "\n",
    "<img src = \"./image_files/operating_bits.png\" style=\"border:1px solid white\", width = 500>"
   ]
  },
  {
   "cell_type": "markdown",
   "metadata": {},
   "source": [
    "# 2. Requirements\n",
    "\n",
    "1) Windows 10, 64 bits PC (recommended)\n",
    "\n",
    "2) Python 3.5\n",
    "\n",
    "3) Visual C++ 2015 Redistributable (or 2017)\n",
    "\n",
    "4) From pip\n",
    "- tensorflow, matplotlib, jupyter, scipy, sklearn, pillow, pandas\n",
    "- scipy, numpy+mkl (using wheel)\n",
    "\n",
    "5) 주의\n",
    "\n",
    "- Windows 사용자명은 반드시 영어\n",
    "\n",
    "- 다른 버전의 Python 또는 Anaconda를 이미 설치한 경우 제거\n"
   ]
  },
  {
   "cell_type": "markdown",
   "metadata": {},
   "source": [
    "# 3 주의사항"
   ]
  },
  {
   "cell_type": "markdown",
   "metadata": {},
   "source": [
    "## 3.1. Windows 사용자명이 한글인 경우\n",
    "\n",
    "1) 시작 –> 다른 사용자 추가, 편집 또는 제거 검색\n",
    "\n",
    "2) 이 PC에 다른 사용자 추가\n",
    "\n",
    "<img src = \"./image_files/window_add_user_01.png\" style=\"border:1px solid black\" width = 700>\n",
    "\n",
    "3) 이 사람의 로그인 정보를 가지고 있지 않습니다 클릭\n",
    "\n",
    "4) Microsoft 계정 없이 사용자 추가 클릭\n",
    "\n",
    "\n",
    "<img src = \"./image_files/window_add_user_02.png\" style=\"border:1px solid black\" width = 700>\n",
    "\n",
    "5) 사용자명 입력 (영문, 띄어쓰기 X)\n",
    "\n",
    "6) 다음\n",
    "\n",
    "7) 계정 유형 변경\n",
    "\n",
    "<img src = \"./image_files/window_add_user_03.png\" style=\"border:1px solid black\" width = 700>\n",
    "\n",
    "8) 관리자 선택\n",
    "\n",
    "<img src = \"./image_files/window_add_user_04.png\" style=\"border:1px solid black\" width = 700>\n",
    "\n",
    "9) 시작 메뉴에서 계정 아이콘 클릭\n",
    "\n",
    "10) 새로 만든 계정으로 로그인\n",
    "\n",
    "<img src = \"./image_files/window_add_user_05.png\" style=\"border:1px solid black\" width = 700>"
   ]
  },
  {
   "cell_type": "markdown",
   "metadata": {},
   "source": [
    "## 3.2. 다른 버전의 python이나 아나콘다가 설치된 경우\n",
    "\n",
    "1) 고급 시스템 설정 검색 후 실행\n",
    "\n",
    "2) 환경 변수 클릭\n",
    "\n",
    "- 아래에서 anaconda 또는 python이 포함된 모든 path 삭제\n",
    "- 사용자/시스템 변수 path 선택\n",
    "- anaconda 또는 python이 들어간 환경 변수 선택\n",
    "- 삭제 클릭\n",
    "\n",
    "\n",
    "<img src = \"./image_files/python_path_01.png\" style=\"border:1px solid black\" width = 700>\n",
    "<img src = \"./image_files/python_path_02.png\" style=\"border:1px solid black\" width = 700>"
   ]
  },
  {
   "cell_type": "markdown",
   "metadata": {},
   "source": [
    "# 4. Environment Setup\n",
    "\n",
    "1) 첨부한 파일을 바탕화면에 붙여 넣고 압축풀기 (TensorFlow를 사용하는 데 필요한 Python Installer, Python Packages, DLL 파일 포함)\n",
    "\n",
    "<img src = \"./image_files/env_setup_01.png\" style=\"border:1px solid black\" width = 700>\n",
    "\n",
    "2) Visual C++ 2015 Redistributable (Windows 버전의 TensorFlow는 Visual C++ 2015에 포함된 DLL 파일을 필요로 함)\n",
    "- 첨부된 vc_redist.x64.exe 설치\n",
    "- 우측 그림과 같은 창이 나올 경우 설치하지 않아도 됨\n",
    "\n",
    "<img src = \"./image_files/env_setup_02.png\" style=\"border:1px solid black\" width = 700>"
   ]
  },
  {
   "cell_type": "markdown",
   "metadata": {},
   "source": [
    "# 5. Python and Python Packages Installation\n",
    "\n",
    "1) python-3.5.3-amd64.exe 실행\n",
    "- 첫번째 박스 체크해제, 두번째 박스 체크\n",
    "- Install Now 클릭\n",
    "\n",
    "<img src = \"./image_files/python_install_01.png\" style=\"border:1px solid black\" width = 700>\n",
    "\n",
    "2) TensorFlow\n",
    "- 폴더 주소창에 cmd 입력\n",
    "- ```pip install --ignore-installed --upgrade tensorflow``` 입력 (옵션을 빼고 입력할 경우, 등록된 path에 문제가 있어 설치 에러가 발생하나 재설치시 해결됨)\n",
    "\n",
    "<img src = \"./image_files/python_install_02.png\" style=\"border:1px solid black\" width = 700>\n",
    "\n",
    "3) matplotlib, sklearn, jupyter, pillow, pandas\n",
    "- ```pip install matplotlib sklearn jupyter pillow pandas``` 입력\n",
    "\n",
    "<img src = \"./image_files/python_install_03.png\" style=\"border:1px solid black\" width = 700>\n",
    "\n",
    "4) numpy+mkl, scipy\n",
    "- ```pip install numpy-1.13.1+mkl-cp35-cp35m-win_amd64.whl scipy-0.19.1-cp35-cp35m-win_amd64.whl``` 입력\n",
    "\n",
    "<img src = \"./image_files/python_install_04.png\" style=\"border:1px solid black\" width = 700>"
   ]
  },
  {
   "cell_type": "markdown",
   "metadata": {},
   "source": [
    "# 6. Setup Validation\n",
    "\n",
    "1) Jupyter Notebook 실행\n",
    "- 폴더 주소창에 jupyter notebook 입력\n",
    "\n",
    "<img src = \"./image_files/setup_val_01.png\" style=\"border:1px solid black\" width = 700>\n",
    "\n",
    "2) Jupyter Notebook 생성\n",
    "- New 클릭 후\n",
    "- Python 3 선택\n",
    "\n",
    "<img src = \"./image_files/setup_val_02.png\" style=\"border:1px solid black\" width = 700>\n",
    "\n",
    "3) 코드 실행\n",
    "- 아래와 같이 코드 입력 후 실행\n",
    "- 셀 입력 후 ctrl + enter로 실행 가능 (현재 셀 실행)\n",
    "\n",
    "<img src = \"./image_files/setup_val_03.png\" style=\"border:1px solid black\" width = 700>"
   ]
  },
  {
   "cell_type": "code",
   "execution_count": 1,
   "metadata": {},
   "outputs": [
    {
     "data": {
      "application/javascript": [
       "$.getScript('https://kmahelona.github.io/ipython_notebook_goodies/ipython_notebook_toc.js')"
      ],
      "text/plain": [
       "<IPython.core.display.Javascript object>"
      ]
     },
     "metadata": {},
     "output_type": "display_data"
    }
   ],
   "source": [
    "%%javascript\n",
    "$.getScript('https://kmahelona.github.io/ipython_notebook_goodies/ipython_notebook_toc.js')"
   ]
  }
 ],
 "metadata": {
  "anaconda-cloud": {},
  "kernelspec": {
   "display_name": "Python 3",
   "language": "python",
   "name": "python3"
  },
  "language_info": {
   "codemirror_mode": {
    "name": "ipython",
    "version": 3
   },
   "file_extension": ".py",
   "mimetype": "text/x-python",
   "name": "python",
   "nbconvert_exporter": "python",
   "pygments_lexer": "ipython3",
   "version": "3.6.1"
  }
 },
 "nbformat": 4,
 "nbformat_minor": 1
}
