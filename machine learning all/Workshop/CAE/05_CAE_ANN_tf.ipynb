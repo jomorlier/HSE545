{
 "cells": [
  {
   "cell_type": "markdown",
   "metadata": {},
   "source": [
    "<br><br>\n",
    "<font size='6'><b>(Artificial) Neural Networks in TensorFlow\n",
    "</b></font><br><br>\n",
    "\n",
    "<table style=\"border-style: hidden; border-collapse: collapse;\" width = \"80%\"> \n",
    "    <tr style=\"border-style: hidden; border-collapse: collapse;\">\n",
    "        <td width = 40% style=\"border-style: hidden; border-collapse: collapse;\">\n",
    "\n",
    "        </td>\n",
    "        <td width = 40%>\n",
    "        By Prof. Seungchul Lee<br>iSystems Design Lab<br>http://isystems.unist.ac.kr/<br>UNIST\n",
    "        </td>\n",
    "    </tr>\n",
    "</table>\n",
    "\n",
    "<table>\n",
    "</table>\n",
    "\n",
    "Table of Contents\n",
    "<div id=\"toc\"></div>"
   ]
  },
  {
   "cell_type": "markdown",
   "metadata": {},
   "source": [
    "# 1. Artificial Neural Networks (ANN)\n",
    "\n",
    "## 1.1 Structure\n",
    "\n",
    "<img src=\"./image_files/nn_structure.png\" width = 270>\n",
    "\n",
    "__Transformation__\n",
    "- Affine (or linear) transformation and nonlinear activation (layer)\n",
    "\n",
    "$$ f(x) = g\\left(\\theta^{T}x + b\\right) $$\n",
    "\n",
    "- Nonlinear activation function\n",
    "\n",
    "<table style=\"border-style: hidden; border-collapse: collapse;\" width = \"96%\"> \n",
    "    <tr style=\"border-style: hidden; border-collapse: collapse;\">\n",
    "        <td width = 28% style=\"border-style: hidden; border-collapse: collapse;\">\n",
    "            <img src=\"./image_files/sigmoid_function.png\" width = 250>\n",
    "            $$ g(x) = \\frac{1}{1+e^{-x}}$$\n",
    "        </td>\n",
    "        <td width = 28% style=\"border-style: hidden; border-collapse: collapse;\">\n",
    "            <img src=\"./image_files/tanh_function.png\" width = 250>\n",
    "            <br>\n",
    "            $$ g(x) = \\tanh (x)$$\n",
    "        </td>\n",
    "        <td width = 28% style=\"border-style: hidden; border-collapse: collapse;\">\n",
    "            <img src=\"./image_files/relu_function.png\" width = 250>\n",
    "            <br>\n",
    "            $$ g(x) = \\max (0, x)$$\n",
    "        </td>\n",
    "    </tr>\n",
    "</table>\n",
    "\n",
    "\n",
    "## 1.2. Training Neural Networks\n",
    "\n",
    "__Loss Function__\n",
    "\n",
    "- Measures error between target values and predictions\n",
    "- More or less the same as those for other parametric models, such as linear models\n",
    "\n",
    "$$ \\min_{\\theta} \\sum_{i=1}^{m}\\ell\\left( h_{\\theta}\\left(x^{(i)}\\right),y^{(i)}\\right)$$\n",
    "\n",
    "- Example\n",
    "    - Cross entropy:\n",
    "    $$ -\\frac{1}{N}\\sum_{i=1}^{N}y^{(i)}\\log\\left(h_{\\theta}\\left(x^{(i)}\\right)\\right) + \\left(1-y^{(i)}\\right)\\log\\left(1-h_{\\theta}\\left(x^{(i)}\\right)\\right)$$\n",
    "    - Squared loss:\n",
    "    $$  \\frac{1}{N} \\sum_{i=1}^{N} \\left(h_{\\theta}\\left(x^{(i)}\\right) - y^{(i)}\\right)^2 $$\n",
    "\n",
    "__Backpropagation__\n",
    "\n",
    "- Forward propagation \n",
    "    - the initial information propagates up to the hidden units at each layer and finally produces output\n",
    "\n",
    "\n",
    "- Backpropagation\n",
    "    - allows the information from the cost to flow backwards through the network in order to compute the gradients\n",
    "\n",
    "<img src=\"./image_files/animate_backpropa.gif\" width = 450>\n",
    "\n",
    "__(Stochastic) Gradient Descent__\n",
    "\n",
    "- Negative gradients points directly downhill of cost function\n",
    "- We can decrease cost by moving in the direction of the negative gradient ($\\alpha$ is a learning rate)\n",
    "\n",
    "$$ \\theta:= \\theta - \\alpha \\nabla_{\\theta} \\left( h_{\\theta} \\left(x^{(i)}\\right),y^{(i)}\\right)$$\n",
    "\n",
    "<br>\n",
    "<table style=\"border-style: hidden; border-collapse: collapse;\" width = \"96%\"> \n",
    "    <tr style=\"border-style: hidden; border-collapse: collapse;\">\n",
    "        <td width = 48% style=\"border-style: hidden; border-collapse: collapse;\">\n",
    "            <img src=\"./image_files/GradientDescent.png\" width = 450>\n",
    "        </td>\n",
    "        <td width = 48% style=\"border-style: hidden; border-collapse: collapse;\">\n",
    "            <img src=\"./image_files/GradientDescent_3d.png\" width = 450>\n",
    "        </td>\n",
    "    </tr>\n",
    "</table>"
   ]
  },
  {
   "cell_type": "markdown",
   "metadata": {},
   "source": [
    "# 2. Deep Learning Libraries\n",
    "\n",
    "__Caffe__\n",
    "\n",
    "<img src=\"./image_files/Caffe_logo.png\" width = 200>\n",
    "\n",
    "- Platform: Linux, Mac OS, Windows\n",
    "- Written in: C++\n",
    "- Interface: Python, MATLAB\n",
    "\n",
    "<br>\n",
    "__Theano__\n",
    "<img src=\"./image_files/Theano_logo.png\" width = 200>\n",
    "\n",
    "- Platform: Cross-platform\n",
    "- Written in: Python\n",
    "- Interface: Python\n",
    "\n",
    "<br>\n",
    "__Tensorflow__\n",
    "\n",
    "<img src=\"./image_files/Tensorflow_logo.png\" width = 250>\n",
    "\n",
    "- Platform: Linux, Mac OS, Windows\n",
    "- Written in: C++, Python\n",
    "- Interface: Python, C/C++, Java, Go, R\n"
   ]
  },
  {
   "cell_type": "markdown",
   "metadata": {},
   "source": [
    "# 3. TensorFlow\n",
    "\n",
    "- `tensorflow` is an open-source software library for deep learning.\n",
    "\n",
    "## 3.1. Computational Graph\n",
    "- `tf.constant`\n",
    "- `tf.Variable`\n",
    "- `tf.placeholder`"
   ]
  },
  {
   "cell_type": "code",
   "execution_count": 1,
   "metadata": {
    "collapsed": true
   },
   "outputs": [],
   "source": [
    "import tensorflow as tf\n",
    "\n",
    "a = tf.constant([1, 2, 3])\n",
    "b = tf.constant([4, 5, 6])\n",
    "\n",
    "A = a + b\n",
    "B = a * b"
   ]
  },
  {
   "cell_type": "code",
   "execution_count": 2,
   "metadata": {},
   "outputs": [
    {
     "data": {
      "text/plain": [
       "<tf.Tensor 'add:0' shape=(3,) dtype=int32>"
      ]
     },
     "execution_count": 2,
     "metadata": {},
     "output_type": "execute_result"
    }
   ],
   "source": [
    "A"
   ]
  },
  {
   "cell_type": "code",
   "execution_count": 3,
   "metadata": {},
   "outputs": [
    {
     "data": {
      "text/plain": [
       "<tf.Tensor 'mul:0' shape=(3,) dtype=int32>"
      ]
     },
     "execution_count": 3,
     "metadata": {},
     "output_type": "execute_result"
    }
   ],
   "source": [
    "B"
   ]
  },
  {
   "cell_type": "markdown",
   "metadata": {},
   "source": [
    "To run any of the three defined operations, we need to create a session for that graph. The session will also allocate memory to store the current value of the variable.\n",
    "\n",
    "<img src=\"./image_files/tf_session.png\" width=\"600\">"
   ]
  },
  {
   "cell_type": "code",
   "execution_count": 4,
   "metadata": {},
   "outputs": [
    {
     "data": {
      "text/plain": [
       "array([5, 7, 9])"
      ]
     },
     "execution_count": 4,
     "metadata": {},
     "output_type": "execute_result"
    }
   ],
   "source": [
    "sess = tf.Session()\n",
    "sess.run(A)"
   ]
  },
  {
   "cell_type": "code",
   "execution_count": 5,
   "metadata": {},
   "outputs": [
    {
     "data": {
      "text/plain": [
       "array([ 4, 10, 18])"
      ]
     },
     "execution_count": 5,
     "metadata": {},
     "output_type": "execute_result"
    }
   ],
   "source": [
    "sess.run(B)"
   ]
  },
  {
   "cell_type": "markdown",
   "metadata": {},
   "source": [
    "`tf.Variable` is regarded as the decision variable in optimization. We should initialize variables to use `tf.Variable`."
   ]
  },
  {
   "cell_type": "code",
   "execution_count": 6,
   "metadata": {
    "collapsed": true
   },
   "outputs": [],
   "source": [
    "w = tf.Variable([1, 1])"
   ]
  },
  {
   "cell_type": "code",
   "execution_count": 7,
   "metadata": {
    "collapsed": true
   },
   "outputs": [],
   "source": [
    "init = tf.global_variables_initializer()\n",
    "sess.run(init)"
   ]
  },
  {
   "cell_type": "code",
   "execution_count": 8,
   "metadata": {},
   "outputs": [
    {
     "data": {
      "text/plain": [
       "array([1, 1])"
      ]
     },
     "execution_count": 8,
     "metadata": {},
     "output_type": "execute_result"
    }
   ],
   "source": [
    "sess.run(w)"
   ]
  },
  {
   "cell_type": "markdown",
   "metadata": {},
   "source": [
    "The value of __`tf.placeholder`__ must be fed using the `feed_dict` optional argument to `Session.run()`."
   ]
  },
  {
   "cell_type": "code",
   "execution_count": 9,
   "metadata": {
    "collapsed": true
   },
   "outputs": [],
   "source": [
    "x = tf.placeholder(tf.float32, [2, 2])"
   ]
  },
  {
   "cell_type": "code",
   "execution_count": 10,
   "metadata": {},
   "outputs": [
    {
     "data": {
      "text/plain": [
       "array([[ 1.,  2.],\n",
       "       [ 3.,  4.]], dtype=float32)"
      ]
     },
     "execution_count": 10,
     "metadata": {},
     "output_type": "execute_result"
    }
   ],
   "source": [
    "sess.run(x, feed_dict={x : [[1,2],[3,4]]})"
   ]
  },
  {
   "cell_type": "markdown",
   "metadata": {},
   "source": [
    "## 3.2. Example: Linear Regression using TensorFlow \n",
    "\n",
    "$\\text{Given} \\; \\begin{cases}\n",
    "x_{i} \\; \\text{: inputs} \\\\\n",
    "y_{i} \\; \\text{: outputs}\n",
    "\\end{cases}$\n",
    ", Find $\\omega_{1}$ and $\\omega_{2}$\n",
    "\n",
    "\n",
    "$$x=\n",
    "\\begin{bmatrix}\n",
    "x_{1} \\\\\n",
    "x_{2} \\\\\n",
    "\\vdots \\\\\n",
    "x_{m}\n",
    "\\end{bmatrix}, \\qquad\n",
    "y=\n",
    "\\begin{bmatrix}\n",
    "y_{1} \\\\\n",
    "y_{2} \\\\\n",
    "\\vdots \\\\\n",
    "y_{m}\n",
    "\\end{bmatrix} \\approx\n",
    "\\hat{y}_{i} = \\omega_{1}x_{i} + \\omega_{2} $$\n",
    "\n",
    "- $ \\hat{y}_{i} $ : predicted output \n",
    "\n",
    "- $ \\omega = \n",
    "\\begin{bmatrix}\n",
    "\\omega_{1} \\\\\n",
    "\\omega_{2} \\\\\n",
    "\\end{bmatrix}\n",
    "$ : Model parameters\n",
    "\n",
    "$$ \\hat{y}_{i} = f(x_{i}, \\omega) \\; \\text{ in general}$$\n",
    "\n",
    "- in many cases, a linear model to predict $y_{i}$ used\n",
    "\n",
    "\n",
    "$$ \\hat{y}_{i} = \\omega_{1}x_{i} + \\omega_{2} \\; \\text{  such that  } \\min\\limits_{\\omega_{1}, \\omega_{2}}\\sum\\limits_{i = 1}^{m} (\\hat{y}_{i} - y_{i})^2$$\n",
    "\n",
    "<table style='border-style: hidden; border-collapse: collapse;' width = 900> \n",
    "    <tr>\n",
    "        <td width = 400 style='border-style: hidden; border-collapse: collapse;'>\n",
    "            <img src='./image_files/linear_regression02.jpg' width = 300>\n",
    "        </td>       \n",
    "        <td width = 400>\n",
    "            <img src='./image_files/linear_regression.png' width = 300>\n",
    "        </td>\n",
    "    </tr>\n",
    "</table>"
   ]
  },
  {
   "cell_type": "markdown",
   "metadata": {},
   "source": [
    "__Data Generation__"
   ]
  },
  {
   "cell_type": "code",
   "execution_count": 11,
   "metadata": {},
   "outputs": [
    {
     "name": "stdout",
     "output_type": "stream",
     "text": [
      "[ 0.82055906  0.8822898   0.36515203  0.9781535   0.17633944  0.20166983\n",
      "  0.89753462  0.54911309  0.27023013  0.22494141]\n",
      "[7 9 5 9 9 6 3 0 3 0]\n"
     ]
    }
   ],
   "source": [
    "import numpy as np\n",
    "print(np.random.rand(10))\n",
    "print(np.random.randint(0,10,size=10))"
   ]
  },
  {
   "cell_type": "code",
   "execution_count": 12,
   "metadata": {},
   "outputs": [
    {
     "data": {
      "image/png": "[encoded data removed]",
      "text/plain": [
       "<matplotlib.figure.Figure at 0x1aaea9df278>"
      ]
     },
     "metadata": {},
     "output_type": "display_data"
    }
   ],
   "source": [
    "import tensorflow as tf\n",
    "import numpy as np\n",
    "import matplotlib.pyplot as plt\n",
    " \n",
    "data_x = np.linspace(-1, 1, 100)\n",
    "data_y = 2 * data_x + 1 + np.random.randn(*data_x.shape) * 0.3\n",
    " \n",
    "plt.scatter(data_x, data_y)\n",
    "plt.show()"
   ]
  },
  {
   "cell_type": "markdown",
   "metadata": {},
   "source": [
    "__Prameter Learning (or Estimation) by using TensorFlow__"
   ]
  },
  {
   "cell_type": "code",
   "execution_count": 13,
   "metadata": {
    "collapsed": true
   },
   "outputs": [],
   "source": [
    "# Define decision variables in tf\n",
    "\n",
    "weights = {\n",
    "    'w' : tf.Variable(tf.random_normal([1], stddev=0.1))\n",
    "}\n",
    "biases = {\n",
    "    'b' : tf.Variable(tf.random_normal([1], stddev=0.1))\n",
    "}"
   ]
  },
  {
   "cell_type": "code",
   "execution_count": 14,
   "metadata": {
    "collapsed": true
   },
   "outputs": [],
   "source": [
    "x = tf.placeholder(tf.float32, [10])\n",
    "y = tf.placeholder(tf.float32, [10]) "
   ]
  },
  {
   "cell_type": "markdown",
   "metadata": {},
   "source": [
    "$\\hat{y}_{i} = \\omega x_{i} + b$"
   ]
  },
  {
   "cell_type": "code",
   "execution_count": 15,
   "metadata": {
    "collapsed": true
   },
   "outputs": [],
   "source": [
    "# define model\n",
    "\n",
    "def model(x, weights, biases):\n",
    "    output = tf.add(tf.multiply(x, weights['w']), biases['b'])\n",
    "    return output "
   ]
  },
  {
   "cell_type": "markdown",
   "metadata": {},
   "source": [
    "$\\min\\limits_{\\omega, b} \\frac{1}{m} \\sum\\limits_{i = 1}^{m} (y_{i} - \\hat{y}_{i} )^2$"
   ]
  },
  {
   "cell_type": "code",
   "execution_count": 16,
   "metadata": {
    "collapsed": true
   },
   "outputs": [],
   "source": [
    "# define loss\n",
    "\n",
    "pred = model(x, weights, biases)\n",
    "loss = tf.square(tf.subtract(y, pred))\n",
    "loss = tf.reduce_mean(loss)"
   ]
  },
  {
   "cell_type": "code",
   "execution_count": 17,
   "metadata": {
    "collapsed": true
   },
   "outputs": [],
   "source": [
    "# define optimizer\n",
    "\n",
    "LR = 0.04\n",
    "# optm = tf.train.AdamOptimizer(LR).minimize(loss) \n",
    "optm = tf.train.GradientDescentOptimizer(LR).minimize(loss)"
   ]
  },
  {
   "cell_type": "code",
   "execution_count": 18,
   "metadata": {
    "collapsed": true
   },
   "outputs": [],
   "source": [
    "# tf.Variable initializer\n",
    "\n",
    "init = tf.global_variables_initializer()\n",
    "sess = tf.Session()\n",
    "sess.run(init)"
   ]
  },
  {
   "cell_type": "code",
   "execution_count": 19,
   "metadata": {},
   "outputs": [
    {
     "name": "stdout",
     "output_type": "stream",
     "text": [
      "Iter : 0\n",
      "Cost : 1.932685136795044\n",
      "Iter : 20\n",
      "Cost : 0.4764551520347595\n",
      "Iter : 40\n",
      "Cost : 0.1376667022705078\n",
      "Iter : 60\n",
      "Cost : 0.08908583968877792\n",
      "Iter : 80\n",
      "Cost : 0.12191130220890045\n",
      "Iter : 100\n",
      "Cost : 0.09848610311746597\n",
      "Iter : 120\n",
      "Cost : 0.13959051668643951\n",
      "Iter : 140\n",
      "Cost : 0.08917944133281708\n",
      "Iter : 160\n",
      "Cost : 0.1182650700211525\n",
      "Iter : 180\n",
      "Cost : 0.09228118509054184\n"
     ]
    }
   ],
   "source": [
    "# optimizing\n",
    "\n",
    "n_iter = 200\n",
    "n_prt = 20\n",
    "\n",
    "for epoch in range(n_iter):\n",
    "    idx = np.random.randint(0, 100, 10)\n",
    "    train_x, train_y = data_x[idx], data_y[idx]\n",
    "    sess.run(optm, feed_dict={x: train_x, y: train_y})\n",
    "    \n",
    "    if epoch % n_prt == 0:\n",
    "        c = sess.run(loss, feed_dict={x: train_x, y: train_y})\n",
    "        print (\"Iter : {}\".format(epoch))\n",
    "        print (\"Cost : {}\".format(c))\n",
    "        \n",
    "\n",
    "w_hat = sess.run(weights['w'])\n",
    "b_hat = sess.run(biases['b'])\n",
    "\n",
    "sess.close()"
   ]
  },
  {
   "cell_type": "code",
   "execution_count": 20,
   "metadata": {
    "scrolled": false
   },
   "outputs": [
    {
     "name": "stdout",
     "output_type": "stream",
     "text": [
      "w_hat : [ 1.95228994]\n",
      "b_hat : [ 1.01526022]\n"
     ]
    },
    {
     "data": {
      "image/png": "[encoded data removed]",
      "text/plain": [
       "<matplotlib.figure.Figure at 0x1aaec558710>"
      ]
     },
     "metadata": {},
     "output_type": "display_data"
    }
   ],
   "source": [
    "print (\"w_hat : {}\".format(w_hat))\n",
    "print (\"b_hat : {}\".format(b_hat))\n",
    "    \n",
    "plt.scatter(data_x, data_y)\n",
    "learned_y = data_x*w_hat + b_hat\n",
    "plt.plot(data_x, learned_y, 'r')\n",
    "plt.show()"
   ]
  },
  {
   "cell_type": "markdown",
   "metadata": {},
   "source": [
    "# 4. ANN with TensorFlow\n",
    "\n",
    "- MNIST (Mixed National Institute of Standards and Technology database) database\n",
    "    - Handwritten digit database\n",
    "    - $28 \\times 28$ gray scaled image\n",
    "    - Flattened array into a vector of $28 \\times 28 = 784$\n",
    "    \n",
    "<img src=\"./image_files/mnist_digits.png\" width = 450>\n",
    "\n",
    "<img src=\"./image_files/MNIST-Matrix.png\" width = 450>"
   ]
  },
  {
   "cell_type": "markdown",
   "metadata": {},
   "source": [
    "<br>\n",
    "<img src=\"./image_files/MNIST_neuralnet_image.png\" width = 500>\n",
    "<br>"
   ]
  },
  {
   "cell_type": "code",
   "execution_count": 21,
   "metadata": {
    "scrolled": true
   },
   "outputs": [
    {
     "data": {
      "text/html": [
       "<center><iframe src=\"https://www.youtube.com/embed/z0bynQjEpII?start=2088&end=3137\" \n",
       "width=\"560\" height=\"315\" frameborder=\"0\" allowfullscreen></iframe></center>"
      ],
      "text/plain": [
       "<IPython.core.display.HTML object>"
      ]
     },
     "metadata": {},
     "output_type": "display_data"
    }
   ],
   "source": [
    "%%html\n",
    "<center><iframe src=\"https://www.youtube.com/embed/z0bynQjEpII?start=2088&end=3137\" \n",
    "width=\"560\" height=\"315\" frameborder=\"0\" allowfullscreen></iframe></center>"
   ]
  },
  {
   "cell_type": "markdown",
   "metadata": {},
   "source": [
    "## 4.1. Import Library"
   ]
  },
  {
   "cell_type": "code",
   "execution_count": 22,
   "metadata": {
    "collapsed": true
   },
   "outputs": [],
   "source": [
    "# Import Library\n",
    "import numpy as np\n",
    "import matplotlib.pyplot as plt\n",
    "import tensorflow as tf"
   ]
  },
  {
   "cell_type": "markdown",
   "metadata": {},
   "source": [
    "## 4.2. Load MNIST Data"
   ]
  },
  {
   "cell_type": "markdown",
   "metadata": {},
   "source": [
    "- Download MNIST data from tensorflow tutorial example"
   ]
  },
  {
   "cell_type": "code",
   "execution_count": 23,
   "metadata": {},
   "outputs": [
    {
     "name": "stdout",
     "output_type": "stream",
     "text": [
      "Extracting MNIST_data/train-images-idx3-ubyte.gz\n",
      "Extracting MNIST_data/train-labels-idx1-ubyte.gz\n",
      "Extracting MNIST_data/t10k-images-idx3-ubyte.gz\n",
      "Extracting MNIST_data/t10k-labels-idx1-ubyte.gz\n"
     ]
    }
   ],
   "source": [
    "from tensorflow.examples.tutorials.mnist import input_data\n",
    "mnist = input_data.read_data_sets(\"MNIST_data/\", one_hot=True)"
   ]
  },
  {
   "cell_type": "code",
   "execution_count": 24,
   "metadata": {},
   "outputs": [
    {
     "data": {
      "image/png": "[encoded data removed]",
      "text/plain": [
       "<matplotlib.figure.Figure at 0x1aaed7bf5f8>"
      ]
     },
     "metadata": {},
     "output_type": "display_data"
    }
   ],
   "source": [
    "train_x, train_y = mnist.train.next_batch(10)\n",
    "img = train_x[3,:].reshape(28,28)\n",
    "\n",
    "plt.figure(figsize=(5,3))\n",
    "plt.imshow(img,'gray')\n",
    "plt.title(\"Label : {}\".format(np.argmax(train_y[3])))\n",
    "plt.xticks([])\n",
    "plt.yticks([])\n",
    "plt.show()"
   ]
  },
  {
   "cell_type": "markdown",
   "metadata": {},
   "source": [
    "One hot encoding"
   ]
  },
  {
   "cell_type": "code",
   "execution_count": 25,
   "metadata": {},
   "outputs": [
    {
     "name": "stdout",
     "output_type": "stream",
     "text": [
      "Train labels : [ 0.  0.  0.  0.  0.  0.  1.  0.  0.  0.]\n"
     ]
    }
   ],
   "source": [
    "print ('Train labels : {}'.format(train_y[3, :]))"
   ]
  },
  {
   "cell_type": "markdown",
   "metadata": {},
   "source": [
    "## 4.3. Build a Model"
   ]
  },
  {
   "cell_type": "markdown",
   "metadata": {},
   "source": [
    "__ First, the layer performs several matrix multiplication to produce a set of linear activations __\n",
    "\n",
    "<img src=\"./image_files/linear_sum2.png\" width = 320>"
   ]
  },
  {
   "cell_type": "markdown",
   "metadata": {},
   "source": [
    "$$y_j = \\left(\\sum\\limits_i \\omega_{ij}x_i\\right) + b_j$$\n",
    "\n",
    "$$\\mathcal{y} = \\omega^T \\mathcal{x} + \\mathcal{b}$$"
   ]
  },
  {
   "cell_type": "markdown",
   "metadata": {
    "collapsed": true
   },
   "source": [
    "```python\n",
    "# hidden1 = tf.matmul(x, weights['hidden1']) + biases['hidden1']\n",
    "hidden1 = tf.add(tf.matmul(x, weights['hidden1']), biases['hidden1'])\n",
    "```"
   ]
  },
  {
   "cell_type": "markdown",
   "metadata": {},
   "source": [
    "__ Second, each linear activation is running through a nonlinear activation function __\n",
    "\n",
    "<img src=\"./image_files/ReLU.png\" width = 500>"
   ]
  },
  {
   "cell_type": "markdown",
   "metadata": {
    "collapsed": true
   },
   "source": [
    "```python\n",
    "hidden1 = tf.nn.relu(hidden1)\n",
    "```"
   ]
  },
  {
   "cell_type": "markdown",
   "metadata": {},
   "source": [
    "__Third, predict values with affine transformation__\n",
    "\n",
    "<img src=\"./image_files/classification.png\" width = 450>"
   ]
  },
  {
   "cell_type": "markdown",
   "metadata": {
    "collapsed": true
   },
   "source": [
    "```python\n",
    "# output = tf.matmul(hidden1, weights['output']) + biases['output']\n",
    "output = tf.add(tf.matmul(hidden1, weights['output']), biases['output'])\n",
    "```"
   ]
  },
  {
   "cell_type": "markdown",
   "metadata": {},
   "source": [
    "## 4.4. Define an ANN Shape\n",
    "\n",
    "- Input size\n",
    "- Hidden layer size\n",
    "- The number of classes\n",
    "\n",
    "<img src=\"./image_files/MNIST_neuralnet_image.png\" width = 500>\n",
    "<br>"
   ]
  },
  {
   "cell_type": "code",
   "execution_count": 26,
   "metadata": {
    "collapsed": true
   },
   "outputs": [],
   "source": [
    "n_input = 28*28\n",
    "n_hidden1 = 100\n",
    "n_output = 10"
   ]
  },
  {
   "cell_type": "markdown",
   "metadata": {},
   "source": [
    "## 4.5. Define Weights, Biases and Network\n",
    "- Define parameters based on predefined layer size\n",
    "- Initialize with normal distribution with $\\mu = 0$ and $\\sigma = 0.1$"
   ]
  },
  {
   "cell_type": "code",
   "execution_count": 27,
   "metadata": {
    "collapsed": true
   },
   "outputs": [],
   "source": [
    "weights = {\n",
    "    'hidden1' : tf.Variable(tf.random_normal([n_input, n_hidden1], stddev = 0.1)),\n",
    "    'output' : tf.Variable(tf.random_normal([n_hidden1, n_output], stddev = 0.1)),\n",
    "}\n",
    "\n",
    "biases = {\n",
    "    'hidden1' : tf.Variable(tf.random_normal([n_hidden1], stddev = 0.1)),\n",
    "    'output' : tf.Variable(tf.random_normal([n_output], stddev = 0.1)),\n",
    "}\n",
    "\n",
    "x = tf.placeholder(tf.float32, [None, n_input])\n",
    "y = tf.placeholder(tf.float32, [None, n_output])"
   ]
  },
  {
   "cell_type": "code",
   "execution_count": 28,
   "metadata": {
    "collapsed": true
   },
   "outputs": [],
   "source": [
    "# Define Network\n",
    "def build_model(x, weights, biases):\n",
    "    # first hidden layer\n",
    "    hidden1 = tf.add(tf.matmul(x, weights['hidden1']), biases['hidden1'])\n",
    "    # non linear activate function\n",
    "    hidden1 = tf.nn.relu(hidden1)\n",
    "    \n",
    "    # Output layer with linear activation\n",
    "    output = tf.add(tf.matmul(hidden1, weights['output']), biases['output'])\n",
    "    return output"
   ]
  },
  {
   "cell_type": "markdown",
   "metadata": {},
   "source": [
    "## 4.6. Define Cost, Initializer and Optimizer\n",
    "\n",
    "__Loss__\n",
    "- Classification: Cross entropy\n",
    "    - Equivalent to apply logistic regression\n",
    "$$ -\\frac{1}{N}\\sum_{i=1}^{N}y^{(i)}\\log(h_{\\theta}\\left(x^{(i)}\\right)) + (1-y^{(i)})\\log(1-h_{\\theta}\\left(x^{(i)}\\right)) $$\n",
    "\n",
    "__Initializer__\n",
    "- Initialize all the empty variables\n",
    "    \n",
    "__Optimizer__\n",
    "- AdamOptimizer: the most popular optimizer"
   ]
  },
  {
   "cell_type": "code",
   "execution_count": 29,
   "metadata": {
    "collapsed": true
   },
   "outputs": [],
   "source": [
    "# Define Cost\n",
    "LR = 0.0001\n",
    "\n",
    "pred = build_model(x, weights, biases)\n",
    "loss = tf.nn.softmax_cross_entropy_with_logits(logits=pred, labels=y)\n",
    "loss = tf.reduce_mean(loss)\n",
    "\n",
    "# optimizer = tf.train.GradientDescentOptimizer(learning_rate).minimize(cost)\n",
    "optm = tf.train.AdamOptimizer(LR).minimize(loss)\n",
    "\n",
    "init = tf.global_variables_initializer()"
   ]
  },
  {
   "cell_type": "markdown",
   "metadata": {},
   "source": [
    "## 4.7. Summary of Model\n",
    "\n",
    "<br>\n",
    "<img src=\"./image_files/cnn_summary of model.png\" width = 500>\n",
    "<br>"
   ]
  },
  {
   "cell_type": "markdown",
   "metadata": {},
   "source": [
    "## 4.8. Define Configuration\n",
    "- Define parameters for training ANN\n",
    "     - n_batch : batch size for stochastic gradient descent\n",
    "     - n_iter : the number of learning steps\n",
    "     - n_prt : check loss for every n_prt iteration"
   ]
  },
  {
   "cell_type": "code",
   "execution_count": 30,
   "metadata": {
    "collapsed": true
   },
   "outputs": [],
   "source": [
    "n_batch = 50     # Batch Size\n",
    "n_iter = 2500    # Learning Iteration\n",
    "n_prt = 250      # Print Cycle"
   ]
  },
  {
   "cell_type": "markdown",
   "metadata": {},
   "source": [
    "## 4.9. Optimization"
   ]
  },
  {
   "cell_type": "code",
   "execution_count": 31,
   "metadata": {},
   "outputs": [
    {
     "name": "stdout",
     "output_type": "stream",
     "text": [
      "Iter : 0\n",
      "Cost : 2.5034923553466797\n",
      "Iter : 250\n",
      "Cost : 1.3030091524124146\n",
      "Iter : 500\n",
      "Cost : 0.8532398343086243\n",
      "Iter : 750\n",
      "Cost : 0.7425006031990051\n",
      "Iter : 1000\n",
      "Cost : 0.6172652244567871\n",
      "Iter : 1250\n",
      "Cost : 0.361349493265152\n",
      "Iter : 1500\n",
      "Cost : 0.21700823307037354\n",
      "Iter : 1750\n",
      "Cost : 0.34678104519844055\n",
      "Iter : 2000\n",
      "Cost : 0.4176177680492401\n",
      "Iter : 2250\n",
      "Cost : 0.2827926278114319\n"
     ]
    }
   ],
   "source": [
    "# Run initialize\n",
    "# config = tf.ConfigProto(allow_soft_placement=True)  # GPU Allocating policy\n",
    "# sess = tf.Session(config=config)\n",
    "sess = tf.Session()\n",
    "sess.run(init)\n",
    "\n",
    "# Training cycle\n",
    "for epoch in range(n_iter):\n",
    "    train_x, train_y = mnist.train.next_batch(n_batch)\n",
    "    sess.run(optm, feed_dict={x: train_x,  y: train_y}) \n",
    "    \n",
    "    if epoch % n_prt == 0:\n",
    "        c = sess.run(loss, feed_dict={x : train_x,  y : train_y})\n",
    "        print (\"Iter : {}\".format(epoch))\n",
    "        print (\"Cost : {}\".format(c))"
   ]
  },
  {
   "cell_type": "markdown",
   "metadata": {},
   "source": [
    "## 4.10. Test"
   ]
  },
  {
   "cell_type": "code",
   "execution_count": 32,
   "metadata": {},
   "outputs": [
    {
     "name": "stdout",
     "output_type": "stream",
     "text": [
      "Accuracy : 90.0%\n"
     ]
    }
   ],
   "source": [
    "test_x, test_y = mnist.test.next_batch(100)\n",
    "\n",
    "my_pred = sess.run(pred, feed_dict={x : test_x})\n",
    "my_pred = np.argmax(my_pred, axis=1)\n",
    "\n",
    "labels = np.argmax(test_y, axis=1)\n",
    "\n",
    "accr = np.mean(np.equal(my_pred, labels))\n",
    "print(\"Accuracy : {}%\".format(accr*100))"
   ]
  },
  {
   "cell_type": "code",
   "execution_count": 33,
   "metadata": {},
   "outputs": [
    {
     "data": {
      "image/png": "[encoded data removed]",
      "text/plain": [
       "<matplotlib.figure.Figure at 0x1aaed6d6b38>"
      ]
     },
     "metadata": {},
     "output_type": "display_data"
    },
    {
     "name": "stdout",
     "output_type": "stream",
     "text": [
      "Prediction : 4\n",
      "Probability : [ 0.01  0.    0.02  0.    0.58  0.01  0.09  0.    0.19  0.09]\n"
     ]
    }
   ],
   "source": [
    "test_x, test_y = mnist.test.next_batch(1)\n",
    "logits = sess.run(tf.nn.softmax(pred), feed_dict={x : test_x})\n",
    "predict = np.argmax(logits)\n",
    "\n",
    "plt.imshow(test_x.reshape(28,28), 'gray')\n",
    "plt.xticks([])\n",
    "plt.yticks([])\n",
    "plt.show()\n",
    "\n",
    "print('Prediction : {}'.format(predict))\n",
    "np.set_printoptions(precision=2, suppress=True)\n",
    "print('Probability : {}'.format(logits.ravel()))"
   ]
  },
  {
   "cell_type": "code",
   "execution_count": 34,
   "metadata": {},
   "outputs": [
    {
     "data": {
      "application/javascript": [
       "$.getScript('https://kmahelona.github.io/ipython_notebook_goodies/ipython_notebook_toc.js')"
      ],
      "text/plain": [
       "<IPython.core.display.Javascript object>"
      ]
     },
     "metadata": {},
     "output_type": "display_data"
    }
   ],
   "source": [
    "%%javascript\n",
    "$.getScript('https://kmahelona.github.io/ipython_notebook_goodies/ipython_notebook_toc.js')"
   ]
  }
 ],
 "metadata": {
  "anaconda-cloud": {},
  "kernelspec": {
   "display_name": "Python 3",
   "language": "python",
   "name": "python3"
  },
  "language_info": {
   "codemirror_mode": {
    "name": "ipython",
    "version": 3
   },
   "file_extension": ".py",
   "mimetype": "text/x-python",
   "name": "python",
   "nbconvert_exporter": "python",
   "pygments_lexer": "ipython3",
   "version": "3.5.3"
  }
 },
 "nbformat": 4,
 "nbformat_minor": 1
}
