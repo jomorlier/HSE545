{
 "cells": [
  {
   "cell_type": "markdown",
   "metadata": {},
   "source": [
    "<br><br>\n",
    "<font size='6'><b>Machine Learning Overview</b></font><br><br>\n",
    "\n",
    "<table style=\"border-style: hidden; border-collapse: collapse;\" width = \"80%\"> \n",
    "    <tr style=\"border-style: hidden; border-collapse: collapse;\">\n",
    "        <td width = 40% style=\"border-style: hidden; border-collapse: collapse;\">\n",
    "\n",
    "        </td>\n",
    "        <td width = 40%>\n",
    "        by Prof. Seungchul Lee<br>iSystems Design Lab<br>http://isystems.unist.ac.kr/<br>UNIST\n",
    "        </td>\n",
    "    </tr>\n",
    "</table>\n",
    "\n",
    "Table of Contents\n",
    "<div id=\"toc\"></div>"
   ]
  },
  {
   "cell_type": "markdown",
   "metadata": {},
   "source": [
    "## 1. What is Machine Learning\n",
    "\n",
    "- Draw a meaningful conclusion, given a set of data (observation, measurement)\n",
    "\n",
    "\n",
    "-  In 1959, Arthur Samuel defined [machine learning](https://en.wikipedia.org/wiki/Machine_learning) as a \"Field of study that gives computers the ability to learn without being explicitly programmed\"\n",
    "\n",
    "    - Often hand programming not possible\n",
    "    - Solution? Get the computer to program itself, by showing it examples of the behavior we want! This is the _learning_ approach of AI\n",
    "    - Really, we write the structure of the program and the computer tunes many internal parameters\n",
    "\n",
    "\n",
    "- Many related terms:\n",
    "    - Pattern recognition\n",
    "    - Neural networks $\\rightarrow$ Deep learning\n",
    "    - Data mining\n",
    "    - Adaptive control\n",
    "    - Statistical modeling\n",
    "    - Data analytics / data science\n",
    "    - Artificial intelligence\n",
    "    - Machine learning\n",
    "    \n",
    "<img src=\"./image_files/roadmap.png\", width=900>"
   ]
  },
  {
   "cell_type": "markdown",
   "metadata": {},
   "source": [
    "## 2. Supervised vs. Unsupervised Learning\n",
    "- Supervised: building a model from labeled data\n",
    "- Unsupervised: clustering from unlabeled data"
   ]
  },
  {
   "cell_type": "markdown",
   "metadata": {},
   "source": [
    "### 2.1. Supervised Learning\n",
    "\n",
    "- Regression \n",
    "    - linear, nonlinear (kernel), lasso ($L_1$ norm regularization), ridge ($L_2$ norm regularization)\n",
    "- Classification\n",
    "    - perceptron, logistic regression, Support Vector Machine, Bayesian classifier\n",
    "\n",
    "<table style=\"border-style: hidden; border-collapse: collapse;\" width = \"96%\"> \n",
    "    <tr style=\"border-style: hidden; border-collapse: collapse;\">\n",
    "        <td width = 40% style=\"border-style: hidden; border-collapse: collapse;\">\n",
    "            <img src=\"./image_files/data_distribution.png\", width=400>\n",
    "        </td>\n",
    "        <td width = 48%>\n",
    "            $$ \\begin{array}{Icr}\n",
    "            \\{x^{(1)},x^{(2)},\\cdots,x^{(m)}\\}\\\\\n",
    "            \\{y^{(1)},y^{(2)},\\cdots,y^{(m)}\\}\n",
    "            \\end{array} \\quad \\Rightarrow \\quad \\text{Classification}$$\n",
    "        </td>\n",
    "    </tr>\n",
    "</table>"
   ]
  },
  {
   "cell_type": "markdown",
   "metadata": {},
   "source": [
    "__Data Fitting or Approximation (Regression)__\n",
    "\n",
    "- a statistical process for estimating the relationships among variables (source: [wikipedia](https://en.wikipedia.org/wiki/Regression_analysis))\n",
    "\n",
    "<br>\n",
    "<img src = \"./image_files/Regression.png\" style=\"border:1px solid black\", width =500> \n",
    "<br>\n"
   ]
  },
  {
   "cell_type": "markdown",
   "metadata": {},
   "source": [
    "__Classification__\n",
    "\n",
    "- the problem of identifying to which of a set of categories (sub-populations) a new observation belongs, on the basis of a training set of data containing observations (or instances) whose category membership is known (source: [wikipedia](https://en.wikipedia.org/wiki/Statistical_classification))\n",
    "\n",
    "<br>\n",
    "<img src = \"./image_files/00classification.png\" style=\"border:1px solid black\", width =500> \n",
    "<br>"
   ]
  },
  {
   "cell_type": "markdown",
   "metadata": {},
   "source": [
    "### 2.2. Unsupervised Learning\n",
    "\n",
    "- Clustering\n",
    "    - k-means, Gaussian Mixture Model\n",
    "    - graph partitioning (spectral clustering)\n",
    "- Dimension Reduction\n",
    "    - PCA\n",
    "\n",
    "<table style=\"border-style: hidden; border-collapse: collapse;\" width = \"96%\"> \n",
    "    <tr style=\"border-style: hidden; border-collapse: collapse;\">\n",
    "        <td width = 40% style=\"border-style: hidden; border-collapse: collapse;\">\n",
    "            <img src=\"./image_files/kmeanex.bmp\", width = 400>\n",
    "        </td>\n",
    "        <td width = 48%>\n",
    "            $$\\{x^{(1)},x^{(2)},\\cdots,x^{(m)}\\} \\quad \\Rightarrow \\quad \\text{Clustering}$$\n",
    "        </td>\n",
    "    </tr>\n",
    "</table>"
   ]
  },
  {
   "cell_type": "markdown",
   "metadata": {},
   "source": [
    "__Clustering__\n",
    "- clustering groups examples based of their mutual similarities\n",
    "\n",
    "<table style=\"border-style: hidden; border-collapse: collapse;\" width = \"96%\"> \n",
    "    <tr style=\"border-style: hidden; border-collapse: collapse;\">\n",
    "        <td width = 48% style=\"border-style: hidden; border-collapse: collapse;\">\n",
    "            <img src=\"./image_files/clustering_0.png\", width = 400>\n",
    "        </td>\n",
    "        <td width = 48%>\n",
    "            <img src=\"./image_files/clustering_1.png\", width = 400>\n",
    "        </td>\n",
    "    </tr>\n",
    "</table>"
   ]
  },
  {
   "cell_type": "markdown",
   "metadata": {},
   "source": [
    "__Dimension Reduction (Multiple Senses + Principal Components)__\n",
    "\n",
    "- the process of reducing the number of random variables under consideration, and can be divided into feature selection and feature extraction.\n",
    "\n",
    "<br>\n",
    "<img src = \"./image_files/pca_timeseries.png\", width =80%> \n",
    "<br>"
   ]
  },
  {
   "cell_type": "markdown",
   "metadata": {},
   "source": [
    "## 3. Machine Learning and Deep Learning Tools"
   ]
  },
  {
   "cell_type": "markdown",
   "metadata": {},
   "source": [
    "<img src = \"./image_files/python_logo.png\" style=\"border:1px solid white\", width =300> \n",
    "- 본래는 웹개발, 그래픽인터페이스, 스크립트, 계산과학등 다양한 용도로 사용되는 고급 프로그래밍 언어\n",
    "- 5만개가 넘는 확장패키지 (eg. Scikit-learn, Numpy 등) 을 제공하는 것이 특징\n",
    "- 직관적이고 유연한 구조로 접근성이 용이\n",
    "\n",
    "__Package__\n",
    "- Python은 데이터분석을 위한 다양한 패키지를 제공\n",
    "- 관련된 클래스 혹은 함수들을 미리 묶어놓은 것\n",
    "    - 다양한 용도로 파이썬을 활용할 수 있도록 해줌\n",
    "- Numpy, Scikit-learn (sklearn), TensorFlow 등이 데이터분석을 위한 대표적인 패키지\n",
    "\n",
    "**Numpy**\n",
    "<img src = \"./image_files/numpy.png\" style=\"border:1px solid white\", width =200> \n",
    "- 과학계산을 위한 패키지\n",
    "- 배열간의 수학계산을 수행하는 함수, 선형대수의 계산, 푸리에 변환, 난수 발생기 같은 수치와 관련된 다양한 기능을 제공\n",
    "\n",
    "**Scipy**\n",
    "<img src = \"./image_files/scipysticker.png\" style=\"border:1px solid white\", width =200> \n",
    "-  미분방정식 해석기, 방정식의 근을 구하는 알고리즘, 표준 연속/이산 확률분포와 다양한 통계관련 도구 등을 제공\n",
    "\n",
    "**Pandas**\n",
    "<img src = \"./image_files/pandas_logo.png\" style=\"border:1px solid white\", width =250> \n",
    "- 일반 데이터베이스처럼 데이터를 합치고 관계연산을 수행\n",
    "- 자동적으로 혹은 명시적으로 축의 이름에 따라 데이터를 정렬할 수 있는 자료구조 제공\n",
    "\n",
    "**Scikit-learn (sklearn)**\n",
    "<img src = \"./image_files/scikit.png\" style=\"border:1px solid white\", width =200> \n",
    "- Regression, Classification, Clustering 과 같은 머신러닝을 위한 다양한 모형 제공\n",
    "- 전처리, 모형평가 등을 위한 서브 패키지 제공\n",
    "\n",
    "**TensorFlow for Deep Learning**\n",
    "<img src = \"./image_files/tensorflow.png\" style=\"border:1px solid white\", width =300> \n",
    "- 기계 학습과 딥러닝을 위한 함수, 클래스를 제공"
   ]
  },
  {
   "cell_type": "code",
   "execution_count": 1,
   "metadata": {},
   "outputs": [
    {
     "data": {
      "application/javascript": [
       "$.getScript('https://kmahelona.github.io/ipython_notebook_goodies/ipython_notebook_toc.js')"
      ],
      "text/plain": [
       "<IPython.core.display.Javascript object>"
      ]
     },
     "metadata": {},
     "output_type": "display_data"
    }
   ],
   "source": [
    "%%javascript\n",
    "$.getScript('https://kmahelona.github.io/ipython_notebook_goodies/ipython_notebook_toc.js')"
   ]
  }
 ],
 "metadata": {
  "anaconda-cloud": {},
  "kernelspec": {
   "display_name": "Python 3",
   "language": "python",
   "name": "python3"
  },
  "language_info": {
   "codemirror_mode": {
    "name": "ipython",
    "version": 3
   },
   "file_extension": ".py",
   "mimetype": "text/x-python",
   "name": "python",
   "nbconvert_exporter": "python",
   "pygments_lexer": "ipython3",
   "version": "3.6.0"
  }
 },
 "nbformat": 4,
 "nbformat_minor": 1
}
