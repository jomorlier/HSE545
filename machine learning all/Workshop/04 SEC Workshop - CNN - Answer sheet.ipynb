{
 "cells": [
  {
   "cell_type": "code",
   "execution_count": 1,
   "metadata": {
    "collapsed": false
   },
   "outputs": [
    {
     "data": {
      "application/javascript": [
       "$.getScript('https://kmahelona.github.io/ipython_notebook_goodies/ipython_notebook_toc.js')"
      ],
      "text/plain": [
       "<IPython.core.display.Javascript object>"
      ]
     },
     "metadata": {},
     "output_type": "display_data"
    }
   ],
   "source": [
    "%%javascript\n",
    "$.getScript('https://kmahelona.github.io/ipython_notebook_goodies/ipython_notebook_toc.js')"
   ]
  },
  {
   "cell_type": "markdown",
   "metadata": {},
   "source": [
    "<br><br>\n",
    "<font size='6'><b>Deep Learning\n",
    "</b></font><br><br>\n",
    "\n",
    "<table style=\"border-style: hidden; border-collapse: collapse;\" width = \"80%\"> \n",
    "    <tr style=\"border-style: hidden; border-collapse: collapse;\">\n",
    "        <td width = 60% style=\"border-style: hidden; border-collapse: collapse;\">\n",
    "\n",
    "        </td>\n",
    "        <td width = 20%>\n",
    "        By Suhyun Kim<br>iSystems Design Lab<br>http://isystems.unist.ac.kr/<br>UNIST\n",
    "        </td>\n",
    "    </tr>\n",
    "</table>\n",
    "\n",
    "Table of Contents\n",
    "<div id=\"toc\"></div>"
   ]
  },
  {
   "cell_type": "markdown",
   "metadata": {},
   "source": [
    "## 1. Convolution Neural Networks"
   ]
  },
  {
   "cell_type": "markdown",
   "metadata": {},
   "source": [
    "### 1.1 Convolution Neural Networks"
   ]
  },
  {
   "cell_type": "markdown",
   "metadata": {},
   "source": [
    "CNNs are simply neural networks that use _convolution_ in place of general matrix multiplication in at least one of their layers"
   ]
  },
  {
   "cell_type": "markdown",
   "metadata": {},
   "source": [
    "- Discrete convolution can be viewed as multiplication by a matrix\n",
    "\n",
    "<img src=\"./image_files/conv_animation.gif\" width = 400>"
   ]
  },
  {
   "cell_type": "markdown",
   "metadata": {},
   "source": [
    "<table style=\"border-style: hidden; border-collapse: collapse;\" width = \"96%\"> \n",
    "    <tr style=\"border-style: hidden; border-collapse: collapse;\">\n",
    "        <td width = 48% style=\"border-style: hidden; border-collapse: collapse;\">\n",
    "<img src=\"./image_files/conv.png\" width = 400>\n",
    "        </td>\n",
    "        <td width = 48%>\n",
    "<img src=\"./image_files/cnn_conv.png\" width = 400>\n",
    "        </td>\n",
    "    </tr>\n",
    "</table>"
   ]
  },
  {
   "cell_type": "markdown",
   "metadata": {},
   "source": [
    "__CNN Structure__\n",
    "\n",
    "<table style=\"border-style: hidden; border-collapse: collapse;\" width = \"96%\"> \n",
    "    <tr style=\"border-style: hidden; border-collapse: collapse;\">\n",
    "        <td width = 48% style=\"border-style: hidden; border-collapse: collapse;\">\n",
    "<img src=\"./image_files/layer_of_cnn.png\" width = 450>\n",
    "        </td>\n",
    "        <td width = 48%>\n",
    "<img src=\"./image_files/cnn.png\" width = 400>\n",
    "        </td>\n",
    "    </tr>\n",
    "</table>"
   ]
  },
  {
   "cell_type": "markdown",
   "metadata": {},
   "source": [
    "## 2. Convolution Neural Network in TensorFlow"
   ]
  },
  {
   "cell_type": "markdown",
   "metadata": {},
   "source": [
    "<br>\n",
    "<img src=\"./image_files/CNNArchitecture.jpg\" width = 750>\n",
    "<br>"
   ]
  },
  {
   "cell_type": "markdown",
   "metadata": {
    "collapsed": true
   },
   "source": [
    "- MNIST example \n",
    "- CNN 구조를 이용하여 숫자를 분류하는 네트워크를 구성하는 Example"
   ]
  },
  {
   "cell_type": "markdown",
   "metadata": {},
   "source": [
    "### 2.1. Import Library"
   ]
  },
  {
   "cell_type": "code",
   "execution_count": 2,
   "metadata": {
    "collapsed": true
   },
   "outputs": [],
   "source": [
    "# Import Library\n",
    "import numpy as np\n",
    "import matplotlib.pyplot as plt\n",
    "import tensorflow as tf"
   ]
  },
  {
   "cell_type": "markdown",
   "metadata": {},
   "source": [
    "### 2.2. Load MNIST example"
   ]
  },
  {
   "cell_type": "code",
   "execution_count": 3,
   "metadata": {
    "collapsed": false
   },
   "outputs": [
    {
     "name": "stdout",
     "output_type": "stream",
     "text": [
      "Extracting data_files/train-images-idx3-ubyte.gz\n",
      "Extracting data_files/train-labels-idx1-ubyte.gz\n",
      "Extracting data_files/t10k-images-idx3-ubyte.gz\n",
      "Extracting data_files/t10k-labels-idx1-ubyte.gz\n",
      "Packages loaded\n"
     ]
    }
   ],
   "source": [
    "from six.moves import cPickle\n",
    "\n",
    "mnist = cPickle.load(open('data_files/mnist.pkl', 'rb'))\n",
    "trainimgs   = mnist.train.images\n",
    "trainlabels = mnist.train.labels\n",
    "testimgs    = mnist.test.images\n",
    "testlabels  = mnist.test.labels\n",
    "ntrain      = trainimgs.shape[0]\n",
    "ntest       = testimgs.shape[0]\n",
    "print (\"Packages loaded\")"
   ]
  },
  {
   "cell_type": "markdown",
   "metadata": {},
   "source": [
    "**Design Neural Network**\n",
    "\n",
    "- Define Variable\n",
    "    - 학습 과정에서 필요한 변수 (iteration 횟수, learning rate 등) 정의\n",
    "\n",
    "- Define Network size\n",
    "    - Network를 구성하는데 필요한 변수 (hidden layer 수, classes 개수 등) 정의\n",
    "\n",
    "- Define Weights\n",
    "    - 학습될 변수(파라미터) 정의\n",
    "    - Gradient Descent를 통해서 변화될 변수\n",
    "        - 처음 시작점은 정규분포를 따르는 임의의 값\n",
    "\n",
    "- Define Network\n",
    "\n",
    "- Define Cost\n",
    "    - Neural Net의 output과 label y의 차이가 최소가 되도록 구성"
   ]
  },
  {
   "cell_type": "markdown",
   "metadata": {},
   "source": [
    "### 2.3. Define Variable\n",
    "- 학습 과정에서 필요한 변수 (iteration 횟수, learning rate 등) 정의"
   ]
  },
  {
   "cell_type": "code",
   "execution_count": 4,
   "metadata": {
    "collapsed": true
   },
   "outputs": [],
   "source": [
    "# Define Variable\n",
    "'''\n",
    "batch size\n",
    "learning rate\n",
    "n_iter\n",
    "flag\n",
    "'''\n",
    "\n",
    "batch_size = 50\n",
    "learning_rate = 0.1\n",
    "n_iter = 2500\n",
    "flag = 250"
   ]
  },
  {
   "cell_type": "markdown",
   "metadata": {},
   "source": [
    "### 2.4. Define Network size\n",
    "- Network를 구성하는데 필요한 변수 (hidden layer 수, classes 개수 등) 정의\n",
    "- CNN의 경우 convolution의 크기를 함께 정의"
   ]
  },
  {
   "cell_type": "markdown",
   "metadata": {},
   "source": [
    "- Convolution filter size\n",
    "<img src=\"./image_files/conv2.jpg\" width = 400>\n",
    "<br>"
   ]
  },
  {
   "cell_type": "code",
   "execution_count": null,
   "metadata": {
    "collapsed": true
   },
   "outputs": [],
   "source": [
    "k1_height = 5\n",
    "k1_width = 5"
   ]
  },
  {
   "cell_type": "markdown",
   "metadata": {},
   "source": [
    "- Channel\n",
    "<img src=\"./image_files/cnn_conv.png\" width = 400>\n",
    "<br>"
   ]
  },
  {
   "cell_type": "code",
   "execution_count": null,
   "metadata": {
    "collapsed": true
   },
   "outputs": [],
   "source": [
    "k1_channel = 3"
   ]
  },
  {
   "cell_type": "markdown",
   "metadata": {},
   "source": [
    "- Downsampling\n",
    "<img src=\"./image_files/Max_pooling_image.jpg\" width = 400>"
   ]
  },
  {
   "cell_type": "code",
   "execution_count": null,
   "metadata": {
    "collapsed": true
   },
   "outputs": [],
   "source": [
    "k1_pool_height = 2\n",
    "k1_pool_width = 2"
   ]
  },
  {
   "cell_type": "code",
   "execution_count": 5,
   "metadata": {
    "collapsed": true
   },
   "outputs": [],
   "source": [
    "# Define Network size\n",
    "\n",
    "'''\n",
    "input shape\n",
    "convolution kernel size\n",
    "channel\n",
    "hidden layer 개수\n",
    "'''\n",
    "input_height = 28\n",
    "input_width = 28\n",
    "input_channel = 1\n",
    "\n",
    "k1_height = 5\n",
    "k1_width = 5\n",
    "k1_channel = 3\n",
    "\n",
    "k1_pool_height = 2\n",
    "k1_pool_width = 2\n",
    "\n",
    "k2_height = 5\n",
    "k2_width = 5\n",
    "k2_channel = 3\n",
    "\n",
    "k2_pool_height = 2\n",
    "k2_pool_width = 2\n",
    "\n",
    "# conv_result_size는 fully connected 를 하기위해 convolution 결과를 한줄로 길게만든 것을 의미\n",
    "conv_result_size = 7*7*k2_channel\n",
    "n_hidden = 50\n",
    "n_classes = 10"
   ]
  },
  {
   "cell_type": "markdown",
   "metadata": {},
   "source": [
    "### 2.5. Define Weights\n",
    "- 학습될 변수(파라미터) 정의\n",
    "- Gradient Descent를 통해서 변화될 변수\n",
    "    - 처음 시작점은 정규분포를 따르는 임의의 값"
   ]
  },
  {
   "cell_type": "markdown",
   "metadata": {},
   "source": [
    "<img src=\"./image_files/conv2.jpg\" width = 400>"
   ]
  },
  {
   "cell_type": "code",
   "execution_count": 6,
   "metadata": {
    "collapsed": false
   },
   "outputs": [],
   "source": [
    "# Define Weights\n",
    "\n",
    "'''\n",
    "Network 안에 들어갈 weigth, biases 정의\n",
    "'''\n",
    "\n",
    "weights = {\n",
    "    'conv1_w' : tf.Variable(tf.random_normal([k1_height, k1_width, input_channel, k1_channel], stddev = 0.1)),\n",
    "    'conv2_w' : tf.Variable(tf.random_normal([k2_height, k2_width, k1_channel, k2_channel], stddev = 0.1)),\n",
    "    'fc_w' : tf.Variable(tf.random_normal([conv_result_size, n_hidden], stddev = 0.1)),\n",
    "    'output_w' : tf.Variable(tf.random_normal([n_hidden, n_classes], stddev = 0.1))\n",
    "}\n",
    "biases = {\n",
    "    'conv1_b' : tf.Variable(tf.random_normal([k1_channel], stddev = 0.1)),\n",
    "    'conv2_b' : tf.Variable(tf.random_normal([k2_channel], stddev = 0.1)),\n",
    "    'fc_b' : tf.Variable(tf.random_normal([n_hidden], stddev = 0.1)),\n",
    "    'output_b' : tf.Variable(tf.random_normal([n_classes], stddev = 0.1))\n",
    "}"
   ]
  },
  {
   "cell_type": "markdown",
   "metadata": {},
   "source": [
    "### 2.6. Define Network"
   ]
  },
  {
   "cell_type": "markdown",
   "metadata": {},
   "source": [
    "__1) Convolution layer__\n",
    "\n",
    "<img src=\"./image_files/linear_sum.png\" width = 320>"
   ]
  },
  {
   "cell_type": "markdown",
   "metadata": {},
   "source": [
    "<img src=\"./image_files/conv_animation.gif\" width = 400>"
   ]
  },
  {
   "cell_type": "markdown",
   "metadata": {},
   "source": [
    "- Stride\n",
    "- Padding"
   ]
  },
  {
   "cell_type": "code",
   "execution_count": 10,
   "metadata": {
    "collapsed": false
   },
   "outputs": [],
   "source": [
    "conv1 = tf.nn.conv2d(x, weights['conv1_w'], \n",
    "                         strides= [1,1,1,1], \n",
    "                         padding = 'SAME')\n"
   ]
  },
  {
   "cell_type": "markdown",
   "metadata": {},
   "source": [
    "__2) Nonlinear activation function__\n",
    "\n",
    "<img src=\"./image_files/ReLU.png\" width = 500>"
   ]
  },
  {
   "cell_type": "code",
   "execution_count": null,
   "metadata": {
    "collapsed": true
   },
   "outputs": [],
   "source": [
    "conv1 = tf.nn.relu(conv1 + biases['conv1_b'])"
   ]
  },
  {
   "cell_type": "markdown",
   "metadata": {},
   "source": [
    "__3) Max pooling__\n",
    "- The maximum of a rectangular neighborhood (max pooling operation)\n",
    "- Pooling with downsampling\n",
    "    - reduce the representation size by a factor of 2, which reduces the computational and statistical burden on the next layer\n",
    "\n",
    "<img src=\"./image_files/Max_pooling_image.jpg\" width = 500>"
   ]
  },
  {
   "cell_type": "code",
   "execution_count": null,
   "metadata": {
    "collapsed": true
   },
   "outputs": [],
   "source": [
    "conv1 = tf.nn.max_pool(conv1, \n",
    "                           ksize = [1, k1_pool_height, k1_pool_width, 1], \n",
    "                           strides = [1, k1_pool_height, k1_pool_width, 1], \n",
    "                           padding ='SAME')"
   ]
  },
  {
   "cell_type": "markdown",
   "metadata": {},
   "source": [
    "__4) Classification__\n",
    "\n",
    "<img src=\"./image_files/classification.png\" width = 450>"
   ]
  },
  {
   "cell_type": "code",
   "execution_count": null,
   "metadata": {
    "collapsed": true
   },
   "outputs": [],
   "source": [
    "output_layer = tf.matmul(hidden, weights['output_w']) + biases['output_b']"
   ]
  },
  {
   "cell_type": "markdown",
   "metadata": {},
   "source": [
    "<br>\n",
    "<img src=\"./image_files/CNNArchitecture.jpg\" width = 750>\n",
    "<br>"
   ]
  },
  {
   "cell_type": "code",
   "execution_count": 8,
   "metadata": {
    "collapsed": false
   },
   "outputs": [],
   "source": [
    "# Define Network\n",
    "def net(x, weights, biases):\n",
    "    #first conv filter layer\n",
    "    conv1 = tf.nn.conv2d(x, weights['conv1_w'], \n",
    "                         strides= [1,1,1,1], \n",
    "                         padding = 'SAME')\n",
    "    #first activate layer\n",
    "    conv1 = tf.nn.relu(conv1 + biases['conv1_b'])\n",
    "    #first max pooling layer\n",
    "    conv1 = tf.nn.max_pool(conv1, \n",
    "                           ksize = [1, k1_pool_height, k1_pool_width, 1], \n",
    "                           strides = [1, k1_pool_height, k1_pool_width, 1], \n",
    "                           )\n",
    "    \n",
    "    #second conv filter layer\n",
    "    conv2 = tf.nn.conv2d(conv1, weights['conv2_w'], \n",
    "                         strides= [1,1,1,1], \n",
    "                         padding = 'SAME')\n",
    "    #second activate layer\n",
    "    conv2 = tf.nn.relu(conv2 + biases['conv2_b'])\n",
    "    #second max pooling layer\n",
    "    conv2 = tf.nn.max_pool(conv2, \n",
    "                           ksize = [1, k2_pool_height, k2_pool_width, 1], \n",
    "                           strides = [1, k2_pool_height, k2_pool_width, 1], \n",
    "                           )\n",
    "\n",
    "    shape = conv2.get_shape().as_list()\n",
    "    \n",
    "    # fully connected layer\n",
    "    conv_result = tf.reshape(conv2, [-1, shape[1]*shape[2]*shape[3]])\n",
    "    hidden = tf.matmul(conv_result, weights['fc_w']) + biases['fc_b']\n",
    "    hidden = tf.nn.relu(hidden)\n",
    "    \n",
    "    output_layer = tf.matmul(hidden, weights['output_w']) + biases['output_b']\n",
    "    \n",
    "    return output_layer"
   ]
  },
  {
   "cell_type": "markdown",
   "metadata": {},
   "source": [
    "### 2.7. Define Cost\n",
    "- Neural Net의 output과 label y의 차이가 최소가 되도록 구성"
   ]
  },
  {
   "cell_type": "code",
   "execution_count": null,
   "metadata": {
    "collapsed": true
   },
   "outputs": [],
   "source": [
    "# Define Cost\n",
    "\n",
    "x = tf.placeholder(tf.float32, [None, input_width, input_height, input_channel])\n",
    "y = tf.placeholder(tf.float32, [None, n_classes])"
   ]
  },
  {
   "cell_type": "code",
   "execution_count": 9,
   "metadata": {
    "collapsed": false
   },
   "outputs": [],
   "source": [
    "pred = net(x, weights, biases)\n",
    "cost = tf.reduce_mean(tf.square(pred - y))\n",
    "optimizer = tf.train.GradientDescentOptimizer(learning_rate).minimize(cost)"
   ]
  },
  {
   "cell_type": "markdown",
   "metadata": {},
   "source": [
    "- 지금까지 만든 Tensor Graph\n",
    "<br>\n",
    "<img src=\"./image_files/NN_graph.png\" width = 300>\n",
    "<br>"
   ]
  },
  {
   "cell_type": "markdown",
   "metadata": {},
   "source": [
    "### 2.8. Optimize"
   ]
  },
  {
   "cell_type": "code",
   "execution_count": null,
   "metadata": {
    "collapsed": true
   },
   "outputs": [],
   "source": [
    "# Optimize \n",
    "init = tf.initialize_all_variables()\n",
    "sess = tf.Session()\n",
    "\n",
    "sess.run(init)\n",
    "\n",
    "# Training cycle\n",
    "for epoch in range(n_iter):\n",
    "    batch_x, batch_y = mnist.train.next_batch(batch_size)\n",
    "    batch_x = np.reshape(batch_x, [-1, input_width, input_height, input_channel])\n",
    "    sess.run(optimizer, feed_dict={x: batch_x,  y: batch_y})\n",
    "    c = sess.run(cost, feed_dict={x: batch_x,  y: batch_y})\n",
    "    if epoch % flag == 0:\n",
    "        print (\"Iter : {}\".format(epoch))\n",
    "        print (\"Cost : {}\".format(c))"
   ]
  },
  {
   "cell_type": "markdown",
   "metadata": {},
   "source": [
    "### 2.9. Test"
   ]
  },
  {
   "cell_type": "code",
   "execution_count": 12,
   "metadata": {
    "collapsed": false
   },
   "outputs": [
    {
     "data": {
      "image/png": "[encoded data removed]",
      "text/plain": [
       "<matplotlib.figure.Figure at 0x7f6a66710be0>"
      ]
     },
     "metadata": {},
     "output_type": "display_data"
    }
   ],
   "source": [
    "test_x, test_y = mnist.test.next_batch(1)\n",
    "\n",
    "plt.imshow(test_x.reshape(28, 28))\n",
    "plt.show()"
   ]
  },
  {
   "cell_type": "code",
   "execution_count": 13,
   "metadata": {
    "collapsed": false
   },
   "outputs": [
    {
     "name": "stdout",
     "output_type": "stream",
     "text": [
      "2\n"
     ]
    }
   ],
   "source": [
    "test_x = np.reshape(test_x, [-1, input_width, input_height, input_channel])\n",
    "predict_x = sess.run(pred, feed_dict={x: test_x})\n",
    "print (np.argmax(predict_x, 1)[0])"
   ]
  },
  {
   "cell_type": "code",
   "execution_count": 11,
   "metadata": {
    "collapsed": false
   },
   "outputs": [
    {
     "data": {
      "application/javascript": [
       "$.getScript('https://kmahelona.github.io/ipython_notebook_goodies/ipython_notebook_toc.js')"
      ],
      "text/plain": [
       "<IPython.core.display.Javascript object>"
      ]
     },
     "metadata": {},
     "output_type": "display_data"
    }
   ],
   "source": [
    "%%javascript\n",
    "$.getScript('https://kmahelona.github.io/ipython_notebook_goodies/ipython_notebook_toc.js')"
   ]
  }
 ],
 "metadata": {
  "anaconda-cloud": {},
  "kernelspec": {
   "display_name": "Python [Root]",
   "language": "python",
   "name": "Python [Root]"
  },
  "language_info": {
   "codemirror_mode": {
    "name": "ipython",
    "version": 3
   },
   "file_extension": ".py",
   "mimetype": "text/x-python",
   "name": "python",
   "nbconvert_exporter": "python",
   "pygments_lexer": "ipython3",
   "version": "3.5.2"
  }
 },
 "nbformat": 4,
 "nbformat_minor": 1
}
