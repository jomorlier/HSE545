{
 "cells": [
  {
   "cell_type": "code",
   "execution_count": 1,
   "metadata": {
    "collapsed": false
   },
   "outputs": [
    {
     "data": {
      "application/javascript": [
       "$.getScript('https://kmahelona.github.io/ipython_notebook_goodies/ipython_notebook_toc.js')"
      ],
      "text/plain": [
       "<IPython.core.display.Javascript object>"
      ]
     },
     "metadata": {},
     "output_type": "display_data"
    }
   ],
   "source": [
    "%%javascript\n",
    "$.getScript('https://kmahelona.github.io/ipython_notebook_goodies/ipython_notebook_toc.js')"
   ]
  },
  {
   "cell_type": "markdown",
   "metadata": {},
   "source": [
    "<br><br>\n",
    "<font size='6'><b>Deep Learning\n",
    "</b></font><br><br>\n",
    "\n",
    "<table style=\"border-style: hidden; border-collapse: collapse;\" width = \"80%\"> \n",
    "    <tr style=\"border-style: hidden; border-collapse: collapse;\">\n",
    "        <td width = 60% style=\"border-style: hidden; border-collapse: collapse;\">\n",
    "\n",
    "        </td>\n",
    "        <td width = 20%>\n",
    "        By Suhyun Kim<br>iSystems Design Lab<br>http://isystems.unist.ac.kr/<br>UNIST\n",
    "        </td>\n",
    "    </tr>\n",
    "</table>\n",
    "\n",
    "Table of Contents\n",
    "<div id=\"toc\"></div>"
   ]
  },
  {
   "cell_type": "markdown",
   "metadata": {},
   "source": [
    "## 1. Recurrent Neural Networks"
   ]
  },
  {
   "cell_type": "markdown",
   "metadata": {},
   "source": [
    "### 1.1. Limitation of Feedforward Neural Nets\n",
    "\n",
    "- FFNN cannot take into account the sequential structure in the data\n",
    "\n",
    "- For a sequence of observation $x_1, \\cdots, x_T$, their corresponding hidden units (states) $h_1, \\cdots, h_T$ are assumed independent of each other\n",
    "\n",
    "<br>\n",
    "<img src=\"./image_files/sequence_layer.jpg\" width = 400>\n",
    "<br>\n",
    "\n",
    "- Not ideal for sequential data, e.g., sentence/paragraph/document (sequence of words), video (sequence of frames), etc."
   ]
  },
  {
   "cell_type": "markdown",
   "metadata": {},
   "source": [
    "### 1.2. Recurrent Neural Nets (RNN)\n",
    "\n",
    "- Hidden state at each step depends on the hidden state of the previous\n",
    "\n",
    "<br>\n",
    "<img src=\"./image_files/sequence_layer_dependv2.jpg\" width = 360>\n",
    "<br>\n",
    "\n",
    "- Each hidden state is typically defined as\n",
    "\n",
    "$$ h_t = f \\left( W x_t + U h_{t-1}\\right) $$\n",
    "\n",
    "$\\quad \\;$where $U$ is like a transition matrix and $f$ is some nonlinear function (e.g., $\\tanh$).\n",
    "\n",
    "- Now $h_t$ acts as a memory which helps us remember what happened up to step $t$\n",
    "\n",
    "- RNNs can also be extended to have more than one hidden layer.\n",
    "\n",
    "- A more \"micro\" view of RNN (transition matrix $U$ connects the hidden states across observations, propagating information along the sequence)\n",
    "\n",
    "<table style=\"border-style: hidden; border-collapse: collapse;\" width = \"96%\"> \n",
    "    <tr style=\"border-style: hidden; border-collapse: collapse;\">\n",
    "        <td width = 48% style=\"border-style: hidden; border-collapse: collapse;\">\n",
    "<img src=\"./image_files/micro_view_rnn.jpg\" width = 400>\n",
    "        </td>\n",
    "        <td width = 48%>\n",
    "<img src=\"./image_files/recurrence_gif.gif\" width = 400>\n",
    "        </td>\n",
    "    </tr>\n",
    "</table>\n",
    "\n",
    "<br>"
   ]
  },
  {
   "cell_type": "markdown",
   "metadata": {},
   "source": [
    "## 2. Training Neural Networks"
   ]
  },
  {
   "cell_type": "markdown",
   "metadata": {},
   "source": [
    "### 2.1. RNN: Vanishing/Exploding Gradients Problem\n",
    "<br>\n",
    "<img src=\"./image_files/vanishing_gradient.jpg\" width = 550>\n",
    "<br>\n",
    "\n",
    "- Sensitivity of hidden states and outputs on a given input becomes weaker as we move away from it along the sequence (weak memory)\n",
    "\n",
    "- New inputs \"overwrite\" the activations of previous hidden states\n",
    "\n",
    "- Repeated multiplications can cause the gradients to vanish or explode"
   ]
  },
  {
   "cell_type": "markdown",
   "metadata": {},
   "source": [
    "### 2.2. Capturing Long-Range Dependencies\n",
    "\n",
    "- Idea: Augment the hidden states with gates (with parameters to be learned)\n",
    "\n",
    "- These gates can help us remember and forget information \"selectively\"\n",
    "\n",
    "<img src=\"./image_files/gates_lstm.png\" width = 550>\n",
    "\n",
    "- The hidden states have 3 types of gates\n",
    "    - input (bottom), forget (left), output (top)\n",
    "\n",
    "- Open gate denoted by 'o', closed gate denoted by '-'\n",
    "\n",
    "- LSTM: Long Short-Term Memory is one such idea"
   ]
  },
  {
   "cell_type": "markdown",
   "metadata": {},
   "source": [
    "## 3. Recurrent Neural Network in tensorflow"
   ]
  },
  {
   "cell_type": "markdown",
   "metadata": {
    "collapsed": true
   },
   "source": [
    "- RNN 구조를 이용하여 숫자를 분류하는 네트워크를 구성하는 Example"
   ]
  },
  {
   "cell_type": "markdown",
   "metadata": {},
   "source": [
    "### 3.1. Import Library"
   ]
  },
  {
   "cell_type": "code",
   "execution_count": 1,
   "metadata": {
    "collapsed": true
   },
   "outputs": [],
   "source": [
    "# Import Library\n",
    "import numpy as np\n",
    "import matplotlib.pyplot as plt\n",
    "import tensorflow as tf"
   ]
  },
  {
   "cell_type": "markdown",
   "metadata": {},
   "source": [
    "### 3.2. Load MNIST example"
   ]
  },
  {
   "cell_type": "code",
   "execution_count": 2,
   "metadata": {
    "collapsed": false
   },
   "outputs": [
    {
     "name": "stdout",
     "output_type": "stream",
     "text": [
      "Extracting data/train-images-idx3-ubyte.gz\n",
      "Extracting data/train-labels-idx1-ubyte.gz\n",
      "Extracting data/t10k-images-idx3-ubyte.gz\n",
      "Extracting data/t10k-labels-idx1-ubyte.gz\n",
      "Packages loaded\n"
     ]
    }
   ],
   "source": [
    "from six.moves import cPickle\n",
    "\n",
    "mnist = cPickle.load(open('data_files/mnist.pkl', 'rb'))\n",
    "trainimgs   = mnist.train.images\n",
    "trainlabels = mnist.train.labels\n",
    "testimgs    = mnist.test.images\n",
    "testlabels  = mnist.test.labels\n",
    "ntrain      = trainimgs.shape[0]\n",
    "ntest       = testimgs.shape[0]\n",
    "print (\"Packages loaded\")"
   ]
  },
  {
   "cell_type": "markdown",
   "metadata": {},
   "source": [
    "**Design Neural Network**\n",
    "\n",
    "- Define Variable\n",
    "    - 학습 과정에서 필요한 변수 (iteration 횟수, learning rate 등) 정의\n",
    "\n",
    "- Define Network size\n",
    "    - Network를 구성하는데 필요한 변수 (hidden layer 수, classes 개수 등) 정의\n",
    "\n",
    "- Define Weights\n",
    "    - 학습될 변수(파라미터) 정의\n",
    "    - Gradient Descent를 통해서 변화될 변수\n",
    "        - 처음 시작점은 정규분포를 따르는 임의의 값\n",
    "\n",
    "- Define Network\n",
    "\n",
    "- Define Cost\n",
    "    - Neural Net의 output과 label y의 차이가 최소가 되도록 구성"
   ]
  },
  {
   "cell_type": "markdown",
   "metadata": {},
   "source": [
    "### 3.3. Define Variable\n",
    "- 학습 과정에서 필요한 변수 (iteration 횟수, learning rate 등) 정의"
   ]
  },
  {
   "cell_type": "code",
   "execution_count": 3,
   "metadata": {
    "collapsed": true
   },
   "outputs": [],
   "source": [
    "# Define Variable\n",
    "'''\n",
    "batch size\n",
    "learning rate\n",
    "n_iter\n",
    "flag\n",
    "'''\n",
    "batch_size = 50\n",
    "learning_rate = 0.1\n",
    "n_iter = 2500\n",
    "flag = 250"
   ]
  },
  {
   "cell_type": "markdown",
   "metadata": {},
   "source": [
    "### 3.4. Define Network size\n",
    "- Network를 구성하는데 필요한 변수 (hidden layer 수, classes 개수 등) 정의\n",
    "- RNN의 경우 input이 sequence이므로 sequence에 대한 변수 정의\n",
    "    - n_steps : chunk의 개수\n",
    "    - n_input_sequence : 각 chunk에 들어가는 data sequence의 수"
   ]
  },
  {
   "cell_type": "code",
   "execution_count": 4,
   "metadata": {
    "collapsed": true
   },
   "outputs": [],
   "source": [
    "# Define Network size\n",
    "\n",
    "'''\n",
    "total length\n",
    "input sequence\n",
    "input steps\n",
    "hidden layer 개수\n",
    "'''\n",
    "total_length = 784\n",
    "n_steps = 28\n",
    "n_input_sequence = int(total_length//n_steps)\n",
    "n_hidden = 100\n",
    "n_classes = 10"
   ]
  },
  {
   "cell_type": "markdown",
   "metadata": {},
   "source": [
    "### 3.5. Define Weights\n",
    "- 학습될 변수(파라미터) 정의\n",
    "- Gradient Descent를 통해서 변화될 변수\n",
    "    - 처음 시작점은 정규분포를 따르는 임의의 값"
   ]
  },
  {
   "cell_type": "code",
   "execution_count": 5,
   "metadata": {
    "collapsed": false
   },
   "outputs": [],
   "source": [
    "# Define Weights\n",
    "'''\n",
    "Network 안에 들어갈 weigth, biases 정의\n",
    "'''\n",
    "\n",
    "weights = {\n",
    "    'out' : tf.Variable(tf.random_normal([n_hidden, n_classes], stddev = 0.1))\n",
    "}\n",
    "biases = {\n",
    "    'out' : tf.Variable(tf.random_normal([n_classes], stddev = 0.1))\n",
    "}"
   ]
  },
  {
   "cell_type": "markdown",
   "metadata": {},
   "source": [
    "### 3.6. Define Network"
   ]
  },
  {
   "cell_type": "code",
   "execution_count": 6,
   "metadata": {
    "collapsed": true
   },
   "outputs": [],
   "source": [
    "# Define Network\n",
    "def net(x, weights, biases, n_input, n_steps):\n",
    "    # transpose\n",
    "    '''\n",
    "    before transpose,  x shape is [batch_size, n_step, n_input]\n",
    "    after transpose, [n_step, batch_size, n_input]\n",
    "    '''\n",
    "    x = tf.transpose(x, [1, 0, 2])\n",
    "    x = tf.reshape(x, [-1, n_input_sequence])\n",
    "    \n",
    "    #split\n",
    "    '''\n",
    "    0 : row를 의미\n",
    "    n_stpes : 나눌 개수\n",
    "    x : 대상\n",
    "    결과 : x가 n_steps개수로 split됨\n",
    "    '''\n",
    "    x = tf.split(0, n_steps, x)\n",
    "    \n",
    "    lstm_cell = tf.nn.rnn_cell.BasicLSTMCell(n_hidden, forget_bias=1.0, state_is_tuple=True)\n",
    "    outputs, states = tf.nn.rnn(lstm_cell, x, dtype=tf.float32)\n",
    "    \n",
    "    return tf.matmul(outputs[-1], weights['out']) + biases['out']"
   ]
  },
  {
   "cell_type": "markdown",
   "metadata": {},
   "source": [
    "### 3.7. Define Cost\n",
    "- Neural Net의 output과 label y의 차이가 최소가 되도록 구성"
   ]
  },
  {
   "cell_type": "code",
   "execution_count": 7,
   "metadata": {
    "collapsed": false
   },
   "outputs": [],
   "source": [
    "# Define Cost\n",
    "\n",
    "x = tf.placeholder(tf.float32, [None, n_steps, n_input_sequence])\n",
    "y = tf.placeholder(tf.float32, [None, n_classes])\n",
    "\n",
    "pred = net(x, weights, biases, n_input_sequence, n_steps)\n",
    "\n",
    "cost = tf.reduce_mean(tf.square(pred - y))\n",
    "optimizer = tf.train.GradientDescentOptimizer(learning_rate).minimize(cost)"
   ]
  },
  {
   "cell_type": "markdown",
   "metadata": {},
   "source": [
    "- 지금까지 만든 Tensor Graph\n",
    "<br>\n",
    "<img src=\"./image_files/NN_graph.png\" width = 300>\n",
    "<br>"
   ]
  },
  {
   "cell_type": "markdown",
   "metadata": {},
   "source": [
    "### 3.8. Optimize"
   ]
  },
  {
   "cell_type": "code",
   "execution_count": null,
   "metadata": {
    "collapsed": true
   },
   "outputs": [],
   "source": [
    "# Optimize \n",
    "init = tf.initialize_all_variables()\n",
    "sess = tf.Session()\n",
    "\n",
    "sess.run(init)\n",
    "\n",
    "# Training cycle\n",
    "for epoch in range(n_iter):\n",
    "    batch_x, batch_y = mnist.train.next_batch(batch_size)\n",
    "    batch_x = np.reshape(batch_x, [-1, n_steps, n_input_sequence])\n",
    "    sess.run(optimizer, feed_dict={x: batch_x,  y: batch_y})\n",
    "    c = sess.run(cost, feed_dict={x: batch_x,  y: batch_y})\n",
    "    if epoch % flag == 0:\n",
    "        print (\"Iter : {}\".format(epoch))\n",
    "        print (\"Cost : {}\".format(c))"
   ]
  },
  {
   "cell_type": "markdown",
   "metadata": {},
   "source": [
    "### 3.9. Test"
   ]
  },
  {
   "cell_type": "code",
   "execution_count": 14,
   "metadata": {
    "collapsed": false
   },
   "outputs": [
    {
     "data": {
      "image/png": "[encoded data removed]",
      "text/plain": [
       "<matplotlib.figure.Figure at 0x7fd2d8245320>"
      ]
     },
     "metadata": {},
     "output_type": "display_data"
    }
   ],
   "source": [
    "test_x, test_y = mnist.test.next_batch(1)\n",
    "\n",
    "plt.imshow(test_x.reshape(28, 28))\n",
    "plt.show()"
   ]
  },
  {
   "cell_type": "code",
   "execution_count": 15,
   "metadata": {
    "collapsed": false
   },
   "outputs": [
    {
     "name": "stdout",
     "output_type": "stream",
     "text": [
      "1\n"
     ]
    }
   ],
   "source": [
    "test_x = np.reshape(test_x, [-1, n_steps, n_input])\n",
    "predict_x = sess.run(pred, feed_dict={x: test_x})\n",
    "print (np.argmax(predict_x, 1)[0])"
   ]
  },
  {
   "cell_type": "code",
   "execution_count": 11,
   "metadata": {
    "collapsed": false
   },
   "outputs": [
    {
     "data": {
      "application/javascript": [
       "$.getScript('https://kmahelona.github.io/ipython_notebook_goodies/ipython_notebook_toc.js')"
      ],
      "text/plain": [
       "<IPython.core.display.Javascript object>"
      ]
     },
     "metadata": {},
     "output_type": "display_data"
    }
   ],
   "source": [
    "%%javascript\n",
    "$.getScript('https://kmahelona.github.io/ipython_notebook_goodies/ipython_notebook_toc.js')"
   ]
  }
 ],
 "metadata": {
  "anaconda-cloud": {},
  "kernelspec": {
   "display_name": "Python [Root]",
   "language": "python",
   "name": "Python [Root]"
  },
  "language_info": {
   "codemirror_mode": {
    "name": "ipython",
    "version": 3
   },
   "file_extension": ".py",
   "mimetype": "text/x-python",
   "name": "python",
   "nbconvert_exporter": "python",
   "pygments_lexer": "ipython3",
   "version": "3.5.2"
  }
 },
 "nbformat": 4,
 "nbformat_minor": 1
}
