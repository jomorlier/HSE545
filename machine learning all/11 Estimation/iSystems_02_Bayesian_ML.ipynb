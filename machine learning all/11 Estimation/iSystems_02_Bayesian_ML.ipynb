{
 "cells": [
  {
   "cell_type": "markdown",
   "metadata": {},
   "source": [
    "<font size='6'><b>Bayesian Machine Learning</b></font>\n",
    "\n",
    "Table of Contents\n",
    "<div id=\"toc\"></div>"
   ]
  },
  {
   "cell_type": "markdown",
   "metadata": {},
   "source": [
    "# 1. Bayesian Classifier (or Bayesian Decision Theory)\n",
    "\n",
    "Given the height $x$ of a person, decide whether the person is male ($y=1$) or female ($y=0$).\n",
    "\n",
    "\n",
    "- Binary Classes: $y\\in \\{0,1\\}$ \n",
    "\n",
    "$$\n",
    "\\begin{align*}P(y=1 \\mid x) &=\\frac{P(x \\mid y=1)P(y=1)}{P(x)} =\\frac{ \\underbrace{P(x \\mid y=1)}_{\\text{likelihood}} \\underbrace{P(y=1)}_{\\text{prior}}}{\\underbrace{P(x)}_{\\text{marginal}}} \\\\\n",
    "P(y=0 \\mid x) &=\\frac{P(x \\mid y=0)P(y=0)}{P(x)}\n",
    "\\end{align*}$$\n",
    "\n",
    "- Decision\n",
    "\n",
    "$$\n",
    "\\begin{align*}\n",
    "\\text{If} \\; P(y=1 \\mid x) > P(y=0 \\mid x),\\; \\text{then} \\; \\hat{y} = 1 \\\\\n",
    "\\text{If} \\; P(y=1 \\mid x) < P(y=0 \\mid x),\\; \\text{then} \\; \\hat{y} = 0\n",
    "\\end{align*}\n",
    "$$\n",
    "\n",
    "<br>\n",
    "\n",
    "$$\\therefore  \\;\n",
    "\\frac{P(x \\mid y=0)P(y=0)}{P(x \\mid y=1)P(y=1)} \\quad\\begin{cases}\n",
    "    >1 \\quad \\implies \\; \\hat{y}=0 \\\\\n",
    "    =1 \\quad \\implies \\; \\text{decision boundary}\\\\\n",
    "    <1 \\quad \\implies \\; \\hat{y}=1 \n",
    "\\end{cases}$$\n"
   ]
  },
  {
   "cell_type": "markdown",
   "metadata": {},
   "source": [
    "## 1.1. Equal variance and equal prior\n",
    "\n",
    "$$\n",
    "\\sigma_0 = \\sigma_1 \\qquad \\text{and} \\qquad P(y=0)=P(y=1)=\\frac{1}{2}$$\n",
    "\n",
    "$$P(x) = P(x \\mid y=0) P(y=0) + P(x \\mid y=1)P(y=1) = \\frac{1}{2}\\left\\{ P(x \\mid y=0) + P(x \\mid y=1)\\right\\}$$\n",
    "\n",
    "- Decision Boundary\n",
    "\n",
    "$$P(y=0 \\mid x)=P(y=1 \\mid x)$$\n",
    "\n",
    "<br>\n",
    "<img src=\"./image_files/01.png\" width = 600>\n",
    "<br>"
   ]
  },
  {
   "cell_type": "code",
   "execution_count": 1,
   "metadata": {
    "collapsed": false
   },
   "outputs": [
    {
     "ename": "SyntaxError",
     "evalue": "invalid syntax (<ipython-input-1-1411e422b78b>, line 2)",
     "output_type": "error",
     "traceback": [
      "\u001b[1;36m  File \u001b[1;32m\"<ipython-input-1-1411e422b78b>\"\u001b[1;36m, line \u001b[1;32m2\u001b[0m\n\u001b[1;33m    x = 130:200;\u001b[0m\n\u001b[1;37m           ^\u001b[0m\n\u001b[1;31mSyntaxError\u001b[0m\u001b[1;31m:\u001b[0m invalid syntax\n"
     ]
    }
   ],
   "source": [
    "%plot -s 560,560\n",
    "x = 130:200;\n",
    "mu0 = 160;\n",
    "mu1 = 173;\n",
    "sigma0 = 6.5;\n",
    "sigma1 = 6.5;\n",
    "\n",
    "L1 = normpdf(x,mu0,sigma0);\n",
    "L2 = normpdf(x,mu1,sigma1);\n",
    "\n",
    "prior0 = 1/2;\n",
    "prior1 = 1/2;\n",
    "\n",
    "Px = L1*prior0 + L2*prior1;\n",
    "posterior0 = (L1*prior0)./Px;\n",
    "posterior1 = (L2*prior1)./Px;\n",
    "\n",
    "var1 = posterior1 - posterior1.^2;\n",
    "\n",
    "subplot(3,1,1),  \n",
    "plot(x,L1,'r',x,L2,'b',x,Px,'k')\n",
    "axis([130 200 0 0.1])\n",
    "text(mu0-10,0.08,'\\color{red} P(x|y=0)','fontsize',8)\n",
    "text(mu1,0.08,'\\color{blue} P(x|y=1)','fontsize',8)\n",
    "text(185,0.03,'P(x)','fontsize',8)\n",
    "\n",
    "subplot(3,1,2), \n",
    "plot(x,L1*prior0,'r',x,L2*prior1,'b')\n",
    "axis([130 200 0 0.1])\n",
    "text(mu0-10,0.05,'\\color{red} P(x|y=0)P(y=0)','fontsize',8)\n",
    "text(mu1,0.05,'\\color{blue} P(x|y=1)P(y=1)','fontsize',8)\n",
    "\n",
    "subplot(3,1,3),  \n",
    "plot(x,posterior0,'r',x,posterior1,'b',x,var1,'k')\n",
    "axis([130 200 0 1.1])\n",
    "text(140,0.8,'\\color{red} P(y=0|x)','fontsize',8)\n",
    "text(180,0.8,'\\color{blue} P(y=1|x)','fontsize',8)\n",
    "text(170,0.4,'var(y|x)','fontsize',8)"
   ]
  },
  {
   "cell_type": "markdown",
   "metadata": {},
   "source": [
    "## 1.2. Equal variance and _not_ equal prior\n",
    "\n",
    "$$\n",
    "\\sigma_0 = \\sigma_1 \\qquad \\text{and} \\qquad P(y=1) > P(y=0)\n",
    "$$\n",
    "\n",
    "<br>\n",
    "<img src=\"./image_files/02.png\" width = 600>\n",
    "<br>"
   ]
  },
  {
   "cell_type": "code",
   "execution_count": 2,
   "metadata": {
    "collapsed": false
   },
   "outputs": [
    {
     "ename": "SyntaxError",
     "evalue": "invalid syntax (<ipython-input-2-b5c97bb72478>, line 2)",
     "output_type": "error",
     "traceback": [
      "\u001b[1;36m  File \u001b[1;32m\"<ipython-input-2-b5c97bb72478>\"\u001b[1;36m, line \u001b[1;32m2\u001b[0m\n\u001b[1;33m    x = 130:200;\u001b[0m\n\u001b[1;37m           ^\u001b[0m\n\u001b[1;31mSyntaxError\u001b[0m\u001b[1;31m:\u001b[0m invalid syntax\n"
     ]
    }
   ],
   "source": [
    "%plot -s 560,560\n",
    "x = 130:200;\n",
    "mu0 = 160;\n",
    "mu1 = 173;\n",
    "sigma0 = 6.5;\n",
    "sigma1 = 6.5;\n",
    "\n",
    "L1 = normpdf(x,mu0,sigma0);\n",
    "L2 = normpdf(x,mu1,sigma1);\n",
    "\n",
    "prior0 = 1/4;\n",
    "prior1 = 3/4;\n",
    "\n",
    "Px = L1*prior0 + L2*prior1;\n",
    "posterior0 = (L1*prior0)./Px;\n",
    "posterior1 = (L2*prior1)./Px;\n",
    "\n",
    "var1 = posterior1 - posterior1.^2;\n",
    "\n",
    "subplot(3,1,1),  \n",
    "plot(x,L1,'r',x,L2,'b',x,Px,'k')\n",
    "axis([130 200 0 0.1])\n",
    "text(mu0-10,0.08,'\\color{red} P(x|y=0)','fontsize',8)\n",
    "text(mu1,0.08,'\\color{blue} P(x|y=1)','fontsize',8)\n",
    "text(185,0.03,'P(x)','fontsize',8)\n",
    "\n",
    "subplot(3,1,2), \n",
    "plot(x,L1*prior0,'r',x,L2*prior1,'b')\n",
    "axis([130 200 0 0.1])\n",
    "text(mu0-10,0.05,'\\color{red} P(x|y=0)P(y=0)','fontsize',8)\n",
    "text(mu1,0.05,'\\color{blue} P(x|y=1)P(y=1)','fontsize',8)\n",
    "\n",
    "subplot(3,1,3),  \n",
    "plot(x,posterior0,'r',x,posterior1,'b',x,var1,'k')\n",
    "axis([130 200 0 1.1])\n",
    "text(140,0.8,'\\color{red} P(y=0|x)','fontsize',8)\n",
    "text(180,0.8,'\\color{blue} P(y=1|x)','fontsize',8)\n",
    "text(170,0.4,'var(y|x)','fontsize',8)"
   ]
  },
  {
   "cell_type": "markdown",
   "metadata": {},
   "source": [
    "## 1.3. _Not_ equal variance and equal prior\n",
    "\n",
    "$$\n",
    "\\sigma_0 \\ne \\sigma_1 \\qquad \\text{and} \\qquad P(y=0)=P(y=1)=\\frac{1}{2}$$\n",
    "\n",
    "<br>\n",
    "<img src=\"./image_files/03.png\" width = 600>\n",
    "<br>"
   ]
  },
  {
   "cell_type": "code",
   "execution_count": 3,
   "metadata": {
    "collapsed": false
   },
   "outputs": [
    {
     "ename": "SyntaxError",
     "evalue": "invalid syntax (<ipython-input-3-0a907da38c22>, line 2)",
     "output_type": "error",
     "traceback": [
      "\u001b[1;36m  File \u001b[1;32m\"<ipython-input-3-0a907da38c22>\"\u001b[1;36m, line \u001b[1;32m2\u001b[0m\n\u001b[1;33m    x = 130:200;\u001b[0m\n\u001b[1;37m           ^\u001b[0m\n\u001b[1;31mSyntaxError\u001b[0m\u001b[1;31m:\u001b[0m invalid syntax\n"
     ]
    }
   ],
   "source": [
    "%plot -s 560,560\n",
    "x = 130:200;\n",
    "mu0 = 160;\n",
    "mu1 = 173;\n",
    "sigma0 = 6.5;\n",
    "sigma1 = 15;\n",
    "\n",
    "L1 = normpdf(x,mu0,sigma0);\n",
    "L2 = normpdf(x,mu1,sigma1);\n",
    "\n",
    "prior0 = 1/2;\n",
    "prior1 = 1/2;\n",
    "\n",
    "Px = L1*prior0 + L2*prior1;\n",
    "posterior0 = (L1*prior0)./Px;\n",
    "posterior1 = (L2*prior1)./Px;\n",
    "\n",
    "var1 = posterior1 - posterior1.^2;\n",
    "\n",
    "subplot(3,1,1),  \n",
    "plot(x,L1,'r',x,L2,'b',x,Px,'k')\n",
    "axis([130 200 0 0.07])\n",
    "text(mu0-20,0.04,'\\color{red} P(x|y=0)','fontsize',8)\n",
    "text(mu1,0.04,'\\color{blue} P(x|y=1)','fontsize',8)\n",
    "text(158,0.03,'P(x)','fontsize',8)\n",
    "\n",
    "subplot(3,1,2), \n",
    "plot(x,L1*prior0,'r',x,L2*prior1,'b')\n",
    "axis([130 200 0 0.02])\n",
    "text(mu0-28,0.015,'\\color{red} P(x|y=0)P(y=0)','fontsize',8)\n",
    "text(mu1+5,0.015,'\\color{blue} P(x|y=1)P(y=1)','fontsize',8)\n",
    "\n",
    "subplot(3,1,3),  \n",
    "plot(x,posterior0,'r',x,posterior1,'b',x,var1,'k')\n",
    "axis([130 200 0 1.1])\n",
    "text(143,0.9,'\\color{red} P(y=0|x)','fontsize',8)\n",
    "text(180,0.8,'\\color{blue} P(y=1|x)','fontsize',8)\n",
    "text(173,0.35,'var(y|x)','fontsize',8)"
   ]
  },
  {
   "cell_type": "markdown",
   "metadata": {},
   "source": [
    "__Lecture 23 in [Learning Theory](http://www.shadmehrlab.org/Courses/learningtheory.html) (Reza Shadmehr, Johns Hopkins University)__"
   ]
  },
  {
   "cell_type": "code",
   "execution_count": 4,
   "metadata": {
    "collapsed": false
   },
   "outputs": [
    {
     "data": {
      "text/html": [
       "<iframe width=\"560\" height=\"315\" \n",
       "src=\"https://www.youtube.com/embed/3r5SlvjJptM\" \n",
       "frameborder=\"0\" allowfullscreen></iframe>"
      ],
      "text/plain": [
       "<IPython.core.display.HTML object>"
      ]
     },
     "metadata": {},
     "output_type": "display_data"
    }
   ],
   "source": [
    "%%html\n",
    "<iframe width=\"560\" height=\"315\" \n",
    "src=\"https://www.youtube.com/embed/3r5SlvjJptM\" \n",
    "frameborder=\"0\" allowfullscreen></iframe>"
   ]
  },
  {
   "cell_type": "code",
   "execution_count": 5,
   "metadata": {
    "collapsed": false
   },
   "outputs": [
    {
     "data": {
      "text/html": [
       "<iframe width=\"560\" height=\"315\" \n",
       "src=\"https://www.youtube.com/embed/X1WB6IJqMjM\" \n",
       "frameborder=\"0\" allowfullscreen></iframe>"
      ],
      "text/plain": [
       "<IPython.core.display.HTML object>"
      ]
     },
     "metadata": {},
     "output_type": "display_data"
    }
   ],
   "source": [
    "%%html\n",
    "<iframe width=\"560\" height=\"315\" \n",
    "src=\"https://www.youtube.com/embed/X1WB6IJqMjM\" \n",
    "frameborder=\"0\" allowfullscreen></iframe>"
   ]
  },
  {
   "cell_type": "markdown",
   "metadata": {},
   "source": [
    "# 2. Bayesian Density Estimation"
   ]
  },
  {
   "cell_type": "code",
   "execution_count": 6,
   "metadata": {
    "collapsed": false
   },
   "outputs": [
    {
     "data": {
      "text/html": [
       "<iframe width=\"560\" height=\"315\" \n",
       "src=\"https://www.youtube.com/embed/J5uQcuQ_fJ0\" \n",
       "frameborder=\"0\" allowfullscreen></iframe>"
      ],
      "text/plain": [
       "<IPython.core.display.HTML object>"
      ]
     },
     "metadata": {},
     "output_type": "display_data"
    }
   ],
   "source": [
    "%%html\n",
    "<iframe width=\"560\" height=\"315\" \n",
    "src=\"https://www.youtube.com/embed/J5uQcuQ_fJ0\" \n",
    "frameborder=\"0\" allowfullscreen></iframe>"
   ]
  },
  {
   "cell_type": "markdown",
   "metadata": {},
   "source": [
    "- Estimate a probability density function of a hidden state from multiple observations\n",
    "\n",
    "\n",
    "<img src=\"./image_files/bayesian01.png\" width = 250>\n",
    "<br>\n",
    "\n",
    "- $H$: Hypothesis, hidden state\n",
    "- $D = \\{d_1,d_2,\\cdots,d_m\\}$: data, observation, evidence\n",
    "\n",
    "$$ P(H,D) = P(H \\mid D)P(D) = P(D \\mid H)P(H) $$\n",
    "\n",
    "- Goal: $$ P(H \\mid D) = \\frac{P(D \\mid H)P(H)}{P(D)}: \\quad \\text{ Bayes' Rule} $$\n",
    "\n",
    "<br>\n",
    "<img src=\"./image_files/bayesian02.png\" width = 600>\n",
    "<br>\n",
    "<br>\n",
    "<img src=\"./image_files/bayesian03.png\" width = 600>\n",
    "<br>\n",
    "<br>\n",
    "<img src=\"./image_files/bayesian04.png\" width = 600>\n",
    "<br>"
   ]
  },
  {
   "cell_type": "code",
   "execution_count": 7,
   "metadata": {
    "collapsed": false
   },
   "outputs": [
    {
     "data": {
      "text/html": [
       "<iframe width=\"420\" height=\"315\" \n",
       "src=\"https://www.youtube.com/embed/w1u6-_2jQJo\" frameborder=\"0\" allowfullscreen>\n",
       "</iframe>"
      ],
      "text/plain": [
       "<IPython.core.display.HTML object>"
      ]
     },
     "metadata": {},
     "output_type": "display_data"
    }
   ],
   "source": [
    "%%html\n",
    "<iframe width=\"420\" height=\"315\" \n",
    "src=\"https://www.youtube.com/embed/w1u6-_2jQJo\" frameborder=\"0\" allowfullscreen>\n",
    "</iframe>"
   ]
  },
  {
   "cell_type": "markdown",
   "metadata": {},
   "source": [
    "## 2.1. Combining Multiple Evidences\n",
    "\n",
    "- Assume conditional independence (Markovian Property)\n",
    "\n",
    "\n",
    "$$\n",
    "\\begin{align*} P(H \\mid \\underbrace{d_1,d_2,\\cdots,d_m}_{\\text{multiple evidences}}) &= \\frac{P(d_1,d_2,\\cdots,d_m \\mid H) \\; P(H)}{P(d_1,d_2,\\cdots,d_m)}  \\\\ \\\\\n",
    "&=\\frac{P(d_1 \\mid H)P(d_2 \\mid H)\\cdots P(d_m \\mid H) \\;P(H)}{P(d_1,d_2,\\cdots,d_m)} \\\\ \\\\\n",
    "&= \\eta\\prod\\limits_{i=1}^m P(d_i \\mid H)P(H), \\qquad \\eta: \\text{normalizing}\n",
    "\\end{align*}$$"
   ]
  },
  {
   "cell_type": "markdown",
   "metadata": {},
   "source": [
    "## 2.2. Recursive Bayesian Estimation\n",
    "\n",
    "- two identities\n",
    "\n",
    "$$ \n",
    "\\begin{align*}P(a,b) &= P(a \\mid b) P(b) \\\\\n",
    "P(a,b \\mid c) & = P(a \\mid b,c) P(b \\mid c)\n",
    "\\end{align*}$$\n",
    "\n",
    "- When multiple $d_1, d_2, \\cdots $\n",
    "\n",
    "$$\n",
    "\\begin{align*}\n",
    "P(H\\mid d_1) &= \\frac{P(d_1 \\mid H) P(H)}{P(d_1)} = \\eta_1 \\, P(d_1 \\mid H) \\underbrace{P(H)}_{\\text{prior}} \\\\\n",
    "P(H\\mid d_1 d_2) &= \\frac{P(d_1 d_2\\mid H) P(H)}{P(d_1 d_2)} = \\frac{P(d_1 \\mid H)P(d_2 \\mid H) P(H)}{P(d_1 d_2)} = \\eta_2 \\, P(d_2 \\mid H) \\underbrace{P(H\\mid d_1)}_{\\text{acting as a prior}} \\\\\n",
    "& \\quad \\vdots \\\\ \\\\\n",
    "P(H \\mid d_1,d_2,\\cdots,d_m) &= \\eta_m \\,P(d_m \\mid H) \\underbrace{P(H \\mid d_1,d_2,\\cdots,d_{m-1})}_{\\text{acting as a prior}} \n",
    "\\end{align*}\n",
    "$$\n",
    "\n",
    "- Recursive\n",
    "\n",
    "\n",
    "$$P_0(H) = P(H) \\implies \\; P(H \\mid d_1)=P_1(H) \\implies \\; P(H \\mid d_1 d_2) =  P_2(H) \\implies \\; \\cdots$$\n",
    "\n",
    "\n",
    "- Recursive Bayesian Estimation\n",
    "\n",
    "\n",
    "<img src=\"./image_files/recursive.png\" width = 600>"
   ]
  },
  {
   "cell_type": "markdown",
   "metadata": {},
   "source": [
    "## 2.3. Example in 1D"
   ]
  },
  {
   "cell_type": "markdown",
   "metadata": {
    "collapsed": true
   },
   "source": [
    "<br>\n",
    "<img src=\"./image_files/bayesian05.png\" width = 550>\n",
    "\n",
    "<img src=\"./image_files/bayesian06.png\" width = 550>\n",
    "<br>"
   ]
  },
  {
   "cell_type": "markdown",
   "metadata": {},
   "source": [
    "Given model"
   ]
  },
  {
   "cell_type": "code",
   "execution_count": 8,
   "metadata": {
    "collapsed": false
   },
   "outputs": [
    {
     "ename": "SyntaxError",
     "evalue": "invalid syntax (<ipython-input-8-450c33805cba>, line 3)",
     "output_type": "error",
     "traceback": [
      "\u001b[1;36m  File \u001b[1;32m\"<ipython-input-8-450c33805cba>\"\u001b[1;36m, line \u001b[1;32m3\u001b[0m\n\u001b[1;33m    H = 50;         % if location of unknown object = 50\u001b[0m\n\u001b[1;37m                    ^\u001b[0m\n\u001b[1;31mSyntaxError\u001b[0m\u001b[1;31m:\u001b[0m invalid syntax\n"
     ]
    }
   ],
   "source": [
    "%plot -s 560,400\n",
    "\n",
    "H = 50;         % if location of unknown object = 50\n",
    "sigma = 20;     % assume normal dist w/ sigma = 20\n",
    "\n",
    "n = 100;\n",
    "x = 1:n;\n",
    "likelihood = normpdf(x,H,sigma);\n",
    "likelihood = likelihood/sum(likelihood); %normalizing\n",
    "\n",
    "plot(x,likelihood), axis tight, ylim([0,0.025])\n",
    "xlabel('D')\n",
    "ylabel('P(D|H)')\n",
    "title(['H = ', num2str(H)])"
   ]
  },
  {
   "cell_type": "markdown",
   "metadata": {},
   "source": [
    "Likelihood"
   ]
  },
  {
   "cell_type": "code",
   "execution_count": 9,
   "metadata": {
    "collapsed": false
   },
   "outputs": [
    {
     "ename": "SyntaxError",
     "evalue": "invalid syntax (<ipython-input-9-c49504f5d752>, line 2)",
     "output_type": "error",
     "traceback": [
      "\u001b[1;36m  File \u001b[1;32m\"<ipython-input-9-c49504f5d752>\"\u001b[1;36m, line \u001b[1;32m2\u001b[0m\n\u001b[1;33m    L = zeros(n,n); % likelihood\u001b[0m\n\u001b[1;37m                    ^\u001b[0m\n\u001b[1;31mSyntaxError\u001b[0m\u001b[1;31m:\u001b[0m invalid syntax\n"
     ]
    }
   ],
   "source": [
    "%plot -s 560,420\n",
    "L = zeros(n,n); % likelihood\n",
    "\n",
    "for h = 1:n    \n",
    "    L(:,h) = normpdf(x,h,sigma);\n",
    "    L(:,h) = L(:,h)/sum(L(:,h));\n",
    "end\n",
    "\n",
    "imagesc(L), colorbar, axis image\n",
    "set(gca,'ydir','normal')\n",
    "xlabel('H'),    ylabel('D'),    title('Pr(D|H)')"
   ]
  },
  {
   "cell_type": "code",
   "execution_count": 10,
   "metadata": {
    "collapsed": false
   },
   "outputs": [
    {
     "ename": "SyntaxError",
     "evalue": "invalid syntax (<ipython-input-10-68b4a069cefa>, line 2)",
     "output_type": "error",
     "traceback": [
      "\u001b[1;36m  File \u001b[1;32m\"<ipython-input-10-68b4a069cefa>\"\u001b[1;36m, line \u001b[1;32m2\u001b[0m\n\u001b[1;33m    surf(x,x,L), shading interp, view(65,28)\u001b[0m\n\u001b[1;37m                              ^\u001b[0m\n\u001b[1;31mSyntaxError\u001b[0m\u001b[1;31m:\u001b[0m invalid syntax\n"
     ]
    }
   ],
   "source": [
    "%plot -s 560,500\n",
    "surf(x,x,L), shading interp, view(65,28)\n",
    "xlabel('H')\n",
    "ylabel('D')"
   ]
  },
  {
   "cell_type": "markdown",
   "metadata": {},
   "source": [
    "Suppose $H = 45$"
   ]
  },
  {
   "cell_type": "code",
   "execution_count": 11,
   "metadata": {
    "collapsed": false,
    "scrolled": false
   },
   "outputs": [
    {
     "ename": "SyntaxError",
     "evalue": "invalid syntax (<ipython-input-11-8df77e143e26>, line 2)",
     "output_type": "error",
     "traceback": [
      "\u001b[1;36m  File \u001b[1;32m\"<ipython-input-11-8df77e143e26>\"\u001b[1;36m, line \u001b[1;32m2\u001b[0m\n\u001b[1;33m    %% run it in Matlab to see animation\u001b[0m\n\u001b[1;37m    ^\u001b[0m\n\u001b[1;31mSyntaxError\u001b[0m\u001b[1;31m:\u001b[0m invalid syntax\n"
     ]
    }
   ],
   "source": [
    "%plot -s 560,420\n",
    "%% run it in Matlab to see animation\n",
    "\n",
    "n = 100;\n",
    "x = 1:n;\n",
    "\n",
    "sigma = 20;\n",
    "L = zeros(n,n); % likelihood\n",
    "\n",
    "for h = 1:n    \n",
    "    L(:,h) = normpdf(x,h,sigma)';\n",
    "    L(:,h) = L(:,h)/sum(L(:,h));\n",
    "end\n",
    "\n",
    "%%\n",
    "H = 45;\n",
    "\n",
    "pr = ones(n,1)/n; % prior = uniform \n",
    "dh = [];\n",
    "\n",
    "for i = 1:50\n",
    "    d = round(normrnd(H,sigma));    % observation\n",
    "\n",
    "    % make sure 1 <= d <= 100\n",
    "    if d <= 0\n",
    "        d = 1;\n",
    "    elseif d >= 100\n",
    "        d = 100;\n",
    "    end\n",
    "    \n",
    "    dh = [dh d];\n",
    "    \n",
    "    plot(x,pr,'linewidth',2),   hold on\n",
    "    plot(dh,zeros(size(dh)),'+'),  hold off\n",
    "    ylim([-0.01 0.15])\n",
    "\n",
    "    po = L(d,:)'.*pr;\n",
    "    po = po/sum(po);    \n",
    "    \n",
    "    pr = po;\n",
    "    pause(0.1)\n",
    "end"
   ]
  },
  {
   "cell_type": "code",
   "execution_count": 12,
   "metadata": {
    "collapsed": false
   },
   "outputs": [
    {
     "ename": "SyntaxError",
     "evalue": "invalid syntax (<ipython-input-12-c30dba3b9f87>, line 2)",
     "output_type": "error",
     "traceback": [
      "\u001b[1;36m  File \u001b[1;32m\"<ipython-input-12-c30dba3b9f87>\"\u001b[1;36m, line \u001b[1;32m2\u001b[0m\n\u001b[1;33m    [~,I] = max(po)\u001b[0m\n\u001b[1;37m      ^\u001b[0m\n\u001b[1;31mSyntaxError\u001b[0m\u001b[1;31m:\u001b[0m invalid syntax\n"
     ]
    }
   ],
   "source": [
    "mean(dh)\n",
    "[~,I] = max(po)"
   ]
  },
  {
   "cell_type": "code",
   "execution_count": 13,
   "metadata": {
    "collapsed": false
   },
   "outputs": [
    {
     "name": "stderr",
     "output_type": "stream",
     "text": [
      "ERROR: Line magic function `%plot` not found.\n"
     ]
    },
    {
     "ename": "NameError",
     "evalue": "name 'histogram' is not defined",
     "output_type": "error",
     "traceback": [
      "\u001b[1;31m---------------------------------------------------------------------------\u001b[0m",
      "\u001b[1;31mNameError\u001b[0m                                 Traceback (most recent call last)",
      "\u001b[1;32m<ipython-input-13-9957c266414d>\u001b[0m in \u001b[0;36m<module>\u001b[1;34m()\u001b[0m\n\u001b[0;32m      1\u001b[0m \u001b[0mget_ipython\u001b[0m\u001b[1;33m(\u001b[0m\u001b[1;33m)\u001b[0m\u001b[1;33m.\u001b[0m\u001b[0mmagic\u001b[0m\u001b[1;33m(\u001b[0m\u001b[1;34m'plot -s 560,420'\u001b[0m\u001b[1;33m)\u001b[0m\u001b[1;33m\u001b[0m\u001b[0m\n\u001b[1;32m----> 2\u001b[1;33m \u001b[0mhistogram\u001b[0m\u001b[1;33m(\u001b[0m\u001b[0mdh\u001b[0m\u001b[1;33m,\u001b[0m\u001b[1;36m21\u001b[0m\u001b[1;33m)\u001b[0m\u001b[1;33m,\u001b[0m  \u001b[0mxlim\u001b[0m\u001b[1;33m(\u001b[0m\u001b[1;33m[\u001b[0m\u001b[1;36m0\u001b[0m\u001b[1;33m,\u001b[0m\u001b[1;36m100\u001b[0m\u001b[1;33m]\u001b[0m\u001b[1;33m)\u001b[0m\u001b[1;33m\u001b[0m\u001b[0m\n\u001b[0m\u001b[0;32m      3\u001b[0m \u001b[0mtitle\u001b[0m\u001b[1;33m(\u001b[0m\u001b[1;34m'Histogram of D'\u001b[0m\u001b[1;33m)\u001b[0m\u001b[1;33m\u001b[0m\u001b[0m\n",
      "\u001b[1;31mNameError\u001b[0m: name 'histogram' is not defined"
     ]
    }
   ],
   "source": [
    "%plot -s 560,420\n",
    "histogram(dh,21),  xlim([0,100])\n",
    "title('Histogram of D')"
   ]
  },
  {
   "cell_type": "markdown",
   "metadata": {},
   "source": [
    "## 2.4. Example in 2D\n",
    "\n",
    "- [Online tutorial](http://studentdavestutorials.weebly.com/recursive-bayesian-estimation-with-matlab-code.html)"
   ]
  },
  {
   "cell_type": "code",
   "execution_count": null,
   "metadata": {
    "collapsed": false
   },
   "outputs": [],
   "source": [
    "%%html\n",
    "<iframe width=\"560\" height=\"315\" \n",
    "src=\"https://www.youtube.com/embed/qsLF3KgavJk\" frameborder=\"0\" allowfullscreen>\n",
    "</iframe>"
   ]
  },
  {
   "cell_type": "code",
   "execution_count": null,
   "metadata": {
    "collapsed": false
   },
   "outputs": [],
   "source": [
    "%%html\n",
    "<iframe width=\"560\" height=\"315\" \n",
    "src=\"https://www.youtube.com/embed/dhsK-mRzxFw\" frameborder=\"0\" allowfullscreen>\n",
    "</iframe>"
   ]
  },
  {
   "cell_type": "markdown",
   "metadata": {},
   "source": [
    "__iSystems Demo__\n",
    "\n",
    "<img src=\"./image_files/recurrisveBayesian_1.gif\" width = 800>"
   ]
  },
  {
   "cell_type": "code",
   "execution_count": null,
   "metadata": {
    "collapsed": false
   },
   "outputs": [],
   "source": [
    "%%javascript\n",
    "$.getScript('https://kmahelona.github.io/ipython_notebook_goodies/ipython_notebook_toc.js')"
   ]
  }
 ],
 "metadata": {
  "kernelspec": {
   "display_name": "Python 3",
   "language": "python",
   "name": "python3"
  },
  "language_info": {
   "codemirror_mode": {
    "name": "ipython",
    "version": 3
   },
   "file_extension": ".py",
   "mimetype": "text/x-python",
   "name": "python",
   "nbconvert_exporter": "python",
   "pygments_lexer": "ipython3",
   "version": "3.5.2"
  }
 },
 "nbformat": 4,
 "nbformat_minor": 0
}
