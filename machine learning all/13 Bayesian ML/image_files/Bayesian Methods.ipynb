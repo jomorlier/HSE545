{
 "cells": [
  {
   "cell_type": "markdown",
   "metadata": {},
   "source": [
    "<font size='6'><b>Bayesian Methods</b></font><br><br>\n",
    "\n",
    "<table style=\"border-style: hidden; border-collapse: collapse;\" width = \"80%\"> \n",
    "    <tr style=\"border-style: hidden; border-collapse: collapse;\">\n",
    "        <td width = 50% style=\"border-style: hidden; border-collapse: collapse;\">\n",
    "\n",
    "        </td>\n",
    "        <td width = 30%>\n",
    "        David Rosenberg<br>New York University<br>April 22, 2015\n",
    "        </td>\n",
    "    </tr>\n",
    "</table>\n",
    "\n",
    "Table of Contents\n",
    "<div id=\"toc\"></div>"
   ]
  },
  {
   "cell_type": "code",
   "execution_count": 1,
   "metadata": {
    "collapsed": true
   },
   "outputs": [],
   "source": [
    "import numpy as np\n",
    "import matplotlib.pyplot as plt\n",
    "from scipy.special import *\n",
    "\n",
    "% matplotlib inline"
   ]
  },
  {
   "cell_type": "markdown",
   "metadata": {},
   "source": [
    "# Frequentist of \"Classical\" Statistics\n",
    "\n",
    "- Probability model with parameter $\\theta \\in \\Theta$\n",
    "$$\\{ p(y;\\theta \\mid \\theta \\in \\Theta \\}, $$\n",
    "where $p(y;\\theta)$ is either a PDF or a PMF.\n",
    "\n",
    "- Assume that $p(y;\\theta)$ governs the world we are observing.\n",
    "- In **frequentist statistics**, the **parameter** $\\theta$ is a\n",
    "    - **fixed constant** (i.e. not random) and is\n",
    "    - **unknown** to us.\n",
    "- If we knew $\\theta$, there would be no need for statistics.\n",
    "- Instead of $\\theta$, we have a **sample** $\\mathcal{D} = \\{ y1, \\cdots ,y_n \\}$ i.i.d. $p(y;\\theta).$\n",
    "- Statistics is about how to use $\\mathcal{D}$ in place of $theta$."
   ]
  },
  {
   "cell_type": "markdown",
   "metadata": {},
   "source": [
    "# Point Estimation\n",
    "\n",
    "- One type of statistical problem is **point estimation**.\n",
    "- A **statistic** $s = s(\\mathcal{D})$ is any function of the data.\n",
    "- A statistic $\\hat \\theta = \\hat \\theta (\\mathcal{D})$ is a **point estimator** if $\\hat \\theta \\approx \\theta$.\n",
    "- Desirable statistical properties of point estimators:\n",
    "    - **Consistency:** As data size $n \\rightarrow \\infty$, we get $\\hat \\theta \\rightarrow \\theta$.\n",
    "    - **Efficiency:** (Roughly speaking) For large $n, \\hat \\theta$ achieves accuracy at least as good as any other estimator.\n",
    "    - e.g. **maximum likelihood estimation** is consistent and efficient under reasonable conditions.\n",
    "- In frequentist statistics, you can make up any estimator you want.\n",
    "    - Justify its use by showing it has desirable properties."
   ]
  },
  {
   "cell_type": "markdown",
   "metadata": {},
   "source": [
    "# Bayesian Statistics\n",
    "\n",
    "- Major viewpoint change In **Baysian statistics:**\n",
    "    - parameter $\\theta \\in \\Theta$ is a **random variable**.\n",
    "- New ingredient: the prior distribution:\n",
    "    - a distribution on parameter space $\\Theta$.\n",
    "    - Reflects our belief about $\\theta$.\n",
    "    - Must be chosen before seeing any data."
   ]
  },
  {
   "cell_type": "markdown",
   "metadata": {},
   "source": [
    "# The Bayesian Method\n",
    "\n",
    "- Define the modelL\n",
    "    - Choose a distribution $p(\\theta)$, called the **prior distribution**.\n",
    "    - Choose a probability model or \"**likelihood model**\", now written as:\n",
    "$$\\{ p(y \\mid \\theta) \\mid \\theta \\in \\Theta \\}.$$\n",
    "- After observing $\\mathcal{D}$, compute the **posterior distribution** $p(\\theta \\mid\\mathcal{D})$.\n",
    "- Decide the **action** based on $p(\\theta \\mid \\mathcal{D})$."
   ]
  },
  {
   "cell_type": "markdown",
   "metadata": {},
   "source": [
    "# The Posterior Distribution\n",
    "\n",
    "- By Bayes rule, can write the posterior distribution as\n",
    "$$p(\\theta \\mid \\mathcal{D}) = \\frac{p(\\mathcal{D} \\mid \\theta) \\ p(\\theta)}{p(\\mathcal{D})}$$\n",
    "- **likelihood:** $p(\\theta)$\n",
    "- **prior:** $p(\\theta)$\n",
    "- **marginal likelihood:** $p(\\mathcal{D})$.\n",
    "- Note: $p(\\mathcal{D})$ is just a normalizaion constant for $p(\\theta \\mid \\mathcal{D})$. Can write\n",
    "$$p(\\theta \\mid \\mathcal{D}) \\sim p(\\mathcal{D} \\mid \\theta) \\ p(\\theta).$$"
   ]
  },
  {
   "cell_type": "markdown",
   "metadata": {},
   "source": [
    "# Recap and Interpretation\n",
    "- Prior represents belief about $\\theta$ before observing data $\\mathcal{D}$.\n",
    "- Posterior represents the rationally “updated” beliefs after seeing $\\mathcal{D}$.\n",
    "- All inferences and action-taking are based on the posterior distribution.\n",
    "- In the Bayesian approach,\n",
    "    - No issue of “choosing a procedure” or justifying an estimator.\n",
    "    - Only choices are the **prior** and the **likelihood model**.\n",
    "    - For decision making, need a **loss function**.\n",
    "    - Everything after that is **computation**.\n"
   ]
  },
  {
   "cell_type": "markdown",
   "metadata": {},
   "source": [
    "# Example: Coin Flipping\n",
    "- Suppose we have a coin, possibly biased\n",
    "$$\\mathbb{P}(Heads \\mid \\theta) = \\theta.$$\n",
    "- **Parameter space** $\\theta \\in \\Theta = [0, 1]$\n",
    "- **Prior distribution:** $\\theta \\sim Beta(\\theta \\mid 2, 2).$"
   ]
  },
  {
   "cell_type": "code",
   "execution_count": 29,
   "metadata": {
    "collapsed": false
   },
   "outputs": [
    {
     "data": {
      "image/png": "[encoded data removed]",
      "text/plain": [
       "<matplotlib.figure.Figure at 0x169d8eea7b8>"
      ]
     },
     "metadata": {},
     "output_type": "display_data"
    }
   ],
   "source": [
    "def Beta(theta, a, b):\n",
    "    val = gamma(a+b)/(gamma(a)*gamma(b)) * theta**(a-1) * (1-theta)**(b-1)\n",
    "    return val\n",
    "\n",
    "plt.plot(np.arange(0, 1, 0.01),\n",
    "         [Beta(theta, 2, 2) for theta in np.arange(0, 1, 0.01)], 'r')\n",
    "plt.grid(True)\n",
    "plt.axis('tight')\n",
    "plt.xlabel(r'$\\theta$')\n",
    "plt.ylabel(r'$p(\\theta)$')\n",
    "plt.title(r'$Prior: Beta(\\mu \\mid 2,2)$')\n",
    "plt.show()"
   ]
  },
  {
   "cell_type": "markdown",
   "metadata": {},
   "source": [
    "- Next, we gather some data $\\mathcal{D} = \\{H,H,T,T,T,T,T,H,\\cdots,T\\} :$\n",
    "- Heads: 75 $\\quad$ Tails: 60\n",
    "    - $\\hat \\theta_{MLE} = \\frac{75}{75+60} \\approx 0.556$\n",
    "- **Posterior distribution:** $\\theta \\mid \\mathcal{D} \\sim Beta(\\theta \\mid 77, 62):$"
   ]
  },
  {
   "cell_type": "code",
   "execution_count": 31,
   "metadata": {
    "collapsed": false
   },
   "outputs": [
    {
     "data": {
      "image/png": "[encoded data removed]",
      "text/plain": [
       "<matplotlib.figure.Figure at 0x169d8b443c8>"
      ]
     },
     "metadata": {},
     "output_type": "display_data"
    }
   ],
   "source": [
    "plt.plot(np.arange(0, 1, 0.01),\n",
    "         [Beta(theta, 77, 62) for theta in np.arange(0, 1, 0.01)], 'r')\n",
    "plt.grid(True)\n",
    "plt.axis('tight')\n",
    "plt.xlabel(r'$\\theta$')\n",
    "plt.ylabel(r'$p(\\theta)$')\n",
    "plt.title(r'$Posterior: Beta(\\mu \\mid 77,62)$')\n",
    "plt.show()"
   ]
  },
  {
   "cell_type": "markdown",
   "metadata": {},
   "source": [
    "# What to do with the Posterior Distribution?\n",
    "\n",
    "- Look at it.\n",
    "- xtract a point estimate of $\\theta$ (e.g. mean or mode of posterior).\n",
    "- Extract \"credible set\" for $\\theta$ (a Bayesian confidence interval).\n",
    "    - e.g. Interval $[a,b]$ is a 95% **credible set** if\n",
    "$$\\mathbb{P} (\\theta \\in [a,b] \\mid D) \\geqslant 0.95$$\n",
    "- The most “Bayesian” approach is **Bayesian decision theory:**\n",
    "    - Choose a loss function.\n",
    "    - Find action minimizing \"posterior risk\""
   ]
  },
  {
   "cell_type": "markdown",
   "metadata": {},
   "source": [
    "# Bayesian Decision Theory\n",
    "\n",
    "- Ingredients:\n",
    "    - **Action space** $\\mathcal{A}$\n",
    "    - **Parameter space** $\\Theta$\n",
    "    - **Loss function:** $\\mathcal{l}:\\mathcal{A}\\times \\Theta \\rightarrow \\mathbf{R}$\n",
    "    - **Prior:** Distribution $p(\\theta)$ on $\\Theta$.\n",
    "- The **posterior risk** of an action $a \\in \\mathcal{A}$ is\n",
    "    $$\\begin{array}{ll} r(a) & := & \\mathbb{E}[l(\\theta, a) \\mid \\mathcal{D}] \\\\ & = & \\int l(\\theta, a) \\ p(\\theta \\mid \\mathcal{D}) \\ d\\theta \\end{array} $$\n",
    "    - It's the **expected loss under the posterior**.\n",
    "- A **Bayes action** $a^*$ is an action that minimizes posterior risk:\n",
    "$$r(a^*) = \\min_{a \\in \\mathcal{A}} r(a) $$"
   ]
  },
  {
   "cell_type": "markdown",
   "metadata": {},
   "source": [
    "# Bayesian Point Estimation\n",
    "\n",
    "- General Setup:\n",
    "    - Data $\\mathcal{D}$ generated by $p(y \\mid \\theta)$, for unknown $\\theta \\in \\Theta$.\n",
    "    - Want to produce a **point estimate** for $\\theta$.\n",
    "- Choose the following:\n",
    "    - **Loss** $l(\\hat \\theta, \\theta) = \\left( \\theta - \\hat \\theta \\right)^2$\n",
    "    - **Prior** $p(\\theta)$ on $\\Theta$.\n",
    "- Find **action** $\\hat \\theta \\in \\Theta$ that minimizes **posterior risk:**\n",
    "$$\\begin{array}{ll} r(\\hat \\theta) & = & \\mathbb{E} \\left[ \\left( \\theta - \\hat \\theta \\right]^2 \\mid \\mathcal{D} \\right] \\\\ & = & \\int \\left(\\theta - \\hat \\theta \\right)^2 \\ p(\\theta \\mid \\mathcal{D}) \\ d\\theta \\end{array}$$"
   ]
  },
  {
   "cell_type": "markdown",
   "metadata": {},
   "source": [
    "# Bayesian Point Estimation: Square Loss\n",
    "\n",
    "- Find **action** $\\hat \\in \\Theta$ that minimizes **posterior risk**\n",
    "$$r(\\hat \\theta) = \\int \\left( \\theta - \\hat \\theta \\right)^2 \\ p(\\theta \\mid \\mathcal{D} \\ d\\theta$$\n",
    "- Differentiate:\n",
    "$$\\begin{array}{ll} {dr(\\hat \\theta) \\over d\\hat \\theta} & = & - \\int 2\\left( \\theta - \\hat \\theta \\right) \\ p(\\theta \\mid \\mathcal{D}) \\ d\\theta \\\\ & = & -2 \\int \\theta p(\\theta \\mid \\mathcal{D}) \\ d\\theta + 2\\hat \\theta \\int p(\\theta \\mid \\mathcal{D}) \\ d\\theta \\\\ & = & -2 \\int \\theta p(\\theta \\mid \\mathcal{D}) \\ d\\theta \\end{array} $$"
   ]
  },
  {
   "cell_type": "markdown",
   "metadata": {},
   "source": [
    "# Bayesian Point Estimation: Square Loss\n",
    "\n",
    "- Derivative of posterior risk is\n",
    "$${dr(\\hat \\theta) \\over d\\hat \\theta} = -2\\int \\theta \\ p(\\theta \\mid \\mathcal{D}) \\ d\\theta + 2\\hat \\theta.$$\n",
    "- First order condition ${dr(\\hat \\theta) \\over d\\hat \\theta} = 0$ gives\n",
    "$$\\begin{array}{ll} \\hat \\theta & = & \\int \\theta \\ p(\\theta \\mid \\mathcal{D}) \\ d\\theta \\\\ & = & \\mathbb{E} [\\theta \\mid \\mathcal{D}] \\end{array} $$\n",
    "- **Bayes action** for **square loss** is the posterior mean."
   ]
  },
  {
   "cell_type": "markdown",
   "metadata": {},
   "source": [
    "# Bayesian Point Estimation: Absolute Loss\n",
    "\n",
    "- **Loss:** $l(\\theta,\\hat \\theta) = \\left| \\ \\theta - \\hat \\theta \\ \\right|$\n",
    "- **Bayes action** for **absolute loss** is the **posterior median.**\n",
    "    - That is, the median of the distribution $p(\\theta \\mid \\mathcal{D})$.\n",
    "    - Show with approach similar to what was used in Homework #1."
   ]
  },
  {
   "cell_type": "markdown",
   "metadata": {},
   "source": [
    "# Bayesian Point Estimation: Zero-One Loss\n",
    "\n",
    "- Suppose $\\Theta$ is discrete (e.g. $\\Theta = \\{ english, french \\}$)\n",
    "- **Zero-one loss:** $l(\\theta, \\hat \\theta) = \\mathbf{1}(\\theta \\ne \\hat \\theta )$\n",
    "- **Posterior risk:**\n",
    "$$\\begin{array}{ll} r(\\hat \\theta) & = & \\mathbb{E} \\left[ \\mathbf{1} (\\theta \\ne \\hat \\theta ) \\mid \\mathcal{D} \\right] \\\\ & = & \\mathbb{P} \\left( \\theta \\ne \\hat \\theta \\mid \\mathcal{D} \\right ) \\\\ & = & \\mathbf{1} - \\mathbb{P} \\left( \\theta = \\hat \\theta \\mid \\mathcal{D} \\right) \\\\ & = & \\mathbf{1} - p(\\hat \\theta \\mid \\mathcal{D}) \\end{array} $$\n",
    "- **Bayes action** is\n",
    "$$ \\hat \\theta = \\arg \\max_{\\theta \\in \\Theta} \\ p(\\theta \\mid \\mathcal{D} )$$\n",
    "- This $\\hat \\theta$ is called the **maximum a posteriori (MAP)** estimate.\n",
    "- The MAP estimate is the mode of the posterior distribution."
   ]
  },
  {
   "cell_type": "markdown",
   "metadata": {},
   "source": [
    "# Bayesian Point Estimation: Custom Loss Function\n",
    "\n",
    "- Suppose $\\Theta$ is discrete (e.g. $\\Theta = \\{english, french\\}$)\n",
    "- **Loss function $l(\\hat \\theta, \\theta)$:**\n",
    "$$\\begin{array}{ll} l(french, english) & = & 10 \\\\ l(english, french) & = & 1 \\\\ l(english, english) & = & 0 \\\\ l(french, french) & = & 0 \\end{array}$$\n",
    "- **Posterior risk:**\n",
    "$$\\begin{array}{ll} r(french) & = & 10p(english \\mid \\mathcal{D}) + 0p(french \\mid \\mathcal{D}) \\\\ r(english) & = & 1p(french \\mid \\mathcal{D}) + 0p(english \\mid \\mathcal{D}) \\end{array}$$\n",
    "- **Bayes action** is french iff $r(french) > r(english)$, i.e. when\n",
    "$${p(english \\mid \\mathcal{D}) \\over p(french \\mid \\mathcal{D})} > {1 \\over 10}.$$"
   ]
  },
  {
   "cell_type": "markdown",
   "metadata": {},
   "source": [
    "# Bayesian Conditional Models\n",
    "\n",
    "- Input space $\\mathcal{X} = \\mathbf{R}^d \\quad$ Output space $\\mathcal{Y} = \\mathbf{R}$\n",
    "- **Conditional probability model**, or **likelihood model:**\n",
    "$$\\{ p(y \\mid  x, \\theta) \\mid \\theta \\in \\Theta \\}$$\n",
    "    - Conditional here refers to the conditioning on the input $x$.\n",
    "    - Means that $x$'s are known and not governed by our probability model."
   ]
  },
  {
   "cell_type": "markdown",
   "metadata": {},
   "source": [
    "# Gaussian Regression Model\n",
    "\n",
    "- Input space $\\mathcal{X} = \\mathbf{R}^d \\quad$ Output space $\\mathcal{Y} = \\mathbf{R}$\n",
    "- **Conditional probability model**, or **likelihood model:**\n",
    "$$y \\mid x, \\theta \\sim \\mathcal{N} (\\theta^T x, \\sigma^2),$$\n",
    "for some known $\\sigma^2 > 0$\n",
    "- **Parameter space** $\\Theta = \\mathbf{R}^d$\n",
    "- **Data:** $mathcal{D} = \\{ (x_1, y_1), \\cdots, (x_n, y_n)\\}$\n",
    "    - Write $y = (y_1, \\cdots, y_n)$ and $x = (x_1, \\cdots, x_n)$.\n",
    "    - Assume $y_i$'s are **conditionally independent**, given $x$ and $\\theta$."
   ]
  },
  {
   "cell_type": "markdown",
   "metadata": {
    "collapsed": true
   },
   "source": [
    "# Gaussian Likelihood\n",
    "\n",
    "- The ** likelihood** of $\\theta \\in \\Theta$ for the data $\\mathcal{D}$ is\n",
    "$$\\begin{array}{ll} p(y \\mid x, \\theta) & = & \\prod_{i=1}^n p(y_i \\mid x_i, \\theta) \\quad \\text{by conditional independence.} \\\\ & = & \\prod_{i=1}^n \\left[ {1 \\over \\sigma \\sqrt{2\\pi}} \\exp{\\left( -{(y_i - \\theta^T x_i)^2 \\over 2\\sigma^2}\\right) } \\right] \\end{array}$$\n",
    "- Recall from the GLM lecture$^1$ that the **MLE** is\n",
    "$$\\begin{array}{ll} \\theta_{MLE}^* & = & \\arg \\max_{\\theta \\in \\mathbf{R}^d} p(y \\mid x, \\theta) \\\\ & = & \\arg \\min_{\\theta \\in \\mathbf{R}^d} \\sum_{i=1}^n (y_i - \\theta^T x_i)^2 \\end{array}$$"
   ]
  },
  {
   "cell_type": "markdown",
   "metadata": {},
   "source": [
    "# Priors and Posteriors\n",
    "\n",
    "- Choose a Gaussian prior distribution p(θ) on Θ:\n",
    "$$\\Theta \\sim \\mathcal{N}(0,\\Sigma_0)$$\n",
    "for some **covariance matrix** $\\Sigma_0 \\succ 0$ (i.e. $\\Sigma_0$ is spd).\n",
    "- **Posterior distribution**\n",
    "$$\\begin{array}{ll} p(\\theta \\mid \\mathcal{D}) & = & p(\\theta \\mid x, y) \\\\\n",
    "& = & p(y \\mid x, \\theta) \\ p(\\theta) / p(y) \\\\\n",
    "& \\propto & \\prod_{i=1}^n \\left[{1 \\over \\sigma \\sqrt{2\\pi}} \\exp{\\left( -{(y_i - \\theta^T x_i)^2 \\over 2 \\sigma^2}\\right)} \\right] \\ \\text{(likelihood)} \\\\\n",
    "& & \\ \\times \\left\\vert 2\\pi\\Sigma_0 \\right\\vert^{-1/2} \\exp{\\left( -{1 \\over 2} \\theta^T \\Sigma_0^{-1} \\theta \\right)} \\ \\text{(prior)}\n",
    "\\end{array}$$"
   ]
  },
  {
   "cell_type": "markdown",
   "metadata": {},
   "source": [
    "# Example in 1-Dimension\n",
    "\n",
    "- Input space $\\mathcal{X} = [-1, 1] \\quad$ Output space $\\mathcal{Y} = \\mathbf{R}$\n",
    "- Basic Gaussian regression model:\n",
    "$$y = \\omega_0 + \\omega_1 x + \\epsilon,$$\n",
    "where $\\epsilon \\sim \\mathcal{N}(0,0.2^2)$.\n",
    "- Written another way, the **likelihood model** is\n",
    "$$y \\mid x, \\theta = (\\omega_0, \\omega_1) \\sim \\mathcal{N}(\\omega_0 + \\omega_1 x, 0.2^2).$$\n",
    "- **Prior distribution:** $\\theta = (\\omega_0, \\omega_1) \\sim \\mathcal{N}(0, {1 \\over 2}I)$\n",
    "<img src = \"./image_files/prior_posterior1.png\", width = 300>\n",
    "- On right, plots of $y = \\omega_0 + \\omega_1 x$ for random $(\\omega_0, \\omega_1) \\sim p(\\theta) = \\mathcal{N}(0, {1 \\over 2}I).$\n",
    "- Consider $y$ and $x$ related as $y = \\omega_0 + \\omega_1 x + \\epsilon$, where $\\epsilon \\sim \\mathcal{N}(0, 0.2^2)$.\n",
    "- **Conditional probability model**, or **likelihood model:**\n",
    "$$y \\mid x, \\theta = (\\omega_0, \\omega_1) \\sim \\mathcal{N}(\\omega_0 + \\omega_1 x 0.2^2).$$\n",
    "- **Prior distribution:** $\\theta = (\\omega_0, \\omega_1) \\sim \\mathcal{N}(0, {1 \\over 2}I)$\n",
    "<img src = \"./image_files/prior_posterior1.png\", width = 300>\n",
    "- On right, plots of $y = \\omega_0 + \\omega_1 x$ for random $(\\omega_0, \\omega_1) \\sim p(\\theta) = \\mathcal{N}(0, {1 \\over 2}I).$"
   ]
  },
  {
   "cell_type": "markdown",
   "metadata": {},
   "source": [
    "# Example in 1-Dimension: 1 Observation\n",
    "\n",
    "<img src = \"./image_files/prior_posterior2.png\", width = 300>\n",
    "- On left, the white cross indicates the true parameter values.\n",
    "- On right, the blue circle indicates the training observation."
   ]
  },
  {
   "cell_type": "markdown",
   "metadata": {},
   "source": [
    "# Example in 1-Dimension: 2 and 20 Observations\n",
    "\n",
    "<img src = \"./image_files/prior_posterior3.png\", width = 300>"
   ]
  },
  {
   "cell_type": "markdown",
   "metadata": {},
   "source": [
    "# Predictive Distribution\n",
    "\n",
    "- Given a new input point $x_{new}$, how to predict $y_{new}$?\n",
    "- **Predictive distribution**\n",
    "$$\\begin{array}{ll} & & p(y_{new} \\mid x_{new}, \\mathcal{D}) \\\\\n",
    "& = & \\int p(y_{new} \\mid x_{new}, \\theta, \\mathcal{D}) \\ p(\\theta \\mid \\mathcal{D}) \\ d\\theta \\\\\n",
    "& = & \\int p(y_{new} \\mid x_{new}, \\theta) \\ p(\\theta \\mid \\mathcal{D}) \\ d\\theta \\\\\n",
    "\\end{array}$$\n",
    "- For Gaussian regression, posterior and predictive distributions have closed forms."
   ]
  },
  {
   "cell_type": "markdown",
   "metadata": {},
   "source": [
    "# Closed Form for Posterior\n",
    "\n",
    "- Model:\n",
    "$$\\begin{array}{ll} \\theta & \\sim & \\mathcal{N}(0, \\Sigma_0) \\\\\n",
    "y_i \\mid x, \\theta & i.i.d. & \\mathcal{N}(\\theta^T x_i, \\sigma^2) \\end{array}$$\n",
    "- Design matrix $X \\quad$ Response column vector $y$\n",
    "- **Posterior distribution is a Gaussian distribution:**\n",
    "$$\\begin{array}{ll} \\theta \\mid \\mathcal{D} & \\sim & \\mathcal{N}(\\mu_P, \\Sigma_P) \\\\\n",
    "\\Sigma_P & = & (\\sigma^{-2} X^T X + \\Sigma_0^{-1})^{-1} \\\\\n",
    "\\mu_P & = & \\sigma^{-2} \\sigma_P X^T y\n",
    "\\end{array}$$\n",
    "- **Posterior Variance** $\\Sigma_P$ gives us a natural **uncertainty measure.**\n",
    "- **Posterior distribution is a Gaussian distribution:**\n",
    "$$\\begin{array}{ll}\n",
    "\\theta \\mid \\mathcal{D} & \\sim & \\mathcal{N}(\\mu_P, \\Sigma_P) \\\\\n",
    "\\Sigma_P & = & (\\sigma^{-2} X^T X + \\Sigma_0^{-1})^{-1} \\\\\n",
    "\\mu_P & = & \\sigma^{-2} \\Sigma_P X^T y\n",
    "\\end{array}$$\n",
    "- Look familiar?\n",
    "- For the prior variance $\\Sigma_0 = {\\sigma^2 \\over \\lambda}l$, we get\n",
    "$$\\mu_P = (X^T X + \\lambda I)^{-1} X^T y,$$\n",
    "which is of course the ridge regression solution."
   ]
  },
  {
   "cell_type": "markdown",
   "metadata": {},
   "source": [
    "# Posterior Mean and Posterior Mode (MAP)\n",
    "\n",
    "- **Posterior density for** $\\Sigma_0 = {\\sigma^2 \\over \\lambda}I$:\n",
    "$$p(\\theta \\mid \\mathcal{D}) \\propto \\exp{\\left( - {\\lambda \\over 2\\sigma^2} \\lVert \\theta \\rVert^2 \\right)} \\prod_{i=1}^n \\exp{\\left( - {(y_i - \\theta^T x_i)^2 \\over 2\\sigma^2}\\right)}$$\n",
    "- **To find MAP, sufficient to minimize the log posterior:**\n",
    "$$\\begin{array}{ll}\n",
    "\\hat \\theta_{MAP} & = & \\arg \\min_{\\theta \\in \\mathbf{R}^d} [-\\log{p(\\theta \\mid \\mathcal{D}}] \\\\\n",
    "& = & \\arg \\min_{\\theta \\in \\mathbf{R}^d} \\prod_{i=1}^n (y_i - \\theta^T x_i)^2 + \\lambda \\lVert \\theta \\rVert^2\n",
    "\\end{array}$$\n",
    "- Which is the ridge regression objective."
   ]
  },
  {
   "cell_type": "markdown",
   "metadata": {},
   "source": [
    "# Closed Form for Predictive Distribution\n",
    "\n",
    "- **Model:**\n",
    "$$\\begin{array}{ll}\n",
    "\\theta & \\sim & \\mathcal{N}(0, \\Sigma_0) \\\\\n",
    "y_i \\mid x, \\theta & i.i.d. & \\mathcal{N}(\\theta^T x_i, \\sigma^2)\n",
    "\\end{array}$$\n",
    "- **Predictive Distribution**\n",
    "$$p(y_{new} \\mid x_{new}, \\mathcal{D}) = \\int p(y_{new} \\mid x_{new}, \\theta) \\ p(\\theta \\mid \\mathcal{D}) \\ d\\theta$$\n",
    "- **Closed form:**\n",
    "$$\\begin{array}{ll}\n",
    "y_{new} \\mid x_{new}, \\mathcal{D} & \\sim & \\mathcal{N}(\\nu_{new}, \\sigma_{new} \\\\\n",
    "\\mu_{new} & = & \\mu_P^T x_{new} \\\\\n",
    "\\sigma_{new} & = & x_{new}^T \\Sigma_P x_{new} + \\sigma^2\n",
    "\\end{array}$$"
   ]
  },
  {
   "cell_type": "markdown",
   "metadata": {},
   "source": [
    "# Predictive Distributions\n",
    "\n",
    "- With predictive distributions, can draw error bands:\n",
    "<img src = \"./image_files/predictive.png\", width = 300>"
   ]
  },
  {
   "cell_type": "markdown",
   "metadata": {},
   "source": [
    "# Bayesian Predictive Distributions vs GLMs\n",
    "- Gaussian regression with MLE, from our GLM lecture:\n",
    "    - produces a Gaussian for each input $x$.\n",
    "$$x \\mapsto \\mathcal{N}(x^T \\theta_{MLE}, \\sigma^2)$$\n",
    "- Bayesian predictive distributions:\n",
    "    - produce a Gaussian for each input $x$\n",
    "$$x \\mapsto \\mathcal{N} \\left( \\theta_{ridge}^T x, x_{new}^T \\Sigma_P x_{new} + \\sigma^2 \\right)$$\n",
    "- In Bayesian version\n",
    "    - equivalent to using a regularized least squares fit\n",
    "    - variance has additional piece from uncertainty in $\\theta$"
   ]
  },
  {
   "cell_type": "markdown",
   "metadata": {},
   "source": [
    "# Coin Flipping\n",
    "\n",
    "- **Parameter space $\\theta \\in \\Theta = [0, 1]$:**\n",
    "$$\\mathbb{P}(Heads \\mid \\theta) = \\theta.$$\n",
    "- Data $\\mathcal{D} = = {H,H,T,T,T,T,T,H,\\cdots,T}$\n",
    "    - $n_h$: number of heads\n",
    "    - $n_t$: number of tails\n",
    "- **Conditional Independence Assumption:**\n",
    "    - Conditioned on $\\theta$, repeated flips are independent\n",
    "- **Likelihood model** (Bernoulli Distribution):\n",
    "$$p(\\mathcal{D} \\mid \\theta) = \\theta^{n_h}(1 - \\theta)^{n_t}$$\n",
    "    - (probability of getting the flips in the order they were received)"
   ]
  },
  {
   "cell_type": "markdown",
   "metadata": {},
   "source": [
    "# Coin Flipping: Beta Prior\n",
    "\n",
    "- **Prior:**\n",
    "$$\\begin{array}{ll}\n",
    "\\theta \\sim Beta(h,t)\n",
    "p(\\theta) \\propto \\theta^{h-1}(1-\\theta)^{t-1}\n",
    "\\end{array}\n",
    "$$\n",
    "- **Mean of Beta distribution:**\n",
    "$$\\mathbb{E} \\theta = {h \\over h + t}$$\n",
    "- Interpret h and t as the number of heads/tails received in a prior experiment.\n",
    "    - Then $\\mathbb{E}\\theta$ is the obvious MLE and plug-in estimate for $\\theta$.\n",
    "- For fixed $\\mathbb{E}\\theta$, $Var(\\theta)$ decreases as number of flips $n = h + t$ grows."
   ]
  },
  {
   "cell_type": "markdown",
   "metadata": {},
   "source": [
    "# Coin Flipping: Posterior\n",
    "\n",
    "- **Prior:**\n",
    "$$\\begin{array}{ll}\n",
    "\\theta & \\sim & Beta(h, t) \\\\\n",
    "p(\\theta) & \\propto & \\theta^{h-1}(1-\\theta)^{h-1}\n",
    "\\end{array}\n",
    "$$\n",
    "- **Likelibood model:**\n",
    "$$p(\\mathcal{D} \\mid \\theta) = \\theta^{n_h} (1-\\theta)^{n_t}$$\n",
    "- **Posterior density:**\n",
    "$$\\begin{array}{ll}\n",
    "p(\\theta \\mid \\mathcal{D}) & \\propto & p(\\theta) \\ p(\\mathcal{D} \\mid \\theta) \\\\\n",
    "& \\propto & \\theta^{h-1} (1-\\theta)^{t-1} \\times \\theta^{n_h} (1-\\theta)^{n_t} \\\\\n",
    "& = & \\theta^{h-1+n_h} (1-\\theta)^{t-1+n_t}\n",
    "\\end{array}\n",
    "$$"
   ]
  },
  {
   "cell_type": "markdown",
   "metadata": {},
   "source": [
    "# Posterior is Beta\n",
    "\n",
    "- **Prior**\n",
    "$$\\begin{array}{ll}\n",
    "\\theta & \\sim & Beta(h, t) \\\\\n",
    "p(\\theta) & \\propto & \\theta^{h-1} (1-\\theta)^{h-1}\n",
    "\\end{array}$$\n",
    "- **Posterior density:**\n",
    "$$p(\\theta \\mid \\mathcal{D}) \\propto \\theta^{h-1+n_h} (1-\\theta)^{t-1+n_t}$$\n",
    "- **So**\n",
    "$$\\theta \\mid \\mathcal{D} \\sim Beta(h+n_h, t+n_t)$$\n",
    "- It’s as though we continued our experiment by adding more flips."
   ]
  },
  {
   "cell_type": "markdown",
   "metadata": {},
   "source": [
    "# Conjugate Prior Examples\n",
    "\n",
    "- A prior is conjugate for a likelihood model if the posterior is in the same “family” as the prior.\n",
    "    - If prior is a beta distribution, and likelihood model is a Bernoulli distribution, then posterior is a beta distribution.\n",
    "        - Prior and posterior in the same family ⇒ **Beta is a conjugate prior for Bernoulli**\n",
    "    - If prior is a Gaussian distribution, and likelihood model is a Gaussian distribution, then posterior is a Gaussian distribution.\n",
    "        - Prior and posterior in the same family ⇒ **Gaussian is a conjugate prior for Gaussian**\n",
    "- Conjugacy of the prior is really a statement about the prior family."
   ]
  },
  {
   "cell_type": "markdown",
   "metadata": {},
   "source": [
    "# Conjugate Prior Family\n",
    "\n",
    "- Let $\\pi$ be a family of prior distributions on $\\Theta$.\n",
    "- Let $P$ be likelihood model with parameter space $\\Theta$.\n",
    "- We say that $\\pi$ **is conjugate to** $P$ if for any prior in $\\pi$, the posterior is always in $\\pi$.\n",
    "- Trivial Example:\n",
    "    - The family of all probability distributions is conjugate to any likelihood model.\n",
    "- Every exponential family has a nontrivial conjugate prior family. (KPM Section 9.2)"
   ]
  },
  {
   "cell_type": "markdown",
   "metadata": {},
   "source": [
    "# Naive Bayes: A Generative Model for Classification\n",
    "\n",
    "- $\\mathcal{X} = \\{ \\left( X_1, X_2, X_3, X_4 \\in \\{ 0, 1\\}^4 \\right) \\quad \\mathcal{Y} = \\{ 0, 1\\}$ be a class label.\n",
    "- Consider the Bayesian network depicted below:\n",
    "<img src = \"./image_files/naive.png\", width = 300>\n",
    "-  BN structure implies joint distribution factors as:\n",
    "$$p(x_1, x_2, x_3, x_4, y) = p(y) \\ p(x_1 \\mid y) \\ p(x_2 \\mid y) \\ p(x_3 \\mid y) \\ p(x_4 \\mid y)$$\n",
    "- Features $X_1, \\cdots, X_4$ are independent given the class label $Y$."
   ]
  },
  {
   "cell_type": "markdown",
   "metadata": {},
   "source": [
    "# Parameterized Expression for Joint Distribution\n",
    "\n",
    "- **Parameters:**\n",
    "$$\\mathbf{P}(Y=1)=\\theta_y \\qquad \\mathbf{P}(X_i=1 \\mid Y=1) = \\theta_{i1} \\qquad \\mathbf{P}(X_i=1 \\mid Y=0)=\\theta_{i0}$$\n",
    "- **Joint distribution** is\n",
    "$$\\begin{array}{ll}\n",
    "& & p(x_1, \\cdots, x_d, y) \\\\\n",
    "& = & p(y) \\prod_{i=1}^n p(x_i \\mid y) \\\\\n",
    "& = & (\\theta_y)^y (1-\\theta_y)^{1-y} \\times \\prod_{i=1}^n (\\theta_{i1}^{yx_i})(1-\\theta_{i1})^{y(1-x_i)} (\\theta_{i0}^{(1-y)x_i} (1-\\theta_{i0})^{(1-y)(1-x_i)}\n",
    "\\end{array}$$"
   ]
  },
  {
   "cell_type": "markdown",
   "metadata": {},
   "source": [
    "# Maximum Likelihood Estimators for Naive Bayes\n",
    "\n",
    "- Training set $\\mathcal{D} = \\{ (x^1, y^1), \\cdots, (x^n, y^n)\\}$.\n",
    "- Obvious “plug-in” estimators for the Naive Bayes model are also MLEs:\n",
    "$$\\begin{array}{ll}\n",
    "\\mathbb{P}(Y=1) & \\approx & \\hat \\theta_y & = & {1 \\over n} \\sum_{i=1}^n 1(y^i = 1) \\\\\n",
    "\\mathbb{P}(X_i = 1 \\mid Y = 1) & \\approx & \\hat \\theta_{i1} & = & {\\sum_{j=1}^n 1(y^j = 1 \\ \\text{and} \\ x_i^j = 1) \\over \\sum_{j=1}^n 1(y^j = 1)} \\\\\n",
    "\\mathbb{P}(X_i = 1 \\mid Y = 0) & = & \\hat \\theta_{i0} & = & {\\sum_{j=1}^n 1(y^j = 0 \\ \\text{and} \\ x_i^j = 1) \\over \\sum_{j=1}^n 1(y^j = 0)}\n",
    "\\end{array}$$"
   ]
  },
  {
   "cell_type": "markdown",
   "metadata": {},
   "source": [
    "# Example: SPAM Classification\n",
    "\n",
    "- Label $Y \\in \\mathcal{Y} = \\{SPAM, HAM\\}$.\n",
    "- Features $X_i \\in \\{ 0, 1\\}$.\n",
    "- Bag of words representation:\n",
    "$$X_i = 1(\\text{Email contains word \"Private_Jet\"})$$p\n",
    "- After parameter estimation, prediction done with\n",
    "$$p(SPAM \\mid x) \\propto p(SPAM) \\sum_{i=1}^d \\hat p(x_i \\mid SPAM)$$.\n",
    "- Each $\\hat p(x_i \\mid y)$ is the estimated probability that $x_i$ would be observed (or not) in a SPAM message.\n",
    "- Issue: What if we never see $X_1 = 1$ when $Y = SPAM$ in $\\mathcal{D}$?\n",
    "    - Then whenever we see $X_1 = 1$, we will predict $p(SPAM \\mid x) = 0$."
   ]
  },
  {
   "cell_type": "markdown",
   "metadata": {},
   "source": [
    "# The Zero Count Issue\n",
    "\n",
    "- If any conditional probabilities $\\mathbb{P} (X_i = x_i \\mid y)$ get estimated as 0,\n",
    "    - we'll predict 0 probability for some $y$ whenever $x_i$ is observed.\n",
    "- This is bad:\n",
    "    - Never want to predict probability 0 if something is possible.\n",
    "- Worse: This occurrence is not unusual at all for small sample sizes or rare features."
   ]
  },
  {
   "cell_type": "markdown",
   "metadata": {},
   "source": [
    "# Laplace Smoothing\n",
    "\n",
    "- One traditional fix to the 0 count issue is called **Laplace Smoothing.**\n",
    "- Idea is to add 1 to every empirical count.\n",
    "- To estimate $\\mathbb{P}(X_i = 1 \\mid Y = 1)$, use\n",
    "$$ \\hat \\theta_{i1} = {1 + \\sum_{j=1}^n 1(y^j = 1 \\ \\text{and} \\ x_i^j = 1) \\over 1+\\sum_{j=1}^n 1(y^j = 1)}$$\n",
    "- The added 1 is called a **pseudocount.**\n",
    "- Like assuming every outcome that can occur was observed at least once.\n",
    "- Seems to solve the problem – but is there a more principled approach?"
   ]
  },
  {
   "cell_type": "markdown",
   "metadata": {},
   "source": [
    "# Bayesian Naive Bayes\n",
    "- **Parameters:**\n",
    "$$ \\mathbb{P}(Y = 1) = \\theta_y \\qquad \\mathbb{P}(X_i = 1\\mid Y = 1) = \\theta_{i1} \\qquad \\mathbb{P} (X_i = 1 \\mid Y = 0) = \\theta_{i0}$$\n",
    "- Put a Beta prior distribution on each parameter.\n",
    "- **Option 1:** Use posterior mean as point estimate for each parameter, then continue as before.\n",
    "    - Laplace smoothing is a special case, in which priors are all $Beta(1,1)$.\n",
    "- **Option 2: Go full Bayesian.**\n",
    "    - No parameter estimates. Base everything on posterior $\\theta \\mid \\mathcal{D}$.\n",
    "- Predict with the predictive distribution:\n",
    "$$y \\mid x, \\mathcal{D}$$\n",
    "    - Recall, this is integrating out the parameter θ w.r.t. the posterior distribution."
   ]
  },
  {
   "cell_type": "code",
   "execution_count": 1,
   "metadata": {
    "collapsed": false
   },
   "outputs": [
    {
     "data": {
      "application/javascript": [
       "$.getScript('https://kmahelona.github.io/ipython_notebook_goodies/ipython_notebook_toc.js')"
      ],
      "text/plain": [
       "<IPython.core.display.Javascript object>"
      ]
     },
     "metadata": {},
     "output_type": "display_data"
    }
   ],
   "source": [
    "%%javascript\n",
    "$.getScript('https://kmahelona.github.io/ipython_notebook_goodies/ipython_notebook_toc.js')"
   ]
  }
 ],
 "metadata": {
  "kernelspec": {
   "display_name": "Python 3",
   "language": "python",
   "name": "python3"
  },
  "language_info": {
   "codemirror_mode": {
    "name": "ipython",
    "version": 3
   },
   "file_extension": ".py",
   "mimetype": "text/x-python",
   "name": "python",
   "nbconvert_exporter": "python",
   "pygments_lexer": "ipython3",
   "version": "3.6.0"
  }
 },
 "nbformat": 4,
 "nbformat_minor": 0
}
