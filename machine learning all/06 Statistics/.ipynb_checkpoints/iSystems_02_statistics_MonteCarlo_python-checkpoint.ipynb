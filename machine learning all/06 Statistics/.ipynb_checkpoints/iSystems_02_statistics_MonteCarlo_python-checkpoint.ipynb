{
 "cells": [
  {
   "cell_type": "code",
   "execution_count": 2,
   "metadata": {
    "collapsed": false
   },
   "outputs": [],
   "source": [
    "import numpy as np\n",
    "import matplotlib.pyplot as plt\n",
    "from scipy import stats, misc\n",
    "import numpy.matlib\n",
    "\n",
    "%matplotlib inline\n",
    "import warnings\n",
    "warnings.filterwarnings('ignore')"
   ]
  },
  {
   "cell_type": "markdown",
   "metadata": {
    "collapsed": true
   },
   "source": [
    "<font size=\"6\"><b>Statistical Thinking: Monte Carlo Simulation</b></font>\n",
    "\n",
    "Table of Contents\n",
    "<div id=\"toc\"></div>"
   ]
  },
  {
   "cell_type": "markdown",
   "metadata": {
    "slideshow": {
     "slide_type": "slide"
    }
   },
   "source": [
    "# 1. Illustrative Examples"
   ]
  },
  {
   "cell_type": "markdown",
   "metadata": {
    "slideshow": {
     "slide_type": "fragment"
    }
   },
   "source": [
    "## 1.1. Example: Probability of having head with a fair coin\n",
    "\n",
    "Head 1 and Tail 0"
   ]
  },
  {
   "cell_type": "code",
   "execution_count": 3,
   "metadata": {
    "collapsed": false,
    "slideshow": {
     "slide_type": "fragment"
    }
   },
   "outputs": [
    {
     "data": {
      "text/plain": [
       "0.56"
      ]
     },
     "execution_count": 3,
     "metadata": {},
     "output_type": "execute_result"
    }
   ],
   "source": [
    "numTrials = 100\n",
    "numH = 0.\n",
    "for i in range(0,numTrials):\n",
    "    flip = np.random.randint(2)\n",
    "    if flip == 1.:\n",
    "        numH = numH + 1.\n",
    "\n",
    "numH/numTrials"
   ]
  },
  {
   "cell_type": "markdown",
   "metadata": {
    "slideshow": {
     "slide_type": "slide"
    }
   },
   "source": [
    "## 1.2. Example: the expected number of trials upto the first hitting H\n",
    "\n",
    "$$\\text{coin}\n",
    "\\begin{cases}\n",
    "  H : \\frac{1}{2}\\\\\n",
    "  T : \\frac{1}{2}\n",
    "\\end{cases}\n",
    "$$\n",
    "\n",
    "Question: the expected number of trials upto the first hitting H ?\n",
    "\n",
    "$$\\begin{align*}\n",
    "1 \\quad & H & \\frac{1}{2}\\\\\n",
    "2 \\quad & TH & \\frac{1}{2} \\frac{1}{2}\\\\\n",
    "3 \\quad & TTH & \\frac{1}{2} \\frac{1}{2} \\frac{1}{2}\\\\\n",
    "& \\vdots & \n",
    "\\end{align*}\n",
    "\\quad \\quad \\quad  \\sum\\limits_{n=1}^{\\infty}n\\left(\\frac{1}{2}\\right)^n\n",
    "$$"
   ]
  },
  {
   "cell_type": "code",
   "execution_count": 4,
   "metadata": {
    "collapsed": false,
    "slideshow": {
     "slide_type": "fragment"
    }
   },
   "outputs": [
    {
     "data": {
      "text/plain": [
       "1.999959945678711"
      ]
     },
     "execution_count": 4,
     "metadata": {},
     "output_type": "execute_result"
    }
   ],
   "source": [
    "val = 0.\n",
    "for n in range(20):\n",
    "    val = val + n*(0.5)**n\n",
    "    \n",
    "val"
   ]
  },
  {
   "cell_type": "code",
   "execution_count": 5,
   "metadata": {
    "collapsed": false
   },
   "outputs": [
    {
     "data": {
      "text/plain": [
       "2.0099999999999998"
      ]
     },
     "execution_count": 5,
     "metadata": {},
     "output_type": "execute_result"
    }
   ],
   "source": [
    "numTrials = 1000\n",
    "\n",
    "NUM = np.zeros((1, numTrials))\n",
    "for i in range(0,numTrials):\n",
    "    num = 1.\n",
    "    while np.random.randint(2) != 0:\n",
    "        num = num + 1.\n",
    "    NUM[:, i] = num\n",
    "\n",
    "    \n",
    "np.mean(NUM)"
   ]
  },
  {
   "cell_type": "markdown",
   "metadata": {},
   "source": [
    "__Remark:__\n",
    "\n",
    "how to compute $\\sum\\limits_{n=1}^{\\infty}n\\left(\\frac{1}{2}\\right)^n = 1\\frac{1}{2}+2\\left(\\frac{1}{2}\\right)^2+3\\left(\\frac{1}{2}\\right)^3+\\cdots$\n",
    "\n",
    "$$\\begin{align*}\n",
    "\\frac{d}{dx}\\sum\\limits_{n=1}^{\\infty}\\left(1-x\\right)^{n+1} &= \\frac{d}{dx}\\frac{(1-x)^2}{1-(1-x)} = \\frac{d}{dx}\\frac{(1-x)^2}{x}\\\\\n",
    "\\sum\\limits_{n=1}^{\\infty}(n+1)(1-x)^n &= \\sum\\limits_{n=1}^{\\infty}n(1-x)^n + \\sum\\limits_{n=1}^{\\infty}(1-x)^n\\\\\n",
    "& = \\frac{(1-x)^2 + 2(1-x)x}{x^2}\n",
    "\\end{align*}$$\n",
    "\n",
    "$$\\begin{align*}\n",
    "x = \\frac{1}{2} &\\implies \\sum\\limits_{n=1}^{\\infty}n\\left( \\frac{1}{2} \\right)^n + \\frac{1-\\frac{1}{2}}{\\frac{1}{2}}= \\frac{\\frac{1}{4} + 2 \\cdot \\frac{1}{2} \\cdot \\frac{1}{2}}{\\frac{1}{4}}\\\\\n",
    "&\\implies \\sum\\limits_{n=1}^{\\infty} n\\left(\\frac{1}{2}\\right)^n =2\n",
    "\\end{align*}$$\n",
    "\n",
    "or\n",
    "\n",
    "$$\\begin{align*}\n",
    "y &= 1\\frac{1}{2} + 2\\left( \\frac{1}{2} \\right)^2 + 3\\left(\\frac{1}{2} \\right)^3 + \\cdots&\\\\\n",
    "2y &= 1 + 2\\left( \\frac{1}{2}\\right) + 3\\left( \\frac{1}{2} \\right)^2 + \\cdots&\\\\\n",
    "\\implies y &= 1 + \\left(\\frac{1}{2}\\right) + \\left( \\frac{1}{2} \\right)^2 + \\cdots &= \\frac{1}{1 - \\frac{1}{2}} = 2 \n",
    "\\end{align*}$$\n"
   ]
  },
  {
   "cell_type": "markdown",
   "metadata": {},
   "source": [
    "## 1.3. Example: Integration\n",
    "\n",
    "$$\n",
    "\\int_{0}^{1} x^2dx = \\frac{1}{2}x^3\\bigg|^1_0 = \\frac{1}{3}$$\n",
    "\n",
    "Question : how to solve integration with computers ?\n",
    "\n",
    "\n",
    "<table style=\"border-style: hidden; border-collapse: collapse;\" width = \"96%\"> \n",
    "    <tr style=\"border-style: hidden; border-collapse: collapse;\">\n",
    "        <td width = 48% style=\"border-style: hidden; border-collapse: collapse;\">\n",
    "            <img src = \"./image_files/st01.png\", width = 400>\n",
    "        </td>\n",
    "        <td width = 48%>        \n",
    "            $$\n",
    "            \\begin{align*}\n",
    "            \\Delta A &= f(x) \\Delta x \\\\ \\\\\n",
    "            A \\approx \\sum \\Delta A &= \\sum f(x_k)\\Delta x\n",
    "            \\end{align*}\n",
    "            $$\n",
    "        </td>\n",
    "    </tr>\n",
    "</table>"
   ]
  },
  {
   "cell_type": "code",
   "execution_count": 6,
   "metadata": {
    "collapsed": false
   },
   "outputs": [
    {
     "data": {
      "text/plain": [
       "0.33383350000000028"
      ]
     },
     "execution_count": 6,
     "metadata": {},
     "output_type": "execute_result"
    }
   ],
   "source": [
    "# by summing up\n",
    "dx = 0.001\n",
    "x = [x/1000. for x in range(1001)]\n",
    "x = np.array(x)\n",
    "area = 0\n",
    "for i in range(len(x)):\n",
    "    area = area + (x[i]**2)*dx\n",
    "\n",
    "area"
   ]
  },
  {
   "cell_type": "code",
   "execution_count": 7,
   "metadata": {
    "collapsed": false
   },
   "outputs": [
    {
     "data": {
      "text/plain": [
       "0.33383349999999995"
      ]
     },
     "execution_count": 7,
     "metadata": {},
     "output_type": "execute_result"
    }
   ],
   "source": [
    "# shortened version\n",
    "\n",
    "np.sum(x**2)*dx"
   ]
  },
  {
   "cell_type": "code",
   "execution_count": 8,
   "metadata": {
    "collapsed": false
   },
   "outputs": [
    {
     "data": {
      "text/plain": [
       "0.33383350000000001"
      ]
     },
     "execution_count": 8,
     "metadata": {},
     "output_type": "execute_result"
    }
   ],
   "source": [
    "# shortened version\n",
    "\n",
    "x.dot(x)*dx"
   ]
  },
  {
   "cell_type": "markdown",
   "metadata": {},
   "source": [
    "Question: another method ? (use randomness)\n",
    "\n",
    "<table style=\"border-style: hidden; border-collapse: collapse;\" width = \"96%\"> \n",
    "    <tr style=\"border-style: hidden; border-collapse: collapse;\">\n",
    "        <td width = 48% style=\"border-style: hidden; border-collapse: collapse;\">\n",
    "            $$\\begin{array}{Icl}\\begin{align*}\n",
    "            x = \\text{rand}(n,1)\\\\\n",
    "            y = \\text{rand}(n,1)\n",
    "            \\end{align*}&\n",
    "            \\implies&\n",
    "            \\text{plot}(x,y)\n",
    "            \\end{array}$$\n",
    "        </td>\n",
    "        <td width = 48%>\n",
    "            <img src = \"./image_files/st02.png\", width = 250>\n",
    "        </td>\n",
    "    </tr>\n",
    "    <tr style=\"border-style: hidden; border-collapse: collapse;\">\n",
    "        <td width = 48% style=\"border-style: hidden; border-collapse: collapse;\">\n",
    "            <img src = \"./image_files/st03.png\", width = 250>\n",
    "        </td>\n",
    "        <td width = 48%>\n",
    "            $$\\frac{\\text{# under }y=x^2}{\\text{# total}}$$\n",
    "        </td>\n",
    "    </tr>\n",
    "    <tr>\n",
    "        <td width = 48% style=\"border-style: hidden; border-collapse: collapse;\">\n",
    "            <img src = \"./image_files/st04.png\", width = 250>\n",
    "        </td>\n",
    "        <td width = 48%>\n",
    "            $$\\frac{\\text{area under }y=x^2 }{\\text{total area}}$$\n",
    "        </td>\n",
    "    </tr>\n",
    "</table>\n",
    "\n",
    "It is known as __Monte Carlo simulation__\n",
    "\n",
    "$\\implies$ extremely powerful\n",
    "\n",
    "$\\implies$ can apply to many, many, many (enginerring) problems"
   ]
  },
  {
   "cell_type": "code",
   "execution_count": 9,
   "metadata": {
    "collapsed": false
   },
   "outputs": [
    {
     "data": {
      "text/plain": [
       "0.3316"
      ]
     },
     "execution_count": 9,
     "metadata": {},
     "output_type": "execute_result"
    }
   ],
   "source": [
    "# the number of points below curve out of the totla number is a fraction of area\n",
    "\n",
    "n = 10000\n",
    "\n",
    "y = np.random.rand(n, 1)\n",
    "x = np.random.rand(n, 1)\n",
    "\n",
    "count = 0. \n",
    "\n",
    "for i in range(n):\n",
    "    if y[i] < x[i]*x[i]:\n",
    "        count = count + 1\n",
    "    \n",
    "    \n",
    "# result\n",
    "\n",
    "area = count/n\n",
    "area"
   ]
  },
  {
   "cell_type": "code",
   "execution_count": 10,
   "metadata": {
    "collapsed": false
   },
   "outputs": [
    {
     "data": {
      "text/plain": [
       "0.33160000000000001"
      ]
     },
     "execution_count": 10,
     "metadata": {},
     "output_type": "execute_result"
    }
   ],
   "source": [
    "# shortened version\n",
    "\n",
    "area = np.sum(y < x**2)/float(n)\n",
    "area"
   ]
  },
  {
   "cell_type": "markdown",
   "metadata": {},
   "source": [
    "## 1.4. Example: compute $\\pi$ statistically"
   ]
  },
  {
   "cell_type": "code",
   "execution_count": 11,
   "metadata": {
    "collapsed": false
   },
   "outputs": [
    {
     "data": {
      "text/plain": [
       "3.136"
      ]
     },
     "execution_count": 11,
     "metadata": {},
     "output_type": "execute_result"
    }
   ],
   "source": [
    "n = 5000\n",
    "\n",
    "y = np.random.rand(n, 1)\n",
    "x = np.random.rand(n, 1)\n",
    "\n",
    "idx = np.zeros((n, 1))\n",
    "count = 0.\n",
    "\n",
    "for i in range(n):\n",
    "    if np.sqrt(x[i]**2 + y[i]**2) < 1:\n",
    "        count = count + 1\n",
    "        idx[i] = -1\n",
    "    else:\n",
    "        idx[i] = 1\n",
    "(count/n)*4"
   ]
  },
  {
   "cell_type": "code",
   "execution_count": 12,
   "metadata": {
    "collapsed": false
   },
   "outputs": [
    {
     "data": {
      "image/png": "[encoded data removed]",
      "text/plain": [
       "<matplotlib.figure.Figure at 0x7f49b615b320>"
      ]
     },
     "metadata": {},
     "output_type": "display_data"
    }
   ],
   "source": [
    "plt.plot(x[idx == 1], y[idx == 1], 'b.')\n",
    "plt.plot(x[idx == -1], y[idx == -1], 'r.')\n",
    "plt.axis('equal')\n",
    "plt.show()"
   ]
  },
  {
   "cell_type": "code",
   "execution_count": 13,
   "metadata": {
    "collapsed": false
   },
   "outputs": [
    {
     "data": {
      "text/plain": [
       "3.1360000000000001"
      ]
     },
     "execution_count": 13,
     "metadata": {},
     "output_type": "execute_result"
    }
   ],
   "source": [
    "% shortened version\n",
    "\n",
    "np.sum(np.abs(x + 1j*y) < 1)/n*4"
   ]
  },
  {
   "cell_type": "markdown",
   "metadata": {},
   "source": [
    "# 2. Workspace of Robot Arm\n",
    "\n",
    "<table style=\"border-style: hidden; border-collapse: collapse;\" width = \"96%\"> \n",
    "    <tr style=\"border-style: hidden; border-collapse: collapse;\">\n",
    "        <td width = 48% style=\"border-style: hidden; border-collapse: collapse;\">\n",
    "             <img src=\"./image_files/scara_robot.png\", width = 250>\n",
    "        </td>\n",
    "        <td width = 48%>\n",
    "            $$\\begin{align*}\n",
    "                \\theta_1, \\theta_2&: \\text{joint angles of robot (configuration space, joint space)}\\\\ \\\\\n",
    "                l_1,l_2&: \\text{length of each link (robot parameters)}\\\\ \\\\\n",
    "                x,y&: \\text{position of end effector (task space)}\\\\ \\\\               \n",
    "            \\end{align*}\n",
    "            $$\n",
    "        </td>\n",
    "    </tr>\n",
    "</table>\n",
    "\n",
    "$\\implies$ kinematics is how we move back and forth between these represenations\n",
    "\n",
    "<img src=\"./image_files/forward_inverse.png\", width = 500>\n",
    "\n",
    "## 2.1. Forward kinematics of two-link robot\n",
    "\n",
    "- position of \"elbow\" $x_0, y_0$\n",
    "\n",
    "$$\n",
    "\\begin{align*}\n",
    "x_0 &= l_1 \\cos\\theta_1\\\\\n",
    "y_0 &= l_1 \\sin\\theta_1\\\\\n",
    "\\end{align*}\n",
    "$$\n",
    "\n",
    "- So, position of end effector $x,y$\n",
    "$$\n",
    "\\begin{align*}\n",
    "x &= l_1 \\cos\\theta_1 + l_2 \\cos(\\theta_1 + \\theta_2)\\\\\n",
    "y &= l_1 \\sin\\theta_1 + l_2 \\sin(\\theta_1 + \\theta_2)\\\\\n",
    "\\end{align*}\n",
    "$$\n",
    "\n",
    "## 2.2. Inverse kinematics of two-link robot\n",
    "\n",
    "- Given $x,y$, can we find $\\theta_1, \\theta_2$ that achieve this position ?\n",
    "     \n",
    " $$\n",
    "\\begin{align*}\n",
    "\\theta_2 & = \\pm \\cos^{-1} \\left( \\frac{x^2 + y^2 -l_1^2 - l_2^2}{2l_1 l_2} \\right) \\\\\n",
    "\\theta_1 & = \\tan^{-1} \\left( \\frac{y}{x} \\right) - \\sin^{-1}\\left( \\frac{l_2 \\sin \\theta_2}{x^2 + y^2} \\right)\n",
    "\\end{align*}\n",
    "$$\n",
    "- why does $\\theta_2$ have two values?\n",
    "\n",
    " (do not worry about the above equations and their derivation)"
   ]
  },
  {
   "cell_type": "markdown",
   "metadata": {},
   "source": [
    "## 2.3. Reachable space or workspace\n",
    "\n",
    "the _workspace_ of a manipulator is defined as the set of all end-effector configurations which can be reached by some choice of joint angles. \n",
    "\n",
    "- We will use `processing` to visually demonstrate workspace of the end-effector of a SCARA robot\n",
    "\n",
    "- `Processing` is an open source programming language and integrated development environment (IDE) built for the electronic arts, new media art, and visual design communities with the purpose of teaching the fundamentals of computer programming in a visual context\n",
    "\n",
    "- `processing` [download and installation](https://processing.org/)\n",
    "\n",
    "- do not need to undertand the following processing code"
   ]
  },
  {
   "cell_type": "code",
   "execution_count": 12,
   "metadata": {
    "collapsed": false
   },
   "outputs": [
    {
     "data": {
      "text/html": [
       "\n",
       "<canvas id=\"canvas_1\"></canvas>\n",
       "<script>\n",
       "require([\"http://cs.brynmawr.edu/gxk2013/examples/tools/alphaChannels/processing.js\"], function () {\n",
       "    var processingCode = '\\nint L1 = 100;\\nint L2 = 50;\\n\\nArrayList<PVector> ppoints = new ArrayList<PVector>();\\nArrayList<PVector> mpoints = new ArrayList<PVector>();\\nint i = 0;\\n\\nvoid setup() {\\n  size(500, 500);\\n  background(255);\\n  calpp();\\n  smooth();\\n}\\n\\nvoid draw() {\\n  background(255);\\n  translate(width/2, height/2);\\n\\n  if (i >= ppoints.size()) {\\n    i = 0;\\n  } else {\\n\\n    for (int j = 0; j <= i; j++) {\\n      PVector temp = ppoints.get(j);\\n      if (abs(i-j) < 100) {\\n        fill(150, map(abs(i-j), 0, 100, 255, 50));\\n      } else {\\n        fill(150, 50);\\n      }\\n      noStroke();\\n      ellipse(temp.x, temp.y, 10, 10);\\n    }\\n\\n    PVector p1 = mpoints.get(i);\\n    PVector p2 = ppoints.get(i);\\n    stroke(0);\\n    fill(0);\\n    ellipse(0, 0,5,5);\\n    ellipse(p1.x, p1.y,5,5);\\n    ellipse(p2.x, p2.y, 10, 10);\\n  \\n    strokeWeight(5);\\n    line(p1.x, p1.y, p2.x, p2.y);\\n    line(0, 0, p1.x, p1.y);\\n\\n    i++;\\n  }\\n}\\n\\n\\nvoid calpp() {\\n  int t1 = 0;\\n  while (t1 < 360) {\\n\\n    PVector p1 = new PVector(L1*cos(radians(-t1)), L1*sin(radians(-t1)));\\n    int t2 = 0;\\n    while (t2 < 360) {\\n\\n      PVector p2 = new PVector(L2*cos(radians(-t2)), L2*sin(radians(-t2)));\\n      ppoints.add(PVector.add(p1, p2));\\n      mpoints.add(p1);\\n\\n      t2 = t2+10;\\n    }\\n    t1 = t1+15;\\n  }\\n}';\n",
       "    var cc = Processing.compile(processingCode);\n",
       "    var processingInstance = new Processing(\"canvas_1\", cc);\n",
       "});\n",
       "</script>\n"
      ],
      "text/plain": [
       "<IPython.core.display.HTML object>"
      ]
     },
     "metadata": {},
     "output_type": "display_data"
    }
   ],
   "source": [
    "%%processing\n",
    "\n",
    "int L1 = 100;\n",
    "int L2 = 50;\n",
    "\n",
    "ArrayList<PVector> ppoints = new ArrayList<PVector>();\n",
    "ArrayList<PVector> mpoints = new ArrayList<PVector>();\n",
    "int i = 0;\n",
    "\n",
    "void setup() {\n",
    "  size(500, 500);\n",
    "  background(255);\n",
    "  calpp();\n",
    "  smooth();\n",
    "}\n",
    "\n",
    "void draw() {\n",
    "  background(255);\n",
    "  translate(width/2, height/2);\n",
    "\n",
    "  if (i >= ppoints.size()) {\n",
    "    i = 0;\n",
    "  } else {\n",
    "\n",
    "    for (int j = 0; j <= i; j++) {\n",
    "      PVector temp = ppoints.get(j);\n",
    "      if (abs(i-j) < 100) {\n",
    "        fill(150, map(abs(i-j), 0, 100, 255, 50));\n",
    "      } else {\n",
    "        fill(150, 50);\n",
    "      }\n",
    "      noStroke();\n",
    "      ellipse(temp.x, temp.y, 10, 10);\n",
    "    }\n",
    "\n",
    "    PVector p1 = mpoints.get(i);\n",
    "    PVector p2 = ppoints.get(i);\n",
    "    stroke(0);\n",
    "    fill(0);\n",
    "    ellipse(0, 0,5,5);\n",
    "    ellipse(p1.x, p1.y,5,5);\n",
    "    ellipse(p2.x, p2.y, 10, 10);\n",
    "  \n",
    "    strokeWeight(5);\n",
    "    line(p1.x, p1.y, p2.x, p2.y);\n",
    "    line(0, 0, p1.x, p1.y);\n",
    "\n",
    "    i++;\n",
    "  }\n",
    "}\n",
    "\n",
    "\n",
    "void calpp() {\n",
    "  int t1 = 0;\n",
    "  while (t1 < 360) {\n",
    "\n",
    "    PVector p1 = new PVector(L1*cos(radians(-t1)), L1*sin(radians(-t1)));\n",
    "    int t2 = 0;\n",
    "    while (t2 < 360) {\n",
    "\n",
    "      PVector p2 = new PVector(L2*cos(radians(-t2)), L2*sin(radians(-t2)));\n",
    "      ppoints.add(PVector.add(p1, p2));\n",
    "      mpoints.add(p1);\n",
    "\n",
    "      t2 = t2+10;\n",
    "    }\n",
    "    t1 = t1+15;\n",
    "  }\n",
    "}"
   ]
  },
  {
   "cell_type": "markdown",
   "metadata": {},
   "source": [
    "## 2.4. Workspace of Robot Arm with obsticles\n",
    "- Obstacles usually “naturally” described in the task space of the robot, but inverse kinematics often makes it less convinient to plan in task space\n",
    "\n",
    "- Instead, want to determine which poses in the robot’s configuration space (joint space) are non-colliding\n",
    "\n",
    "- Set of all non-colliding configurations is also called _free space_\n",
    "\n",
    "\n",
    "<img src=\"./image_files/robot_obstacle.png\", width = 300>"
   ]
  },
  {
   "cell_type": "code",
   "execution_count": 13,
   "metadata": {
    "collapsed": false
   },
   "outputs": [
    {
     "data": {
      "image/png": "[encoded data removed]",
      "text/plain": [
       "<IPython.core.display.Image object>"
      ]
     },
     "metadata": {},
     "output_type": "display_data"
    },
    {
     "data": {},
     "execution_count": 13,
     "metadata": {},
     "output_type": "execute_result"
    }
   ],
   "source": [
    "%% Robot Definition - Two linked robot arm\n",
    "\n",
    "% Initialize parameter\n",
    "L1 = 1;\n",
    "L2 = 1;\n",
    "theta1 = pi/2;\n",
    "theta2 = pi/6;\n",
    "\n",
    "% Foward kinematics\n",
    "origin_x = 0;\n",
    "origin_y = 0;\n",
    "joint_x = L1 * cos(theta1);\n",
    "joint_y = L2 * sin(theta1);\n",
    "effector_x = L1 * cos(theta1) + L2 * cos(theta1+theta2);\n",
    "effector_y = L1 * sin(theta1) + L2 * sin(theta1+theta2);\n",
    "\n",
    "% Obstacle\n",
    "angle = linspace(0,2*pi,100);\n",
    "r = 0.4;\n",
    "x = r*cos(angle) + 1;\n",
    "y = r*sin(angle) + 1;\n",
    "\n",
    "\n",
    "%% Visualization\n",
    "\n",
    "figure(1);hold on; box on\n",
    "line([origin_x joint_x],[origin_y joint_y],'Color','b','linewidth',3);\n",
    "h1 = line([joint_x effector_x],[joint_y effector_y],'Color','b','linewidth',3);\n",
    "% h2 = plot(x,y,'.r');\n",
    "h2 = scatter(1,1,1800,'filled','markerfacecolor','r');\n",
    "legend([h1,h2],'Robot Arm','Obstacle');\n",
    "xlim([-2 2]);ylim([0 2])\n",
    "axis equal"
   ]
  },
  {
   "cell_type": "markdown",
   "metadata": {},
   "source": [
    "## 2.5. Estimating robot workspace with Monte Carlo simulation\n",
    "\n",
    "- In general, it’s very difficult to analytically desribe the free space\n",
    "\n",
    "\n",
    "- But we can (relatively) quickly check to see if a given configuration is colliding or not\n",
    "\n",
    "\n",
    "- Suppose the collision occurs between the robot and the obstacle if any part of the robot arm contacts or penetrates an obstacle\n"
   ]
  },
  {
   "cell_type": "code",
   "execution_count": 14,
   "metadata": {
    "collapsed": false
   },
   "outputs": [
    {
     "data": {
      "image/png": "[encoded data removed]",
      "text/plain": [
       "<IPython.core.display.Image object>"
      ]
     },
     "metadata": {},
     "output_type": "display_data"
    },
    {
     "data": {},
     "execution_count": 14,
     "metadata": {},
     "output_type": "execute_result"
    }
   ],
   "source": [
    "% Robot parameters\n",
    "L1 = 1;\n",
    "L2 = 1;\n",
    "r = 0.5;\n",
    "% r = 0.4;\n",
    "\n",
    "% The number of random points\n",
    "m = 3000;\n",
    "\n",
    "b = pi;\n",
    "a = -pi;\n",
    "theta1 = (b-a)*rand(m,1) + a;\n",
    "theta2 = (b-a)*rand(m,1) + a;\n",
    "\n",
    "effector_x = L1*cos(theta1) + L2*cos(theta1 + theta2);\n",
    "effector_y = L1*sin(theta1) + L2*sin(theta1 + theta2);\n",
    "joint_x = L1*cos(theta1);\n",
    "joint_y = L2*sin(theta1);\n",
    "\n",
    "%% check collision\n",
    "\n",
    "S = [];\n",
    "U = [];\n",
    "\n",
    "for i = 1:m\n",
    "    g1 = joint_y(i)/joint_x(i);\n",
    "    g2 = (effector_y(i) - joint_y(i))/(effector_x(i) - joint_x(i));\n",
    "    v2 = (joint_y(i)*effector_x(i) - effector_y(i)*joint_x(i))/(effector_x(i) - joint_x(i));\n",
    "    \n",
    "    tempx1 = linspace(0,joint_x(i),5);\n",
    "    tempx2 = linspace(joint_x(i),effector_x(i),5);\n",
    "\n",
    "    S = [S; [theta1(i),theta2(i)]];\n",
    "    \n",
    "    for j = 1:5 \n",
    "        if (tempx1(j)-1)^2 + (g1*tempx1(j)-1)^2 <= r^2 ||...\n",
    "                (tempx2(j) - 1)^2 + (g2*tempx2(j) + v2 - 1)^2 <= r^2\n",
    "                \n",
    "            U = [U; [theta1(i),theta2(i)]];\n",
    "            break;        \n",
    "        end\n",
    "    end\n",
    "    \n",
    "end\n",
    "\n",
    "figure(1),  clf\n",
    "plot(S(:,1),S(:,2),'bx'),   hold on\n",
    "plot(U(:,1),U(:,2),'rx'),   hold off\n",
    "xlabel('\\theta_1'), ylabel('\\theta_2')"
   ]
  },
  {
   "cell_type": "markdown",
   "metadata": {},
   "source": [
    "# 3. Probablistic RoadMaps (PRM) for robot path planning (Optional)\n",
    "\n",
    "- a motion planning algorithm in robotics, which solves the problem of determining a path between a starting configuration of the robot and a goal configuration while avoiding collisions.\n",
    "\n",
    "\n",
    "- The basic idea behind PRM is \n",
    "    1. to take _random samples_ from the configuration space of the robot, \n",
    "    2. testing them for whether they are in the free space, and \n",
    "    3. use a local planner to attempt to connect these configurations to other nearby configurations.\n",
    "    4. remove all colliding paths (collision-free)\n",
    "    5. The starting and goal configurations are added in, and \n",
    "    6. a _graph search algorithm_ is applied to the resulting graph to determine a path between the starting and goal configurations.\n",
    "\n",
    "\n",
    "- reference: [Probabilistic roadmaps for path planning in high-dimensional configuration spaces](http://ieeexplore.ieee.org/xpls/abs_all.jsp?arnumber=508439&tag=1)"
   ]
  },
  {
   "cell_type": "code",
   "execution_count": 15,
   "metadata": {
    "collapsed": false
   },
   "outputs": [
    {
     "data": {
      "text/html": [
       "<iframe src=\"./image_files/PRMs_robotics.pdf#view=FitH\", width=700, height = 400\" frameborder=\"0\"></iframe>"
      ],
      "text/plain": [
       "<IPython.core.display.HTML object>"
      ]
     },
     "metadata": {},
     "output_type": "display_data"
    }
   ],
   "source": [
    "%%html\n",
    "<iframe src=\"./image_files/PRMs_robotics.pdf#view=FitH\", width=700, height = 400\" frameborder=\"0\"></iframe>"
   ]
  },
  {
   "cell_type": "markdown",
   "metadata": {},
   "source": [
    "## MATLAB Simulation\n",
    "\n",
    "The MATLAB Robot library is needed (download from http://petercorke.com/Robotics_Toolbox.html)\n",
    "\n",
    "```octave\n",
    "load map.mat% load map\n",
    "goal = [50,30]; % goal point\n",
    "start = [20, 10]; % start point\n",
    "prm = PRM(map); % create navigation object\n",
    "\n",
    "%%\n",
    "prm.plan() % create roadmaps\n",
    "\n",
    "%%\n",
    "prm.path(start, goal) % animate path from this start location\n",
    "```"
   ]
  },
  {
   "cell_type": "markdown",
   "metadata": {},
   "source": [
    "<img src='./image_files/PRM.png'>"
   ]
  },
  {
   "cell_type": "markdown",
   "metadata": {},
   "source": [
    "# 4. Statistical Mechanics and Computations (Optional)\n",
    "\n",
    "- Discrete event simulation or Molecular dynamics (MD) is a computer simulation method for studying the physical movements of atoms and molecules, and is thus a type of N-body simulation. The atoms and molecules are allowed to interact for a fixed period of time, giving a view of the dynamical evolution of the system. \n",
    "\n",
    "\n",
    "- the following `precessing` example demonstrates the famous hard disk model\n",
    "\n",
    "<img src=\"./image_files/harddisk.png\", width = 600>\n",
    "\n",
    "\n",
    "- We can use this MD simulation model to statistically justify the equation of ideal gas, $PV = nRT$\n",
    "\n",
    "    - http://quantumfreak.com/derivation-of-pvnrt-the-equation-of-ideal-gas/\n",
    "\n",
    "\n",
    "- source: chapter 2 at http://www.smac.lps.ens.fr/index.php/Contents"
   ]
  },
  {
   "cell_type": "code",
   "execution_count": 4,
   "metadata": {
    "collapsed": false
   },
   "outputs": [
    {
     "data": {
      "text/html": [
       "\n",
       "<canvas id=\"canvas_4\"></canvas>\n",
       "<script>\n",
       "require([\"http://cs.brynmawr.edu/gxk2013/examples/tools/alphaChannels/processing.js\"], function () {\n",
       "    var processingCode = \"\\n// run it in processing\\n\\nint m = 20; // mass\\nint n = 4; // number of balls\\nint v = 10; // maximum velocity\\n\\n//---------------------------------\\n\\nBall[] balls = new Ball[n];\\n\\nvoid setup() {\\n  size(640, 360);\\n\\n  int f = 1;\\n\\n  while (f == 1) {\\n    f = 0;\\n\\n    for (int i = 0; i < balls.length; i++) {\\n      balls[i] = new Ball(m);\\n    }\\n\\n    for (int i = 0; i < balls.length; i++) {\\n      for (int j = 0; j <balls.length; j++) {\\n        if (i != j) {\\n\\n          PVector bVect = PVector.sub(balls[i].position, balls[j].position);\\n\\n          float bVectMag = bVect.mag();\\n\\n          if (bVectMag < (balls[i].r + balls[j].r + 5)) {\\n            f = 1;\\n          }\\n        }\\n      }\\n    }\\n  }\\n}\\n\\nvoid draw() {\\n  background(51);\\n\\n  for (Ball b : balls) {\\n    b.update();\\n    b.display();\\n    b.checkBoundaryCollision();\\n  }\\n\\n  for (int i = 0; i < balls.length; i++) {\\n    for (int j = 0; j <balls.length; j++) {\\n      if (i != j) {\\n        balls[i].checkCollision(balls[j], i, j);\\n      }\\n    }\\n  }\\n}\\n\\n\\nclass Ball {\\n  PVector position;\\n  PVector velocity;\\n  float r, m;\\n  int[] flag = new int[n];\\n\\n  Ball(float r_) {\\n    position = new PVector(random(width), random(height));\\n    velocity = new PVector(random(-v, v), random(-v, v));\\n\\n    r = r_;\\n    m = r;\\n    for (int i = 0; i < n; i++) {\\n      flag[i] = 0;\\n    }\\n  }\\n\\n  void update() {\\n    position.add(velocity);\\n  }\\n\\n  void checkBoundaryCollision() {\\n    if (position.x > width-r) {\\n      position.x = width-r;\\n      velocity.x *= -1;\\n    } else if (position.x < r) {\\n      position.x = r;\\n      velocity.x *= -1;\\n    } else if (position.y > height-r) {\\n      position.y = height-r;\\n      velocity.y *= -1;\\n    } else if (position.y < r) {\\n      position.y = r;\\n      velocity.y *= -1;\\n    }\\n  }\\n\\n  void checkCollision(Ball other, int k1, int k2) {\\n\\n    // get distances between the balls components\\n    PVector bVect = PVector.sub(other.position, position);\\n\\n    // calculate magnitude of the vector separating the balls\\n    float bVectMag = bVect.mag();\\n\\n    if (bVectMag < (r + other.r) && flag[k2] != 1) {\\n      flag[k2] = 1;\\n      other.flag[k1] = 1;\\n\\n      // get angle of bVect\\n      float theta  = bVect.heading();\\n      // precalculate trig values\\n      float sine = sin(theta);\\n      float cosine = cos(theta);\\n\\n      /* bTemp will hold rotated ball positions. You \\n       just need to worry about bTemp[1] position*/\\n      PVector[] bTemp = {\\n        new PVector(), new PVector()\\n        };\\n\\n        /* this ball's position is relative to the other\\n         so you can use the vector between them (bVect) as the \\n         reference point in the rotation expressions.\\n         bTemp[0].position.x and bTemp[0].position.y will initialize\\n         automatically to 0.0, which is what you want\\n         since b[1] will rotate around b[0] */\\n      bTemp[1].x  = cosine * bVect.x + sine * bVect.y;\\n      bTemp[1].y  = cosine * bVect.y - sine * bVect.x;\\n\\n      // rotate Temporary velocities\\n      PVector[] vTemp = {\\n        new PVector(), new PVector()\\n        };\\n\\n      vTemp[0].x  = cosine * velocity.x + sine * velocity.y;\\n      vTemp[0].y  = cosine * velocity.y - sine * velocity.x;\\n      vTemp[1].x  = cosine * other.velocity.x + sine * other.velocity.y;\\n      vTemp[1].y  = cosine * other.velocity.y - sine * other.velocity.x;\\n\\n      /* Now that velocities are rotated, you can use 1D\\n       conservation of momentum equations to calculate \\n       the final velocity along the x-axis. */\\n      PVector[] vFinal = {  \\n        new PVector(), new PVector()\\n        };\\n\\n        // final rotated velocity for b[0]\\n      vFinal[0].x = ((m - other.m) * vTemp[0].x + 2 * other.m * vTemp[1].x) / (m + other.m);\\n      vFinal[0].y = vTemp[0].y;\\n\\n      // final rotated velocity for b[0]\\n      vFinal[1].x = ((other.m - m) * vTemp[1].x + 2 * m * vTemp[0].x) / (m + other.m);\\n      vFinal[1].y = vTemp[1].y;\\n\\n      // hack to avoid clumping\\n      bTemp[0].x += vFinal[0].x;\\n      bTemp[1].x += vFinal[1].x;\\n\\n      /* Rotate ball positions and velocities back\\n       Reverse signs in trig expressions to rotate \\n       in the opposite direction */\\n      // rotate balls\\n      PVector[] bFinal = { \\n        new PVector(), new PVector()\\n        };\\n\\n      bFinal[0].x = cosine * bTemp[0].x - sine * bTemp[0].y;\\n      bFinal[0].y = cosine * bTemp[0].y + sine * bTemp[0].x;\\n      bFinal[1].x = cosine * bTemp[1].x - sine * bTemp[1].y;\\n      bFinal[1].y = cosine * bTemp[1].y + sine * bTemp[1].x;\\n\\n      // update balls to screen position\\n      other.position.x = position.x + bFinal[1].x;\\n      other.position.y = position.y + bFinal[1].y;\\n\\n      position.add(bFinal[0]);\\n\\n      // update velocities\\n      velocity.x = cosine * vFinal[0].x - sine * vFinal[0].y;\\n      velocity.y = cosine * vFinal[0].y + sine * vFinal[0].x;\\n      other.velocity.x = cosine * vFinal[1].x - sine * vFinal[1].y;\\n      other.velocity.y = cosine * vFinal[1].y + sine * vFinal[1].x;\\n    } else {\\n      flag[k2] = 0;\\n    }\\n  }\\n\\n  void display() {\\n    noStroke();\\n    fill(204);\\n    ellipse(position.x, position.y, r*2, r*2);\\n  }\\n}\";\n",
       "    var cc = Processing.compile(processingCode);\n",
       "    var processingInstance = new Processing(\"canvas_4\", cc);\n",
       "});\n",
       "</script>\n"
      ],
      "text/plain": [
       "<IPython.core.display.HTML object>"
      ]
     },
     "metadata": {},
     "output_type": "display_data"
    }
   ],
   "source": [
    "%%processing\n",
    "\n",
    "// run it in processing\n",
    "\n",
    "int m = 20; // mass\n",
    "int n = 4; // number of balls\n",
    "int v = 10; // maximum velocity\n",
    "\n",
    "//---------------------------------\n",
    "\n",
    "Ball[] balls = new Ball[n];\n",
    "\n",
    "void setup() {\n",
    "  size(640, 360);\n",
    "\n",
    "  int f = 1;\n",
    "\n",
    "  while (f == 1) {\n",
    "    f = 0;\n",
    "\n",
    "    for (int i = 0; i < balls.length; i++) {\n",
    "      balls[i] = new Ball(m);\n",
    "    }\n",
    "\n",
    "    for (int i = 0; i < balls.length; i++) {\n",
    "      for (int j = 0; j <balls.length; j++) {\n",
    "        if (i != j) {\n",
    "\n",
    "          PVector bVect = PVector.sub(balls[i].position, balls[j].position);\n",
    "\n",
    "          float bVectMag = bVect.mag();\n",
    "\n",
    "          if (bVectMag < (balls[i].r + balls[j].r + 5)) {\n",
    "            f = 1;\n",
    "          }\n",
    "        }\n",
    "      }\n",
    "    }\n",
    "  }\n",
    "}\n",
    "\n",
    "void draw() {\n",
    "  background(51);\n",
    "\n",
    "  for (Ball b : balls) {\n",
    "    b.update();\n",
    "    b.display();\n",
    "    b.checkBoundaryCollision();\n",
    "  }\n",
    "\n",
    "  for (int i = 0; i < balls.length; i++) {\n",
    "    for (int j = 0; j <balls.length; j++) {\n",
    "      if (i != j) {\n",
    "        balls[i].checkCollision(balls[j], i, j);\n",
    "      }\n",
    "    }\n",
    "  }\n",
    "}\n",
    "\n",
    "\n",
    "class Ball {\n",
    "  PVector position;\n",
    "  PVector velocity;\n",
    "  float r, m;\n",
    "  int[] flag = new int[n];\n",
    "\n",
    "  Ball(float r_) {\n",
    "    position = new PVector(random(width), random(height));\n",
    "    velocity = new PVector(random(-v, v), random(-v, v));\n",
    "\n",
    "    r = r_;\n",
    "    m = r;\n",
    "    for (int i = 0; i < n; i++) {\n",
    "      flag[i] = 0;\n",
    "    }\n",
    "  }\n",
    "\n",
    "  void update() {\n",
    "    position.add(velocity);\n",
    "  }\n",
    "\n",
    "  void checkBoundaryCollision() {\n",
    "    if (position.x > width-r) {\n",
    "      position.x = width-r;\n",
    "      velocity.x *= -1;\n",
    "    } else if (position.x < r) {\n",
    "      position.x = r;\n",
    "      velocity.x *= -1;\n",
    "    } else if (position.y > height-r) {\n",
    "      position.y = height-r;\n",
    "      velocity.y *= -1;\n",
    "    } else if (position.y < r) {\n",
    "      position.y = r;\n",
    "      velocity.y *= -1;\n",
    "    }\n",
    "  }\n",
    "\n",
    "  void checkCollision(Ball other, int k1, int k2) {\n",
    "\n",
    "    // get distances between the balls components\n",
    "    PVector bVect = PVector.sub(other.position, position);\n",
    "\n",
    "    // calculate magnitude of the vector separating the balls\n",
    "    float bVectMag = bVect.mag();\n",
    "\n",
    "    if (bVectMag < (r + other.r) && flag[k2] != 1) {\n",
    "      flag[k2] = 1;\n",
    "      other.flag[k1] = 1;\n",
    "\n",
    "      // get angle of bVect\n",
    "      float theta  = bVect.heading();\n",
    "      // precalculate trig values\n",
    "      float sine = sin(theta);\n",
    "      float cosine = cos(theta);\n",
    "\n",
    "      /* bTemp will hold rotated ball positions. You \n",
    "       just need to worry about bTemp[1] position*/\n",
    "      PVector[] bTemp = {\n",
    "        new PVector(), new PVector()\n",
    "        };\n",
    "\n",
    "        /* this ball's position is relative to the other\n",
    "         so you can use the vector between them (bVect) as the \n",
    "         reference point in the rotation expressions.\n",
    "         bTemp[0].position.x and bTemp[0].position.y will initialize\n",
    "         automatically to 0.0, which is what you want\n",
    "         since b[1] will rotate around b[0] */\n",
    "      bTemp[1].x  = cosine * bVect.x + sine * bVect.y;\n",
    "      bTemp[1].y  = cosine * bVect.y - sine * bVect.x;\n",
    "\n",
    "      // rotate Temporary velocities\n",
    "      PVector[] vTemp = {\n",
    "        new PVector(), new PVector()\n",
    "        };\n",
    "\n",
    "      vTemp[0].x  = cosine * velocity.x + sine * velocity.y;\n",
    "      vTemp[0].y  = cosine * velocity.y - sine * velocity.x;\n",
    "      vTemp[1].x  = cosine * other.velocity.x + sine * other.velocity.y;\n",
    "      vTemp[1].y  = cosine * other.velocity.y - sine * other.velocity.x;\n",
    "\n",
    "      /* Now that velocities are rotated, you can use 1D\n",
    "       conservation of momentum equations to calculate \n",
    "       the final velocity along the x-axis. */\n",
    "      PVector[] vFinal = {  \n",
    "        new PVector(), new PVector()\n",
    "        };\n",
    "\n",
    "        // final rotated velocity for b[0]\n",
    "      vFinal[0].x = ((m - other.m) * vTemp[0].x + 2 * other.m * vTemp[1].x) / (m + other.m);\n",
    "      vFinal[0].y = vTemp[0].y;\n",
    "\n",
    "      // final rotated velocity for b[0]\n",
    "      vFinal[1].x = ((other.m - m) * vTemp[1].x + 2 * m * vTemp[0].x) / (m + other.m);\n",
    "      vFinal[1].y = vTemp[1].y;\n",
    "\n",
    "      // hack to avoid clumping\n",
    "      bTemp[0].x += vFinal[0].x;\n",
    "      bTemp[1].x += vFinal[1].x;\n",
    "\n",
    "      /* Rotate ball positions and velocities back\n",
    "       Reverse signs in trig expressions to rotate \n",
    "       in the opposite direction */\n",
    "      // rotate balls\n",
    "      PVector[] bFinal = { \n",
    "        new PVector(), new PVector()\n",
    "        };\n",
    "\n",
    "      bFinal[0].x = cosine * bTemp[0].x - sine * bTemp[0].y;\n",
    "      bFinal[0].y = cosine * bTemp[0].y + sine * bTemp[0].x;\n",
    "      bFinal[1].x = cosine * bTemp[1].x - sine * bTemp[1].y;\n",
    "      bFinal[1].y = cosine * bTemp[1].y + sine * bTemp[1].x;\n",
    "\n",
    "      // update balls to screen position\n",
    "      other.position.x = position.x + bFinal[1].x;\n",
    "      other.position.y = position.y + bFinal[1].y;\n",
    "\n",
    "      position.add(bFinal[0]);\n",
    "\n",
    "      // update velocities\n",
    "      velocity.x = cosine * vFinal[0].x - sine * vFinal[0].y;\n",
    "      velocity.y = cosine * vFinal[0].y + sine * vFinal[0].x;\n",
    "      other.velocity.x = cosine * vFinal[1].x - sine * vFinal[1].y;\n",
    "      other.velocity.y = cosine * vFinal[1].y + sine * vFinal[1].x;\n",
    "    } else {\n",
    "      flag[k2] = 0;\n",
    "    }\n",
    "  }\n",
    "\n",
    "  void display() {\n",
    "    noStroke();\n",
    "    fill(204);\n",
    "    ellipse(position.x, position.y, r*2, r*2);\n",
    "  }\n",
    "}"
   ]
  },
  {
   "cell_type": "code",
   "execution_count": 3,
   "metadata": {
    "collapsed": false
   },
   "outputs": [
    {
     "data": {
      "application/javascript": [
       "$.getScript('https://kmahelona.github.io/ipython_notebook_goodies/ipython_notebook_toc.js')"
      ],
      "text/plain": [
       "<IPython.core.display.Javascript object>"
      ]
     },
     "metadata": {},
     "output_type": "display_data"
    }
   ],
   "source": [
    "%%javascript\n",
    "$.getScript('https://kmahelona.github.io/ipython_notebook_goodies/ipython_notebook_toc.js')"
   ]
  }
 ],
 "metadata": {
  "kernelspec": {
   "display_name": "Python 3",
   "language": "python",
   "name": "python3"
  },
  "language_info": {
   "codemirror_mode": {
    "name": "ipython",
    "version": 3
   },
   "file_extension": ".py",
   "mimetype": "text/x-python",
   "name": "python",
   "nbconvert_exporter": "python",
   "pygments_lexer": "ipython3",
   "version": "3.4.3"
  }
 },
 "nbformat": 4,
 "nbformat_minor": 0
}
