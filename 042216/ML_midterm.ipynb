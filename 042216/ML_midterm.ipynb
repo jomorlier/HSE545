{
 "cells": [
  {
   "cell_type": "markdown",
   "metadata": {},
   "source": [
    "<center><font size='6'><b>Midterm Exam</b></font></center>\n",
    "<p>\n",
    "<center><font size='4'><b>HSE 545: Machine Learning</b></font></center>\n",
    "\n",
    "<table style=\"border-style: hidden; border-collapse: collapse;\" width = \"96%\"> \n",
    "    <tr style=\"border-style: hidden; border-collapse: collapse;\">\n",
    "        <td width = 80% style=\"border-style: hidden; border-collapse: collapse;\">\n",
    "             \n",
    "        </td>\n",
    "        <td width = 16%>\n",
    "            by Seungchul Lee\n",
    "        </td>\n",
    "    </tr>\n",
    "</table>\n"
   ]
  },
  {
   "cell_type": "markdown",
   "metadata": {},
   "source": [
    "# Problem 1\n",
    "\n",
    "Let $R = R(\\theta)$ be a rotation matrix with a rotational angle of $\\theta$ in $\\mathbb{R}^n$.\n",
    "\n",
    "1. Prove that $$R^TR=I \\;\\text{in}\\; \\mathbb{R}^n$$\n",
    "    \n",
    "    Hint: Euclidian distances of vectors are preserved after a rotational operation. (_i.e._, $\\lVert Rx \\rVert = \\lVert x \\rVert$ for any $x \\in \\mathbb{R}^n$ ) \n",
    "<br><br>\n",
    "2. Prove that $$R^T(\\theta) = R^{-1}(\\theta) = R(-\\theta)\\;\\text{in}\\;\\mathbb{R}^n$$\n",
    "<br><br>\n",
    "3. Show that column vectors in $R$ are orthogonal in $\\mathbb{R}^n$."
   ]
  },
  {
   "cell_type": "markdown",
   "metadata": {},
   "source": [
    "# Problem 2\n",
    "\n",
    "1. Define $f: \\mathbb{R}^n \\to \\mathbb{R}^n$ as the projection of vector $x$ onto vector $y$. The projection operation is illustrated in Figure 1. Find matrix $P$ when $f(x)=Px$.\n",
    "<br><br>\n",
    "2. Define $g: \\mathbb{R}^n \\to \\mathbb{R}^n$ as the reflection of vector $x$ about vector $y$. The reflection operation is also illustrated in Figure 1. Express matrix $A$ using matrix $P$ when $g(x)=Ax$.\n",
    "\n",
    "<img src=\"./image_files/projection_mirror.png\", width = 250>\n",
    "<center>Figure 1</center>"
   ]
  },
  {
   "cell_type": "markdown",
   "metadata": {},
   "source": [
    "# Problem 3\n",
    "\n",
    "Find solution $D$ of the optimization problem with the following objective function and constraints. Here, $\\lVert \\cdot \\rVert_2$ is the Euclidean norm (or distance). \n",
    "\n",
    "<br><br>\n",
    "$$\\begin{align*} D= \\min_Z \\quad\n",
    "& \\lVert X_1 - Z \\rVert_2 + \\lVert X_2 - Z \\rVert_2 \\\\ \\\\\n",
    "\\text{subject to} \\quad\n",
    "& Z \\in V=\\text{span} \\{V_1, V_2\\}\n",
    "\\end{align*}$$\n",
    "\n",
    "<img src=\"./image_files/mirrored_line.png\", width = 300>\n",
    "<center>Figure 2</center>"
   ]
  },
  {
   "cell_type": "markdown",
   "metadata": {},
   "source": [
    "# Problem 4\n",
    "\n",
    "We saw many optimization problems in a machine learning context and witnessed that $L_1$ norm reguarlization provides not only small, but also sparse decision variables. In this problem we will use a linear programming to solve $L_1$ norm optimization problems instead of simply using cvx.\n",
    "\n",
    "1) Show that \n",
    "\n",
    "$$ \\lvert y_i \\rvert = \\max \\left(-y_i,y_i \\right) $$\n",
    "\n",
    "2) Show that, by introducing slack variable $t_i$, the absolute value optimization problem can be coverted to\n",
    "\n",
    "<table style=\"border-style: hidden; border-collapse: collapse;\" width = \"60%\"> \n",
    "    <tr style=\"border-style: hidden; border-collapse: collapse;\">\n",
    "        <td width = 30% style=\"border-style: hidden; border-collapse: collapse;\">\n",
    "        $$ \\min \\,\\lvert y_i \\rvert = \\min \\left\\{\\max \\left(-y_i,y_i \\right) \\right\\} $$          \n",
    "        </td>\n",
    "        <td width = 10% style=\"border-style: hidden; border-collapse: collapse;\">\n",
    "             $$ \\iff $$\n",
    "        </td>\n",
    "        <td width = 20%>\n",
    "$$\n",
    "\\begin{align}\n",
    "\\min \\quad & t_i  \\\\\n",
    "\\text{subject to} \\quad \n",
    "& y_i \\leq t_i \\\\\n",
    "& -y_i \\leq t_i \n",
    "\\end{align}\n",
    "$$ \n",
    "        </td>\n",
    "    </tr>\n",
    "</table>\n",
    "\n",
    "\n",
    "3) Suppose $A\\theta-b = r$ and $t = \\begin{bmatrix} t_1 & t_2 & \\cdots & t_m \\end{bmatrix}^T $, then show that $L_1$ norm fitting/approximation problem, _i.e._, sum of (absolute) residuals can be coverted to\n",
    "\n",
    "\n",
    "<table style=\"border-style: hidden; border-collapse: collapse;\" width = \"65%\"> \n",
    "    <tr style=\"border-style: hidden; border-collapse: collapse;\">\n",
    "        <td width = 30% style=\"border-style: hidden; border-collapse: collapse;\">\n",
    "        $$ \\min \\,\\lVert A\\theta-b \\rVert_{1}  = \\min \\,\\sum_{i} \\,\\lvert r_i \\rvert = \\min \\,\\sum_{i} \\, \\max \\left(-r_i,r_i \\right) $$\n",
    "        </td>\n",
    "        <td width = 10% style=\"border-style: hidden; border-collapse: collapse;\">\n",
    "             $$ \\iff $$\n",
    "        </td>\n",
    "        <td width = 25%>\n",
    "$$\n",
    "\\begin{align}\n",
    "\\min \\quad & t_1 + \\cdots + t_m \\\\\n",
    "\\text{subject to} \\quad \n",
    "& A\\theta - b \\leq t \\\\\n",
    "& -(A\\theta - b) \\leq t \n",
    "\\end{align}\n",
    "$$\n",
    "        </td>\n",
    "    </tr>\n",
    "</table>\n",
    "\n",
    " \n",
    "4) Change the LP in matrix form where $\\mathbb{1} = \\begin{bmatrix} 1& \\cdots & 1\\end{bmatrix}^T$ and $\\mathbb{0} = \\begin{bmatrix} 0& \\cdots & 0\\end{bmatrix}^T$\n",
    "\n",
    "$$\n",
    "\\begin{align}\n",
    "\\min \\quad & \\begin{bmatrix} \\mathbb{0}^T & \\mathbb{1}^T \\end{bmatrix} \\begin{bmatrix} \\theta \\\\ t \\end{bmatrix} \\\\\n",
    "\\text{subject to} \\quad \n",
    "& \\begin{bmatrix} A & -I \\\\ -A & -I \\end{bmatrix}\\begin{bmatrix} \\theta \\\\ t \\end{bmatrix} \n",
    "\\leq \\begin{bmatrix} b \\\\ -b \\end{bmatrix}\n",
    "\\end{align}\n",
    "$$"
   ]
  },
  {
   "cell_type": "markdown",
   "metadata": {},
   "source": [
    "5) Use LP in Matlab (or python) to find and plot a robust linear regression for data points with outliers"
   ]
  },
  {
   "cell_type": "code",
   "execution_count": 4,
   "metadata": {
    "collapsed": false
   },
   "outputs": [
    {
     "data": {
      "image/png": "[encoded data removed]",
      "text/plain": [
       "<IPython.core.display.Image object>"
      ]
     },
     "metadata": {},
     "output_type": "display_data"
    },
    {
     "data": {},
     "execution_count": 4,
     "metadata": {},
     "output_type": "execute_result"
    }
   ],
   "source": [
    "% matlab\n",
    "% outlier example\n",
    "\n",
    "x = [0.1 0.4 0.7 1.2 1.3 1.7 2.2 2.8 3.0 4.0 4.3 4.4 4.9]';\n",
    "y = [0.5 0.9 1.1 1.5 1.5 2.0 2.2 2.8 2.7 3.0 3.5 3.7 3.9]';\n",
    "\n",
    "% add outliers\n",
    "x = [x; 0.5; 3.8];\n",
    "y = [y; 3.9; 0.3];\n",
    "\n",
    "plot(x,y,'ko'), hold on\n",
    "plot(x(end-1:end),y(end-1:end),'ko','markerfacecolor','k'), ylim([0 5])\n",
    "\n",
    "%% code here"
   ]
  },
  {
   "cell_type": "markdown",
   "metadata": {},
   "source": [
    "# Problem 5\n",
    "\n",
    "The regularized least-squares problem has the form\n",
    "\n",
    "<br>\n",
    "$$ \\min_{\\theta} \\;\\lVert A\\theta -y\\rVert_2^2 + \\lambda \\lVert \\theta \\rVert_2^2$$\n",
    "\n",
    "1. Show that the solution is given by\n",
    "<br><br>\n",
    "$$ \\hat{\\theta} = \\left( A^T A + \\lambda I_n \\right)^{-1} A^T y $$\n",
    " (Do not use the method of Lagrangian multipliers)\n",
    "<br><br>\n",
    "2. Find and draw an approximated curve of the given data points in either Matlab or python\n",
    "    - overcome overfitting \n",
    "    - use RBF \n",
    "    - choose a proper value of $\\lambda$ on your own\n",
    "    "
   ]
  },
  {
   "cell_type": "code",
   "execution_count": 6,
   "metadata": {
    "collapsed": false
   },
   "outputs": [
    {
     "data": {
      "image/png": "[encoded data removed]",
      "text/plain": [
       "<IPython.core.display.Image object>"
      ]
     },
     "metadata": {},
     "output_type": "display_data"
    },
    {
     "data": {},
     "execution_count": 6,
     "metadata": {},
     "output_type": "execute_result"
    }
   ],
   "source": [
    "x = -4.5:1:4.5;\n",
    "x = x(:);\n",
    "\n",
    "y = [0.9819 0.7973 1.9737 0.1838 1.3180 -0.8361 -0.6591 -2.4701 -2.8122 -6.2512]';\n",
    "plot(x,y,'o'), axis([-5 5 -12 6])"
   ]
  },
  {
   "cell_type": "markdown",
   "metadata": {},
   "source": [
    "# Problem 6\n",
    "\n",
    "In this problem we will refer to the binary classification task depicted in Figure 3, which we attempt to solve with the simple linear logistic regression model\n",
    "\n",
    "$$ P(y = +1 \\mid x,\\omega_1, \\omega_2) = g(\\omega_1 x_1 + \\omega_2 x_2) = \\frac{1}{1+\\exp(-\\omega_1 x_1 - \\omega_2 x_2)}$$\n",
    "\n",
    "(For simplicity we do not use the bias parameter $\\omega_0$ or think as $\\omega_0 = 0$). The training data can be separated with zero training error – see line $L_1$ in Figure 4 for instance.\n",
    "\n",
    "<table style=\"border-style: hidden; border-collapse: collapse;\" width = \"90%\"> \n",
    "    <tr style=\"border-style: hidden; border-collapse: collapse;\">\n",
    "        <td width = 45% style=\"border-style: hidden; border-collapse: collapse;\">\n",
    "            <img src=\"./image_files/classification_1.png\", width = 300>\n",
    "            <center>Figure 3</center>\n",
    "        </td>\n",
    "        <td width = 45%>\n",
    "            <img src=\"./image_files/classification_2.png\", width = 300>\n",
    "            <center>Figure 4</center>\n",
    "        </td>\n",
    "    </tr>\n",
    "</table>\n",
    "\n",
    "1. Consider a regularization approach where we want to minimize \n",
    "<br><br>\n",
    "$$ \\sum_{i=1}^{m}\\log P\\left( y_i \\mid x_i,\\omega_1, \\omega_2\\right) + \\lambda \\,\\omega_2^2 $$\n",
    "<br>\n",
    "Note that only $\\omega_2$ is penalized. We want to know which of the four lines in Figure 4 could arise as a result of such regularization. For each potential line $L_2$, $L_3$, or $L_4$, determine whether it can result from regularizing $\\omega_2$. \n",
    "<br><br>\n",
    "2. If we change the form of regularization to one-norm (absolute value) we get the following penalized log-likelihood\n",
    "<br><br>\n",
    "$$ \\sum_{i=1}^{m}\\log P\\left( y_i \\mid x_i,\\omega_1, \\omega_2\\right) + \\lambda \\,\\left( \\lvert \\omega_1 \\rvert + \\lvert \\omega_2 \\rvert \\right)$$\n",
    "<br>\n",
    "Consider again the problem in Figure 4 and the same linear logistic regression model. As we increase the regularization parameter $\\lambda$, which of the following scenarios do you expect to observe (choose only one)\n",
    "<br><br>\n",
    "a) First $\\omega_1$ will become 0, then $\\omega_2$ \n",
    "<br>\n",
    "b) $\\omega_1$ and $\\omega_2$ will become zero simultaneously\n",
    "<br>\n",
    "c) First $\\omega_2$ will become 0, then $\\omega_1$ \n",
    "<br>\n",
    "d) None of the weights will become exactly zero, only smaller as $\\lambda$ increases.\n",
    "\n"
   ]
  },
  {
   "cell_type": "markdown",
   "metadata": {},
   "source": [
    "$\\;\\,\\, $3\\. To double check your answers, let's do it in Matlab. You can include $\\omega_3$ to re-use Matlab files given in class. \n",
    "\n",
    "$$ \n",
    "\\begin{align*}\n",
    "\\omega &= \\begin{bmatrix} \\omega_1 \\\\ \\omega_2 \\\\ \\omega_3\\end{bmatrix}, \\quad x = \\begin{bmatrix} x_1 \\\\ x_2 \\\\ 1\\end{bmatrix}\n",
    "\\end{align*}\n",
    "$$\n",
    "\n",
    "$$ P(y = +1 \\mid x,\\omega_1, \\omega_2, \\omega_3) = g(\\omega_1 x_1 + \\omega_2 x_2 + \\omega_3) = \\frac{1}{1+\\exp(-\\omega_1 x_1 - \\omega_2 x_2 - \\omega_3)}$$\n",
    "\n",
    "$$ \\sum_{i=1}^{m}\\log P\\left( y_i \\mid x_i,\\omega_1, \\omega_2, \\omega_3\\right) + \\lambda \\,\\omega_2^2 $$\n",
    "\n",
    "$$ \\sum_{i=1}^{m}\\log P\\left( y_i \\mid x_i,\\omega_1, \\omega_2, \\omega_3\\right) + \\lambda \\,\\left( \\lvert \\omega_1 \\rvert + \\lvert \\omega_2 \\rvert + \\lvert \\omega_3 \\rvert \\right)$$"
   ]
  },
  {
   "cell_type": "code",
   "execution_count": 11,
   "metadata": {
    "collapsed": false
   },
   "outputs": [
    {
     "data": {
      "image/png": "[encoded data removed]",
      "text/plain": [
       "<IPython.core.display.Image object>"
      ]
     },
     "metadata": {},
     "output_type": "display_data"
    },
    {
     "data": {},
     "execution_count": 11,
     "metadata": {},
     "output_type": "execute_result"
    }
   ],
   "source": [
    "X = [-3.0  3.0;\n",
    "     -0.1  3.2;\n",
    "      0.1  2.0;\n",
    "      1.5  3.5;\n",
    "      1.7  2.5\n",
    "      1.4  1.0;\n",
    "      2.7  1.5;\n",
    "     -2.5 -2.8;\n",
    "     -2.0 -1.2;\n",
    "     -0.3 -3.0;\n",
    "      0.7 -1.8;\n",
    "      0.9 -3.7;\n",
    "      2.8 -1.5];\n",
    "\n",
    "x1 = X(:,1);\n",
    "x2 = X(:,2);\n",
    "\n",
    "y = [ones(7,1); -ones(6,1)]; \n",
    "\n",
    "plot(x1(1:7),x2(1:7),'o',x1(8:end),x2(8:end),'+'), axis equal, xlim([-5 5])\n",
    "\n",
    "%% code here for 1)\n",
    "% use square(x) for x^2 in cvx and set g (lambda) = 40\n",
    "\n",
    "%% code here for 2)"
   ]
  },
  {
   "cell_type": "markdown",
   "metadata": {},
   "source": [
    "Download this data(audio_recording)\n",
    "\n",
    "<a href = \"https://www.dropbox.com/sh/wo7l4a1hu4314yr/AAAoZUzwqg8eLpGbXbJjTkcia?dl=0\"> data_set </a>\n",
    "\n"
   ]
  },
  {
   "cell_type": "markdown",
   "metadata": {},
   "source": [
    "# Problem 7\n",
    "\n",
    "Robert is a suspect of a serial murder case. FBI is wiretapping several possible phone lines in order to identify his location. However, there are not many FBI agencies available to continuously monitor all the lines. Therefore, FBI asks HSE545 students to develop an autonomous audio recognition system. In this special case, FBI wants to know when the sound of ‘Robert’ occurs over a recorded phone conversation.  \n",
    "\n",
    "1) Consider two time signals $x$ and $y$. Both can be represented as a form of column vector. Write down the inner product of two signal $x$ and $y$, and meaning of it.\n",
    "<br><br>\n",
    "$$ x = \n",
    "\\begin{bmatrix}x[1]\\\\x[2]\\\\\\vdots\\\\x[m] \\end{bmatrix},\\quad y=\\begin{bmatrix} y[1]\\\\y[2]\\\\\\vdots\\\\y[m]\\end{bmatrix}$$"
   ]
  },
  {
   "cell_type": "code",
   "execution_count": 5,
   "metadata": {
    "collapsed": false
   },
   "outputs": [
    {
     "data": {
      "text/plain": [
       "Name           Size              Bytes  Class     Attributes\r\n",
       "\r\n",
       "  fs             1x1                   8  double              \r\n",
       "  x         142000x1             1136000  double              \r\n",
       "  y          10300x1               82400  double"
      ]
     },
     "execution_count": 5,
     "metadata": {},
     "output_type": "execute_result"
    }
   ],
   "source": [
    "load([pwd,'\\image_files\\audio_recording.mat']);\n",
    "whos"
   ]
  },
  {
   "cell_type": "markdown",
   "metadata": {},
   "source": [
    "You can hear the sound using MATLAB command `soundsc(y,fs)`."
   ]
  },
  {
   "cell_type": "code",
   "execution_count": 6,
   "metadata": {
    "collapsed": false
   },
   "outputs": [
    {
     "data": {},
     "execution_count": 6,
     "metadata": {},
     "output_type": "execute_result"
    }
   ],
   "source": [
    "soundsc(x,fs);"
   ]
  },
  {
   "cell_type": "code",
   "execution_count": 7,
   "metadata": {
    "collapsed": false
   },
   "outputs": [
    {
     "data": {},
     "execution_count": 7,
     "metadata": {},
     "output_type": "execute_result"
    }
   ],
   "source": [
    "soundsc(y,fs);  % 'Robert'"
   ]
  },
  {
   "cell_type": "markdown",
   "metadata": {},
   "source": [
    "2) Now we want to create a sound recognition (or audio detection) system using the above concepts (here, use the inner product). Write a code to find when the sound of 'Robert' occurs in signal $x$. Note that lengths of two signals are different.\n",
    "\n",
    "Hint: Think about correlation (or inner product) when two signals are similar\n",
    "<img src=\"./image_files/sound_signal_2.png\", width = 400>\n",
    "<center>Figure 5</center>"
   ]
  },
  {
   "cell_type": "code",
   "execution_count": 4,
   "metadata": {
    "collapsed": false
   },
   "outputs": [
    {
     "data": {},
     "execution_count": 4,
     "metadata": {},
     "output_type": "execute_result"
    }
   ],
   "source": [
    "%% audio detection\n",
    "\n",
    "% write your own code here"
   ]
  },
  {
   "cell_type": "markdown",
   "metadata": {},
   "source": [
    "Download this data(reg_pca_data)\n",
    "\n",
    "<a href = \"https://www.dropbox.com/sh/0gdcxfqeq4akp6r/AABKnGH7lKxTBNquokTcpNrSa?dl=0\"> data_set </a>\n"
   ]
  },
  {
   "cell_type": "markdown",
   "metadata": {},
   "source": [
    "# Problem 8"
   ]
  },
  {
   "cell_type": "code",
   "execution_count": 11,
   "metadata": {
    "collapsed": false
   },
   "outputs": [
    {
     "data": {
      "image/png": "[encoded data removed]",
      "text/plain": [
       "<IPython.core.display.Image object>"
      ]
     },
     "metadata": {},
     "output_type": "display_data"
    },
    {
     "data": {
      "text/plain": [
       "Name        Size            Bytes  Class     Attributes\r\n",
       "\r\n",
       "  x         200x1              1600  double              \r\n",
       "  y         200x1              1600  double"
      ]
     },
     "execution_count": 11,
     "metadata": {},
     "output_type": "execute_result"
    }
   ],
   "source": [
    "clear all\n",
    "load([pwd,'\\image_files\\reg_pca_data.mat']); \n",
    "whos\n",
    "\n",
    "plot(x,y,'.')\n",
    "axis equal\n",
    "xlim([-5 5])"
   ]
  },
  {
   "cell_type": "markdown",
   "metadata": {},
   "source": [
    "1. Write a m-code or python code to conduct a linear regression (least square). \n",
    "<br><br>\n",
    "2. Write a m-code or python code to perform PCA. Since `mean(x) = mean(y) = 0`, normalization step (mean subtraction and rescaling) can be skipped.\n",
    "<br><br>\n",
    "3. Comment on why the results are different as shown in Figure 6? \n",
    "\n",
    "<img src=\"./image_files/pca_regression.png\", width = 400>\n",
    "<center>Figure 6</center>"
   ]
  },
  {
   "cell_type": "markdown",
   "metadata": {},
   "source": [
    "Download this data(pca_classification_data)\n",
    "\n",
    "<a href = \"https://www.dropbox.com/sh/xsebrsqxe79g3n0/AAAbwQYsaDF-TkORU5e9KVFqa?dl=0\"> data_set </a>\n",
    "\n"
   ]
  },
  {
   "cell_type": "markdown",
   "metadata": {},
   "source": [
    "# Problem 9\n",
    "\n",
    "PCA can be used for dimensionality reduction. We want to explore this with the following data set: two variables (‘data’ and ‘group’) in the workspace. The variable of ‘data’ has five features, and we want to reduce the number of features using PCA. However, we are not sure about the appropriate number of reduced features. "
   ]
  },
  {
   "cell_type": "code",
   "execution_count": 12,
   "metadata": {
    "collapsed": false
   },
   "outputs": [
    {
     "data": {
      "text/plain": [
       "Name         Size            Bytes  Class     Attributes\r\n",
       "\r\n",
       "  data       200x5              8000  double              \r\n",
       "  group      200x1              1600  double"
      ]
     },
     "execution_count": 12,
     "metadata": {},
     "output_type": "execute_result"
    }
   ],
   "source": [
    "clear all\n",
    "load([pwd,'\\image_files\\pca_classification_data.mat']); \n",
    "whos"
   ]
  },
  {
   "cell_type": "markdown",
   "metadata": {},
   "source": [
    "1. Write a m-code or python code to determine the appropriate number of reduced features. You have to justify your answer. \n",
    "<br><br>\n",
    "2. Apply SVM to the new data (which has reduced features) for classification, and plot your results.\n",
    "<br><br>\n",
    "3. Apply the perceptron algorithm to the new data for classification, and plot your results."
   ]
  }
 ],
 "metadata": {
  "kernelspec": {
   "display_name": "Matlab",
   "language": "matlab",
   "name": "matlab_kernel"
  },
  "language_info": {
   "file_extension": ".m",
   "help_links": [
    {
     "text": "MetaKernel Magics",
     "url": "https://github.com/calysto/metakernel/blob/master/metakernel/magics/README.md"
    }
   ],
   "mimetype": "text/x-matlab",
   "name": "octave"
  }
 },
 "nbformat": 4,
 "nbformat_minor": 0
}
