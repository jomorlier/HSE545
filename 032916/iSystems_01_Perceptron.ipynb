{
 "cells": [
  {
   "cell_type": "markdown",
   "metadata": {},
   "source": [
    "<font size = \"6\">\n",
    "<b>Linear Classification</b>\n",
    "</font>\n",
    "\n",
    "Table of Contents\n",
    "<div id=\"toc\"></div>"
   ]
  },
  {
   "cell_type": "markdown",
   "metadata": {},
   "source": [
    "# 1. Distance from a Line\n",
    "\n",
    "$$\\omega = \\begin{bmatrix}\\omega_1 \\\\ \\omega_2\\end{bmatrix}, \\, x = \\begin{bmatrix}x_1\\\\x_2\\end{bmatrix} \\; \\implies g(x) = \\omega^Tx + \\omega_0 = \\omega_1x_1 + \\omega_2x_2 + \\omega_0$$\n",
    "\n",
    "<br>\n",
    "<img src=\"image_files/line_dist01.jpg\", width = 500>\n",
    "<br>"
   ]
  },
  {
   "cell_type": "markdown",
   "metadata": {},
   "source": [
    "- If $\\vec p$ and $\\vec q$ are on the decision line\n",
    "\n",
    "$$\\begin{align*} g\\left(\\vec p\\right) = g\\left(\\vec q\\right) = 0\n",
    "& \\implies \\omega^T \\vec p + \\omega_0 = \\omega^T \\vec q + \\omega_0 = 0 \\\\\n",
    "& \\implies \\omega^T \\left( \\vec p- \\vec q \\right) = 0 \\\\ \\\\\n",
    "& \\therefore \\, \\omega : \\text{normal to the line (orthogonal)} \n",
    "\\implies \\text{tells the direction of the line}\n",
    "\\end{align*}$$\n",
    "<br>\n",
    "- If $x$ is on the line and $x = d\\frac{\\omega}{\\lVert \\omega \\rVert}$ (where $d$ is a normal distance from the origin to the line)\n",
    "\n",
    "$$ \\begin{align*}  g(x)& = \\omega^Tx + \\omega_0 = 0 \\;  \\\\\n",
    "& \\implies \\omega^Td\\frac{\\omega}{\\lVert \\omega \\rVert} + \\omega_0 = d\\frac{\\omega^T\\omega}{\\lVert \\omega \\rVert} + \\omega_0 = d\\lVert \\omega \\rVert + \\omega_0 = 0 \\\\\n",
    "& \\therefore d \\, = - \\frac{\\omega_0}{\\lVert \\omega \\rVert}\n",
    "\\end{align*}$$\n",
    "\n",
    "- for any vector of $x$\n",
    "\n",
    "$$ x = x_{\\perp} + r \\frac{\\omega}{\\lVert \\omega \\rVert}$$\n",
    "\n",
    "$$ \\omega^Tx = \\omega^T \\left( x_{\\perp} + r \\frac{\\omega}{\\lVert \\omega \\rVert}\\right) = r \\frac{\\omega}{\\lVert \\omega^T\\omega \\rVert} = r \\lVert \\omega \\rVert$$\n",
    "<br>\n",
    "$$ \\begin{align*} g(x)\n",
    "& = \\omega^Tx + \\omega_0 \\\\\n",
    "& = r \\lVert \\omega \\rVert + \\omega_0 \\qquad (r = d + h) \\\\\n",
    "&  = (d +h) \\lVert \\omega \\rVert + \\omega_0 \\\\\n",
    "& = \\left(- \\frac{\\omega_0}{\\lVert \\omega \\rVert} + h \\right)\\lVert \\omega \\rVert + \\omega_0 \\\\\n",
    "&  = h \\lVert \\omega \\rVert\n",
    "\\end{align*}$$\n",
    "\n",
    "$$\\therefore \\; h = \\frac{g(x)}{\\lVert \\omega \\rVert} \\implies\\; \\mathbf{distance \\; from\\; the\\; line} $$\n",
    "\n",
    "<br>\n",
    "<img src=\"image_files/line_dist02.jpg\", width = 600>\n",
    "<br>"
   ]
  },
  {
   "cell_type": "markdown",
   "metadata": {},
   "source": [
    "## Another method to find a distance between $g(x) = -1$ and $g(x) = 1$\n",
    "\n",
    "$\\text{suppose }\\; g(x_1) = -1,\\; g(x_2) = 1$\n",
    "\n",
    "$$ \\begin{array}{I}\n",
    "\\omega^Tx_1+\\omega_0 = -1\\\\\n",
    "\\omega^Tx_2+\\omega_0 = 1\\\\\n",
    "\\end{array}\n",
    "\\; \\implies \\; \\omega^T(x_2 - x_1) = 2$$\n",
    "\n",
    "<br>\n",
    "$$s = \\left\\langle\\frac{\\omega}{\\lVert \\omega \\rVert}, x_2 - x_1 \\right\\rangle = \\frac{1}{\\lVert \\omega \\rVert}\\omega^T(x_2 - x_1) = \\frac {2}{\\lVert \\omega \\rVert}$$\n",
    "\n",
    "\n",
    "<br>\n",
    "<img src=\"image_files/line_dist04.jpg\", width = 250>\n",
    "<br>"
   ]
  },
  {
   "cell_type": "markdown",
   "metadata": {},
   "source": [
    "# 2. Supervised Learning\n",
    "\n",
    "<br>\n",
    "<img src=\"image_files/perceptron01.png\", width=600>\n",
    "<br>"
   ]
  },
  {
   "cell_type": "markdown",
   "metadata": {},
   "source": [
    "# 3. Perceptron\n",
    "\n",
    "- For input $x = \\begin{bmatrix}x_1\\\\ \\vdots\\\\ x_d \\end{bmatrix}\\;$ 'attributes of a customer' \n",
    "\n",
    "\n",
    "- weights $\\omega = \\begin{bmatrix}\\omega_1\\\\ \\vdots\\\\ \\omega_d \\end{bmatrix}$\n",
    "\n",
    "$$\\begin{align*} \\text{Approve credit if} \\;\n",
    "& \\sum\\limits_{i=1}^{d}\\omega_ix_i > \\text{threshold}, \\\\\n",
    "\\text{Deny credit if} \\;\n",
    "& \\sum\\limits_{i=1}^{d}\\omega_ix_i < \\text{threshold}.\n",
    "\\end{align*}$$\n",
    "\n",
    "<br>\n",
    "$$h(x) = \\text{sign} \\left(\\left( \\sum\\limits_{i=1}^{d}\\omega_ix_i \\right)- \\text{threshold} \\right) = \\text{sign}\\left(\\left( \\sum\\limits_{i=1}^{d}\\omega_ix_i \\right)+ \\omega_0\\right)$$\n",
    "\n",
    "- Introduce an artificial coordinate $x_0 = 1$:\n",
    "\n",
    "$$h(x) = \\text{sign}\\left( \\sum\\limits_{i=0}^{d}\\omega_ix_i \\right)$$\n",
    "\n",
    "- In vector form, the perceptron implements\n",
    "\n",
    "$$h(x) = \\text{sign}\\left( \\omega^T x \\right)$$"
   ]
  },
  {
   "cell_type": "markdown",
   "metadata": {},
   "source": [
    "<br>\n",
    "<img src=\"image_files/perceptron02.png\", width=350>\n",
    "<br>\n",
    "\n",
    "- Hyperplane\n",
    "\n",
    "    - Separates a D-dimensional space into two half-spaces\n",
    "    - Defined by an outward pointing normal vector $\\omega$\n",
    "    - $\\omega$ is orthogonal to any vector lying on the hyperplane\n",
    "    - assume the hyperplane passes through origin, $\\omega^T x = 0$ with $x_0 = 1$\n",
    "\n",
    "<br>\n",
    "<img src=\"image_files/perceptron03.png\", width=350>\n",
    "<br>"
   ]
  },
  {
   "cell_type": "markdown",
   "metadata": {},
   "source": [
    "## 3.1. Linear Classifier\n",
    "\n",
    "- represent the decision boundary by a hyperplane $\\omega$\n",
    "\n",
    "- The linear classifier is a way of combining expert opinion.\n",
    "\n",
    "- In this case, each opinion is made by a binary \"expert\"\n",
    "\n",
    "\n",
    "- Goal: to learn the hyperplane $\\omega$ using the training data\n",
    "<br>\n",
    "<img src=\"image_files/perceptron04.png\", width = 500>\n",
    "<br>"
   ]
  },
  {
   "cell_type": "markdown",
   "metadata": {},
   "source": [
    "## 3.2. Perceptron Algorithm\n",
    "\n",
    "The perceptron implements\n",
    "\n",
    "$$h(x) = \\text{sign}\\left( \\omega^Tx \\right)$$\n",
    "\n",
    "Given the training set\n",
    "\n",
    "$$(x_1, y_1), (x_2, y_2), \\cdots, (x_N, y_N) \\quad \\text{where } y_i \\in \\{-1,1\\}$$\n",
    "\n",
    "1) pick a misclassified point\n",
    "\n",
    "$$ \\text{sign}\\left(\\omega^Tx_n \\right) \\neq y_n$$\n",
    "\n",
    "2) and update the weight vector\n",
    "\n",
    "$$\\omega \\leftarrow \\omega + y_nx_n$$"
   ]
  },
  {
   "cell_type": "markdown",
   "metadata": {},
   "source": [
    "<br>\n",
    "<img src=\"image_files/perceptron05.png\", width = 300>\n",
    "\n",
    "\n",
    "__Why perceptron updates work ?__\n",
    "\n",
    "- Let's look at a misclassified positive example ($y_n = +1$)\n",
    "\n",
    "    - perceptron (wrongly) thinks $\\omega_{old}^T x_n < 0$\n",
    "\n",
    "\n",
    "- updates would be\n",
    "$$ \\begin{align*}\\omega_{new} &= \\omega_{old} + y_n x_n = \\omega_{old} + x_n \\\\ \\\\\n",
    "\\omega_{new}^T x_n &= (\\omega_{old} + x_n)^T x_n = \\omega_{old}^T x_n + x_n^T x_n  \\end{align*}$$\n",
    "\n",
    "\n",
    "\n",
    "- Thus $\\omega_{new}^T x_n$ is <font color='green'>less negative</font> than $\\omega_{old}^T x_n$"
   ]
  },
  {
   "cell_type": "markdown",
   "metadata": {},
   "source": [
    "## 3.3. Iterations of Perceptron\n",
    "\n",
    "1. Randomly assign $\\omega$\n",
    "<br><br>\n",
    "2. One iteration of the PLA (perceptron learning algorithm)\n",
    "    $$\\omega \\leftarrow \\omega + yx$$\n",
    "    where $(x, y)$ is a misclassified training point\n",
    "<br><br>\n",
    "3. At iteration $t = 1, 2, 3, \\cdots,$ pick a misclassified point from\n",
    "    $$(x_1,y_1),(x_2,y_2),\\cdots,(x_N, y_N)$$\n",
    "<br><br>\n",
    "4. and run a PLA iteration on it\n",
    "<br><br>\n",
    "5. That's it!\n",
    "\n",
    "<br>\n",
    "<img src=\"image_files/perceptron06.png\", width = 300>\n",
    "<br>"
   ]
  },
  {
   "cell_type": "markdown",
   "metadata": {},
   "source": [
    "## 3.4. Perceptron loss function\n",
    "\n",
    "$$ L(\\omega) = \\sum_{n =1}^{m} \\max \\left\\{ 0, -y_n \\left(\\omega^T x_n \\right)\\right\\} $$\n",
    "\n",
    "- Loss = 0 on examples where perceptron is correct, i.e., $y_n \\left(\\omega^T x_n \\right) > 0$\n",
    "\n",
    "\n",
    "- Loss > 0 on examples where perceptron misclassified, i.e., $y_n \\left(\\omega^T x_n \\right) < 0$\n",
    "\n",
    "\n",
    "<br>\n",
    "__note__: $\\text{sign}\\left(\\omega^T x_n \\right) \\neq y_n$ is equivalent to $ y_n \\left(\\omega^T x_n \\right) < 0$"
   ]
  },
  {
   "cell_type": "markdown",
   "metadata": {},
   "source": [
    "## 3.5. The best hyperplane separator?\n",
    "\n",
    "- Perceptron finds one of the many possible hyperplanes separating the data if one exists\n",
    "\n",
    "\n",
    "- Of the many possible choices, which one is the best?\n",
    "\n",
    "\n",
    "- Intuitively we want the hyperplane having the maximum margin\n",
    "\n",
    "\n",
    "- Large margine leads to good generalization on the test data\n",
    "    - we will see this formally when we cover Support Vector Machine"
   ]
  },
  {
   "cell_type": "markdown",
   "metadata": {},
   "source": [
    "# 4. Matab Example\n",
    "\n",
    "$$ \n",
    "\\begin{align*}\n",
    "\\omega &= \\begin{bmatrix} \\omega_1 \\\\ \\omega_2 \\\\ \\omega_3\\end{bmatrix}\\\\\n",
    "x &= \\begin{bmatrix} x_1^1 & x_2^1 & x_3^1& \\cdots \\\\ x_1^2 & x_2^2 & x_3^2& \\cdots \\\\ x_1^3 & x_2^3 & x_3^3 & \\cdots \\end{bmatrix} \\\\\n",
    "y &= \\begin{bmatrix} y_1 &y_2 &y_3 & \\cdots\\end{bmatrix}\n",
    "\\end{align*}$$\n",
    "\n"
   ]
  },
  {
   "cell_type": "code",
   "execution_count": 7,
   "metadata": {
    "collapsed": false
   },
   "outputs": [
    {
     "data": {
      "image/png": "[encoded data removed]",
      "text/plain": [
       "<IPython.core.display.Image object>"
      ]
     },
     "metadata": {},
     "output_type": "display_data"
    },
    {
     "data": {},
     "execution_count": 7,
     "metadata": {},
     "output_type": "execute_result"
    }
   ],
   "source": [
    "%% Perceptron\n",
    "\n",
    "% training data generation\n",
    "rand('state',47)\n",
    "x1 = 8*rand(1,100);         % uniform distribution for x1\n",
    "x2 = 7*rand(1,100) - 4;     % uniform distribution for x2\n",
    "\n",
    "g0 = .8*x1 + x2 - 3;        % user defines the decision boundary\n",
    "                            % w = [0.8 1]', w0 = -3\n",
    "\n",
    "C1 = find(g0 >= 1);         % labels for blue \n",
    "C2 = find(g0 < -1);         % labels for red\n",
    "\n",
    "figure(1),  clf\n",
    "h1 = plot(x1(C1),x2(C1),'go',x1(C2),x2(C2),'bo');\n",
    "axis equal, xlim([0 8])\n",
    "\n",
    "title('linearly and strictly separable classes','fontweight','bold','fontsize',12)\n",
    "xlabel('x_1'),   ylabel('x_2')\n",
    "legend('C1','C2','location','SE')"
   ]
  },
  {
   "cell_type": "code",
   "execution_count": 8,
   "metadata": {
    "collapsed": false
   },
   "outputs": [
    {
     "data": {
      "image/png": "[encoded data removed]",
      "text/plain": [
       "<IPython.core.display.Image object>"
      ]
     },
     "metadata": {},
     "output_type": "display_data"
    },
    {
     "data": {},
     "execution_count": 8,
     "metadata": {},
     "output_type": "execute_result"
    }
   ],
   "source": [
    "%% labelling and feature\n",
    "\n",
    "X1 = [x1(C1); \n",
    "      x2(C1)];\n",
    "X2 = [x1(C2); \n",
    "      x2(C2)];\n",
    "X = [X1 X2];\n",
    "\n",
    "y1 = ones(1,length(C1));    % class 1 => y = +1\n",
    "y2 = -ones(1,length(C2));   % class 2 => y = -1\n",
    "y = [y1 y2];\n",
    "\n",
    "X3 = [ones(1,length(X)); X];\n",
    "\n",
    "%% perceptron algorithm\n",
    "\n",
    "w = ones(3,1);              % w initialization\n",
    "\n",
    "iter = length(X3);          % iteration number\n",
    "\n",
    "for k = 1:iter\n",
    "    for i = 1:length(X3)\n",
    "        yhat = sign(w'*X3(:,i));       \n",
    "        if y(i) ~= yhat            \n",
    "            w = w + y(i)*X3(:,i);\n",
    "        end\n",
    "    end\n",
    "end\n",
    "\n",
    "xp = linspace(0,8,100);\n",
    "yp = -w(2)/w(3)*xp - w(1)/w(3);\n",
    "\n",
    "figure(2),  clf\n",
    "plot(x1(C1),x2(C1),'go',x1(C2),x2(C2),'bo',xp,yp,'--r'); \n",
    "axis equal, xlim([0 8])\n",
    "\n",
    "xlabel('x_1'),   ylabel('x_2')\n",
    "legend('C1','C2','perceptron','location','SouthEast')"
   ]
  },
  {
   "cell_type": "code",
   "execution_count": 10,
   "metadata": {
    "collapsed": false
   },
   "outputs": [
    {
     "data": {
      "image/png": "[encoded data removed]",
      "text/plain": [
       "<IPython.core.display.Image object>"
      ]
     },
     "metadata": {},
     "output_type": "display_data"
    },
    {
     "data": {},
     "execution_count": 10,
     "metadata": {},
     "output_type": "execute_result"
    }
   ],
   "source": [
    "%% animation\n",
    "% run in matlab to see animiation\n",
    "\n",
    "% w = ones(3,1);                % w initialization\n",
    "w = [2 -5 1]';\n",
    "yp = -w(2)/w(3)*xp - w(1)/w(3);\n",
    "\n",
    "figure(3),  clf\n",
    "h3 = plot(x1(C1),x2(C1),'go',x1(C2),x2(C2),'bo',xp,yp,'--r'); \n",
    "axis([0 8 -4 3])\n",
    "\n",
    "iter = length(X3);              % iteration number\n",
    "for k = 1:iter\n",
    "    for i = 1:length(X3)\n",
    "        yhat = sign(w'*X3(:,i));               \n",
    "        \n",
    "        if y(i) ~= yhat\n",
    "            w = w + y(i)*X3(:,i);\n",
    "\n",
    "            h3(3).XDataSource = 'xp';\n",
    "            h3(3).YDataSource = 'yp';\n",
    "\n",
    "            yp = -w(2)/w(3)*xp - w(1)/w(3);      \n",
    "            refreshdata\n",
    "            pause(0.1)\n",
    "        end\n",
    "    end\n",
    "end"
   ]
  },
  {
   "cell_type": "code",
   "execution_count": 5,
   "metadata": {
    "collapsed": false
   },
   "outputs": [
    {
     "data": {
      "application/javascript": [
       "$.getScript('https://kmahelona.github.io/ipython_notebook_goodies/ipython_notebook_toc.js')"
      ],
      "text/plain": [
       "<IPython.core.display.Javascript object>"
      ]
     },
     "metadata": {},
     "output_type": "display_data"
    }
   ],
   "source": [
    "%%javascript\n",
    "$.getScript('https://kmahelona.github.io/ipython_notebook_goodies/ipython_notebook_toc.js')"
   ]
  }
 ],
 "metadata": {
  "kernelspec": {
   "display_name": "Matlab",
   "language": "matlab",
   "name": "matlab"
  },
  "language_info": {
   "codemirror_mode": "octave",
   "file_extension": ".m",
   "help_links": [
    {
     "text": "MetaKernel Magics",
     "url": "https://github.com/calysto/metakernel/blob/master/metakernel/magics/README.md"
    }
   ],
   "mimetype": "text/x-matlab",
   "name": "matlab",
   "version": "0.8.0"
  }
 },
 "nbformat": 4,
 "nbformat_minor": 0
}
