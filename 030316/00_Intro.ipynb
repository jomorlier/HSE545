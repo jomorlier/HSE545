{
 "cells": [
  {
   "cell_type": "markdown",
   "metadata": {},
   "source": [
    "<font size=\"6\">\n",
    "<b>Machine Learning</b>\n",
    "</font>"
   ]
  },
  {
   "cell_type": "markdown",
   "metadata": {},
   "source": [
    "Table of Contents\n",
    "<div id=\"toc\"></div>"
   ]
  },
  {
   "cell_type": "markdown",
   "metadata": {},
   "source": [
    "# 1. Introduction\n",
    "\n",
    "- Prof. Seungchul Lee (`seunglee@unist.ac.kr`)\n",
    "    - http://isystems.unist.ac.kr/\n",
    "    - Office: 901-1\n",
    "    - Phone: 2726\n",
    "    - Office hours: any time\n",
    "\n",
    "\n",
    "- (unofficial TA) Sunhee Woo (`wsh920319@gmail.com`)\n",
    "    - Office: 910\n",
    "    - Phone: 2728\n",
    "    - Office hours: any time"
   ]
  },
  {
   "cell_type": "markdown",
   "metadata": {},
   "source": [
    "## 1.1. Course Info\n",
    "\n",
    "- Machine learning\n",
    "    - Linear algebra\n",
    "    - Optimization\n",
    "    - Statistical and probabilistic approaches\n",
    "\n",
    "\n",
    "- MATLAB (or python) in class and assignments\n",
    "    - use it a lot\n",
    "    - Provide all necessary .m codes (.py code) for a class\n",
    "\n",
    "\n",
    "- Evaluation\n",
    "    - Two exams (30% + 35%)\n",
    "    - Many assignments (25%)\n",
    "    - Class participation (10%)"
   ]
  },
  {
   "cell_type": "markdown",
   "metadata": {},
   "source": [
    "## 1.2. What is Machine Learning\n",
    "\n",
    "- Draw a meaningful conclusion, given a set of data (observation, measurement)\n",
    "\n",
    "\n",
    "-  In 1959, Arthur Samuel defined [machine learning](https://en.wikipedia.org/wiki/Machine_learning) as a \"Field of study that gives computers the ability to learn without being explicitly programmed\"\n",
    "\n",
    "    - Often hand programming not possible\n",
    "    - Solution? Get the computer to program itself, by showing it examples of the behavior we want! This is the _learning_ approach of AI\n",
    "    - Really, we write the structure of the program and the computer tunes many internal parameters\n",
    "\n",
    "\n",
    "- Many related terms:\n",
    "    - Pattern recognition\n",
    "    - Neural networks $\\rightarrow$ Deep learning\n",
    "    - Data mining\n",
    "    - Adaptive control\n",
    "    - Statistical modeling\n",
    "    - Data analytics / data science\n",
    "    - Artificial intelligence\n",
    "    - Machine learning\n",
    "\n",
    "(source: [lecture video](https://www.youtube.com/embed/mgBrXnjF8R4?vq=hd1080&autoplay=1) from The Machine Learning Summer School by [Zoubin Ghahramani](http://mlg.eng.cam.ac.uk/zoubin/), Univ. of Cambridge)"
   ]
  },
  {
   "cell_type": "markdown",
   "metadata": {},
   "source": [
    "## 1.3. Learning: the View from Different Fields\n",
    "\n",
    "- Engineering\n",
    "    - Signal processing, system identification, adaptive and optimal control, information theory, robotics, …\n",
    "- Computer science\n",
    "    - Artificial intelligence, computer vision, …\n",
    "- Statistics\n",
    "    - Learning theory, data mining, learning and inference from data, …\n",
    "- Cognitive science and psychology\n",
    "    - Perception, movement control, reinforcement learning, mathematical psychology, …\n",
    "- Economics\n",
    "    - Decision theory, game theory, operational research, …\n",
    "\n",
    "(source: [lecture video](https://www.youtube.com/embed/mgBrXnjF8R4?vq=hd1080&autoplay=1) from The Machine Learning Summer School by [Zoubin Ghahramani](http://mlg.eng.cam.ac.uk/zoubin/), Univ. of Cambridge)"
   ]
  },
  {
   "cell_type": "markdown",
   "metadata": {},
   "source": [
    "## 1.4. Course Roadmap\n",
    "\n",
    "- Supervised Learning\n",
    "    - Regression \n",
    "        - linear, nonlinear (kernel), ridge ($L_1$ norm regularization), lasso ($L_2$ norm regularization)\n",
    "    - Classification\n",
    "        - perceptron, logistic regression, SVM, Beysian classifier\n",
    "        \n",
    "\n",
    "- Unsupervised Learning\n",
    "    - Clustering\n",
    "        - k-means, Gaussian Mixture Model\n",
    "        - graph partitioning (spectral clustering)\n",
    "\n",
    "\n",
    "- Required tools\n",
    "    - linear algebra\n",
    "        - matrix\n",
    "        - $Ax = b$\n",
    "        - projection\n",
    "        - eigen analysis\n",
    "        - SVD\n",
    "    - optimization        \n",
    "        - least squares\n",
    "        - `cvx`, `linprog`, `intlinprog` \n",
    "    - statistics\n",
    "        - Law of large numbers, central limit theorem\n",
    "        - correlation \n",
    "    - probability\n",
    "        - Random variable, Gaussian density distribution, conditional probability, \n",
    "        - maximum likelihood, maximum a posterior (MAP), Beysian thinking"
   ]
  },
  {
   "cell_type": "markdown",
   "metadata": {},
   "source": [
    "<br>\n",
    "<img src = \".\\image_files\\courseRoadmap.png\" style=\"border:1px solid black\", width =850> \n",
    "<br>"
   ]
  },
  {
   "cell_type": "markdown",
   "metadata": {},
   "source": [
    "# 2. What Will We Cover?\n",
    "\n",
    "- I will show you some examples"
   ]
  },
  {
   "cell_type": "markdown",
   "metadata": {},
   "source": [
    "## 2.1. Data Fitting or Approximation (Regression)\n",
    "\n",
    "- a statistical process for estimating the relationships among variables (source: [wikipedia](https://en.wikipedia.org/wiki/Regression_analysis))\n",
    "\n",
    "<br>\n",
    "<img src = \".\\image_files\\Regression.png\" style=\"border:1px solid black\", width =500> \n",
    "<br>\n",
    "<br>\n",
    "<img src = \".\\image_files\\Regression2.png\" style=\"border:1px solid black\", width =500> \n",
    "<br>"
   ]
  },
  {
   "cell_type": "markdown",
   "metadata": {},
   "source": [
    "## 2.2. Classification\n",
    "\n",
    "- the problem of identifying to which of a set of categories (sub-populations) a new observation belongs, on the basis of a training set of data containing observations (or instances) whose category membership is known (source: [wikipedia](https://en.wikipedia.org/wiki/Statistical_classification))\n",
    "\n",
    "<br>\n",
    "<img src = \".\\image_files\\classification.png\" style=\"border:1px solid black\", width =500> \n",
    "<br>"
   ]
  },
  {
   "cell_type": "markdown",
   "metadata": {},
   "source": [
    "## 2.3. Sudoku (part of optimization demos)\n",
    "\n",
    "- The objective is to fill a 9×9 grid with digits so that each column, each row, and each of the nine 3×3 sub-grids that compose the grid contains all of the digits from 1 to 9 (source: [wikipedia](https://en.wikipedia.org/wiki/Sudoku))\n",
    "\n",
    "<br>\n",
    "<img src = \"image_files\\Sudoku.png\" style=\"border:1px solid black\", width =300> \n",
    "<br>"
   ]
  },
  {
   "cell_type": "markdown",
   "metadata": {},
   "source": [
    "## 2.4. Gaussian Density Distribution for Probabilistic Approach\n",
    "\n",
    "- Conditional of a joint Gaussian is Gaussian\n",
    "\n",
    "<br>\n",
    "<img src = \".\\image_files\\gaussian.png\" style=\"border:1px solid black\", width =500> \n",
    "<br>"
   ]
  },
  {
   "cell_type": "markdown",
   "metadata": {},
   "source": [
    "## 2.5. Machine Learning in Image Processing\n",
    "\n",
    "- Low rank approximation\n",
    "\n",
    "- Data compression\n",
    "\n",
    "<br>\n",
    "<img src = \".\\image_files\\image.png\" style=\"border:1px solid black\", width =500> \n",
    "<br>"
   ]
  },
  {
   "cell_type": "markdown",
   "metadata": {},
   "source": [
    "## 2.6. Handwritten Digit Recognition\n",
    "\n",
    "- famous classification problem\n",
    "\n",
    "<br>\n",
    "<img src = \".\\image_files\\handwritten.png\" style=\"border:1px solid black\", width =500> \n",
    "<br>"
   ]
  },
  {
   "cell_type": "markdown",
   "metadata": {},
   "source": [
    "## 2.7. Face Recognition\n",
    "\n",
    "- famous classification problem\n",
    "\n",
    "<br>\n",
    "<img src = \".\\image_files\\Face.png\" style=\"border:1px solid black\", width =500> \n",
    "<br>"
   ]
  },
  {
   "cell_type": "markdown",
   "metadata": {},
   "source": [
    "## 2.8. Dimension Reduction (Multiple Senses + Principal Components)\n",
    "\n",
    "- the process of reducing the number of random variables under consideration, and can be divided into feature selection and feature extraction.\n",
    "\n",
    "<br>\n",
    "<img src = \".\\image_files\\senses.png\" style=\"border:1px solid black\", width =500> \n",
    "<br>"
   ]
  },
  {
   "cell_type": "markdown",
   "metadata": {},
   "source": [
    "## 2.9. Google [PageRank](https://en.wikipedia.org/wiki/PageRank)\n",
    "\n",
    "PageRank is an algorithm used by Google Search to rank websites in their search engine results. PageRank was named after [Larry Page](https://en.wikipedia.org/wiki/Larry_Page) one of the founders of Google. PageRank is a way of measuring the importance of website pages. According to Google:\n",
    "\n",
    "> `PageRank works by counting the number and quality of links to a page to determine a rough estimate of how important the website is. The underlying assumption is that more important websites are likely to receive more links from other websites.`\n",
    "\n",
    "Networks"
   ]
  },
  {
   "cell_type": "markdown",
   "metadata": {},
   "source": [
    "## 2.10. Community Detection in Social Networks (Facebook)\n",
    "\n",
    "- Visualizing Polarization in Political Blogs ([animation](http://allthingsgraphed.com/2014/10/09/visualizing-political-polarization/))\n",
    "\n",
    "- Networks\n",
    "\n",
    "<br>\n",
    "<img src = \".\\image_files\\left-right.png\" style=\"border:1px solid black\", width =500> \n",
    "<br>"
   ]
  },
  {
   "cell_type": "markdown",
   "metadata": {},
   "source": [
    "# 3. Assignment\n",
    "\n",
    "- Email TA (wsh920319@gmail.com) to join the dropbox\n",
    "\n",
    "# Next Class\n",
    "- Linear algebra review by Prof. Zico Kolter from CMU \n",
    "- online available \n",
    "    - http://www.cs.cmu.edu/~zkolter/course/linalg/\n",
    "    - http://www.cs.cmu.edu/~jingx/docs/linearalgebra.pdf\n"
   ]
  },
  {
   "cell_type": "code",
   "execution_count": 3,
   "metadata": {
    "collapsed": false
   },
   "outputs": [
    {
     "data": {
      "application/javascript": [
       "$.getScript('https://kmahelona.github.io/ipython_notebook_goodies/ipython_notebook_toc.js')"
      ],
      "text/plain": [
       "<IPython.core.display.Javascript object>"
      ]
     },
     "metadata": {},
     "output_type": "display_data"
    }
   ],
   "source": [
    "%%javascript\n",
    "$.getScript('https://kmahelona.github.io/ipython_notebook_goodies/ipython_notebook_toc.js')"
   ]
  }
 ],
 "metadata": {
  "kernelspec": {
   "display_name": "Python 2",
   "language": "python",
   "name": "python2"
  },
  "language_info": {
   "codemirror_mode": {
    "name": "ipython",
    "version": 2
   },
   "file_extension": ".py",
   "mimetype": "text/x-python",
   "name": "python",
   "nbconvert_exporter": "python",
   "pygments_lexer": "ipython2",
   "version": "2.7.11"
  }
 },
 "nbformat": 4,
 "nbformat_minor": 0
}
