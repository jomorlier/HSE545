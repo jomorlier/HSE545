{
 "cells": [
  {
   "cell_type": "markdown",
   "metadata": {},
   "source": [
    "# Problem 1\n",
    "\n",
    "You will use K-means to compress an image by reducing the number of colors it contains.\n",
    "\n",
    "1) Image Representation\n",
    "\n",
    "The data for this exercise contains a 128-pixel by 128-pixel TIFF image named \"bird.tiff.\" It looks like the picture in Figure 1.\n",
    "<br><br>\n",
    "<img src=\"./image_files/06.bmp\", width = 250>\n",
    "<br><br>\n",
    "In a straightforward 24-bit color representation of this image, each pixel is represented as three 8-bit numbers (ranging from 0 to 255) that specify red, green and blue (RGB) intensity values. Our bird photo contains thousands of colors, but we'd like to reduce that number to 16. By making this reduction, it would be possible to represent the photo in a more efficient way by storing only the RGB values of the 16 colors present in the image.\n",
    "\n",
    "In this problem, you will use K-means to reduce the color count to $k = 16$. That is, you will compute 16 colors as the cluster centroids and replace each pixel in the image with its nearest cluster centroid color.\n",
    "\n",
    "2) K-means in Matlab\n",
    "\n",
    "<a href = \"https://www.dropbox.com/s/7oqo3m0nyapuczu/bird.tiff?dl=0\"> download bird.tiff </a>\n",
    "\n",
    "In Matlab, load the image into your program with the following command:\n",
    "\n",
    "```octave \n",
    "im = imread('bird.tiff');\n",
    "A = double(im);\n",
    "imshow(im)\n",
    "```\n",
    "This creates a three-dimensional matrix $A$ whose first two indices identify a pixel position and whose last index represents red, green, or blue. For example, $A(50, 33, 3)$ gives you the blue intensity of the pixel at position $y = 50, x = 33$. (The y-position is given first, but this does not matter so much in our example because the $x$ and $y$ dimensions have the same size).\n",
    "\n",
    "Your task is to compute 16 cluster centroids from this image, with each centroid being a vector of length three that holds a set of RGB values. Here is the K-means algorithm as it applies to this problem:\n",
    "\n",
    "3) K-means algorithm\n",
    "\n",
    "> 1. For initialization, sample 16 colors randomly from the original picture. There are your \n",
    "$k$ means $\\mu_1, \\mu_2, \\cdots, \\mu_k$.\n",
    "<br><br>\n",
    "> 2. Go through each pixel in the small image and calculate its nearest mean.\n",
    " <br><br>\n",
    " $$c^{(i)} = \\text{arg} min_j \\lVert x^{(i)}-\\mu_j \\rVert^2$$\n",
    " <br><br>\n",
    "> 3. Update the values of the means based on the pixels assigned to them. \n",
    "<br><br>\n",
    "$$\\mu_j = \\frac{\\sum\\limits_i^m 1\\{c^{(i)} = j\\}x^{(i)}}{\\sum\\limits_i^m 1\\{c^{(i)} = j\\}}$$\n",
    "<br><br>\n",
    ">4. Repeat steps 2 and 3 until convergence. This should take between 30 and 100 iterations. You can either run the loop for a preset maximum number of iterations, or you can decide to terminate the loop when the locations of the means are no longer changing by a significant amount.\n",
    "\n",
    "Note: In Step 3, you should update a mean only if there are pixels assigned to it. Otherwise, you will see a divide-by-zero error. For example, it's possible that during initialization, two of the means will be initialized to the same color (_i.e._ black). Depending on your implementation, all of the pixels in the photo that are closest to that color may get assigned to one of the means, leaving the other mean with no assigned pixels.\n",
    "\n",
    "When you have recalculated the image, you can display it. When you are finished, compare your image to the one in the solutions.\n",
    "\n",
    "```octave\n",
    "imshow(unit8(A16));\n",
    "```\n",
    "\n",
    "<img src=\"./image_files/07.bmp\", width = 250>"
   ]
  },
  {
   "cell_type": "markdown",
   "metadata": {},
   "source": [
    "# Problem 2\n",
    "\n",
    "Let $f(x_1,x_2) = 2x_1 + 3x_2 + 1 = 0$ be the hyperplane (or decision surface in classification problems). Compute the shortest distances from $x_a = \\begin{bmatrix} 2 \\\\1\\end{bmatrix}$ and $x_b = \\begin{bmatrix} 1 \\\\ -1\\end{bmatrix}$ to the above hyperplane.\n"
   ]
  },
  {
   "cell_type": "markdown",
   "metadata": {},
   "source": [
    "# Problem 3\n",
    "\n",
    "Find the solution $r$ of the below optimization problem with the following objective function and constraint. ($x,\\omega, \\omega_0 \\in \\mathbb{R}^n$)\n",
    "\n",
    "$$ \n",
    "\\begin{align*}\n",
    "r = \\;&\\min_x \\;\\rVert x \\lVert\\\\\n",
    "\\text{s.t.}&\\; \\omega^T x + \\omega_0 = 0\n",
    "\\end{align*}$$ "
   ]
  },
  {
   "cell_type": "markdown",
   "metadata": {},
   "source": [
    "# Problem 4\n",
    "\n",
    "In a logistic regression, we define $$\\sigma(z) = \\frac{1}{1 + e^{-z}}$$ Then, show\n",
    "$$ \\frac{d\\sigma(z)}{dz} = \\sigma(z)(1-\\sigma(z))$$\n",
    "\n",
    "Note: this property is useful in a gradient descent for a parameter learning.\n"
   ]
  },
  {
   "cell_type": "markdown",
   "metadata": {},
   "source": [
    "# Problem 5\n",
    "\n",
    "[Classification with more than two classes] \n",
    "\n",
    "We learned about a binary classification in class (SVM or logistic regression). However, we have to deal with multi-class classifications for some cases. I provide three groups of data in the following m-code. Create your own algorithms in Matlab or python to find linear classification surfaces and classes that each data belongs to. \n",
    "\n",
    "(hint: use binary classification algorithms and extend it to multi-class classification problems)"
   ]
  },
  {
   "cell_type": "code",
   "execution_count": 11,
   "metadata": {
    "collapsed": false
   },
   "outputs": [
    {
     "data": {
      "image/png": "[encoded data removed]",
      "text/plain": [
       "<IPython.core.display.Image object>"
      ]
     },
     "metadata": {},
     "output_type": "display_data"
    },
    {
     "data": {},
     "execution_count": 11,
     "metadata": {},
     "output_type": "execute_result"
    }
   ],
   "source": [
    "%% generate three simulated clusters\n",
    "\n",
    "mu1 = [1 7];\n",
    "SIGMA1 = 0.8*[1 1.5; 1.5 3];\n",
    "X1 = mvnrnd(mu1,SIGMA1,100);\n",
    "\n",
    "mu2 = [3 4];\n",
    "SIGMA2 = 0.3*[1 0; 0 1];\n",
    "X2 = mvnrnd(mu2,SIGMA2,100);\n",
    "\n",
    "mu3 = [7 5];\n",
    "SIGMA3 = 0.3*[1 -1;-1 2];\n",
    "X3 = mvnrnd(mu3,SIGMA3,50);\n",
    "\n",
    "figure(1);  clf;    hold on\n",
    "plot(X1(:,1),X1(:,2),'b+')\n",
    "plot(X2(:,1),X2(:,2),'r+')\n",
    "plot(X3(:,1),X3(:,2),'g+'), hold off\n",
    "axis equal"
   ]
  },
  {
   "cell_type": "markdown",
   "metadata": {},
   "source": [
    "# Problem 6\n",
    "\n",
    "Find the correlation coefficient between random variables $X$ and $Y=aX+b$. Explain the\n",
    "meaning of a correlation coefficient with the example of random variables $X$ and $Y=aX+b$."
   ]
  },
  {
   "cell_type": "markdown",
   "metadata": {},
   "source": [
    "# Problem 7\n",
    "\n",
    "The probability of values that lie within a band $[ \\mu -2\\sigma, \\mu + 2\\sigma]$ of Gaussian distribution $N(\\mu,\\sigma^2)$ is 95.45%. In mathematical expression\n",
    "\n",
    "$$P(\\mu-2\\sigma \\leq x \\leq \\mu + 2\\sigma) \\approx 0.9545$$ \n",
    "\n",
    "We want to numerically show it with random numbers in Matlab or python. Note that this method is known as the Monte Carlo method.\n",
    "\n",
    "<img src=\"./image_files/Empirical_Rule2.png\", width = 350>\n",
    "<br>\n",
    "1) Generate a random samples using `randn` command in Matlab.\n",
    "\n",
    "2) Count the number of samples which fall into a band $[ \\mu -2\\sigma, \\mu + 2\\sigma]$.\n",
    "\n",
    "3) Compute the ratio of samples that fall into a band to the total number of samples.\n",
    "\n",
    "4) Plot the graph to show how the ratio changes as the number of samples increases.\n",
    "\n",
    "\n",
    "\n",
    "\n"
   ]
  },
  {
   "cell_type": "code",
   "execution_count": null,
   "metadata": {
    "collapsed": true
   },
   "outputs": [],
   "source": []
  }
 ],
 "metadata": {
  "kernelspec": {
   "display_name": "Matlab",
   "language": "matlab",
   "name": "matlab"
  },
  "language_info": {
   "codemirror_mode": "octave",
   "file_extension": ".m",
   "help_links": [
    {
     "text": "MetaKernel Magics",
     "url": "https://github.com/calysto/metakernel/blob/master/metakernel/magics/README.md"
    }
   ],
   "mimetype": "text/x-matlab",
   "name": "matlab",
   "version": "0.8.0"
  }
 },
 "nbformat": 4,
 "nbformat_minor": 0
}
