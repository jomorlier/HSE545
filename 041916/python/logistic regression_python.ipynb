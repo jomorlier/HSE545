{
 "cells": [
  {
   "cell_type": "code",
   "execution_count": 234,
   "metadata": {
    "collapsed": true
   },
   "outputs": [],
   "source": [
    "import numpy as np\n",
    "import matplotlib.pyplot as plt\n",
    "from numpy import linalg as LA\n",
    "import cvxpy as cvx\n",
    "from scipy import stats, misc\n",
    "import numpy.matlib\n",
    "\n",
    "%matplotlib inline\n",
    "import warnings\n",
    "warnings.filterwarnings('ignore')"
   ]
  },
  {
   "cell_type": "code",
   "execution_count": 235,
   "metadata": {
    "collapsed": false,
    "scrolled": true
   },
   "outputs": [
    {
     "data": {
      "text/plain": [
       "(-0.1, 1.1)"
      ]
     },
     "execution_count": 235,
     "metadata": {},
     "output_type": "execute_result"
    },
    {
     "data": {
      "image/png": "[encoded data removed]",
      "text/plain": [
       "<matplotlib.figure.Figure at 0x81e82e8>"
      ]
     },
     "metadata": {},
     "output_type": "display_data"
    }
   ],
   "source": [
    "z = [x/10. for x in range(-100, 101)]\n",
    "z = np.array(z)\n",
    "s = 1./(1+np.exp(-z))\n",
    "plt.plot(z, s)\n",
    "plt.xlim([-11, 11])\n",
    "plt.ylim([-0.1, 1.1])"
   ]
  },
  {
   "cell_type": "code",
   "execution_count": 455,
   "metadata": {
    "collapsed": false,
    "scrolled": true
   },
   "outputs": [
    {
     "data": {
      "image/png": "[encoded data removed]",
      "text/plain": [
       "<matplotlib.figure.Figure at 0x5d1efe48>"
      ]
     },
     "metadata": {},
     "output_type": "display_data"
    }
   ],
   "source": [
    "m = 100\n",
    "w = np.array([[2], [1], [-4]])\n",
    "\n",
    "X = np.concatenate(((2*np.random.rand(m, 1)),(4*np.random.rand(m, 1)) ,np.ones((m, 1))), axis = 1 )\n",
    "y = 0.5 < (np.exp(X.dot(w))/(1+np.exp(X.dot(w))))\n",
    "y = y.astype(float)\n",
    "c1 = np.where(y == 1)[0]\n",
    "c2 = np.where(y == 0)[0]\n",
    "y[c2] = -1\n",
    "plt.plot(X[c1, 0], X[c1, 1], 'go', X[c2, 0], X[c2, 1], 'bo')\n",
    "plt.show()"
   ]
  },
  {
   "cell_type": "code",
   "execution_count": 456,
   "metadata": {
    "collapsed": false,
    "scrolled": true
   },
   "outputs": [
    {
     "data": {
      "text/plain": [
       "2.1665302240472074e-05"
      ]
     },
     "execution_count": 456,
     "metadata": {},
     "output_type": "execute_result"
    }
   ],
   "source": [
    "y = np.matrix(y)\n",
    "X = np.matrix(X)\n",
    "w = cvx.Variable(3)\n",
    "expr2 = [cvx.log_sum_exp(cvx.vstack(0, y[i]*X[i,:]*w)) for i in range(m)]\n",
    "expr3 = sum(expr2)\n",
    "obj = cvx.Minimize(expr3)\n",
    "prob = cvx.Problem(obj)\n",
    "prob.solve()\n"
   ]
  },
  {
   "cell_type": "code",
   "execution_count": 457,
   "metadata": {
    "collapsed": false
   },
   "outputs": [
    {
     "data": {
      "text/plain": [
       "matrix([[-304.93938784],\n",
       "        [-146.72772407],\n",
       "        [ 597.53338802]])"
      ]
     },
     "execution_count": 457,
     "metadata": {},
     "output_type": "execute_result"
    }
   ],
   "source": [
    "w.value"
   ]
  },
  {
   "cell_type": "code",
   "execution_count": 458,
   "metadata": {
    "collapsed": false,
    "scrolled": true
   },
   "outputs": [
    {
     "data": {
      "image/png": "[encoded data removed]",
      "text/plain": [
       "<matplotlib.figure.Figure at 0x5c6ba9e8>"
      ]
     },
     "metadata": {},
     "output_type": "display_data"
    }
   ],
   "source": [
    "wsol = np.asarray(w.value)\n",
    "xp = [x/10. for x in range(0, 21)]\n",
    "yp = (-wsol[0]*xp - wsol[2])/wsol[1]\n",
    "plt.plot(X[c1, 0], X[c1, 1], 'go', X[c2, 0], X[c2, 1], 'bo')\n",
    "plt.plot(xp,yp,'r')\n",
    "plt.show()"
   ]
  },
  {
   "cell_type": "code",
   "execution_count": null,
   "metadata": {
    "collapsed": true
   },
   "outputs": [],
   "source": []
  },
  {
   "cell_type": "code",
   "execution_count": 462,
   "metadata": {
    "collapsed": false
   },
   "outputs": [
    {
     "data": {
      "text/plain": [
       "23.4699878235756"
      ]
     },
     "execution_count": 462,
     "metadata": {},
     "output_type": "execute_result"
    }
   ],
   "source": [
    "y = np.matrix(y)\n",
    "X = np.matrix(X)\n",
    "w = cvx.Variable(3)\n",
    "g = 1;\n",
    "expr2 = [cvx.log_sum_exp(cvx.vstack(0, y[i]*X[i,:]*w)) for i in range(m)]\n",
    "expr3 = sum(expr2)\n",
    "obj = cvx.Minimize(g*cvx.norm2(w)+expr3)\n",
    "prob = cvx.Problem(obj)\n",
    "prob.solve()\n"
   ]
  },
  {
   "cell_type": "code",
   "execution_count": 463,
   "metadata": {
    "collapsed": false
   },
   "outputs": [
    {
     "data": {
      "image/png": "[encoded data removed]",
      "text/plain": [
       "<matplotlib.figure.Figure at 0x5c6bada0>"
      ]
     },
     "metadata": {},
     "output_type": "display_data"
    }
   ],
   "source": [
    "wsol = np.asarray(w.value)\n",
    "xp = [x/10. for x in range(0, 21)]\n",
    "yp = (-wsol[0]*xp - wsol[2])/wsol[1]\n",
    "plt.plot(X[c1, 0], X[c1, 1], 'go', X[c2, 0], X[c2, 1], 'bo')\n",
    "plt.plot(xp,yp,'r')\n",
    "plt.show()"
   ]
  },
  {
   "cell_type": "code",
   "execution_count": null,
   "metadata": {
    "collapsed": true
   },
   "outputs": [],
   "source": []
  },
  {
   "cell_type": "code",
   "execution_count": 464,
   "metadata": {
    "collapsed": false
   },
   "outputs": [
    {
     "data": {
      "image/png": "[encoded data removed]",
      "text/plain": [
       "<matplotlib.figure.Figure at 0x5e31d2e8>"
      ]
     },
     "metadata": {},
     "output_type": "display_data"
    }
   ],
   "source": [
    "x_c1 = np.array([[-1.1,  0], [-0.3,  0.1], [-0.9,  1],[0.8,  0.4],[0.4,  0.9],[0.3,-0.6],[-0.5, 0.3],\n",
    "        [-0.8,  0.6],[-0.5, -0.5]])\n",
    "     \n",
    "x_c2 = np.array([[-1,  -1.3], [-1.6 , 2.2],  [0.9, -0.7],[1.6,  0.5],[1.8, -1.1],[1.6,  1.6],[-1.6, -1.7],\n",
    "[-1.4,  1.8],[1.6, -0.9],[0, -1.6],[0.3, 1.7],[-1.6 , 0],[-2.1,0.2]])\n",
    "\n",
    "plt.plot(x_c1[:, 0], x_c1[:,1], 'ro')\n",
    "plt.plot(x_c2[:, 0], x_c2[:,1], 'bo')\n",
    "plt.axis([-3,3,-3,3])\n",
    "plt.show()\n"
   ]
  },
  {
   "cell_type": "code",
   "execution_count": 468,
   "metadata": {
    "collapsed": false
   },
   "outputs": [],
   "source": [
    "c1n = x_c1.shape[0]\n",
    "c2n = x_c2.shape[0]\n",
    "\n",
    "X = np.concatenate((x_c1, x_c2), 0)\n",
    "y = np.concatenate((np.ones((c1n, 1)), -np.ones((c2n, 1))), 0)\n",
    "\n",
    "\n",
    "n = 3\n",
    "m = c1n + c2n\n",
    "g = 1\n",
    "\n",
    "z = np.zeros((m, 6))\n",
    "\n",
    "z[:, 0] = np.ones((m, ))\n",
    "z[:, 1] = np.sqrt(2)*X[:, 0]\n",
    "z[:, 2] = np.sqrt(2)*X[:, 1]\n",
    "z[:, 3] = X[:, 0]**2\n",
    "z[:, 4] = np.sqrt(2)*X[:, 0]*X[:, 1]\n",
    "z[:, 5] = X[:, 1]**2\n",
    "\n",
    "w = cvx.Variable(n, 1)\n",
    "\n",
    "\n",
    "\n",
    "\n",
    "y = np.matrix(y)\n",
    "X = np.matrix(X)\n",
    "w = cvx.Variable(6)\n",
    "g = 1;\n",
    "expr2 = [cvx.log_sum_exp(cvx.vstack(0, y[i]*z[i,:]*w)) for i in range(m)]\n",
    "expr3 = sum(expr2)\n",
    "obj = cvx.Minimize(g*cvx.norm2(w)+expr3)\n",
    "prob = cvx.Problem(obj)\n",
    "prob.solve()\n",
    "\n",
    "wsol = np.asarray(w.value)\n",
    "\n"
   ]
  },
  {
   "cell_type": "code",
   "execution_count": 470,
   "metadata": {
    "collapsed": false
   },
   "outputs": [
    {
     "data": {
      "text/plain": [
       "array([[-6.91671162],\n",
       "       [ 1.34014601],\n",
       "       [-2.02552631],\n",
       "       [ 4.84577749],\n",
       "       [ 0.39788637],\n",
       "       [ 4.75609915]])"
      ]
     },
     "execution_count": 470,
     "metadata": {},
     "output_type": "execute_result"
    }
   ],
   "source": [
    "wsolnormal = wsol/LA.norm(wsol)*10\n",
    "wsolnormal"
   ]
  },
  {
   "cell_type": "code",
   "execution_count": 479,
   "metadata": {
    "collapsed": false
   },
   "outputs": [
    {
     "data": {
      "image/png": "[encoded data removed]",
      "text/plain": [
       "<matplotlib.figure.Figure at 0x5cfc8a58>"
      ]
     },
     "metadata": {},
     "output_type": "display_data"
    }
   ],
   "source": [
    "[X1g, X2g] = np.meshgrid([x1/10. for x1 in range(-30,31,1)],[x2/10. for x2 in range(-30,31,1)])\n",
    "\n",
    "x_test = np.concatenate((X1g.reshape(X1g.shape[0]**2,1, order =\"F\"), X2g.reshape(X2g.shape[0]**2,1, order = \"F\")), 1)\n",
    "mtest = np.shape(x_test)[0]\n",
    "\n",
    "z_test = np.zeros((mtest, 6))\n",
    "\n",
    "z_test[:, 0] = np.ones((mtest, ))\n",
    "z_test[:, 1] = np.sqrt(2)*x_test[:, 0]\n",
    "z_test[:, 2] = np.sqrt(2)*x_test[:, 1]\n",
    "z_test[:, 3] = x_test[:, 0]**2\n",
    "z_test[:, 4] = np.sqrt(2)*x_test[:, 0]*x_test[:, 1]\n",
    "z_test[:, 5] = x_test[:, 1]**2\n",
    "\n",
    "y_hat = 1/(1+np.exp(-z_test.dot(wsolnormal)))\n",
    "\n",
    "B = np.zeros((np.shape(y_hat)[0],2))\n",
    "\n",
    "for i in range(0, y_hat.shape[0]):\n",
    "    if np.abs(y_hat[i]-0.5) < 0.2: \n",
    "        B[i,:] = x_test[i,:]\n",
    "\n",
    "plt.plot(x_c1[:, 0], x_c1[:,1], 'ro')\n",
    "plt.plot(x_c2[:, 0], x_c2[:,1], 'bo')\n",
    "plt.axis([-3,3,-3,3])\n",
    "plt.plot(B[:, 0], B[:, 1], 'k.')\n",
    "plt.show()"
   ]
  },
  {
   "cell_type": "code",
   "execution_count": null,
   "metadata": {
    "collapsed": true
   },
   "outputs": [],
   "source": []
  },
  {
   "cell_type": "code",
   "execution_count": null,
   "metadata": {
    "collapsed": true
   },
   "outputs": [],
   "source": []
  },
  {
   "cell_type": "code",
   "execution_count": null,
   "metadata": {
    "collapsed": true
   },
   "outputs": [],
   "source": []
  },
  {
   "cell_type": "code",
   "execution_count": null,
   "metadata": {
    "collapsed": true
   },
   "outputs": [],
   "source": []
  },
  {
   "cell_type": "code",
   "execution_count": null,
   "metadata": {
    "collapsed": true
   },
   "outputs": [],
   "source": []
  },
  {
   "cell_type": "code",
   "execution_count": null,
   "metadata": {
    "collapsed": true
   },
   "outputs": [],
   "source": []
  },
  {
   "cell_type": "code",
   "execution_count": null,
   "metadata": {
    "collapsed": true
   },
   "outputs": [],
   "source": []
  },
  {
   "cell_type": "code",
   "execution_count": null,
   "metadata": {
    "collapsed": true
   },
   "outputs": [],
   "source": []
  }
 ],
 "metadata": {
  "kernelspec": {
   "display_name": "Python 2",
   "language": "python",
   "name": "python2"
  },
  "language_info": {
   "codemirror_mode": {
    "name": "ipython",
    "version": 2
   },
   "file_extension": ".py",
   "mimetype": "text/x-python",
   "name": "python",
   "nbconvert_exporter": "python",
   "pygments_lexer": "ipython2",
   "version": "2.7.11"
  }
 },
 "nbformat": 4,
 "nbformat_minor": 0
}
