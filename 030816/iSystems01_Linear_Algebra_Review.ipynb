{
 "cells": [
  {
   "cell_type": "markdown",
   "metadata": {
    "slideshow": {
     "slide_type": "slide"
    }
   },
   "source": [
    "<font size = \"6\">\n",
    "<b>Linear Algebra Review</b>\n",
    "</font>\n",
    "\n",
    "- 03/08/16, made by Seungchul Lee at UNIST\n",
    "- Materials from linear algebra review by Prof. Zico Kolter from CMU\n",
    "- online available\n",
    "    - http://www.cs.cmu.edu/~zkolter/course/linalg/\n",
    "    - http://www.cs.cmu.edu/~jingx/docs/linearalgebra.pdf\n",
    "\n",
    "Table of Contents\n",
    "<div id=\"toc\"></div>"
   ]
  },
  {
   "cell_type": "markdown",
   "metadata": {
    "slideshow": {
     "slide_type": "slide"
    }
   },
   "source": [
    "## Linear Equations\n",
    "\n",
    "Set of linear equations (two equations, two unknowns)\n",
    "\n",
    "$$\n",
    "\\begin{align}\n",
    "4x_{1} − 5x_{2} &= −13\\\\\n",
    "−2x_{1} + 3x_{2} &= 9\n",
    "\\end{align}\n",
    "$$"
   ]
  },
  {
   "cell_type": "markdown",
   "metadata": {
    "slideshow": {
     "slide_type": "subslide"
    }
   },
   "source": [
    "## Solving Linear Equations\n",
    "\n",
    "- Two linear equations\n",
    "\n",
    "$$\n",
    "\\begin{align}\n",
    "4x_{1} − 5x_{2} &= −13\\\\\n",
    "−2x_{1} + 3x_{2} &= 9\n",
    "\\end{align}\n",
    "$$\n",
    "\n",
    "- In vector form, $Ax = b$, with\n",
    "\n",
    "\n",
    "$$A =\n",
    "\\begin{bmatrix}\n",
    "4 & -5 \\\\\n",
    "-2 & 3\n",
    "\\end{bmatrix}\n",
    ", \\quad\n",
    "x =\n",
    "\\begin{bmatrix}\n",
    "x_{1} \\\\\n",
    "x_{2}\n",
    "\\end{bmatrix}\n",
    ", \\quad\n",
    "b =\n",
    "\\begin{bmatrix}\n",
    "-13 \\\\\n",
    "9\n",
    "\\end{bmatrix}\n",
    "$$"
   ]
  },
  {
   "cell_type": "markdown",
   "metadata": {
    "slideshow": {
     "slide_type": "subslide"
    }
   },
   "source": [
    "- Solution using inverse\n",
    "\n",
    "$$\n",
    "\\begin{align}\n",
    "Ax &= b \\\\\n",
    "A^{-1}Ax &= A^{-1}b \\\\\n",
    "x &= A^{-1}b\n",
    "\\end{align}\n",
    "$$\n",
    "\n",
    "\n",
    "- Won’t worry here about how to compute inverse, but it’s very similar to the standard method for solving linear equations\n",
    "\n",
    "- We will use a Matlab to compute"
   ]
  },
  {
   "cell_type": "code",
   "execution_count": 1,
   "metadata": {
    "collapsed": false,
    "slideshow": {
     "slide_type": "subslide"
    }
   },
   "outputs": [
    {
     "data": {
      "text/plain": [
       "x =\r\n",
       "\r\n",
       "     3\r\n",
       "     5"
      ]
     },
     "execution_count": 1,
     "metadata": {},
     "output_type": "execute_result"
    }
   ],
   "source": [
    "A = [4 -5;\n",
    "    -2 3];\n",
    "b = [-13 9]';\n",
    "\n",
    "x = inv(A)*b"
   ]
  },
  {
   "cell_type": "markdown",
   "metadata": {
    "slideshow": {
     "slide_type": "slide"
    }
   },
   "source": [
    "# Linear equations\n",
    "\n",
    "- consider system of linear equations\n",
    "\n",
    "$$\n",
    "\\begin{align}\n",
    "y_1 &= a_{11}x_{1} + a_{12}x_{2} + \\cdots + a_{1n}x_{n} \\\\\n",
    "y_2 &= a_{21}x_{1} + a_{22}x_{2} + \\cdots + a_{2n}x_{n} \\\\\n",
    "&\\, \\vdots \\\\\n",
    "y_m &= a_{m1}x_{1} + a_{m2}x_{2} + \\cdots + a_{mn}x_{n}\n",
    "\\end{align}\n",
    "$$\n",
    "\n",
    "\n",
    "- can be written in matrix form as $y = Ax$, where\n",
    "\n",
    "<br>\n",
    "$$\n",
    "y=\n",
    "\\begin{bmatrix}\n",
    "y_{1} \\\\\n",
    "y_{2} \\\\\n",
    "\\vdots \\\\\n",
    "y_{m}\n",
    "\\end{bmatrix}\n",
    "\\qquad A = \\begin{bmatrix}\n",
    "a_{11}&a_{12}&\\cdots&a_{1n} \\\\\n",
    "a_{21}&a_{22}&\\cdots&a_{2n} \\\\\n",
    "\\vdots&\\vdots&\\ddots&\\vdots\\\\\n",
    "a_{m1}&a_{m2}&\\cdots&a_{mn} \\\\\n",
    "\\end{bmatrix}\n",
    "\\qquad x=\n",
    "\\begin{bmatrix}\n",
    "x_{1} \\\\\n",
    "x_{2} \\\\\n",
    "\\vdots \\\\\n",
    "x_{n}\n",
    "\\end{bmatrix}\n",
    "$$"
   ]
  },
  {
   "cell_type": "markdown",
   "metadata": {
    "slideshow": {
     "slide_type": "slide"
    }
   },
   "source": [
    "## Elements of a Matrix\n",
    "\n",
    "- Can write a matrix in terms of its columns\n",
    "\n",
    "$$A =\n",
    "\\begin{bmatrix}\n",
    "\\mid&\\mid&&\\mid\\\\\n",
    "a_{1} & a_{2} & \\cdots & a_{n}\\\\\n",
    "\\mid&\\mid&&\\mid\\\\\n",
    "\\end{bmatrix}\n",
    "$$\n",
    "\n",
    "- Careful, $a_{i}$ here corresponds to an entire vector $a_{i} \\in \\mathbb{R}^{m}$, not an element of a vector\n",
    "\n",
    "\n",
    "- Similarly, can write a matrix in terms of rows\n",
    "\n",
    "$$A =\n",
    "\\begin{bmatrix}\n",
    "- & b_{1}^T& - \\\\\n",
    "- & b_{2}^T& - \\\\\n",
    "&\\vdots& \\\\\n",
    "- & b_{m}^T& -\n",
    "\\end{bmatrix}\n",
    "$$\n",
    "\n",
    "- $b_{i} \\in \\mathbb{R}^{n}$ "
   ]
  },
  {
   "cell_type": "markdown",
   "metadata": {
    "slideshow": {
     "slide_type": "slide"
    }
   },
   "source": [
    "### Vector-vector Products\n",
    "- Inner product: $x, y \\in \\mathbb{R}^{n}$\n",
    "\n",
    "$$x^{T}y = \\sum\\limits_{i=1}^{n}x_{i}\\,y_{i} \\quad \\in \\mathbb{R} $$"
   ]
  },
  {
   "cell_type": "code",
   "execution_count": 8,
   "metadata": {
    "collapsed": false,
    "slideshow": {
     "slide_type": "subslide"
    }
   },
   "outputs": [
    {
     "data": {
      "text/plain": [
       "x =\r\n",
       "\r\n",
       "     1\r\n",
       "     1\r\n",
       "\r\n",
       "\r\n",
       "y =\r\n",
       "\r\n",
       "     2\r\n",
       "     3\r\n",
       "\r\n",
       "\r\n",
       "ans =\r\n",
       "\r\n",
       "     5\r\n",
       "\r\n",
       "\r\n",
       "ans =\r\n",
       "\r\n",
       "     5"
      ]
     },
     "execution_count": 8,
     "metadata": {},
     "output_type": "execute_result"
    }
   ],
   "source": [
    "x = [1 1]'\n",
    "y = [2 3]'\n",
    "\n",
    "x'*y\n",
    "dot(x,y)"
   ]
  },
  {
   "cell_type": "markdown",
   "metadata": {
    "slideshow": {
     "slide_type": "slide"
    }
   },
   "source": [
    "### Matrix-vector Products\n",
    "- $A \\in \\mathbb{R}^{m \\times n}, x \\in \\mathbb{R}^{n} \\Longleftrightarrow Ax \\in \\mathbb{R}^{m}$\n",
    "\n",
    "\n",
    "- Writing $A$ by rows, each entry of $Ax$ is an _inner product_ between $x$ and a row of $A$\n",
    "\n",
    "\n",
    "$$A =\n",
    "\\begin{bmatrix}\n",
    "- &b_{1}^{T} & - \\\\\n",
    "-& b_{2}^{T}&-  \\\\\n",
    "&\\vdots& \\\\\n",
    "-& b_{m}^{T}&- \n",
    "\\end{bmatrix}\n",
    ",\\qquad\n",
    "Ax \\in \\mathbb{R}^{m} =\n",
    "\\begin{bmatrix}\n",
    "b_{1}^{T}x \\\\\n",
    "b_{2}^{T}x \\\\\n",
    "\\vdots \\\\\n",
    "b_{m}^{T}x\n",
    "\\end{bmatrix}\n",
    "$$\n",
    "\n",
    "\n",
    "- Writing $A$ by columns, $Ax$ is a _linear combination of the columns_ of $A$, with coefficients given by $x$\n",
    "\n",
    "\n",
    "$$A =\n",
    "\\begin{bmatrix}\n",
    "\\mid&\\mid&&\\mid\\\\\n",
    "a_{1} & a_{2} & \\cdots & a_{n}\\\\\n",
    "\\mid&\\mid&&\\mid\\\\\n",
    "\\end{bmatrix}\n",
    ",\\qquad\n",
    "Ax \\in \\mathbb{R}^{m} = \\sum\\limits_{i=1}^{n}a_{i}x_{i}$$"
   ]
  },
  {
   "cell_type": "markdown",
   "metadata": {
    "slideshow": {
     "slide_type": "slide"
    }
   },
   "source": [
    "### Symmetric Matrices\n",
    "\n",
    "- Symmetric matrix: $$A \\in \\mathbb{R}^{n \\times n} \\quad \\text{with}\\quad A = A^{T}$$\n",
    "\n",
    "- Arise naturally in many settings\n",
    "\n",
    "$$\\text{For A} \\in \\mathbb{R}^{m \\times n},\\qquad A^{T}A \\in \\mathbb{R}^{n \\times m} \\; \\text{ is symmetric}$$\n"
   ]
  },
  {
   "cell_type": "markdown",
   "metadata": {
    "slideshow": {
     "slide_type": "slide"
    }
   },
   "source": [
    "### Diagonal Matrices\n",
    "\n",
    "\n",
    "- For $d = \\left[d_1,\\cdots,d_n\\right]^T\\in \\mathbb{R}^{n}$\n",
    "\n",
    "<br>\n",
    "$$\\text{diag}(d) = \\mathbb{R}^{n \\times n} \n",
    "= \\begin{bmatrix}\n",
    "d_{1}&0&\\cdots&0 \\\\\n",
    "0&d_{2}&\\cdots&0 \\\\\n",
    "\\vdots&\\vdots&\\ddots&\\vdots\\\\\n",
    "0&0&\\cdots&d_{n} \\\\\n",
    "\\end{bmatrix}\n",
    "$$\n",
    "\n",
    "- For example, the identitiy is given by $I = \\text{diag}(\\mathbb{1})$\n",
    "\n",
    "\n",
    "\n",
    "- Multiplying $A \\in \\mathbb{R}^{m \\times n}$ by a diagonal matrix $D \\in \\mathbb{R}^{n \\times n}$ on the right scales the *columns* of $A$\n",
    "\n",
    "$$ AD = \n",
    "\\begin{bmatrix}\n",
    "\\mid&\\mid&&\\mid\\\\\n",
    "d_{1}a_{1} & d_{2}a_{2} & \\cdots & d_{n}a_{n}\\\\\n",
    "\\mid&\\mid&&\\mid\\\\\n",
    "\\end{bmatrix}\n",
    "$$"
   ]
  },
  {
   "cell_type": "code",
   "execution_count": 4,
   "metadata": {
    "collapsed": false,
    "slideshow": {
     "slide_type": "subslide"
    }
   },
   "outputs": [
    {
     "data": {
      "text/plain": [
       "D =\r\n",
       "\r\n",
       "     1     0     0\r\n",
       "     0     2     0\r\n",
       "     0     0     3"
      ]
     },
     "execution_count": 4,
     "metadata": {},
     "output_type": "execute_result"
    }
   ],
   "source": [
    "d = [1 2 3]';   \n",
    "D = diag(d)"
   ]
  },
  {
   "cell_type": "markdown",
   "metadata": {
    "slideshow": {
     "slide_type": "slide"
    }
   },
   "source": [
    "# Norms (strenth or distance in linear space)\n",
    "\n",
    "- A vector norm is any function $f : \\mathbb{R}^{n} \\rightarrow \\mathbb{R}$ with \n",
    "\n",
    "    1. $f(x) \\geq 0 \\;$ and $\\;f(x) = 0 \\quad \\Longleftrightarrow \\quad x = 0$\n",
    "    2. $f(ax) = \\lvert a \\rvert f(x) \\;$ for $\\; a \\in \\mathbb{R}$\n",
    "    3. $f(x + y) \\leq f(x) + f(y)$\n",
    "\n",
    "\n",
    "<br>\n",
    "- $l_{2}$ norm\n",
    "\n",
    "$$\\left\\lVert x \\right\\rVert _{2} = \\sqrt{\\sum\\limits_{i=1}^{n}x_{i}^2}$$\n",
    "\n",
    "- $l_{1}$ norm\n",
    "\n",
    "$$\\left\\lVert x \\right\\rVert _{1} = \\sum\\limits_{i=1}^{n} \\left\\lvert x_{i} \\right\\rvert$$\n",
    "\n",
    "- $\\lVert x\\rVert$ measures length of vector (from origin)"
   ]
  },
  {
   "cell_type": "code",
   "execution_count": 5,
   "metadata": {
    "collapsed": false,
    "slideshow": {
     "slide_type": "subslide"
    }
   },
   "outputs": [
    {
     "data": {
      "text/plain": [
       "ans =\r\n",
       "\r\n",
       "     5\r\n",
       "\r\n",
       "\r\n",
       "ans =\r\n",
       "\r\n",
       "     5"
      ]
     },
     "execution_count": 5,
     "metadata": {},
     "output_type": "execute_result"
    }
   ],
   "source": [
    "x = [4 -3]';\n",
    "\n",
    "% norm 2\n",
    "sqrt(x(1)^2 + x(2)^2)\n",
    "norm(x,2)"
   ]
  },
  {
   "cell_type": "code",
   "execution_count": 6,
   "metadata": {
    "collapsed": false,
    "slideshow": {
     "slide_type": "subslide"
    }
   },
   "outputs": [
    {
     "data": {
      "text/plain": [
       "ans =\r\n",
       "\r\n",
       "     7\r\n",
       "\r\n",
       "\r\n",
       "ans =\r\n",
       "\r\n",
       "     7"
      ]
     },
     "execution_count": 6,
     "metadata": {},
     "output_type": "execute_result"
    }
   ],
   "source": [
    "% norm 1\n",
    "sum(abs(x(1))+abs(x(2)))\n",
    "norm(x,1)"
   ]
  },
  {
   "cell_type": "markdown",
   "metadata": {
    "slideshow": {
     "slide_type": "slide"
    }
   },
   "source": [
    "# Orthogonality\n",
    "\n",
    "- Two vectors $x, y \\in \\mathbb{R}^n$ are _orthogonal_ if\n",
    "\n",
    "$$x^Ty = 0$$\n",
    "\n",
    "- They are _orthonormal_ if, in addition,\n",
    "\n",
    "$$\\lVert x \\rVert _{2} = \\lVert y \\rVert _{2} = 1 $$"
   ]
  },
  {
   "cell_type": "markdown",
   "metadata": {
    "slideshow": {
     "slide_type": "subslide"
    }
   },
   "source": [
    "## Angle between vectors\n",
    "\n",
    "- for any $x, y \\in \\mathbb{R}^n, \\lvert x^Ty \\rvert \\leq \\lVert x \\rVert \\, \\lVert y \\rVert$\n",
    "\n",
    "- (unsigned) angle between vectors in $\\mathbb{R}^n$ defined as\n",
    "\n",
    "$$\n",
    "\\begin{align}\n",
    "\\theta &= \\angle(x,y) = \\cos^{-1}\\frac{x^Ty}{\\lVert x \\rVert \\lVert y \\rVert}\\\\ \\\\\n",
    "\\text{thus}\\; x^Ty &= \\lVert x \\rVert \\lVert y\\rVert \\cos\\theta\n",
    "\\end{align}\n",
    "$$\n",
    "\n",
    "<br>\n",
    "<img src = \"image_files\\angle.PNG\" style=\"border:1px solid black\", width = 250>\n",
    "\n",
    "\n",
    "$\\{ x \\mid x^Ty \\leq 0\\} $ defines a halfspace with outward normal vector $y$, and boundary passing through 0\n",
    "\n",
    "<br>\n",
    "<img src = \"image_files\\angle3.PNG\" style=\"border:1px solid black\", width = 300>\n",
    "<br>"
   ]
  },
  {
   "cell_type": "code",
   "execution_count": 7,
   "metadata": {
    "collapsed": false,
    "slideshow": {
     "slide_type": "skip"
    }
   },
   "outputs": [
    {
     "data": {
      "application/javascript": [
       "$.getScript('https://kmahelona.github.io/ipython_notebook_goodies/ipython_notebook_toc.js')"
      ],
      "text/plain": [
       "<IPython.core.display.Javascript object>"
      ]
     },
     "metadata": {},
     "output_type": "display_data"
    }
   ],
   "source": [
    "%%javascript\n",
    "$.getScript('https://kmahelona.github.io/ipython_notebook_goodies/ipython_notebook_toc.js')"
   ]
  }
 ],
 "metadata": {
  "kernelspec": {
   "display_name": "Matlab",
   "language": "matlab",
   "name": "matlab_kernel"
  },
  "language_info": {
   "codemirror_mode": "octave",
   "file_extension": ".m",
   "help_links": [
    {
     "text": "MetaKernel Magics",
     "url": "https://github.com/calysto/metakernel/blob/master/metakernel/magics/README.md"
    }
   ],
   "mimetype": "text/x-matlab",
   "name": "matlab",
   "version": "0.8.0"
  }
 },
 "nbformat": 4,
 "nbformat_minor": 0
}
